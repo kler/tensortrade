{
 "cells": [
  {
   "cell_type": "markdown",
   "metadata": {},
   "source": [
    "# TensorTrade - Renderers and Plotly Visualization Chart\n",
    "## Data Loading Function"
   ]
  },
  {
   "cell_type": "code",
   "execution_count": 17,
   "metadata": {
    "tags": []
   },
   "outputs": [
    {
     "output_type": "stream",
     "name": "stdout",
     "text": [
      "/usr/lib/python3/dist-packages/secretstorage/dhcrypto.py:15: CryptographyDeprecationWarning: int_from_bytes is deprecated, use int.from_bytes instead\n",
      "  from cryptography.utils import int_from_bytes\n",
      "/usr/lib/python3/dist-packages/secretstorage/util.py:19: CryptographyDeprecationWarning: int_from_bytes is deprecated, use int.from_bytes instead\n",
      "  from cryptography.utils import int_from_bytes\n",
      "/usr/lib/python3/dist-packages/secretstorage/dhcrypto.py:15: CryptographyDeprecationWarning: int_from_bytes is deprecated, use int.from_bytes instead\n",
      "  from cryptography.utils import int_from_bytes\n",
      "/usr/lib/python3/dist-packages/secretstorage/util.py:19: CryptographyDeprecationWarning: int_from_bytes is deprecated, use int.from_bytes instead\n",
      "  from cryptography.utils import int_from_bytes\n"
     ]
    }
   ],
   "source": [
    "# ipywidgets is required to run Plotly in Jupyter Notebook.\n",
    "# Uncomment and run the following line to install it if required.\n",
    "!pip install -r requirements.txt -qU --no-cache-dir\n",
    "!pip check ipywidgets &>/dev/null || pip install ipywidgets ta -qU --no-cache-dir"
   ]
  },
  {
   "cell_type": "code",
   "execution_count": 18,
   "metadata": {},
   "outputs": [],
   "source": [
    "import ta\n",
    "\n",
    "import pandas as pd\n",
    "\n",
    "from tensortrade.data.cdd import CryptoDataDownload\n",
    "from tensortrade.feed.core import Stream, DataFeed, NameSpace\n",
    "from tensortrade.oms.exchanges import Exchange\n",
    "from tensortrade.oms.services.execution.simulated import execute_order\n",
    "from tensortrade.oms.instruments import USD, BTC\n",
    "from tensortrade.oms.wallets import Wallet, Portfolio\n",
    "\n",
    "%matplotlib inline"
   ]
  },
  {
   "cell_type": "code",
   "execution_count": 19,
   "metadata": {},
   "outputs": [
    {
     "output_type": "execute_result",
     "data": {
      "text/plain": [
       "             BTC:date    BTC:unix  BTC:open  BTC:high  BTC:low  BTC:close  \\\n",
       "0 2018-05-15 06:00:00  1526364000    8723.8    8793.0   8714.9     8739.0   \n",
       "1 2018-05-15 07:00:00  1526367600    8739.0    8754.8   8719.3     8743.0   \n",
       "2 2018-05-15 08:00:00  1526371200    8743.0    8743.1   8653.2     8723.7   \n",
       "3 2018-05-15 09:00:00  1526374800    8723.7    8737.8   8701.2     8708.1   \n",
       "4 2018-05-15 10:00:00  1526378400    8708.1    8855.7   8695.8     8784.4   \n",
       "\n",
       "    BTC:volume  \n",
       "0   8988053.53  \n",
       "1   2288904.12  \n",
       "2   8891773.14  \n",
       "3   2054868.28  \n",
       "4  17309722.58  "
      ],
      "text/html": "<div>\n<style scoped>\n    .dataframe tbody tr th:only-of-type {\n        vertical-align: middle;\n    }\n\n    .dataframe tbody tr th {\n        vertical-align: top;\n    }\n\n    .dataframe thead th {\n        text-align: right;\n    }\n</style>\n<table border=\"1\" class=\"dataframe\">\n  <thead>\n    <tr style=\"text-align: right;\">\n      <th></th>\n      <th>BTC:date</th>\n      <th>BTC:unix</th>\n      <th>BTC:open</th>\n      <th>BTC:high</th>\n      <th>BTC:low</th>\n      <th>BTC:close</th>\n      <th>BTC:volume</th>\n    </tr>\n  </thead>\n  <tbody>\n    <tr>\n      <th>0</th>\n      <td>2018-05-15 06:00:00</td>\n      <td>1526364000</td>\n      <td>8723.8</td>\n      <td>8793.0</td>\n      <td>8714.9</td>\n      <td>8739.0</td>\n      <td>8988053.53</td>\n    </tr>\n    <tr>\n      <th>1</th>\n      <td>2018-05-15 07:00:00</td>\n      <td>1526367600</td>\n      <td>8739.0</td>\n      <td>8754.8</td>\n      <td>8719.3</td>\n      <td>8743.0</td>\n      <td>2288904.12</td>\n    </tr>\n    <tr>\n      <th>2</th>\n      <td>2018-05-15 08:00:00</td>\n      <td>1526371200</td>\n      <td>8743.0</td>\n      <td>8743.1</td>\n      <td>8653.2</td>\n      <td>8723.7</td>\n      <td>8891773.14</td>\n    </tr>\n    <tr>\n      <th>3</th>\n      <td>2018-05-15 09:00:00</td>\n      <td>1526374800</td>\n      <td>8723.7</td>\n      <td>8737.8</td>\n      <td>8701.2</td>\n      <td>8708.1</td>\n      <td>2054868.28</td>\n    </tr>\n    <tr>\n      <th>4</th>\n      <td>2018-05-15 10:00:00</td>\n      <td>1526378400</td>\n      <td>8708.1</td>\n      <td>8855.7</td>\n      <td>8695.8</td>\n      <td>8784.4</td>\n      <td>17309722.58</td>\n    </tr>\n  </tbody>\n</table>\n</div>"
     },
     "metadata": {},
     "execution_count": 19
    }
   ],
   "source": [
    "cdd = CryptoDataDownload()\n",
    "df = pd.concat([\n",
    "    cdd.fetch(\"Bitfinex\", \"USD\", \"BTC\", \"1h\").add_prefix(\"BTC:\")\n",
    "], axis=1)\n",
    "df.head()"
   ]
  },
  {
   "cell_type": "markdown",
   "metadata": {},
   "source": [
    "## Data Preparation\n",
    "### Create the dataset features"
   ]
  },
  {
   "cell_type": "code",
   "execution_count": 20,
   "metadata": {
    "scrolled": false
   },
   "outputs": [
    {
     "output_type": "stream",
     "name": "stderr",
     "text": [
      "/usr/local/lib/python3.6/dist-packages/ta/trend.py:768: RuntimeWarning:\n\ninvalid value encountered in double_scalars\n\n/usr/local/lib/python3.6/dist-packages/ta/trend.py:772: RuntimeWarning:\n\ninvalid value encountered in double_scalars\n\n"
     ]
    },
    {
     "output_type": "execute_result",
     "data": {
      "text/plain": [
       "             BTC:date    BTC:unix  BTC:open  BTC:high  BTC:low  BTC:close  \\\n",
       "0 2018-05-15 06:00:00  1526364000    8723.8    8793.0   8714.9     8739.0   \n",
       "1 2018-05-15 07:00:00  1526367600    8739.0    8754.8   8719.3     8743.0   \n",
       "2 2018-05-15 08:00:00  1526371200    8743.0    8743.1   8653.2     8723.7   \n",
       "\n",
       "   BTC:volume    volume_adi   volume_obv  volume_cmf  ...  momentum_wr  \\\n",
       "0  8988053.53 -3.441009e+06   8988053.53   -0.382843  ...   -69.142125   \n",
       "1  2288904.12 -2.673743e+06  11276957.65   -0.237098  ...   -64.020487   \n",
       "2  8891773.14  2.380424e+06   2385184.51    0.118025  ...   -49.570815   \n",
       "\n",
       "   momentum_ao  momentum_kama  momentum_roc  momentum_ppo  \\\n",
       "0          0.0    8739.000000           0.0      0.000000   \n",
       "1          0.0    8740.774500           0.0     -6.293175   \n",
       "2          0.0    8733.276121           0.0     -4.932072   \n",
       "\n",
       "   momentum_ppo_signal  momentum_ppo_hist  others_dr  others_dlr  others_cr  \n",
       "0             0.000000           0.000000 -25.322299    0.000000   0.000000  \n",
       "1            -1.258635          -5.034540   0.045772    0.045761   0.045772  \n",
       "2            -1.993322          -2.938749  -0.220748   -0.220992  -0.175077  \n",
       "\n",
       "[3 rows x 90 columns]"
      ],
      "text/html": "<div>\n<style scoped>\n    .dataframe tbody tr th:only-of-type {\n        vertical-align: middle;\n    }\n\n    .dataframe tbody tr th {\n        vertical-align: top;\n    }\n\n    .dataframe thead th {\n        text-align: right;\n    }\n</style>\n<table border=\"1\" class=\"dataframe\">\n  <thead>\n    <tr style=\"text-align: right;\">\n      <th></th>\n      <th>BTC:date</th>\n      <th>BTC:unix</th>\n      <th>BTC:open</th>\n      <th>BTC:high</th>\n      <th>BTC:low</th>\n      <th>BTC:close</th>\n      <th>BTC:volume</th>\n      <th>volume_adi</th>\n      <th>volume_obv</th>\n      <th>volume_cmf</th>\n      <th>...</th>\n      <th>momentum_wr</th>\n      <th>momentum_ao</th>\n      <th>momentum_kama</th>\n      <th>momentum_roc</th>\n      <th>momentum_ppo</th>\n      <th>momentum_ppo_signal</th>\n      <th>momentum_ppo_hist</th>\n      <th>others_dr</th>\n      <th>others_dlr</th>\n      <th>others_cr</th>\n    </tr>\n  </thead>\n  <tbody>\n    <tr>\n      <th>0</th>\n      <td>2018-05-15 06:00:00</td>\n      <td>1526364000</td>\n      <td>8723.8</td>\n      <td>8793.0</td>\n      <td>8714.9</td>\n      <td>8739.0</td>\n      <td>8988053.53</td>\n      <td>-3.441009e+06</td>\n      <td>8988053.53</td>\n      <td>-0.382843</td>\n      <td>...</td>\n      <td>-69.142125</td>\n      <td>0.0</td>\n      <td>8739.000000</td>\n      <td>0.0</td>\n      <td>0.000000</td>\n      <td>0.000000</td>\n      <td>0.000000</td>\n      <td>-25.322299</td>\n      <td>0.000000</td>\n      <td>0.000000</td>\n    </tr>\n    <tr>\n      <th>1</th>\n      <td>2018-05-15 07:00:00</td>\n      <td>1526367600</td>\n      <td>8739.0</td>\n      <td>8754.8</td>\n      <td>8719.3</td>\n      <td>8743.0</td>\n      <td>2288904.12</td>\n      <td>-2.673743e+06</td>\n      <td>11276957.65</td>\n      <td>-0.237098</td>\n      <td>...</td>\n      <td>-64.020487</td>\n      <td>0.0</td>\n      <td>8740.774500</td>\n      <td>0.0</td>\n      <td>-6.293175</td>\n      <td>-1.258635</td>\n      <td>-5.034540</td>\n      <td>0.045772</td>\n      <td>0.045761</td>\n      <td>0.045772</td>\n    </tr>\n    <tr>\n      <th>2</th>\n      <td>2018-05-15 08:00:00</td>\n      <td>1526371200</td>\n      <td>8743.0</td>\n      <td>8743.1</td>\n      <td>8653.2</td>\n      <td>8723.7</td>\n      <td>8891773.14</td>\n      <td>2.380424e+06</td>\n      <td>2385184.51</td>\n      <td>0.118025</td>\n      <td>...</td>\n      <td>-49.570815</td>\n      <td>0.0</td>\n      <td>8733.276121</td>\n      <td>0.0</td>\n      <td>-4.932072</td>\n      <td>-1.993322</td>\n      <td>-2.938749</td>\n      <td>-0.220748</td>\n      <td>-0.220992</td>\n      <td>-0.175077</td>\n    </tr>\n  </tbody>\n</table>\n<p>3 rows × 90 columns</p>\n</div>"
     },
     "metadata": {},
     "execution_count": 20
    }
   ],
   "source": [
    "dataset = ta.add_all_ta_features(df, 'BTC:open', 'BTC:high', 'BTC:low', 'BTC:close', 'BTC:volume', fillna=True)\n",
    "dataset.head(3)"
   ]
  },
  {
   "cell_type": "markdown",
   "metadata": {},
   "source": [
    "### Create Chart Price History Data\n",
    "Note: It is recommended to create the chart data *after* creating and cleaning the dataset to ensure one-to-one mapping between the historical prices data and the dataset."
   ]
  },
  {
   "cell_type": "code",
   "execution_count": 21,
   "metadata": {
    "scrolled": true
   },
   "outputs": [
    {
     "output_type": "display_data",
     "data": {
      "text/plain": "             BTC:date  BTC:open  BTC:high  BTC:low  BTC:close  BTC:volume\n0 2018-05-15 06:00:00    8723.8    8793.0   8714.9     8739.0  8988053.53\n1 2018-05-15 07:00:00    8739.0    8754.8   8719.3     8743.0  2288904.12\n2 2018-05-15 08:00:00    8743.0    8743.1   8653.2     8723.7  8891773.14",
      "text/html": "<div>\n<style scoped>\n    .dataframe tbody tr th:only-of-type {\n        vertical-align: middle;\n    }\n\n    .dataframe tbody tr th {\n        vertical-align: top;\n    }\n\n    .dataframe thead th {\n        text-align: right;\n    }\n</style>\n<table border=\"1\" class=\"dataframe\">\n  <thead>\n    <tr style=\"text-align: right;\">\n      <th></th>\n      <th>BTC:date</th>\n      <th>BTC:open</th>\n      <th>BTC:high</th>\n      <th>BTC:low</th>\n      <th>BTC:close</th>\n      <th>BTC:volume</th>\n    </tr>\n  </thead>\n  <tbody>\n    <tr>\n      <th>0</th>\n      <td>2018-05-15 06:00:00</td>\n      <td>8723.8</td>\n      <td>8793.0</td>\n      <td>8714.9</td>\n      <td>8739.0</td>\n      <td>8988053.53</td>\n    </tr>\n    <tr>\n      <th>1</th>\n      <td>2018-05-15 07:00:00</td>\n      <td>8739.0</td>\n      <td>8754.8</td>\n      <td>8719.3</td>\n      <td>8743.0</td>\n      <td>2288904.12</td>\n    </tr>\n    <tr>\n      <th>2</th>\n      <td>2018-05-15 08:00:00</td>\n      <td>8743.0</td>\n      <td>8743.1</td>\n      <td>8653.2</td>\n      <td>8723.7</td>\n      <td>8891773.14</td>\n    </tr>\n  </tbody>\n</table>\n</div>"
     },
     "metadata": {}
    }
   ],
   "source": [
    "price_history = dataset[['BTC:date', 'BTC:open', 'BTC:high', 'BTC:low', 'BTC:close', 'BTC:volume']]  # chart data\n",
    "display(price_history.head(3))\n",
    "\n",
    "dataset.drop(columns=['BTC:date', 'BTC:open', 'BTC:high', 'BTC:low', 'BTC:close', 'BTC:volume'], inplace=True)"
   ]
  },
  {
   "cell_type": "markdown",
   "metadata": {},
   "source": [
    "## Setup Trading Environment\n",
    "### Create Data Feeds"
   ]
  },
  {
   "cell_type": "code",
   "execution_count": 22,
   "metadata": {},
   "outputs": [
    {
     "output_type": "execute_result",
     "data": {
      "text/plain": [
       "{'bitfinex:/BTC:unix': 1526364000,\n",
       " 'bitfinex:/volume_adi': -3441008.969871901,\n",
       " 'bitfinex:/volume_obv': 8988053.53,\n",
       " 'bitfinex:/volume_cmf': -0.38284250960306654,\n",
       " 'bitfinex:/volume_fi': 0.0,\n",
       " 'bitfinex:/volume_mfi': 50.0,\n",
       " 'bitfinex:/volume_em': 0.0,\n",
       " 'bitfinex:/volume_sma_em': 0.0,\n",
       " 'bitfinex:/volume_vpt': -2278209.0941296634,\n",
       " 'bitfinex:/volume_nvi': 1000.0,\n",
       " 'bitfinex:/volume_vwap': 8748.966666666667,\n",
       " 'bitfinex:/volatility_atr': 0.0,\n",
       " 'bitfinex:/volatility_bbm': 8739.0,\n",
       " 'bitfinex:/volatility_bbh': 8739.0,\n",
       " 'bitfinex:/volatility_bbl': 8739.0,\n",
       " 'bitfinex:/volatility_bbw': 0.0,\n",
       " 'bitfinex:/volatility_bbp': 0.0,\n",
       " 'bitfinex:/volatility_bbhi': 0.0,\n",
       " 'bitfinex:/volatility_bbli': 0.0,\n",
       " 'bitfinex:/volatility_kcc': 8748.966666666667,\n",
       " 'bitfinex:/volatility_kch': 8827.066666666668,\n",
       " 'bitfinex:/volatility_kcl': 8670.866666666667,\n",
       " 'bitfinex:/volatility_kcw': 1.7853536989130225,\n",
       " 'bitfinex:/volatility_kcp': 0.4361929150661517,\n",
       " 'bitfinex:/volatility_kchi': 0.0,\n",
       " 'bitfinex:/volatility_kcli': 0.0,\n",
       " 'bitfinex:/volatility_dcl': 8714.9,\n",
       " 'bitfinex:/volatility_dch': 8793.0,\n",
       " 'bitfinex:/volatility_dcm': 8753.95,\n",
       " 'bitfinex:/volatility_dcw': 0.8936949307701152,\n",
       " 'bitfinex:/volatility_dcp': 0.30857874519846673,\n",
       " 'bitfinex:/volatility_ui': 0.0,\n",
       " 'bitfinex:/trend_macd': 0.0,\n",
       " 'bitfinex:/trend_macd_signal': 0.0,\n",
       " 'bitfinex:/trend_macd_diff': 0.0,\n",
       " 'bitfinex:/trend_sma_fast': 8739.0,\n",
       " 'bitfinex:/trend_sma_slow': 8739.0,\n",
       " 'bitfinex:/trend_ema_fast': 8739.0,\n",
       " 'bitfinex:/trend_ema_slow': 8739.0,\n",
       " 'bitfinex:/trend_adx': 0.0,\n",
       " 'bitfinex:/trend_adx_pos': 0.0,\n",
       " 'bitfinex:/trend_adx_neg': 0.0,\n",
       " 'bitfinex:/trend_vortex_ind_pos': 0.0,\n",
       " 'bitfinex:/trend_vortex_ind_neg': 0.0,\n",
       " 'bitfinex:/trend_vortex_ind_diff': 0.0,\n",
       " 'bitfinex:/trend_trix': -25.05574362767287,\n",
       " 'bitfinex:/trend_mass_index': 1.0,\n",
       " 'bitfinex:/trend_cci': 0.0,\n",
       " 'bitfinex:/trend_dpo': 2963.288450075679,\n",
       " 'bitfinex:/trend_kst': -253.22298819736542,\n",
       " 'bitfinex:/trend_kst_sig': -253.22298819736542,\n",
       " 'bitfinex:/trend_kst_diff': 0.0,\n",
       " 'bitfinex:/trend_ichimoku_conv': 8753.95,\n",
       " 'bitfinex:/trend_ichimoku_base': 8753.95,\n",
       " 'bitfinex:/trend_ichimoku_a': 8753.95,\n",
       " 'bitfinex:/trend_ichimoku_b': 8753.95,\n",
       " 'bitfinex:/trend_visual_ichimoku_a': 11670.188491864134,\n",
       " 'bitfinex:/trend_visual_ichimoku_b': 11632.477779296425,\n",
       " 'bitfinex:/trend_aroon_up': 4.0,\n",
       " 'bitfinex:/trend_aroon_down': 4.0,\n",
       " 'bitfinex:/trend_aroon_ind': 0.0,\n",
       " 'bitfinex:/trend_psar_up': -1.0,\n",
       " 'bitfinex:/trend_psar_down': -1.0,\n",
       " 'bitfinex:/trend_psar_up_indicator': 0.0,\n",
       " 'bitfinex:/trend_psar_down_indicator': 0.0,\n",
       " 'bitfinex:/trend_stc': 0.0,\n",
       " 'bitfinex:/momentum_rsi': 100.0,\n",
       " 'bitfinex:/momentum_stoch_rsi': 0.0,\n",
       " 'bitfinex:/momentum_stoch_rsi_k': 0.0,\n",
       " 'bitfinex:/momentum_stoch_rsi_d': 0.0,\n",
       " 'bitfinex:/momentum_tsi': 0.0,\n",
       " 'bitfinex:/momentum_uo': 0.0,\n",
       " 'bitfinex:/momentum_stoch': 30.85787451984667,\n",
       " 'bitfinex:/momentum_stoch_signal': 30.85787451984667,\n",
       " 'bitfinex:/momentum_wr': -69.14212548015333,\n",
       " 'bitfinex:/momentum_ao': 0.0,\n",
       " 'bitfinex:/momentum_kama': 8739.0,\n",
       " 'bitfinex:/momentum_roc': 0.0,\n",
       " 'bitfinex:/momentum_ppo': 0.0,\n",
       " 'bitfinex:/momentum_ppo_signal': 0.0,\n",
       " 'bitfinex:/momentum_ppo_hist': 0.0,\n",
       " 'bitfinex:/others_dr': -25.322298819736545,\n",
       " 'bitfinex:/others_dlr': 0.0,\n",
       " 'bitfinex:/others_cr': 0.0}"
      ]
     },
     "metadata": {},
     "execution_count": 22
    }
   ],
   "source": [
    "bitfinex = Exchange(\"bitfinex\", service=execute_order)(\n",
    "    Stream.source(price_history['BTC:close'].tolist(), dtype=\"float\").rename(\"USD-BTC\")\n",
    ")\n",
    "\n",
    "portfolio = Portfolio(USD, [\n",
    "    Wallet(bitfinex, 10000 * USD),\n",
    "    Wallet(bitfinex, 10 * BTC),\n",
    "])\n",
    "\n",
    "with NameSpace(\"bitfinex\"):\n",
    "    streams = [Stream.source(dataset[c].tolist(), dtype=\"float\").rename(c) for c in dataset.columns]\n",
    "\n",
    "feed = DataFeed(streams)\n",
    "feed.next()"
   ]
  },
  {
   "cell_type": "markdown",
   "metadata": {},
   "source": [
    "### Trading Environment Renderers\n",
    "A renderer is a channel for the trading environment to output its current state. One or more renderers can be attached to the environment at the same time. For example, you can let the environment draw a chart and log to a file at the same time.\n",
    "\n",
    "Notice that while all renderers can technically be used together, you need to select the best combination to avoid undesired results. For example, PlotlyTradingChart can work well with FileLogger but may not display well with ScreenLogger.\n",
    "\n",
    "Renderer can be set by name (string) or class, single or list. Available renderers are:\n",
    "* `'screenlog'` or `ScreenLogger`: Shows results on the screen.\n",
    "* `'filelog'` or `FileLogger`: Logs results to a file.\n",
    "* `'plotly'` or `PlotlyTradingChart`: A trading chart based on Plotly.\n",
    "\n",
    "#### Examples:\n",
    "\n",
    "* renderers = 'screenlog' (default)\n",
    "* renderers = ['screenlog', 'filelog']\n",
    "* renderers = ScreenLogger()\n",
    "* renderers = ['screenlog', `FileLogger()`]\n",
    "* renderers = [`FileLogger(filename='example.log')`]\n",
    "\n",
    "Renderers can also be created and configured first then attached to the environment as seen in a following example.\n",
    "\n",
    "### Trading Environment with a Single Renderer"
   ]
  },
  {
   "cell_type": "code",
   "execution_count": 23,
   "metadata": {},
   "outputs": [],
   "source": [
    "import tensortrade.env.default as default\n",
    "\n",
    "env = default.create(\n",
    "    portfolio=portfolio,\n",
    "    action_scheme=\"managed-risk\",\n",
    "    reward_scheme=\"risk-adjusted\",\n",
    "    feed=feed,\n",
    "    renderer=\"screen-log\",  # ScreenLogger used with default settings\n",
    "    window_size=20\n",
    ")"
   ]
  },
  {
   "cell_type": "code",
   "execution_count": 24,
   "metadata": {
    "scrolled": false
   },
   "outputs": [
    {
     "output_type": "stream",
     "name": "stdout",
     "text": [
      "====      AGENT ID: 0bc064c4-6da1-42eb-8462-6a27c45d95d6      ====\n",
      "[2021-04-02 1:07:31 PM] Episode: 1/2 Step: 131/200\n",
      "[2021-04-02 1:07:32 PM] Episode: 1/2 Step: 141/200\n",
      "[2021-04-02 1:07:33 PM] Episode: 1/2 Step: 151/200\n",
      "[2021-04-02 1:07:34 PM] Episode: 1/2 Step: 161/200\n",
      "[2021-04-02 1:07:35 PM] Episode: 1/2 Step: 171/200\n",
      "[2021-04-02 1:07:36 PM] Episode: 1/2 Step: 181/200\n",
      "[2021-04-02 1:07:37 PM] Episode: 1/2 Step: 191/200\n",
      "[2021-04-02 1:07:38 PM] Episode: 1/2 Step: 201/200\n",
      "[2021-04-02 1:07:39 PM] Episode: 2/2 Step: 11/200\n",
      "[2021-04-02 1:07:40 PM] Episode: 2/2 Step: 21/200\n",
      "[2021-04-02 1:07:41 PM] Episode: 2/2 Step: 31/200\n",
      "[2021-04-02 1:07:42 PM] Episode: 2/2 Step: 41/200\n",
      "[2021-04-02 1:07:43 PM] Episode: 2/2 Step: 51/200\n",
      "[2021-04-02 1:07:44 PM] Episode: 2/2 Step: 61/200\n",
      "[2021-04-02 1:07:45 PM] Episode: 2/2 Step: 71/200\n",
      "[2021-04-02 1:07:46 PM] Episode: 2/2 Step: 81/200\n",
      "[2021-04-02 1:07:47 PM] Episode: 2/2 Step: 91/200\n",
      "[2021-04-02 1:07:47 PM] Episode: 2/2 Step: 101/200\n",
      "[2021-04-02 1:07:48 PM] Episode: 2/2 Step: 111/200\n",
      "[2021-04-02 1:07:49 PM] Episode: 2/2 Step: 121/200\n",
      "[2021-04-02 1:07:50 PM] Episode: 2/2 Step: 131/200\n",
      "[2021-04-02 1:07:51 PM] Episode: 2/2 Step: 141/200\n",
      "[2021-04-02 1:07:52 PM] Episode: 2/2 Step: 151/200\n",
      "[2021-04-02 1:07:53 PM] Episode: 2/2 Step: 161/200\n",
      "[2021-04-02 1:07:54 PM] Episode: 2/2 Step: 171/200\n",
      "[2021-04-02 1:07:55 PM] Episode: 2/2 Step: 181/200\n",
      "[2021-04-02 1:07:56 PM] Episode: 2/2 Step: 191/200\n",
      "[2021-04-02 1:07:57 PM] Episode: 2/2 Step: 201/200\n"
     ]
    },
    {
     "output_type": "execute_result",
     "data": {
      "text/plain": [
       "-996367.7077659033"
      ]
     },
     "metadata": {},
     "execution_count": 24
    }
   ],
   "source": [
    "from tensortrade.agents import DQNAgent\n",
    "\n",
    "agent = DQNAgent(env)\n",
    "agent.train(n_episodes=2, n_steps=200, render_interval=10)"
   ]
  },
  {
   "cell_type": "markdown",
   "metadata": {},
   "source": [
    "### Environment with Multiple Renderers\n",
    "Create PlotlyTradingChart and FileLogger renderers. Configuring renderers is optional as they can be used with their default settings."
   ]
  },
  {
   "cell_type": "code",
   "execution_count": 25,
   "metadata": {},
   "outputs": [],
   "source": [
    "from tensortrade.env.default.renderers import PlotlyTradingChart, FileLogger\n",
    "\n",
    "chart_renderer = PlotlyTradingChart(\n",
    "    display=True,  # show the chart on screen (default)\n",
    "    height=800,  # affects both displayed and saved file height. None for 100% height.\n",
    "    save_format=\"html\",  # save the chart to an HTML file\n",
    "    auto_open_html=True,  # open the saved HTML chart in a new browser tab\n",
    ")\n",
    "\n",
    "file_logger = FileLogger(\n",
    "    filename=\"example.log\",  # omit or None for automatic file name\n",
    "    path=\"training_logs\"  # create a new directory if doesn't exist, None for no directory\n",
    ")"
   ]
  },
  {
   "cell_type": "markdown",
   "metadata": {},
   "source": [
    "### Environement with Multiple Renderers\n",
    "\n",
    "With the plotly renderer you must provide an parameter called `renderer_feed`. This is a `DataFeed` instance that provides all the information that is required by a renderer to function."
   ]
  },
  {
   "cell_type": "code",
   "execution_count": 26,
   "metadata": {},
   "outputs": [],
   "source": [
    "renderer_feed = DataFeed([\n",
    "    Stream.source(price_history[c].tolist(), dtype=\"float\").rename(c) for c in price_history]\n",
    ")\n",
    "\n",
    "env = default.create(\n",
    "    portfolio=portfolio,\n",
    "    action_scheme=\"managed-risk\",\n",
    "    reward_scheme=\"risk-adjusted\",\n",
    "    feed=feed,\n",
    "    window_size=20,\n",
    "    renderer_feed=renderer_feed,\n",
    "    renderers=[\n",
    "        chart_renderer, \n",
    "        file_logger\n",
    "    ]\n",
    ")"
   ]
  },
  {
   "cell_type": "markdown",
   "metadata": {},
   "source": [
    "## Setup and Train DQN Agent\n",
    "The green and red arrows shown on the chart represent buy and sell trades respectively. The head of each arrow falls at the trade execution price."
   ]
  },
  {
   "cell_type": "code",
   "execution_count": 27,
   "metadata": {
    "scrolled": false
   },
   "outputs": [
    {
     "output_type": "stream",
     "name": "stdout",
     "text": [
      "====      AGENT ID: 9ca0a0c7-d007-4c6b-8c85-c4bd6e4d3d56      ====\n"
     ]
    },
    {
     "output_type": "execute_result",
     "data": {
      "text/plain": [
       "-1026204.5763763315"
      ]
     },
     "metadata": {},
     "execution_count": 27
    }
   ],
   "source": [
    "from tensortrade.agents import DQNAgent\n",
    "\n",
    "agent = DQNAgent(env)\n",
    "\n",
    "# Set render_interval to None to render at episode ends only\n",
    "agent.train(n_episodes=2, n_steps=200, render_interval=10)"
   ]
  },
  {
   "cell_type": "markdown",
   "metadata": {},
   "source": [
    "## Direct Performance and Net Worth Plotting\n",
    "Alternatively, the final performance and net worth can be displayed using pandas via Matplotlib."
   ]
  },
  {
   "cell_type": "code",
   "execution_count": 28,
   "metadata": {},
   "outputs": [
    {
     "output_type": "error",
     "ename": "AttributeError",
     "evalue": "'collections.OrderedDict' object has no attribute 'plot'",
     "traceback": [
      "\u001b[0;31m---------------------------------------------------------------------------\u001b[0m",
      "\u001b[0;31mAttributeError\u001b[0m                            Traceback (most recent call last)",
      "\u001b[0;32m<ipython-input-28-52b49a7678e5>\u001b[0m in \u001b[0;36m<module>\u001b[0;34m\u001b[0m\n\u001b[1;32m      1\u001b[0m \u001b[0mget_ipython\u001b[0m\u001b[0;34m(\u001b[0m\u001b[0;34m)\u001b[0m\u001b[0;34m.\u001b[0m\u001b[0mrun_line_magic\u001b[0m\u001b[0;34m(\u001b[0m\u001b[0;34m'matplotlib'\u001b[0m\u001b[0;34m,\u001b[0m \u001b[0;34m'inline'\u001b[0m\u001b[0;34m)\u001b[0m\u001b[0;34m\u001b[0m\u001b[0;34m\u001b[0m\u001b[0m\n\u001b[1;32m      2\u001b[0m \u001b[0;34m\u001b[0m\u001b[0m\n\u001b[0;32m----> 3\u001b[0;31m \u001b[0mportfolio\u001b[0m\u001b[0;34m.\u001b[0m\u001b[0mperformance\u001b[0m\u001b[0;34m.\u001b[0m\u001b[0mplot\u001b[0m\u001b[0;34m(\u001b[0m\u001b[0;34m)\u001b[0m\u001b[0;34m\u001b[0m\u001b[0;34m\u001b[0m\u001b[0m\n\u001b[0m",
      "\u001b[0;31mAttributeError\u001b[0m: 'collections.OrderedDict' object has no attribute 'plot'"
     ]
    }
   ],
   "source": [
    "%matplotlib inline\n",
    "\n",
    "portfolio.performance.plot()"
   ]
  },
  {
   "cell_type": "code",
   "execution_count": null,
   "metadata": {},
   "outputs": [],
   "source": [
    "portfolio.performance.net_worth.plot()"
   ]
  },
  {
   "cell_type": "code",
   "execution_count": null,
   "metadata": {},
   "outputs": [],
   "source": []
  }
 ],
 "metadata": {
  "kernelspec": {
   "name": "python369jvsc74a57bd031f2aee4e71d21fbe5cf8b01ff0e069b9275f58929596ceb00d14d90e3e16cd6",
   "display_name": "Python 3.6.9 64-bit"
  },
  "language_info": {
   "codemirror_mode": {
    "name": "ipython",
    "version": 3
   },
   "file_extension": ".py",
   "mimetype": "text/x-python",
   "name": "python",
   "nbconvert_exporter": "python",
   "pygments_lexer": "ipython3",
   "version": "3.6.9"
  },
  "metadata": {
   "interpreter": {
    "hash": "31f2aee4e71d21fbe5cf8b01ff0e069b9275f58929596ceb00d14d90e3e16cd6"
   }
  }
 },
 "nbformat": 4,
 "nbformat_minor": 4
}