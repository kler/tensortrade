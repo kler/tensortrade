{
 "cells": [
  {
   "cell_type": "markdown",
   "metadata": {},
   "source": [
    "## Install TensorTrade"
   ]
  },
  {
   "cell_type": "code",
   "execution_count": 1,
   "metadata": {
    "tags": []
   },
   "outputs": [],
   "source": [
    "!pip install -r requirements.txt -qU --no-cache-dir\n",
    "!pip check tensortrade &>/dev/null || pip install git+https://github.com/tensortrade-org/tensortrade.git -qU --no-cache-dir"
   ]
  },
  {
   "cell_type": "markdown",
   "metadata": {},
   "source": [
    "## Setup Data Fetching"
   ]
  },
  {
   "cell_type": "code",
   "execution_count": 2,
   "metadata": {},
   "outputs": [],
   "source": [
    "import pandas as pd\n",
    "import tensortrade.env.default as default\n",
    "\n",
    "from tensortrade.data.cdd import CryptoDataDownload\n",
    "from tensortrade.feed.core import Stream, DataFeed\n",
    "from tensortrade.oms.exchanges import Exchange\n",
    "from tensortrade.oms.services.execution.simulated import execute_order\n",
    "from tensortrade.oms.instruments import USD, BTC, ETH\n",
    "from tensortrade.oms.wallets import Wallet, Portfolio\n",
    "from tensortrade.agents import DQNAgent\n",
    "\n",
    "\n",
    "%matplotlib inline"
   ]
  },
  {
   "cell_type": "code",
   "execution_count": 3,
   "metadata": {},
   "outputs": [],
   "source": [
    "cdd = CryptoDataDownload()\n",
    "\n",
    "data = cdd.fetch(\"Bitstamp\", \"USD\", \"BTC\", \"1h\")"
   ]
  },
  {
   "cell_type": "code",
   "execution_count": 4,
   "metadata": {},
   "outputs": [
    {
     "output_type": "execute_result",
     "data": {
      "text/plain": [
       "                 date        unix     open     high      low    close   volume\n",
       "0 2018-05-15 06:00:00  1526364000  8733.86  8796.68  8707.28  8740.99   559.93\n",
       "1 2018-05-15 07:00:00  1526367600  8740.99  8766.00  8721.11  8739.00   273.58\n",
       "2 2018-05-15 08:00:00  1526371200  8739.00  8750.27  8660.53  8728.49   917.79\n",
       "3 2018-05-15 09:00:00  1526374800  8728.49  8754.40  8701.35  8708.32   182.62\n",
       "4 2018-05-15 10:00:00  1526378400  8708.32  8865.00  8695.11  8795.90  1260.69"
      ],
      "text/html": "<div>\n<style scoped>\n    .dataframe tbody tr th:only-of-type {\n        vertical-align: middle;\n    }\n\n    .dataframe tbody tr th {\n        vertical-align: top;\n    }\n\n    .dataframe thead th {\n        text-align: right;\n    }\n</style>\n<table border=\"1\" class=\"dataframe\">\n  <thead>\n    <tr style=\"text-align: right;\">\n      <th></th>\n      <th>date</th>\n      <th>unix</th>\n      <th>open</th>\n      <th>high</th>\n      <th>low</th>\n      <th>close</th>\n      <th>volume</th>\n    </tr>\n  </thead>\n  <tbody>\n    <tr>\n      <th>0</th>\n      <td>2018-05-15 06:00:00</td>\n      <td>1526364000</td>\n      <td>8733.86</td>\n      <td>8796.68</td>\n      <td>8707.28</td>\n      <td>8740.99</td>\n      <td>559.93</td>\n    </tr>\n    <tr>\n      <th>1</th>\n      <td>2018-05-15 07:00:00</td>\n      <td>1526367600</td>\n      <td>8740.99</td>\n      <td>8766.00</td>\n      <td>8721.11</td>\n      <td>8739.00</td>\n      <td>273.58</td>\n    </tr>\n    <tr>\n      <th>2</th>\n      <td>2018-05-15 08:00:00</td>\n      <td>1526371200</td>\n      <td>8739.00</td>\n      <td>8750.27</td>\n      <td>8660.53</td>\n      <td>8728.49</td>\n      <td>917.79</td>\n    </tr>\n    <tr>\n      <th>3</th>\n      <td>2018-05-15 09:00:00</td>\n      <td>1526374800</td>\n      <td>8728.49</td>\n      <td>8754.40</td>\n      <td>8701.35</td>\n      <td>8708.32</td>\n      <td>182.62</td>\n    </tr>\n    <tr>\n      <th>4</th>\n      <td>2018-05-15 10:00:00</td>\n      <td>1526378400</td>\n      <td>8708.32</td>\n      <td>8865.00</td>\n      <td>8695.11</td>\n      <td>8795.90</td>\n      <td>1260.69</td>\n    </tr>\n  </tbody>\n</table>\n</div>"
     },
     "metadata": {},
     "execution_count": 4
    }
   ],
   "source": [
    "data.head()"
   ]
  },
  {
   "cell_type": "markdown",
   "metadata": {},
   "source": [
    "## Create features with the feed module"
   ]
  },
  {
   "cell_type": "code",
   "execution_count": 5,
   "metadata": {},
   "outputs": [],
   "source": [
    "def rsi(price: Stream[float], period: float) -> Stream[float]:\n",
    "    r = price.diff()\n",
    "    upside = r.clamp_min(0).abs()\n",
    "    downside = r.clamp_max(0).abs()\n",
    "    rs = upside.ewm(alpha=1 / period).mean() / downside.ewm(alpha=1 / period).mean()\n",
    "    return 100*(1 - (1 + rs) ** -1)\n",
    "\n",
    "\n",
    "def macd(price: Stream[float], fast: float, slow: float, signal: float) -> Stream[float]:\n",
    "    fm = price.ewm(span=fast, adjust=False).mean()\n",
    "    sm = price.ewm(span=slow, adjust=False).mean()\n",
    "    md = fm - sm\n",
    "    signal = md - md.ewm(span=signal, adjust=False).mean()\n",
    "    return signal\n",
    "\n",
    "\n",
    "features = []\n",
    "for c in data.columns[1:]:\n",
    "    s = Stream.source(list(data[c]), dtype=\"float\").rename(data[c].name)\n",
    "    features += [s]\n",
    "\n",
    "cp = Stream.select(features, lambda s: s.name == \"close\")\n",
    "\n",
    "features = [\n",
    "    cp.log().diff().rename(\"lr\"),\n",
    "    rsi(cp, period=20).rename(\"rsi\"),\n",
    "    macd(cp, fast=10, slow=50, signal=5).rename(\"macd\")\n",
    "]\n",
    "\n",
    "feed = DataFeed(features)\n",
    "feed.compile()"
   ]
  },
  {
   "cell_type": "code",
   "execution_count": 6,
   "metadata": {},
   "outputs": [
    {
     "output_type": "stream",
     "name": "stdout",
     "text": [
      "{'lr': nan, 'rsi': nan, 'macd': 0.0}\n{'lr': -0.00022768891842694927, 'rsi': 0.0, 'macd': -0.1891859774210995}\n{'lr': -0.0012033785355889393, 'rsi': 0.0, 'macd': -1.2726616061000744}\n{'lr': -0.0023134975946028646, 'rsi': 0.0, 'macd': -3.6577343503541435}\n{'lr': 0.01000681330867259, 'rsi': 74.26253567956897, 'macd': 3.7087743627464844}\n"
     ]
    }
   ],
   "source": [
    "for i in range(5):\n",
    "    print(feed.next())"
   ]
  },
  {
   "cell_type": "markdown",
   "metadata": {},
   "source": [
    "## Setup Trading Environment"
   ]
  },
  {
   "cell_type": "code",
   "execution_count": 7,
   "metadata": {},
   "outputs": [],
   "source": [
    "bitstamp = Exchange(\"bitstamp\", service=execute_order)(\n",
    "    Stream.source(list(data[\"close\"]), dtype=\"float\").rename(\"USD-BTC\")\n",
    ")\n",
    "\n",
    "portfolio = Portfolio(USD, [\n",
    "    Wallet(bitstamp, 10000 * USD),\n",
    "    Wallet(bitstamp, 10 * BTC)\n",
    "])\n",
    "\n",
    "\n",
    "renderer_feed = DataFeed([\n",
    "    Stream.source(list(data[\"date\"])).rename(\"date\"),\n",
    "    Stream.source(list(data[\"open\"]), dtype=\"float\").rename(\"open\"),\n",
    "    Stream.source(list(data[\"high\"]), dtype=\"float\").rename(\"high\"),\n",
    "    Stream.source(list(data[\"low\"]), dtype=\"float\").rename(\"low\"),\n",
    "    Stream.source(list(data[\"close\"]), dtype=\"float\").rename(\"close\"), \n",
    "    Stream.source(list(data[\"volume\"]), dtype=\"float\").rename(\"volume\") \n",
    "])\n",
    "\n",
    "\n",
    "env = default.create(\n",
    "    portfolio=portfolio,\n",
    "    action_scheme=\"managed-risk\",\n",
    "    reward_scheme=\"risk-adjusted\",\n",
    "    feed=feed,\n",
    "    renderer_feed=renderer_feed,\n",
    "    renderer=default.renderers.PlotlyTradingChart(),\n",
    "    window_size=20\n",
    ")"
   ]
  },
  {
   "source": [
    "env.observer.feed.next()"
   ],
   "cell_type": "markdown",
   "metadata": {}
  },
  {
   "cell_type": "markdown",
   "metadata": {},
   "source": [
    "## Setup and Train DQN Agent"
   ]
  },
  {
   "cell_type": "code",
   "execution_count": 8,
   "metadata": {},
   "outputs": [
    {
     "output_type": "display_data",
     "data": {
      "text/plain": "FigureWidget({\n    'data': [{'close': array([8740.99, 8739.  , 8728.49, ..., 7911.83, 7901.01, 7887.  ]),\n    …",
      "application/vnd.jupyter.widget-view+json": {
       "version_major": 2,
       "version_minor": 0,
       "model_id": "6fbd4375fc194fc2a503985241af19d8"
      }
     },
     "metadata": {}
    },
    {
     "output_type": "display_data",
     "data": {
      "application/vnd.plotly.v1+json": {
       "config": {
        "plotlyServerURL": "https://plot.ly"
       },
       "data": [
        {
         "close": [
          8740.99,
          8739,
          8728.49,
          8708.32,
          8795.9,
          8760,
          8760,
          8759.23,
          8517.77,
          8520.3,
          8535.23,
          8546.34,
          8526.65,
          8555.6,
          8512.1,
          8492.28,
          8460,
          8474.99,
          8455.92,
          8326.28,
          8133.43,
          8164.79,
          8229.38,
          8220.4,
          8238.8,
          8232.99,
          8207.48,
          8243.45,
          8371.13,
          8373,
          8365.08,
          8179.99,
          8225,
          8285.8,
          8273.4,
          8297.4,
          8279.89,
          8252.72,
          8302.18,
          8295.85,
          8277.25,
          8346.59,
          8358.3,
          8375.1,
          8368.62,
          8366.72,
          8314.77,
          8363.7,
          8344.16,
          8247.4,
          8277.4
         ],
         "high": [
          8796.68,
          8766,
          8750.27,
          8754.4,
          8865,
          8821.19,
          8798.6,
          8771.02,
          8761.7,
          8553.67,
          8589.1,
          8579.48,
          8555.51,
          8583.6,
          8569.92,
          8555.54,
          8557.51,
          8505,
          8505.33,
          8478.29,
          8339.81,
          8217.44,
          8252.72,
          8248.63,
          8267.12,
          8255,
          8261.24,
          8263.93,
          8455.66,
          8439.44,
          8399.1,
          8381.73,
          8229.91,
          8377.29,
          8329.1,
          8350,
          8346.95,
          8377.29,
          8311.35,
          8319.96,
          8398.24,
          8372.58,
          8399.99,
          8386.53,
          8400,
          8500,
          8381,
          8371.3,
          8382.41,
          8351,
          8292.99
         ],
         "low": [
          8707.28,
          8721.11,
          8660.53,
          8701.35,
          8695.11,
          8740.54,
          8741.52,
          8700,
          8467.42,
          8477.89,
          8500.78,
          8500,
          8400,
          8451.05,
          8461.38,
          8481.24,
          8420.37,
          8450,
          8430.94,
          8275.02,
          8100.01,
          8122.56,
          8157.01,
          8166.25,
          8176.91,
          8213.79,
          8200,
          8207.48,
          8237.1,
          8370,
          8356.4,
          8145.1,
          8173.6,
          8211.8,
          8201,
          8250.9,
          8266.46,
          8252.72,
          8232.14,
          8268.37,
          8277.25,
          8277.25,
          8314.78,
          8314.77,
          8350.07,
          8331.39,
          8314.77,
          8275.45,
          8335.49,
          8191.14,
          8227.7
         ],
         "name": "Price",
         "open": [
          8733.86,
          8740.99,
          8739,
          8728.49,
          8708.32,
          8795.9,
          8760,
          8760,
          8759.23,
          8517.77,
          8520.3,
          8535.23,
          8546.34,
          8526.65,
          8555.6,
          8512.1,
          8492.28,
          8460,
          8474.99,
          8455.92,
          8326.28,
          8133.43,
          8164.79,
          8229.38,
          8220.4,
          8238.8,
          8232.99,
          8207.48,
          8243.45,
          8371.13,
          8373,
          8365.08,
          8179.99,
          8225,
          8285.8,
          8273.4,
          8297.4,
          8279.89,
          8252.72,
          8302.18,
          8295.85,
          8277.25,
          8346.59,
          8358.3,
          8375.1,
          8368.62,
          8366.72,
          8314.77,
          8363.7,
          8344.16,
          8247.4
         ],
         "showlegend": false,
         "type": "candlestick",
         "uid": "9daa24c5-9ae2-4db4-83a6-1beaa490cf1a",
         "xaxis": "x",
         "yaxis": "y"
        },
        {
         "marker": {
          "color": "DodgerBlue"
         },
         "name": "Volume",
         "showlegend": false,
         "type": "bar",
         "uid": "366ede5a-4128-45a4-9618-3b6f31a20734",
         "xaxis": "x2",
         "y": [
          559.93,
          273.58,
          917.79,
          182.62,
          1260.69,
          324.11,
          324.2,
          730.67,
          1341.75,
          792.07,
          385.69,
          475.08,
          877.26,
          670.49,
          610.97,
          168.99,
          305.92,
          136.05,
          154.26,
          1070.93,
          1710.2,
          492.8,
          630.72,
          620.93,
          586.34,
          304.52,
          450.97,
          182.36,
          915.32,
          319.29,
          362.01,
          1046.38,
          357.91,
          561.2,
          322.53,
          1073.71,
          237.21,
          251.2,
          359.73,
          117.23,
          363.17,
          214.18,
          171.64,
          258.58,
          299.52,
          718.98,
          119.7,
          405.25,
          210.77,
          714.82,
          215.97
         ],
         "yaxis": "y2"
        },
        {
         "mode": "lines",
         "name": "bitstamp:/USD-BTC",
         "type": "scatter",
         "uid": "144dadab-dc92-4059-bcf1-f191aae5cff6",
         "xaxis": "x3",
         "y": [
          8740.99,
          8739,
          8728.49,
          8708.32,
          8795.9,
          8760,
          8760,
          8759.23,
          8517.77,
          8520.3,
          8535.23,
          8546.34,
          8526.65,
          8555.6,
          8512.1,
          8492.28,
          8460,
          8474.99,
          8455.92,
          8326.28,
          8133.43,
          8164.79,
          8229.38,
          8220.4,
          8238.8,
          8232.99,
          8207.48,
          8243.45,
          8371.13,
          8373,
          8365.08,
          8179.99,
          8225,
          8285.8,
          8273.4,
          8297.4,
          8279.89,
          8252.72,
          8302.18,
          8295.85,
          8277.25,
          8346.59,
          8358.3,
          8375.1,
          8368.62,
          8366.72,
          8314.77,
          8363.7,
          8344.16,
          8247.4,
          8277.4
         ],
         "yaxis": "y3"
        },
        {
         "mode": "lines",
         "name": "bitstamp:/USD:/free",
         "type": "scatter",
         "uid": "215fa976-3ead-45d7-83c7-ba95c90c4306",
         "xaxis": "x3",
         "y": [
          10000,
          10000,
          10000,
          1000,
          1000,
          1000,
          1000,
          1000,
          1000,
          9730.11,
          9730.11,
          9730.11,
          9730.11,
          9730.11,
          9730.11,
          9730.11,
          9730.11,
          9730.11,
          973.01,
          973.01,
          973.01,
          973.01,
          973.01,
          973.01,
          973.01,
          973.01,
          973.01,
          973.01,
          973.01,
          973.01,
          973.01,
          973.01,
          973.01,
          973.01,
          973.01,
          973.01,
          973.01,
          973.01,
          973.01,
          973.01,
          973.01,
          973.01,
          973.01,
          973.01,
          973.01,
          973.01,
          973.01,
          973.01,
          973.01,
          973.01,
          973.01
         ],
         "yaxis": "y3"
        },
        {
         "mode": "lines",
         "name": "bitstamp:/USD:/locked",
         "type": "scatter",
         "uid": "f14581dc-310b-4fca-903b-cfdfa33d18fc",
         "xaxis": "x3",
         "y": [
          0,
          0,
          0,
          0,
          0,
          0,
          0,
          0,
          0,
          0,
          0,
          0,
          0,
          0,
          0,
          0,
          0,
          0,
          0,
          0,
          0,
          0,
          0,
          0,
          0,
          0,
          0,
          0,
          0,
          0,
          0,
          0,
          0,
          0,
          0,
          0,
          0,
          0,
          0,
          0,
          0,
          0,
          0,
          0,
          0,
          0,
          0,
          0,
          0,
          0,
          0
         ],
         "yaxis": "y3"
        },
        {
         "mode": "lines",
         "name": "bitstamp:/USD:/total",
         "type": "scatter",
         "uid": "b26474e7-1144-4f03-9f03-7bd22931501e",
         "xaxis": "x3",
         "y": [
          10000,
          10000,
          10000,
          1000,
          1000,
          1000,
          1000,
          1000,
          1000,
          9730.11,
          9730.11,
          9730.11,
          9730.11,
          9730.11,
          9730.11,
          9730.11,
          9730.11,
          9730.11,
          973.01,
          973.01,
          973.01,
          973.01,
          973.01,
          973.01,
          973.01,
          973.01,
          973.01,
          973.01,
          973.01,
          973.01,
          973.01,
          973.01,
          973.01,
          973.01,
          973.01,
          973.01,
          973.01,
          973.01,
          973.01,
          973.01,
          973.01,
          973.01,
          973.01,
          973.01,
          973.01,
          973.01,
          973.01,
          973.01,
          973.01,
          973.01,
          973.01
         ],
         "yaxis": "y3"
        },
        {
         "mode": "lines",
         "name": "bitstamp:/BTC:/free",
         "type": "scatter",
         "uid": "b17d4003-2e58-4235-8a40-be01d611c74e",
         "xaxis": "x3",
         "y": [
          10,
          10,
          10,
          10,
          10,
          10,
          10,
          10,
          10,
          10,
          10,
          10,
          10,
          10,
          10,
          10,
          10,
          10,
          10,
          10,
          10,
          10,
          10,
          10,
          10,
          10,
          10,
          10,
          10,
          10,
          10,
          10,
          10,
          10,
          10,
          10,
          10,
          10,
          10,
          10,
          10,
          10,
          10,
          10,
          10,
          10,
          10,
          10,
          10,
          10,
          10
         ],
         "yaxis": "y3"
        },
        {
         "mode": "lines",
         "name": "bitstamp:/BTC:/locked",
         "type": "scatter",
         "uid": "042e0b65-eede-4d26-9f7b-b257debd16f8",
         "xaxis": "x3",
         "y": [
          0,
          0,
          0,
          1.02801286,
          1.02801286,
          1.02801286,
          1.02801286,
          1.02801286,
          1.02801286,
          0,
          0,
          0,
          0,
          0,
          0,
          0,
          0,
          0,
          1.03018765,
          1.03018765,
          1.03018765,
          1.03018765,
          1.03018765,
          1.03018765,
          1.03018765,
          1.03018765,
          1.03018765,
          1.03018765,
          1.03018765,
          1.03018765,
          1.03018765,
          1.03018765,
          1.03018765,
          1.03018765,
          1.03018765,
          1.03018765,
          1.03018765,
          1.03018765,
          1.03018765,
          1.03018765,
          1.03018765,
          1.03018765,
          1.03018765,
          1.03018765,
          1.03018765,
          1.03018765,
          1.03018765,
          1.03018765,
          1.03018765,
          1.03018765,
          1.03018765
         ],
         "yaxis": "y3"
        },
        {
         "mode": "lines",
         "name": "bitstamp:/BTC:/total",
         "type": "scatter",
         "uid": "25740144-d456-4953-88f1-707b2dedb8c3",
         "xaxis": "x3",
         "y": [
          10,
          10,
          10,
          11.02801286,
          11.02801286,
          11.02801286,
          11.02801286,
          11.02801286,
          11.02801286,
          10,
          10,
          10,
          10,
          10,
          10,
          10,
          10,
          10,
          11.03018765,
          11.03018765,
          11.03018765,
          11.03018765,
          11.03018765,
          11.03018765,
          11.03018765,
          11.03018765,
          11.03018765,
          11.03018765,
          11.03018765,
          11.03018765,
          11.03018765,
          11.03018765,
          11.03018765,
          11.03018765,
          11.03018765,
          11.03018765,
          11.03018765,
          11.03018765,
          11.03018765,
          11.03018765,
          11.03018765,
          11.03018765,
          11.03018765,
          11.03018765,
          11.03018765,
          11.03018765,
          11.03018765,
          11.03018765,
          11.03018765,
          11.03018765,
          11.03018765
         ],
         "yaxis": "y3"
        },
        {
         "mode": "lines",
         "name": "bitstamp:/BTC:/worth",
         "type": "scatter",
         "uid": "04b9efcf-d7af-4127-bd92-3213de7f2309",
         "xaxis": "x3",
         "y": [
          87409.9,
          87390,
          87284.9,
          96035.4649489952,
          97001.298315274,
          96605.3926536,
          96605.3926536,
          96596.9010836978,
          93934.0770985222,
          85203,
          85352.29999999999,
          85463.4,
          85266.5,
          85556,
          85121,
          84922.8,
          84600,
          84749.9,
          93270.384353388,
          91840.43082644201,
          89713.2591381395,
          90059.1658228435,
          90771.60564315699,
          90672.55455806,
          90875.51001082,
          90811.4246205735,
          90530.044533622,
          90926.8003833925,
          92335.1347425445,
          92355.76119345,
          92268.402107262,
          90226.8246751235,
          90723.29342125,
          91393.92883036999,
          91257.15450351,
          91521.87900711,
          91328.7404213585,
          91029.050222908,
          91574.603304077,
          91504.78221625251,
          91299.62072596251,
          92064.4539376135,
          92193.61743499499,
          92378.92458751501,
          92307.44897154301,
          92286.491615008,
          91713.47336659051,
          92253.18044830501,
          92037.650581624,
          90970.36962461,
          91301.27525410999
         ],
         "yaxis": "y3"
        },
        {
         "mode": "lines",
         "name": "net_worth",
         "type": "scatter",
         "uid": "c75c71d2-d910-4945-bba1-50dba22356b1",
         "xaxis": "x3",
         "y": [
          97409.9,
          97390,
          97284.9,
          97035.4649489952,
          98001.298315274,
          97605.3926536,
          97605.3926536,
          97596.9010836978,
          94934.0770985222,
          94933.11,
          95082.40999999999,
          95193.51,
          94996.61,
          95286.11,
          94851.11,
          94652.91,
          94330.11,
          94480.01,
          94243.394353388,
          92813.440826442,
          90686.2691381395,
          91032.17582284349,
          91744.61564315698,
          91645.56455806,
          91848.52001082,
          91784.43462057349,
          91503.054533622,
          91899.8103833925,
          93308.1447425445,
          93328.77119345,
          93241.41210726199,
          91199.8346751235,
          91696.30342124999,
          92366.93883036998,
          92230.16450351,
          92494.88900710999,
          92301.75042135849,
          92002.060222908,
          92547.613304077,
          92477.7922162525,
          92272.6307259625,
          93037.4639376135,
          93166.62743499498,
          93351.934587515,
          93280.458971543,
          93259.50161500799,
          92686.4833665905,
          93226.190448305,
          93010.66058162399,
          91943.37962461,
          92274.28525410999
         ],
         "yaxis": "y3"
        },
        {
         "marker": {
          "color": "DarkGreen"
         },
         "mode": "lines",
         "name": "Net Worth",
         "type": "scatter",
         "uid": "a85c8827-5a96-4205-b9d6-e2c5b9b5ffa8",
         "xaxis": "x4",
         "y": [
          97409.9,
          97390,
          97284.9,
          97035.4649489952,
          98001.298315274,
          97605.3926536,
          97605.3926536,
          97596.9010836978,
          94934.0770985222,
          94933.11,
          95082.40999999999,
          95193.51,
          94996.61,
          95286.11,
          94851.11,
          94652.91,
          94330.11,
          94480.01,
          94243.394353388,
          92813.440826442,
          90686.2691381395,
          91032.17582284349,
          91744.61564315698,
          91645.56455806,
          91848.52001082,
          91784.43462057349,
          91503.054533622,
          91899.8103833925,
          93308.1447425445,
          93328.77119345,
          93241.41210726199,
          91199.8346751235,
          91696.30342124999,
          92366.93883036998,
          92230.16450351,
          92494.88900710999,
          92301.75042135849,
          92002.060222908,
          92547.613304077,
          92477.7922162525,
          92272.6307259625,
          93037.4639376135,
          93166.62743499498,
          93351.934587515,
          93280.458971543,
          93259.50161500799,
          92686.4833665905,
          93226.190448305,
          93010.66058162399,
          91943.37962461,
          92274.28525410999
         ],
         "yaxis": "y4"
        }
       ],
       "layout": {
        "annotations": [
         {
          "arrowcolor": "DarkGreen",
          "arrowhead": 2,
          "arrowsize": 0.8,
          "arrowwidth": 4,
          "ax": 0,
          "ay": 15,
          "hoverlabel": {
           "bgcolor": "DarkGreen"
          },
          "hovertext": "Step 18 [2018-05-15 23:00:00]<br>BUY 1.03018765 BTC @ 8474.99 USD MARKET<br>Total: 8730.83 USD - Comm.: 26.27 USD",
          "opacity": 0.6,
          "showarrow": true,
          "x": 17,
          "xref": "x",
          "y": 8474.99,
          "yref": "y"
         },
         {
          "arrowcolor": "FireBrick",
          "arrowhead": 2,
          "arrowsize": 0.8,
          "arrowwidth": 4,
          "ax": 0,
          "ay": -15,
          "hoverlabel": {
           "bgcolor": "FireBrick"
          },
          "hovertext": "Step 9 [2018-05-15 14:00:00]<br>SELL 1.02492882 BTC @ 8517.77 USD MARKET<br>Total: 8730.11 USD - Comm.: 0.00308404 BTC",
          "opacity": 0.6,
          "showarrow": true,
          "x": 8,
          "xref": "x",
          "y": 8517.77,
          "yref": "y"
         },
         {
          "arrowcolor": "DarkGreen",
          "arrowhead": 2,
          "arrowsize": 0.8,
          "arrowwidth": 4,
          "ax": 0,
          "ay": 15,
          "hoverlabel": {
           "bgcolor": "DarkGreen"
          },
          "hovertext": "Step 3 [2018-05-15 08:00:00]<br>BUY 1.02801286 BTC @ 8728.49 USD MARKET<br>Total: 8973.0 USD - Comm.: 27.00 USD",
          "opacity": 0.6,
          "showarrow": true,
          "x": 2,
          "xref": "x",
          "y": 8728.49,
          "yref": "y"
         }
        ],
        "margin": {
         "t": 50
        },
        "template": {
         "data": {
          "bar": [
           {
            "error_x": {
             "color": "#2a3f5f"
            },
            "error_y": {
             "color": "#2a3f5f"
            },
            "marker": {
             "line": {
              "color": "white",
              "width": 0.5
             }
            },
            "type": "bar"
           }
          ],
          "barpolar": [
           {
            "marker": {
             "line": {
              "color": "white",
              "width": 0.5
             }
            },
            "type": "barpolar"
           }
          ],
          "carpet": [
           {
            "aaxis": {
             "endlinecolor": "#2a3f5f",
             "gridcolor": "#C8D4E3",
             "linecolor": "#C8D4E3",
             "minorgridcolor": "#C8D4E3",
             "startlinecolor": "#2a3f5f"
            },
            "baxis": {
             "endlinecolor": "#2a3f5f",
             "gridcolor": "#C8D4E3",
             "linecolor": "#C8D4E3",
             "minorgridcolor": "#C8D4E3",
             "startlinecolor": "#2a3f5f"
            },
            "type": "carpet"
           }
          ],
          "choropleth": [
           {
            "colorbar": {
             "outlinewidth": 0,
             "ticks": ""
            },
            "type": "choropleth"
           }
          ],
          "contour": [
           {
            "colorbar": {
             "outlinewidth": 0,
             "ticks": ""
            },
            "colorscale": [
             [
              0,
              "#0d0887"
             ],
             [
              0.1111111111111111,
              "#46039f"
             ],
             [
              0.2222222222222222,
              "#7201a8"
             ],
             [
              0.3333333333333333,
              "#9c179e"
             ],
             [
              0.4444444444444444,
              "#bd3786"
             ],
             [
              0.5555555555555556,
              "#d8576b"
             ],
             [
              0.6666666666666666,
              "#ed7953"
             ],
             [
              0.7777777777777778,
              "#fb9f3a"
             ],
             [
              0.8888888888888888,
              "#fdca26"
             ],
             [
              1,
              "#f0f921"
             ]
            ],
            "type": "contour"
           }
          ],
          "contourcarpet": [
           {
            "colorbar": {
             "outlinewidth": 0,
             "ticks": ""
            },
            "type": "contourcarpet"
           }
          ],
          "heatmap": [
           {
            "colorbar": {
             "outlinewidth": 0,
             "ticks": ""
            },
            "colorscale": [
             [
              0,
              "#0d0887"
             ],
             [
              0.1111111111111111,
              "#46039f"
             ],
             [
              0.2222222222222222,
              "#7201a8"
             ],
             [
              0.3333333333333333,
              "#9c179e"
             ],
             [
              0.4444444444444444,
              "#bd3786"
             ],
             [
              0.5555555555555556,
              "#d8576b"
             ],
             [
              0.6666666666666666,
              "#ed7953"
             ],
             [
              0.7777777777777778,
              "#fb9f3a"
             ],
             [
              0.8888888888888888,
              "#fdca26"
             ],
             [
              1,
              "#f0f921"
             ]
            ],
            "type": "heatmap"
           }
          ],
          "heatmapgl": [
           {
            "colorbar": {
             "outlinewidth": 0,
             "ticks": ""
            },
            "colorscale": [
             [
              0,
              "#0d0887"
             ],
             [
              0.1111111111111111,
              "#46039f"
             ],
             [
              0.2222222222222222,
              "#7201a8"
             ],
             [
              0.3333333333333333,
              "#9c179e"
             ],
             [
              0.4444444444444444,
              "#bd3786"
             ],
             [
              0.5555555555555556,
              "#d8576b"
             ],
             [
              0.6666666666666666,
              "#ed7953"
             ],
             [
              0.7777777777777778,
              "#fb9f3a"
             ],
             [
              0.8888888888888888,
              "#fdca26"
             ],
             [
              1,
              "#f0f921"
             ]
            ],
            "type": "heatmapgl"
           }
          ],
          "histogram": [
           {
            "marker": {
             "colorbar": {
              "outlinewidth": 0,
              "ticks": ""
             }
            },
            "type": "histogram"
           }
          ],
          "histogram2d": [
           {
            "colorbar": {
             "outlinewidth": 0,
             "ticks": ""
            },
            "colorscale": [
             [
              0,
              "#0d0887"
             ],
             [
              0.1111111111111111,
              "#46039f"
             ],
             [
              0.2222222222222222,
              "#7201a8"
             ],
             [
              0.3333333333333333,
              "#9c179e"
             ],
             [
              0.4444444444444444,
              "#bd3786"
             ],
             [
              0.5555555555555556,
              "#d8576b"
             ],
             [
              0.6666666666666666,
              "#ed7953"
             ],
             [
              0.7777777777777778,
              "#fb9f3a"
             ],
             [
              0.8888888888888888,
              "#fdca26"
             ],
             [
              1,
              "#f0f921"
             ]
            ],
            "type": "histogram2d"
           }
          ],
          "histogram2dcontour": [
           {
            "colorbar": {
             "outlinewidth": 0,
             "ticks": ""
            },
            "colorscale": [
             [
              0,
              "#0d0887"
             ],
             [
              0.1111111111111111,
              "#46039f"
             ],
             [
              0.2222222222222222,
              "#7201a8"
             ],
             [
              0.3333333333333333,
              "#9c179e"
             ],
             [
              0.4444444444444444,
              "#bd3786"
             ],
             [
              0.5555555555555556,
              "#d8576b"
             ],
             [
              0.6666666666666666,
              "#ed7953"
             ],
             [
              0.7777777777777778,
              "#fb9f3a"
             ],
             [
              0.8888888888888888,
              "#fdca26"
             ],
             [
              1,
              "#f0f921"
             ]
            ],
            "type": "histogram2dcontour"
           }
          ],
          "mesh3d": [
           {
            "colorbar": {
             "outlinewidth": 0,
             "ticks": ""
            },
            "type": "mesh3d"
           }
          ],
          "parcoords": [
           {
            "line": {
             "colorbar": {
              "outlinewidth": 0,
              "ticks": ""
             }
            },
            "type": "parcoords"
           }
          ],
          "pie": [
           {
            "automargin": true,
            "type": "pie"
           }
          ],
          "scatter": [
           {
            "marker": {
             "colorbar": {
              "outlinewidth": 0,
              "ticks": ""
             }
            },
            "type": "scatter"
           }
          ],
          "scatter3d": [
           {
            "line": {
             "colorbar": {
              "outlinewidth": 0,
              "ticks": ""
             }
            },
            "marker": {
             "colorbar": {
              "outlinewidth": 0,
              "ticks": ""
             }
            },
            "type": "scatter3d"
           }
          ],
          "scattercarpet": [
           {
            "marker": {
             "colorbar": {
              "outlinewidth": 0,
              "ticks": ""
             }
            },
            "type": "scattercarpet"
           }
          ],
          "scattergeo": [
           {
            "marker": {
             "colorbar": {
              "outlinewidth": 0,
              "ticks": ""
             }
            },
            "type": "scattergeo"
           }
          ],
          "scattergl": [
           {
            "marker": {
             "colorbar": {
              "outlinewidth": 0,
              "ticks": ""
             }
            },
            "type": "scattergl"
           }
          ],
          "scattermapbox": [
           {
            "marker": {
             "colorbar": {
              "outlinewidth": 0,
              "ticks": ""
             }
            },
            "type": "scattermapbox"
           }
          ],
          "scatterpolar": [
           {
            "marker": {
             "colorbar": {
              "outlinewidth": 0,
              "ticks": ""
             }
            },
            "type": "scatterpolar"
           }
          ],
          "scatterpolargl": [
           {
            "marker": {
             "colorbar": {
              "outlinewidth": 0,
              "ticks": ""
             }
            },
            "type": "scatterpolargl"
           }
          ],
          "scatterternary": [
           {
            "marker": {
             "colorbar": {
              "outlinewidth": 0,
              "ticks": ""
             }
            },
            "type": "scatterternary"
           }
          ],
          "surface": [
           {
            "colorbar": {
             "outlinewidth": 0,
             "ticks": ""
            },
            "colorscale": [
             [
              0,
              "#0d0887"
             ],
             [
              0.1111111111111111,
              "#46039f"
             ],
             [
              0.2222222222222222,
              "#7201a8"
             ],
             [
              0.3333333333333333,
              "#9c179e"
             ],
             [
              0.4444444444444444,
              "#bd3786"
             ],
             [
              0.5555555555555556,
              "#d8576b"
             ],
             [
              0.6666666666666666,
              "#ed7953"
             ],
             [
              0.7777777777777778,
              "#fb9f3a"
             ],
             [
              0.8888888888888888,
              "#fdca26"
             ],
             [
              1,
              "#f0f921"
             ]
            ],
            "type": "surface"
           }
          ],
          "table": [
           {
            "cells": {
             "fill": {
              "color": "#EBF0F8"
             },
             "line": {
              "color": "white"
             }
            },
            "header": {
             "fill": {
              "color": "#C8D4E3"
             },
             "line": {
              "color": "white"
             }
            },
            "type": "table"
           }
          ]
         },
         "layout": {
          "annotationdefaults": {
           "arrowcolor": "#2a3f5f",
           "arrowhead": 0,
           "arrowwidth": 1
          },
          "autotypenumbers": "strict",
          "coloraxis": {
           "colorbar": {
            "outlinewidth": 0,
            "ticks": ""
           }
          },
          "colorscale": {
           "diverging": [
            [
             0,
             "#8e0152"
            ],
            [
             0.1,
             "#c51b7d"
            ],
            [
             0.2,
             "#de77ae"
            ],
            [
             0.3,
             "#f1b6da"
            ],
            [
             0.4,
             "#fde0ef"
            ],
            [
             0.5,
             "#f7f7f7"
            ],
            [
             0.6,
             "#e6f5d0"
            ],
            [
             0.7,
             "#b8e186"
            ],
            [
             0.8,
             "#7fbc41"
            ],
            [
             0.9,
             "#4d9221"
            ],
            [
             1,
             "#276419"
            ]
           ],
           "sequential": [
            [
             0,
             "#0d0887"
            ],
            [
             0.1111111111111111,
             "#46039f"
            ],
            [
             0.2222222222222222,
             "#7201a8"
            ],
            [
             0.3333333333333333,
             "#9c179e"
            ],
            [
             0.4444444444444444,
             "#bd3786"
            ],
            [
             0.5555555555555556,
             "#d8576b"
            ],
            [
             0.6666666666666666,
             "#ed7953"
            ],
            [
             0.7777777777777778,
             "#fb9f3a"
            ],
            [
             0.8888888888888888,
             "#fdca26"
            ],
            [
             1,
             "#f0f921"
            ]
           ],
           "sequentialminus": [
            [
             0,
             "#0d0887"
            ],
            [
             0.1111111111111111,
             "#46039f"
            ],
            [
             0.2222222222222222,
             "#7201a8"
            ],
            [
             0.3333333333333333,
             "#9c179e"
            ],
            [
             0.4444444444444444,
             "#bd3786"
            ],
            [
             0.5555555555555556,
             "#d8576b"
            ],
            [
             0.6666666666666666,
             "#ed7953"
            ],
            [
             0.7777777777777778,
             "#fb9f3a"
            ],
            [
             0.8888888888888888,
             "#fdca26"
            ],
            [
             1,
             "#f0f921"
            ]
           ]
          },
          "colorway": [
           "#636efa",
           "#EF553B",
           "#00cc96",
           "#ab63fa",
           "#FFA15A",
           "#19d3f3",
           "#FF6692",
           "#B6E880",
           "#FF97FF",
           "#FECB52"
          ],
          "font": {
           "color": "#2a3f5f"
          },
          "geo": {
           "bgcolor": "white",
           "lakecolor": "white",
           "landcolor": "white",
           "showlakes": true,
           "showland": true,
           "subunitcolor": "#C8D4E3"
          },
          "hoverlabel": {
           "align": "left"
          },
          "hovermode": "closest",
          "mapbox": {
           "style": "light"
          },
          "paper_bgcolor": "white",
          "plot_bgcolor": "white",
          "polar": {
           "angularaxis": {
            "gridcolor": "#EBF0F8",
            "linecolor": "#EBF0F8",
            "ticks": ""
           },
           "bgcolor": "white",
           "radialaxis": {
            "gridcolor": "#EBF0F8",
            "linecolor": "#EBF0F8",
            "ticks": ""
           }
          },
          "scene": {
           "xaxis": {
            "backgroundcolor": "white",
            "gridcolor": "#DFE8F3",
            "gridwidth": 2,
            "linecolor": "#EBF0F8",
            "showbackground": true,
            "ticks": "",
            "zerolinecolor": "#EBF0F8"
           },
           "yaxis": {
            "backgroundcolor": "white",
            "gridcolor": "#DFE8F3",
            "gridwidth": 2,
            "linecolor": "#EBF0F8",
            "showbackground": true,
            "ticks": "",
            "zerolinecolor": "#EBF0F8"
           },
           "zaxis": {
            "backgroundcolor": "white",
            "gridcolor": "#DFE8F3",
            "gridwidth": 2,
            "linecolor": "#EBF0F8",
            "showbackground": true,
            "ticks": "",
            "zerolinecolor": "#EBF0F8"
           }
          },
          "shapedefaults": {
           "line": {
            "color": "#2a3f5f"
           }
          },
          "ternary": {
           "aaxis": {
            "gridcolor": "#DFE8F3",
            "linecolor": "#A2B1C6",
            "ticks": ""
           },
           "baxis": {
            "gridcolor": "#DFE8F3",
            "linecolor": "#A2B1C6",
            "ticks": ""
           },
           "bgcolor": "white",
           "caxis": {
            "gridcolor": "#DFE8F3",
            "linecolor": "#A2B1C6",
            "ticks": ""
           }
          },
          "title": {
           "x": 0.05
          },
          "xaxis": {
           "automargin": true,
           "gridcolor": "#EBF0F8",
           "linecolor": "#EBF0F8",
           "ticks": "",
           "title": {
            "standoff": 15
           },
           "zerolinecolor": "#EBF0F8",
           "zerolinewidth": 2
          },
          "yaxis": {
           "automargin": true,
           "gridcolor": "#EBF0F8",
           "linecolor": "#EBF0F8",
           "ticks": "",
           "title": {
            "standoff": 15
           },
           "zerolinecolor": "#EBF0F8",
           "zerolinewidth": 2
          }
         }
        },
        "title": {
         "text": "[2021-04-02 13:17:46 PM] Episode: 2/2 Step: 51/200"
        },
        "xaxis": {
         "anchor": "y",
         "domain": [
          0,
          1
         ],
         "gridcolor": "Gainsboro",
         "linecolor": "Grey",
         "matches": "x4",
         "rangeslider": {
          "visible": false
         },
         "showticklabels": false,
         "title": {
          "font": {
           "size": 12
          },
          "standoff": 7,
          "text": "Price"
         }
        },
        "xaxis2": {
         "anchor": "y2",
         "domain": [
          0,
          1
         ],
         "gridcolor": "Gainsboro",
         "linecolor": "Grey",
         "matches": "x4",
         "showticklabels": false,
         "title": {
          "font": {
           "size": 12
          },
          "standoff": 7,
          "text": "Volume"
         }
        },
        "xaxis3": {
         "anchor": "y3",
         "domain": [
          0,
          1
         ],
         "gridcolor": "Gainsboro",
         "linecolor": "Grey",
         "matches": "x4",
         "showticklabels": false,
         "title": {
          "font": {
           "size": 12
          },
          "standoff": 7,
          "text": "Performance"
         }
        },
        "xaxis4": {
         "anchor": "y4",
         "domain": [
          0,
          1
         ],
         "gridcolor": "Gainsboro",
         "linecolor": "Grey",
         "title": {
          "font": {
           "size": 12
          },
          "standoff": 7,
          "text": "Net Worth"
         }
        },
        "yaxis": {
         "anchor": "x",
         "domain": [
          0.49950000000000006,
          1
         ],
         "gridcolor": "Gainsboro",
         "linecolor": "Grey"
        },
        "yaxis2": {
         "anchor": "x2",
         "domain": [
          0.333,
          0.46950000000000003
         ],
         "gridcolor": "Gainsboro",
         "linecolor": "Grey"
        },
        "yaxis3": {
         "anchor": "x3",
         "domain": [
          0.1665,
          0.30300000000000005
         ],
         "gridcolor": "Gainsboro",
         "linecolor": "Grey"
        },
        "yaxis4": {
         "anchor": "x4",
         "domain": [
          0,
          0.1365
         ],
         "gridcolor": "Gainsboro",
         "linecolor": "Grey"
        }
       }
      },
      "text/html": "<div>                            <div id=\"81bdcbc9-0c66-4b14-8312-9099fd23523f\" class=\"plotly-graph-div\" style=\"height:525px; width:100%;\"></div>            <script type=\"text/javascript\">                require([\"plotly\"], function(Plotly) {                    window.PLOTLYENV=window.PLOTLYENV || {};                                    if (document.getElementById(\"81bdcbc9-0c66-4b14-8312-9099fd23523f\")) {                    Plotly.newPlot(                        \"81bdcbc9-0c66-4b14-8312-9099fd23523f\",                        [{\"close\": [8740.99, 8739.0, 8728.49, 8708.32, 8795.9, 8760.0, 8760.0, 8759.23, 8517.77, 8520.3, 8535.23, 8546.34, 8526.65, 8555.6, 8512.1, 8492.28, 8460.0, 8474.99, 8455.92, 8326.28, 8133.43, 8164.79, 8229.38, 8220.4, 8238.8, 8232.99, 8207.48, 8243.45, 8371.13, 8373.0, 8365.08, 8179.99, 8225.0, 8285.8, 8273.4, 8297.4, 8279.89, 8252.72, 8302.18, 8295.85, 8277.25, 8346.59, 8358.3, 8375.1, 8368.62, 8366.72, 8314.77, 8363.7, 8344.16, 8247.4, 8277.4], \"high\": [8796.68, 8766.0, 8750.27, 8754.4, 8865.0, 8821.19, 8798.6, 8771.02, 8761.7, 8553.67, 8589.1, 8579.48, 8555.51, 8583.6, 8569.92, 8555.54, 8557.51, 8505.0, 8505.33, 8478.29, 8339.81, 8217.44, 8252.72, 8248.63, 8267.12, 8255.0, 8261.24, 8263.93, 8455.66, 8439.44, 8399.1, 8381.73, 8229.91, 8377.29, 8329.1, 8350.0, 8346.95, 8377.29, 8311.35, 8319.96, 8398.24, 8372.58, 8399.99, 8386.53, 8400.0, 8500.0, 8381.0, 8371.3, 8382.41, 8351.0, 8292.99], \"low\": [8707.28, 8721.11, 8660.53, 8701.35, 8695.11, 8740.54, 8741.52, 8700.0, 8467.42, 8477.89, 8500.78, 8500.0, 8400.0, 8451.05, 8461.38, 8481.24, 8420.37, 8450.0, 8430.94, 8275.02, 8100.01, 8122.56, 8157.01, 8166.25, 8176.91, 8213.79, 8200.0, 8207.48, 8237.1, 8370.0, 8356.4, 8145.1, 8173.6, 8211.8, 8201.0, 8250.9, 8266.46, 8252.72, 8232.14, 8268.37, 8277.25, 8277.25, 8314.78, 8314.77, 8350.07, 8331.39, 8314.77, 8275.45, 8335.49, 8191.14, 8227.7], \"name\": \"Price\", \"open\": [8733.86, 8740.99, 8739.0, 8728.49, 8708.32, 8795.9, 8760.0, 8760.0, 8759.23, 8517.77, 8520.3, 8535.23, 8546.34, 8526.65, 8555.6, 8512.1, 8492.28, 8460.0, 8474.99, 8455.92, 8326.28, 8133.43, 8164.79, 8229.38, 8220.4, 8238.8, 8232.99, 8207.48, 8243.45, 8371.13, 8373.0, 8365.08, 8179.99, 8225.0, 8285.8, 8273.4, 8297.4, 8279.89, 8252.72, 8302.18, 8295.85, 8277.25, 8346.59, 8358.3, 8375.1, 8368.62, 8366.72, 8314.77, 8363.7, 8344.16, 8247.4], \"showlegend\": false, \"type\": \"candlestick\", \"uid\": \"9daa24c5-9ae2-4db4-83a6-1beaa490cf1a\", \"xaxis\": \"x\", \"yaxis\": \"y\"}, {\"marker\": {\"color\": \"DodgerBlue\"}, \"name\": \"Volume\", \"showlegend\": false, \"type\": \"bar\", \"uid\": \"366ede5a-4128-45a4-9618-3b6f31a20734\", \"xaxis\": \"x2\", \"y\": [559.93, 273.58, 917.79, 182.62, 1260.69, 324.11, 324.2, 730.67, 1341.75, 792.07, 385.69, 475.08, 877.26, 670.49, 610.97, 168.99, 305.92, 136.05, 154.26, 1070.93, 1710.2, 492.8, 630.72, 620.93, 586.34, 304.52, 450.97, 182.36, 915.32, 319.29, 362.01, 1046.38, 357.91, 561.2, 322.53, 1073.71, 237.21, 251.2, 359.73, 117.23, 363.17, 214.18, 171.64, 258.58, 299.52, 718.98, 119.7, 405.25, 210.77, 714.82, 215.97], \"yaxis\": \"y2\"}, {\"mode\": \"lines\", \"name\": \"bitstamp:/USD-BTC\", \"type\": \"scatter\", \"uid\": \"144dadab-dc92-4059-bcf1-f191aae5cff6\", \"xaxis\": \"x3\", \"y\": [8740.99, 8739.0, 8728.49, 8708.32, 8795.9, 8760.0, 8760.0, 8759.23, 8517.77, 8520.3, 8535.23, 8546.34, 8526.65, 8555.6, 8512.1, 8492.28, 8460.0, 8474.99, 8455.92, 8326.28, 8133.43, 8164.79, 8229.38, 8220.4, 8238.8, 8232.99, 8207.48, 8243.45, 8371.13, 8373.0, 8365.08, 8179.99, 8225.0, 8285.8, 8273.4, 8297.4, 8279.89, 8252.72, 8302.18, 8295.85, 8277.25, 8346.59, 8358.3, 8375.1, 8368.62, 8366.72, 8314.77, 8363.7, 8344.16, 8247.4, 8277.4], \"yaxis\": \"y3\"}, {\"mode\": \"lines\", \"name\": \"bitstamp:/USD:/free\", \"type\": \"scatter\", \"uid\": \"215fa976-3ead-45d7-83c7-ba95c90c4306\", \"xaxis\": \"x3\", \"y\": [10000.0, 10000.0, 10000.0, 1000.0, 1000.0, 1000.0, 1000.0, 1000.0, 1000.0, 9730.11, 9730.11, 9730.11, 9730.11, 9730.11, 9730.11, 9730.11, 9730.11, 9730.11, 973.01, 973.01, 973.01, 973.01, 973.01, 973.01, 973.01, 973.01, 973.01, 973.01, 973.01, 973.01, 973.01, 973.01, 973.01, 973.01, 973.01, 973.01, 973.01, 973.01, 973.01, 973.01, 973.01, 973.01, 973.01, 973.01, 973.01, 973.01, 973.01, 973.01, 973.01, 973.01, 973.01], \"yaxis\": \"y3\"}, {\"mode\": \"lines\", \"name\": \"bitstamp:/USD:/locked\", \"type\": \"scatter\", \"uid\": \"f14581dc-310b-4fca-903b-cfdfa33d18fc\", \"xaxis\": \"x3\", \"y\": [0.0, 0.0, 0.0, 0.0, 0.0, 0.0, 0.0, 0.0, 0.0, 0.0, 0.0, 0.0, 0.0, 0.0, 0.0, 0.0, 0.0, 0.0, 0.0, 0.0, 0.0, 0.0, 0.0, 0.0, 0.0, 0.0, 0.0, 0.0, 0.0, 0.0, 0.0, 0.0, 0.0, 0.0, 0.0, 0.0, 0.0, 0.0, 0.0, 0.0, 0.0, 0.0, 0.0, 0.0, 0.0, 0.0, 0.0, 0.0, 0.0, 0.0, 0.0], \"yaxis\": \"y3\"}, {\"mode\": \"lines\", \"name\": \"bitstamp:/USD:/total\", \"type\": \"scatter\", \"uid\": \"b26474e7-1144-4f03-9f03-7bd22931501e\", \"xaxis\": \"x3\", \"y\": [10000.0, 10000.0, 10000.0, 1000.0, 1000.0, 1000.0, 1000.0, 1000.0, 1000.0, 9730.11, 9730.11, 9730.11, 9730.11, 9730.11, 9730.11, 9730.11, 9730.11, 9730.11, 973.01, 973.01, 973.01, 973.01, 973.01, 973.01, 973.01, 973.01, 973.01, 973.01, 973.01, 973.01, 973.01, 973.01, 973.01, 973.01, 973.01, 973.01, 973.01, 973.01, 973.01, 973.01, 973.01, 973.01, 973.01, 973.01, 973.01, 973.01, 973.01, 973.01, 973.01, 973.01, 973.01], \"yaxis\": \"y3\"}, {\"mode\": \"lines\", \"name\": \"bitstamp:/BTC:/free\", \"type\": \"scatter\", \"uid\": \"b17d4003-2e58-4235-8a40-be01d611c74e\", \"xaxis\": \"x3\", \"y\": [10.0, 10.0, 10.0, 10.0, 10.0, 10.0, 10.0, 10.0, 10.0, 10.0, 10.0, 10.0, 10.0, 10.0, 10.0, 10.0, 10.0, 10.0, 10.0, 10.0, 10.0, 10.0, 10.0, 10.0, 10.0, 10.0, 10.0, 10.0, 10.0, 10.0, 10.0, 10.0, 10.0, 10.0, 10.0, 10.0, 10.0, 10.0, 10.0, 10.0, 10.0, 10.0, 10.0, 10.0, 10.0, 10.0, 10.0, 10.0, 10.0, 10.0, 10.0], \"yaxis\": \"y3\"}, {\"mode\": \"lines\", \"name\": \"bitstamp:/BTC:/locked\", \"type\": \"scatter\", \"uid\": \"042e0b65-eede-4d26-9f7b-b257debd16f8\", \"xaxis\": \"x3\", \"y\": [0.0, 0.0, 0.0, 1.02801286, 1.02801286, 1.02801286, 1.02801286, 1.02801286, 1.02801286, 0.0, 0.0, 0.0, 0.0, 0.0, 0.0, 0.0, 0.0, 0.0, 1.03018765, 1.03018765, 1.03018765, 1.03018765, 1.03018765, 1.03018765, 1.03018765, 1.03018765, 1.03018765, 1.03018765, 1.03018765, 1.03018765, 1.03018765, 1.03018765, 1.03018765, 1.03018765, 1.03018765, 1.03018765, 1.03018765, 1.03018765, 1.03018765, 1.03018765, 1.03018765, 1.03018765, 1.03018765, 1.03018765, 1.03018765, 1.03018765, 1.03018765, 1.03018765, 1.03018765, 1.03018765, 1.03018765], \"yaxis\": \"y3\"}, {\"mode\": \"lines\", \"name\": \"bitstamp:/BTC:/total\", \"type\": \"scatter\", \"uid\": \"25740144-d456-4953-88f1-707b2dedb8c3\", \"xaxis\": \"x3\", \"y\": [10.0, 10.0, 10.0, 11.02801286, 11.02801286, 11.02801286, 11.02801286, 11.02801286, 11.02801286, 10.0, 10.0, 10.0, 10.0, 10.0, 10.0, 10.0, 10.0, 10.0, 11.03018765, 11.03018765, 11.03018765, 11.03018765, 11.03018765, 11.03018765, 11.03018765, 11.03018765, 11.03018765, 11.03018765, 11.03018765, 11.03018765, 11.03018765, 11.03018765, 11.03018765, 11.03018765, 11.03018765, 11.03018765, 11.03018765, 11.03018765, 11.03018765, 11.03018765, 11.03018765, 11.03018765, 11.03018765, 11.03018765, 11.03018765, 11.03018765, 11.03018765, 11.03018765, 11.03018765, 11.03018765, 11.03018765], \"yaxis\": \"y3\"}, {\"mode\": \"lines\", \"name\": \"bitstamp:/BTC:/worth\", \"type\": \"scatter\", \"uid\": \"04b9efcf-d7af-4127-bd92-3213de7f2309\", \"xaxis\": \"x3\", \"y\": [87409.9, 87390.0, 87284.9, 96035.4649489952, 97001.298315274, 96605.3926536, 96605.3926536, 96596.9010836978, 93934.0770985222, 85203.0, 85352.29999999999, 85463.4, 85266.5, 85556.0, 85121.0, 84922.8, 84600.0, 84749.9, 93270.384353388, 91840.43082644201, 89713.2591381395, 90059.1658228435, 90771.60564315699, 90672.55455806, 90875.51001082, 90811.4246205735, 90530.044533622, 90926.8003833925, 92335.1347425445, 92355.76119345, 92268.402107262, 90226.8246751235, 90723.29342125, 91393.92883036999, 91257.15450351, 91521.87900711, 91328.7404213585, 91029.050222908, 91574.603304077, 91504.78221625251, 91299.62072596251, 92064.4539376135, 92193.61743499499, 92378.92458751501, 92307.44897154301, 92286.491615008, 91713.47336659051, 92253.18044830501, 92037.650581624, 90970.36962461, 91301.27525410999], \"yaxis\": \"y3\"}, {\"mode\": \"lines\", \"name\": \"net_worth\", \"type\": \"scatter\", \"uid\": \"c75c71d2-d910-4945-bba1-50dba22356b1\", \"xaxis\": \"x3\", \"y\": [97409.9, 97390.0, 97284.9, 97035.4649489952, 98001.298315274, 97605.3926536, 97605.3926536, 97596.9010836978, 94934.0770985222, 94933.11, 95082.40999999999, 95193.51, 94996.61, 95286.11, 94851.11, 94652.91, 94330.11, 94480.01, 94243.394353388, 92813.440826442, 90686.2691381395, 91032.17582284349, 91744.61564315698, 91645.56455806, 91848.52001082, 91784.43462057349, 91503.054533622, 91899.8103833925, 93308.1447425445, 93328.77119345, 93241.41210726199, 91199.8346751235, 91696.30342124999, 92366.93883036998, 92230.16450351, 92494.88900710999, 92301.75042135849, 92002.060222908, 92547.613304077, 92477.7922162525, 92272.6307259625, 93037.4639376135, 93166.62743499498, 93351.934587515, 93280.458971543, 93259.50161500799, 92686.4833665905, 93226.190448305, 93010.66058162399, 91943.37962461, 92274.28525410999], \"yaxis\": \"y3\"}, {\"marker\": {\"color\": \"DarkGreen\"}, \"mode\": \"lines\", \"name\": \"Net Worth\", \"type\": \"scatter\", \"uid\": \"a85c8827-5a96-4205-b9d6-e2c5b9b5ffa8\", \"xaxis\": \"x4\", \"y\": [97409.9, 97390.0, 97284.9, 97035.4649489952, 98001.298315274, 97605.3926536, 97605.3926536, 97596.9010836978, 94934.0770985222, 94933.11, 95082.40999999999, 95193.51, 94996.61, 95286.11, 94851.11, 94652.91, 94330.11, 94480.01, 94243.394353388, 92813.440826442, 90686.2691381395, 91032.17582284349, 91744.61564315698, 91645.56455806, 91848.52001082, 91784.43462057349, 91503.054533622, 91899.8103833925, 93308.1447425445, 93328.77119345, 93241.41210726199, 91199.8346751235, 91696.30342124999, 92366.93883036998, 92230.16450351, 92494.88900710999, 92301.75042135849, 92002.060222908, 92547.613304077, 92477.7922162525, 92272.6307259625, 93037.4639376135, 93166.62743499498, 93351.934587515, 93280.458971543, 93259.50161500799, 92686.4833665905, 93226.190448305, 93010.66058162399, 91943.37962461, 92274.28525410999], \"yaxis\": \"y4\"}],                        {\"annotations\": [{\"arrowcolor\": \"DarkGreen\", \"arrowhead\": 2, \"arrowsize\": 0.8, \"arrowwidth\": 4, \"ax\": 0, \"ay\": 15, \"hoverlabel\": {\"bgcolor\": \"DarkGreen\"}, \"hovertext\": \"Step 18 [2018-05-15 23:00:00]<br>BUY 1.03018765 BTC @ 8474.99 USD MARKET<br>Total: 8730.83 USD - Comm.: 26.27 USD\", \"opacity\": 0.6, \"showarrow\": true, \"x\": 17, \"xref\": \"x\", \"y\": 8474.99, \"yref\": \"y\"}, {\"arrowcolor\": \"FireBrick\", \"arrowhead\": 2, \"arrowsize\": 0.8, \"arrowwidth\": 4, \"ax\": 0, \"ay\": -15, \"hoverlabel\": {\"bgcolor\": \"FireBrick\"}, \"hovertext\": \"Step 9 [2018-05-15 14:00:00]<br>SELL 1.02492882 BTC @ 8517.77 USD MARKET<br>Total: 8730.11 USD - Comm.: 0.00308404 BTC\", \"opacity\": 0.6, \"showarrow\": true, \"x\": 8, \"xref\": \"x\", \"y\": 8517.77, \"yref\": \"y\"}, {\"arrowcolor\": \"DarkGreen\", \"arrowhead\": 2, \"arrowsize\": 0.8, \"arrowwidth\": 4, \"ax\": 0, \"ay\": 15, \"hoverlabel\": {\"bgcolor\": \"DarkGreen\"}, \"hovertext\": \"Step 3 [2018-05-15 08:00:00]<br>BUY 1.02801286 BTC @ 8728.49 USD MARKET<br>Total: 8973.0 USD - Comm.: 27.00 USD\", \"opacity\": 0.6, \"showarrow\": true, \"x\": 2, \"xref\": \"x\", \"y\": 8728.49, \"yref\": \"y\"}], \"margin\": {\"t\": 50}, \"template\": {\"data\": {\"bar\": [{\"error_x\": {\"color\": \"#2a3f5f\"}, \"error_y\": {\"color\": \"#2a3f5f\"}, \"marker\": {\"line\": {\"color\": \"white\", \"width\": 0.5}}, \"type\": \"bar\"}], \"barpolar\": [{\"marker\": {\"line\": {\"color\": \"white\", \"width\": 0.5}}, \"type\": \"barpolar\"}], \"carpet\": [{\"aaxis\": {\"endlinecolor\": \"#2a3f5f\", \"gridcolor\": \"#C8D4E3\", \"linecolor\": \"#C8D4E3\", \"minorgridcolor\": \"#C8D4E3\", \"startlinecolor\": \"#2a3f5f\"}, \"baxis\": {\"endlinecolor\": \"#2a3f5f\", \"gridcolor\": \"#C8D4E3\", \"linecolor\": \"#C8D4E3\", \"minorgridcolor\": \"#C8D4E3\", \"startlinecolor\": \"#2a3f5f\"}, \"type\": \"carpet\"}], \"choropleth\": [{\"colorbar\": {\"outlinewidth\": 0, \"ticks\": \"\"}, \"type\": \"choropleth\"}], \"contour\": [{\"colorbar\": {\"outlinewidth\": 0, \"ticks\": \"\"}, \"colorscale\": [[0.0, \"#0d0887\"], [0.1111111111111111, \"#46039f\"], [0.2222222222222222, \"#7201a8\"], [0.3333333333333333, \"#9c179e\"], [0.4444444444444444, \"#bd3786\"], [0.5555555555555556, \"#d8576b\"], [0.6666666666666666, \"#ed7953\"], [0.7777777777777778, \"#fb9f3a\"], [0.8888888888888888, \"#fdca26\"], [1.0, \"#f0f921\"]], \"type\": \"contour\"}], \"contourcarpet\": [{\"colorbar\": {\"outlinewidth\": 0, \"ticks\": \"\"}, \"type\": \"contourcarpet\"}], \"heatmap\": [{\"colorbar\": {\"outlinewidth\": 0, \"ticks\": \"\"}, \"colorscale\": [[0.0, \"#0d0887\"], [0.1111111111111111, \"#46039f\"], [0.2222222222222222, \"#7201a8\"], [0.3333333333333333, \"#9c179e\"], [0.4444444444444444, \"#bd3786\"], [0.5555555555555556, \"#d8576b\"], [0.6666666666666666, \"#ed7953\"], [0.7777777777777778, \"#fb9f3a\"], [0.8888888888888888, \"#fdca26\"], [1.0, \"#f0f921\"]], \"type\": \"heatmap\"}], \"heatmapgl\": [{\"colorbar\": {\"outlinewidth\": 0, \"ticks\": \"\"}, \"colorscale\": [[0.0, \"#0d0887\"], [0.1111111111111111, \"#46039f\"], [0.2222222222222222, \"#7201a8\"], [0.3333333333333333, \"#9c179e\"], [0.4444444444444444, \"#bd3786\"], [0.5555555555555556, \"#d8576b\"], [0.6666666666666666, \"#ed7953\"], [0.7777777777777778, \"#fb9f3a\"], [0.8888888888888888, \"#fdca26\"], [1.0, \"#f0f921\"]], \"type\": \"heatmapgl\"}], \"histogram\": [{\"marker\": {\"colorbar\": {\"outlinewidth\": 0, \"ticks\": \"\"}}, \"type\": \"histogram\"}], \"histogram2d\": [{\"colorbar\": {\"outlinewidth\": 0, \"ticks\": \"\"}, \"colorscale\": [[0.0, \"#0d0887\"], [0.1111111111111111, \"#46039f\"], [0.2222222222222222, \"#7201a8\"], [0.3333333333333333, \"#9c179e\"], [0.4444444444444444, \"#bd3786\"], [0.5555555555555556, \"#d8576b\"], [0.6666666666666666, \"#ed7953\"], [0.7777777777777778, \"#fb9f3a\"], [0.8888888888888888, \"#fdca26\"], [1.0, \"#f0f921\"]], \"type\": \"histogram2d\"}], \"histogram2dcontour\": [{\"colorbar\": {\"outlinewidth\": 0, \"ticks\": \"\"}, \"colorscale\": [[0.0, \"#0d0887\"], [0.1111111111111111, \"#46039f\"], [0.2222222222222222, \"#7201a8\"], [0.3333333333333333, \"#9c179e\"], [0.4444444444444444, \"#bd3786\"], [0.5555555555555556, \"#d8576b\"], [0.6666666666666666, \"#ed7953\"], [0.7777777777777778, \"#fb9f3a\"], [0.8888888888888888, \"#fdca26\"], [1.0, \"#f0f921\"]], \"type\": \"histogram2dcontour\"}], \"mesh3d\": [{\"colorbar\": {\"outlinewidth\": 0, \"ticks\": \"\"}, \"type\": \"mesh3d\"}], \"parcoords\": [{\"line\": {\"colorbar\": {\"outlinewidth\": 0, \"ticks\": \"\"}}, \"type\": \"parcoords\"}], \"pie\": [{\"automargin\": true, \"type\": \"pie\"}], \"scatter\": [{\"marker\": {\"colorbar\": {\"outlinewidth\": 0, \"ticks\": \"\"}}, \"type\": \"scatter\"}], \"scatter3d\": [{\"line\": {\"colorbar\": {\"outlinewidth\": 0, \"ticks\": \"\"}}, \"marker\": {\"colorbar\": {\"outlinewidth\": 0, \"ticks\": \"\"}}, \"type\": \"scatter3d\"}], \"scattercarpet\": [{\"marker\": {\"colorbar\": {\"outlinewidth\": 0, \"ticks\": \"\"}}, \"type\": \"scattercarpet\"}], \"scattergeo\": [{\"marker\": {\"colorbar\": {\"outlinewidth\": 0, \"ticks\": \"\"}}, \"type\": \"scattergeo\"}], \"scattergl\": [{\"marker\": {\"colorbar\": {\"outlinewidth\": 0, \"ticks\": \"\"}}, \"type\": \"scattergl\"}], \"scattermapbox\": [{\"marker\": {\"colorbar\": {\"outlinewidth\": 0, \"ticks\": \"\"}}, \"type\": \"scattermapbox\"}], \"scatterpolar\": [{\"marker\": {\"colorbar\": {\"outlinewidth\": 0, \"ticks\": \"\"}}, \"type\": \"scatterpolar\"}], \"scatterpolargl\": [{\"marker\": {\"colorbar\": {\"outlinewidth\": 0, \"ticks\": \"\"}}, \"type\": \"scatterpolargl\"}], \"scatterternary\": [{\"marker\": {\"colorbar\": {\"outlinewidth\": 0, \"ticks\": \"\"}}, \"type\": \"scatterternary\"}], \"surface\": [{\"colorbar\": {\"outlinewidth\": 0, \"ticks\": \"\"}, \"colorscale\": [[0.0, \"#0d0887\"], [0.1111111111111111, \"#46039f\"], [0.2222222222222222, \"#7201a8\"], [0.3333333333333333, \"#9c179e\"], [0.4444444444444444, \"#bd3786\"], [0.5555555555555556, \"#d8576b\"], [0.6666666666666666, \"#ed7953\"], [0.7777777777777778, \"#fb9f3a\"], [0.8888888888888888, \"#fdca26\"], [1.0, \"#f0f921\"]], \"type\": \"surface\"}], \"table\": [{\"cells\": {\"fill\": {\"color\": \"#EBF0F8\"}, \"line\": {\"color\": \"white\"}}, \"header\": {\"fill\": {\"color\": \"#C8D4E3\"}, \"line\": {\"color\": \"white\"}}, \"type\": \"table\"}]}, \"layout\": {\"annotationdefaults\": {\"arrowcolor\": \"#2a3f5f\", \"arrowhead\": 0, \"arrowwidth\": 1}, \"autotypenumbers\": \"strict\", \"coloraxis\": {\"colorbar\": {\"outlinewidth\": 0, \"ticks\": \"\"}}, \"colorscale\": {\"diverging\": [[0, \"#8e0152\"], [0.1, \"#c51b7d\"], [0.2, \"#de77ae\"], [0.3, \"#f1b6da\"], [0.4, \"#fde0ef\"], [0.5, \"#f7f7f7\"], [0.6, \"#e6f5d0\"], [0.7, \"#b8e186\"], [0.8, \"#7fbc41\"], [0.9, \"#4d9221\"], [1, \"#276419\"]], \"sequential\": [[0.0, \"#0d0887\"], [0.1111111111111111, \"#46039f\"], [0.2222222222222222, \"#7201a8\"], [0.3333333333333333, \"#9c179e\"], [0.4444444444444444, \"#bd3786\"], [0.5555555555555556, \"#d8576b\"], [0.6666666666666666, \"#ed7953\"], [0.7777777777777778, \"#fb9f3a\"], [0.8888888888888888, \"#fdca26\"], [1.0, \"#f0f921\"]], \"sequentialminus\": [[0.0, \"#0d0887\"], [0.1111111111111111, \"#46039f\"], [0.2222222222222222, \"#7201a8\"], [0.3333333333333333, \"#9c179e\"], [0.4444444444444444, \"#bd3786\"], [0.5555555555555556, \"#d8576b\"], [0.6666666666666666, \"#ed7953\"], [0.7777777777777778, \"#fb9f3a\"], [0.8888888888888888, \"#fdca26\"], [1.0, \"#f0f921\"]]}, \"colorway\": [\"#636efa\", \"#EF553B\", \"#00cc96\", \"#ab63fa\", \"#FFA15A\", \"#19d3f3\", \"#FF6692\", \"#B6E880\", \"#FF97FF\", \"#FECB52\"], \"font\": {\"color\": \"#2a3f5f\"}, \"geo\": {\"bgcolor\": \"white\", \"lakecolor\": \"white\", \"landcolor\": \"white\", \"showlakes\": true, \"showland\": true, \"subunitcolor\": \"#C8D4E3\"}, \"hoverlabel\": {\"align\": \"left\"}, \"hovermode\": \"closest\", \"mapbox\": {\"style\": \"light\"}, \"paper_bgcolor\": \"white\", \"plot_bgcolor\": \"white\", \"polar\": {\"angularaxis\": {\"gridcolor\": \"#EBF0F8\", \"linecolor\": \"#EBF0F8\", \"ticks\": \"\"}, \"bgcolor\": \"white\", \"radialaxis\": {\"gridcolor\": \"#EBF0F8\", \"linecolor\": \"#EBF0F8\", \"ticks\": \"\"}}, \"scene\": {\"xaxis\": {\"backgroundcolor\": \"white\", \"gridcolor\": \"#DFE8F3\", \"gridwidth\": 2, \"linecolor\": \"#EBF0F8\", \"showbackground\": true, \"ticks\": \"\", \"zerolinecolor\": \"#EBF0F8\"}, \"yaxis\": {\"backgroundcolor\": \"white\", \"gridcolor\": \"#DFE8F3\", \"gridwidth\": 2, \"linecolor\": \"#EBF0F8\", \"showbackground\": true, \"ticks\": \"\", \"zerolinecolor\": \"#EBF0F8\"}, \"zaxis\": {\"backgroundcolor\": \"white\", \"gridcolor\": \"#DFE8F3\", \"gridwidth\": 2, \"linecolor\": \"#EBF0F8\", \"showbackground\": true, \"ticks\": \"\", \"zerolinecolor\": \"#EBF0F8\"}}, \"shapedefaults\": {\"line\": {\"color\": \"#2a3f5f\"}}, \"ternary\": {\"aaxis\": {\"gridcolor\": \"#DFE8F3\", \"linecolor\": \"#A2B1C6\", \"ticks\": \"\"}, \"baxis\": {\"gridcolor\": \"#DFE8F3\", \"linecolor\": \"#A2B1C6\", \"ticks\": \"\"}, \"bgcolor\": \"white\", \"caxis\": {\"gridcolor\": \"#DFE8F3\", \"linecolor\": \"#A2B1C6\", \"ticks\": \"\"}}, \"title\": {\"x\": 0.05}, \"xaxis\": {\"automargin\": true, \"gridcolor\": \"#EBF0F8\", \"linecolor\": \"#EBF0F8\", \"ticks\": \"\", \"title\": {\"standoff\": 15}, \"zerolinecolor\": \"#EBF0F8\", \"zerolinewidth\": 2}, \"yaxis\": {\"automargin\": true, \"gridcolor\": \"#EBF0F8\", \"linecolor\": \"#EBF0F8\", \"ticks\": \"\", \"title\": {\"standoff\": 15}, \"zerolinecolor\": \"#EBF0F8\", \"zerolinewidth\": 2}}}, \"title\": {\"text\": \"[2021-04-02 13:17:46 PM] Episode: 2/2 Step: 51/200\"}, \"xaxis\": {\"anchor\": \"y\", \"domain\": [0.0, 1.0], \"gridcolor\": \"Gainsboro\", \"linecolor\": \"Grey\", \"matches\": \"x4\", \"rangeslider\": {\"visible\": false}, \"showticklabels\": false, \"title\": {\"font\": {\"size\": 12}, \"standoff\": 7, \"text\": \"Price\"}}, \"xaxis2\": {\"anchor\": \"y2\", \"domain\": [0.0, 1.0], \"gridcolor\": \"Gainsboro\", \"linecolor\": \"Grey\", \"matches\": \"x4\", \"showticklabels\": false, \"title\": {\"font\": {\"size\": 12}, \"standoff\": 7, \"text\": \"Volume\"}}, \"xaxis3\": {\"anchor\": \"y3\", \"domain\": [0.0, 1.0], \"gridcolor\": \"Gainsboro\", \"linecolor\": \"Grey\", \"matches\": \"x4\", \"showticklabels\": false, \"title\": {\"font\": {\"size\": 12}, \"standoff\": 7, \"text\": \"Performance\"}}, \"xaxis4\": {\"anchor\": \"y4\", \"domain\": [0.0, 1.0], \"gridcolor\": \"Gainsboro\", \"linecolor\": \"Grey\", \"title\": {\"font\": {\"size\": 12}, \"standoff\": 7, \"text\": \"Net Worth\"}}, \"yaxis\": {\"anchor\": \"x\", \"domain\": [0.49950000000000006, 1.0], \"gridcolor\": \"Gainsboro\", \"linecolor\": \"Grey\"}, \"yaxis2\": {\"anchor\": \"x2\", \"domain\": [0.333, 0.46950000000000003], \"gridcolor\": \"Gainsboro\", \"linecolor\": \"Grey\"}, \"yaxis3\": {\"anchor\": \"x3\", \"domain\": [0.1665, 0.30300000000000005], \"gridcolor\": \"Gainsboro\", \"linecolor\": \"Grey\"}, \"yaxis4\": {\"anchor\": \"x4\", \"domain\": [0.0, 0.1365], \"gridcolor\": \"Gainsboro\", \"linecolor\": \"Grey\"}},                        {\"responsive\": true}                    ).then(function(){\n                            \nvar gd = document.getElementById('81bdcbc9-0c66-4b14-8312-9099fd23523f');\nvar x = new MutationObserver(function (mutations, observer) {{\n        var display = window.getComputedStyle(gd).display;\n        if (!display || display === 'none') {{\n            console.log([gd, 'removed!']);\n            Plotly.purge(gd);\n            observer.disconnect();\n        }}\n}});\n\n// Listen for the removal of the full notebook cells\nvar notebookContainer = gd.closest('#notebook-container');\nif (notebookContainer) {{\n    x.observe(notebookContainer, {childList: true});\n}}\n\n// Listen for the clearing of the current output cell\nvar outputEl = gd.closest('.output');\nif (outputEl) {{\n    x.observe(outputEl, {childList: true});\n}}\n\n                        })                };                });            </script>        </div>"
     },
     "metadata": {}
    },
    {
     "output_type": "display_data",
     "data": {
      "text/plain": "FigureWidget({\n    'data': [{'close': array([8740.99, 8739.  , 8728.49, 8708.32, 8795.9 , 8760.  , 8760.  , 87…",
      "application/vnd.jupyter.widget-view+json": {
       "version_major": 2,
       "version_minor": 0,
       "model_id": "6fbd4375fc194fc2a503985241af19d8"
      }
     },
     "metadata": {}
    },
    {
     "output_type": "display_data",
     "data": {
      "application/vnd.plotly.v1+json": {
       "config": {
        "plotlyServerURL": "https://plot.ly"
       },
       "data": [
        {
         "close": [
          8740.99,
          8739,
          8728.49,
          8708.32,
          8795.9,
          8760,
          8760,
          8759.23,
          8517.77,
          8520.3,
          8535.23,
          8546.34,
          8526.65,
          8555.6,
          8512.1,
          8492.28,
          8460,
          8474.99,
          8455.92,
          8326.28,
          8133.43,
          8164.79,
          8229.38,
          8220.4,
          8238.8,
          8232.99,
          8207.48,
          8243.45,
          8371.13,
          8373,
          8365.08,
          8179.99,
          8225,
          8285.8,
          8273.4,
          8297.4,
          8279.89,
          8252.72,
          8302.18,
          8295.85,
          8277.25,
          8346.59,
          8358.3,
          8375.1,
          8368.62,
          8366.72,
          8314.77,
          8363.7,
          8344.16,
          8247.4,
          8277.4,
          8291.67,
          8307.89,
          8298.9,
          8269.47,
          8300.98,
          8318.49,
          8306.39,
          8276.43,
          8257.69,
          8166,
          8176.33,
          8200.7,
          8155.41,
          8080,
          8067.03,
          7958.08,
          7974.25,
          7998.5,
          7991.99,
          8022.7,
          8042.97,
          7965.67,
          8088.95,
          8122.19,
          8107.99,
          8137.73,
          8115,
          8107,
          8094.4,
          8080.01,
          8117.09,
          8126.99,
          8110.95,
          8215.39,
          8231.42,
          8240.13,
          8235,
          8219.9,
          8248.87,
          8213.5,
          8200.99,
          8200,
          8237.3,
          8228.13,
          8240.83,
          8214.9,
          8170.07,
          8229.87,
          8205.87,
          8252.56
         ],
         "high": [
          8796.68,
          8766,
          8750.27,
          8754.4,
          8865,
          8821.19,
          8798.6,
          8771.02,
          8761.7,
          8553.67,
          8589.1,
          8579.48,
          8555.51,
          8583.6,
          8569.92,
          8555.54,
          8557.51,
          8505,
          8505.33,
          8478.29,
          8339.81,
          8217.44,
          8252.72,
          8248.63,
          8267.12,
          8255,
          8261.24,
          8263.93,
          8455.66,
          8439.44,
          8399.1,
          8381.73,
          8229.91,
          8377.29,
          8329.1,
          8350,
          8346.95,
          8377.29,
          8311.35,
          8319.96,
          8398.24,
          8372.58,
          8399.99,
          8386.53,
          8400,
          8500,
          8381,
          8371.3,
          8382.41,
          8351,
          8292.99,
          8325.8,
          8318.99,
          8324.9,
          8335.56,
          8309.4,
          8377.29,
          8330.41,
          8328.23,
          8284.36,
          8274.83,
          8200,
          8232.14,
          8213.97,
          8155.41,
          8108.28,
          8068.92,
          8019.9,
          8026.66,
          8025,
          8104.69,
          8061.39,
          8045.99,
          8170.71,
          8144.16,
          8139.99,
          8152.99,
          8137.73,
          8143.72,
          8129.99,
          8106.76,
          8139,
          8152.04,
          8146.99,
          8232.14,
          8275.1,
          8256.12,
          8274.1,
          8255.8,
          8253.97,
          8261.09,
          8235.76,
          8227,
          8273.36,
          8264.21,
          8250,
          8250.86,
          8235.77,
          8232.12,
          8232.14,
          8252.72
         ],
         "low": [
          8707.28,
          8721.11,
          8660.53,
          8701.35,
          8695.11,
          8740.54,
          8741.52,
          8700,
          8467.42,
          8477.89,
          8500.78,
          8500,
          8400,
          8451.05,
          8461.38,
          8481.24,
          8420.37,
          8450,
          8430.94,
          8275.02,
          8100.01,
          8122.56,
          8157.01,
          8166.25,
          8176.91,
          8213.79,
          8200,
          8207.48,
          8237.1,
          8370,
          8356.4,
          8145.1,
          8173.6,
          8211.8,
          8201,
          8250.9,
          8266.46,
          8252.72,
          8232.14,
          8268.37,
          8277.25,
          8277.25,
          8314.78,
          8314.77,
          8350.07,
          8331.39,
          8314.77,
          8275.45,
          8335.49,
          8191.14,
          8227.7,
          8264.13,
          8249.93,
          8269.52,
          8219.44,
          8262.68,
          8286.65,
          8289.87,
          8232.14,
          8232.14,
          8110.02,
          8154.95,
          8168.6,
          8151,
          7980,
          8005.95,
          7929.53,
          7931.03,
          7950,
          7980.58,
          7991.99,
          7992.75,
          7953.4,
          7965.67,
          8085.94,
          8078.48,
          8092.9,
          8049.22,
          8079.46,
          8062.12,
          8043.96,
          8063.1,
          8088.46,
          8094.43,
          8088.46,
          8191.14,
          8212,
          8224.5,
          8211,
          8211.01,
          8210.03,
          8158.27,
          8177.65,
          8179.41,
          8221.92,
          8217.32,
          8213.52,
          8141.08,
          8146.1,
          8186.03,
          8197.09
         ],
         "name": "Price",
         "open": [
          8733.86,
          8740.99,
          8739,
          8728.49,
          8708.32,
          8795.9,
          8760,
          8760,
          8759.23,
          8517.77,
          8520.3,
          8535.23,
          8546.34,
          8526.65,
          8555.6,
          8512.1,
          8492.28,
          8460,
          8474.99,
          8455.92,
          8326.28,
          8133.43,
          8164.79,
          8229.38,
          8220.4,
          8238.8,
          8232.99,
          8207.48,
          8243.45,
          8371.13,
          8373,
          8365.08,
          8179.99,
          8225,
          8285.8,
          8273.4,
          8297.4,
          8279.89,
          8252.72,
          8302.18,
          8295.85,
          8277.25,
          8346.59,
          8358.3,
          8375.1,
          8368.62,
          8366.72,
          8314.77,
          8363.7,
          8344.16,
          8247.4,
          8277.4,
          8291.67,
          8307.89,
          8298.9,
          8269.47,
          8300.98,
          8318.49,
          8306.39,
          8276.43,
          8257.69,
          8166,
          8176.33,
          8200.7,
          8155.41,
          8080,
          8067.03,
          7958.08,
          7974.25,
          7998.5,
          7991.99,
          8022.7,
          8042.97,
          7965.67,
          8088.95,
          8122.19,
          8107.99,
          8137.73,
          8115,
          8107,
          8094.4,
          8080.01,
          8117.09,
          8126.99,
          8110.95,
          8215.39,
          8231.42,
          8240.13,
          8235,
          8219.9,
          8248.87,
          8213.5,
          8200.99,
          8200,
          8237.3,
          8228.13,
          8240.83,
          8214.9,
          8170.07,
          8229.87,
          8205.87
         ],
         "showlegend": false,
         "type": "candlestick",
         "uid": "9daa24c5-9ae2-4db4-83a6-1beaa490cf1a",
         "xaxis": "x",
         "yaxis": "y"
        },
        {
         "marker": {
          "color": "DodgerBlue"
         },
         "name": "Volume",
         "showlegend": false,
         "type": "bar",
         "uid": "366ede5a-4128-45a4-9618-3b6f31a20734",
         "xaxis": "x2",
         "y": [
          559.93,
          273.58,
          917.79,
          182.62,
          1260.69,
          324.11,
          324.2,
          730.67,
          1341.75,
          792.07,
          385.69,
          475.08,
          877.26,
          670.49,
          610.97,
          168.99,
          305.92,
          136.05,
          154.26,
          1070.93,
          1710.2,
          492.8,
          630.72,
          620.93,
          586.34,
          304.52,
          450.97,
          182.36,
          915.32,
          319.29,
          362.01,
          1046.38,
          357.91,
          561.2,
          322.53,
          1073.71,
          237.21,
          251.2,
          359.73,
          117.23,
          363.17,
          214.18,
          171.64,
          258.58,
          299.52,
          718.98,
          119.7,
          405.25,
          210.77,
          714.82,
          215.97,
          164.2,
          201.55,
          203.41,
          886.82,
          95.49,
          499.67,
          172.77,
          355.39,
          255.27,
          591.06,
          133.1,
          149.13,
          87.55,
          1061.54,
          286.94,
          524.42,
          316,
          441.43,
          189.7,
          844.94,
          155.34,
          257.56,
          610.69,
          217.97,
          173.18,
          218.06,
          372.97,
          484.39,
          248.1,
          162.35,
          303.42,
          290.69,
          160.93,
          369.4,
          487.27,
          93.35,
          96.68,
          72.14,
          90.22,
          168.52,
          203.15,
          71.42,
          464.56,
          57,
          89.42,
          49.47,
          200.05,
          254.37,
          65.05,
          118.19
         ],
         "yaxis": "y2"
        },
        {
         "mode": "lines",
         "name": "bitstamp:/USD-BTC",
         "type": "scatter",
         "uid": "144dadab-dc92-4059-bcf1-f191aae5cff6",
         "xaxis": "x3",
         "y": [
          8740.99,
          8739,
          8728.49,
          8708.32,
          8795.9,
          8760,
          8760,
          8759.23,
          8517.77,
          8520.3,
          8535.23,
          8546.34,
          8526.65,
          8555.6,
          8512.1,
          8492.28,
          8460,
          8474.99,
          8455.92,
          8326.28,
          8133.43,
          8164.79,
          8229.38,
          8220.4,
          8238.8,
          8232.99,
          8207.48,
          8243.45,
          8371.13,
          8373,
          8365.08,
          8179.99,
          8225,
          8285.8,
          8273.4,
          8297.4,
          8279.89,
          8252.72,
          8302.18,
          8295.85,
          8277.25,
          8346.59,
          8358.3,
          8375.1,
          8368.62,
          8366.72,
          8314.77,
          8363.7,
          8344.16,
          8247.4,
          8277.4,
          8291.67,
          8307.89,
          8298.9,
          8269.47,
          8300.98,
          8318.49,
          8306.39,
          8276.43,
          8257.69,
          8166,
          8176.33,
          8200.7,
          8155.41,
          8080,
          8067.03,
          7958.08,
          7974.25,
          7998.5,
          7991.99,
          8022.7,
          8042.97,
          7965.67,
          8088.95,
          8122.19,
          8107.99,
          8137.73,
          8115,
          8107,
          8094.4,
          8080.01,
          8117.09,
          8126.99,
          8110.95,
          8215.39,
          8231.42,
          8240.13,
          8235,
          8219.9,
          8248.87,
          8213.5,
          8200.99,
          8200,
          8237.3,
          8228.13,
          8240.83,
          8214.9,
          8170.07,
          8229.87,
          8205.87,
          8252.56
         ],
         "yaxis": "y3"
        },
        {
         "mode": "lines",
         "name": "bitstamp:/USD:/free",
         "type": "scatter",
         "uid": "215fa976-3ead-45d7-83c7-ba95c90c4306",
         "xaxis": "x3",
         "y": [
          10000,
          10000,
          10000,
          1000,
          1000,
          1000,
          1000,
          1000,
          1000,
          9730.11,
          9730.11,
          9730.11,
          9730.11,
          9730.11,
          9730.11,
          9730.11,
          9730.11,
          9730.11,
          973.01,
          973.01,
          973.01,
          973.01,
          973.01,
          973.01,
          973.01,
          973.01,
          973.01,
          973.01,
          973.01,
          973.01,
          973.01,
          973.01,
          973.01,
          973.01,
          973.01,
          973.01,
          973.01,
          973.01,
          973.01,
          973.01,
          973.01,
          973.01,
          973.01,
          973.01,
          973.01,
          973.01,
          973.01,
          973.01,
          973.01,
          973.01,
          973.01,
          973.01,
          973.01,
          973.01,
          973.01,
          973.01,
          973.01,
          973.01,
          973.01,
          973.01,
          973.01,
          973.01,
          973.01,
          973.01,
          973.01,
          973.01,
          973.01,
          9146.73,
          9146.73,
          9146.73,
          9146.73,
          0,
          0,
          0,
          0,
          0,
          0,
          0,
          0,
          0,
          0,
          0,
          0,
          0,
          0,
          0,
          0,
          0,
          0,
          0,
          0,
          0,
          0,
          0,
          0,
          0,
          0,
          0,
          0,
          0,
          0
         ],
         "yaxis": "y3"
        },
        {
         "mode": "lines",
         "name": "bitstamp:/USD:/locked",
         "type": "scatter",
         "uid": "f14581dc-310b-4fca-903b-cfdfa33d18fc",
         "xaxis": "x3",
         "y": [
          0,
          0,
          0,
          0,
          0,
          0,
          0,
          0,
          0,
          0,
          0,
          0,
          0,
          0,
          0,
          0,
          0,
          0,
          0,
          0,
          0,
          0,
          0,
          0,
          0,
          0,
          0,
          0,
          0,
          0,
          0,
          0,
          0,
          0,
          0,
          0,
          0,
          0,
          0,
          0,
          0,
          0,
          0,
          0,
          0,
          0,
          0,
          0,
          0,
          0,
          0,
          0,
          0,
          0,
          0,
          0,
          0,
          0,
          0,
          0,
          0,
          0,
          0,
          0,
          0,
          0,
          0,
          0,
          0,
          0,
          0,
          0,
          0,
          0,
          0,
          0,
          0,
          0,
          0,
          0,
          0,
          0,
          0,
          0,
          0,
          0,
          0,
          0,
          0,
          0,
          0,
          0,
          0,
          0,
          0,
          0,
          0,
          0,
          0,
          0,
          0
         ],
         "yaxis": "y3"
        },
        {
         "mode": "lines",
         "name": "bitstamp:/USD:/total",
         "type": "scatter",
         "uid": "b26474e7-1144-4f03-9f03-7bd22931501e",
         "xaxis": "x3",
         "y": [
          10000,
          10000,
          10000,
          1000,
          1000,
          1000,
          1000,
          1000,
          1000,
          9730.11,
          9730.11,
          9730.11,
          9730.11,
          9730.11,
          9730.11,
          9730.11,
          9730.11,
          9730.11,
          973.01,
          973.01,
          973.01,
          973.01,
          973.01,
          973.01,
          973.01,
          973.01,
          973.01,
          973.01,
          973.01,
          973.01,
          973.01,
          973.01,
          973.01,
          973.01,
          973.01,
          973.01,
          973.01,
          973.01,
          973.01,
          973.01,
          973.01,
          973.01,
          973.01,
          973.01,
          973.01,
          973.01,
          973.01,
          973.01,
          973.01,
          973.01,
          973.01,
          973.01,
          973.01,
          973.01,
          973.01,
          973.01,
          973.01,
          973.01,
          973.01,
          973.01,
          973.01,
          973.01,
          973.01,
          973.01,
          973.01,
          973.01,
          973.01,
          9146.73,
          9146.73,
          9146.73,
          9146.73,
          0,
          0,
          0,
          0,
          0,
          0,
          0,
          0,
          0,
          0,
          0,
          0,
          0,
          0,
          0,
          0,
          0,
          0,
          0,
          0,
          0,
          0,
          0,
          0,
          0,
          0,
          0,
          0,
          0,
          0
         ],
         "yaxis": "y3"
        },
        {
         "mode": "lines",
         "name": "bitstamp:/BTC:/free",
         "type": "scatter",
         "uid": "b17d4003-2e58-4235-8a40-be01d611c74e",
         "xaxis": "x3",
         "y": [
          10,
          10,
          10,
          10,
          10,
          10,
          10,
          10,
          10,
          10,
          10,
          10,
          10,
          10,
          10,
          10,
          10,
          10,
          10,
          10,
          10,
          10,
          10,
          10,
          10,
          10,
          10,
          10,
          10,
          10,
          10,
          10,
          10,
          10,
          10,
          10,
          10,
          10,
          10,
          10,
          10,
          10,
          10,
          10,
          10,
          10,
          10,
          10,
          10,
          10,
          10,
          10,
          10,
          10,
          10,
          10,
          10,
          10,
          10,
          10,
          10,
          10,
          10,
          10,
          10,
          10,
          10,
          10,
          10,
          10,
          10,
          10,
          10,
          10,
          10,
          10,
          10,
          10,
          10,
          10,
          10,
          10,
          10,
          10,
          10,
          10,
          10,
          10,
          10,
          10,
          10,
          10,
          10,
          10,
          10,
          10,
          10,
          10,
          10,
          10,
          10
         ],
         "yaxis": "y3"
        },
        {
         "mode": "lines",
         "name": "bitstamp:/BTC:/locked",
         "type": "scatter",
         "uid": "042e0b65-eede-4d26-9f7b-b257debd16f8",
         "xaxis": "x3",
         "y": [
          0,
          0,
          0,
          1.02801286,
          1.02801286,
          1.02801286,
          1.02801286,
          1.02801286,
          1.02801286,
          0,
          0,
          0,
          0,
          0,
          0,
          0,
          0,
          0,
          1.03018765,
          1.03018765,
          1.03018765,
          1.03018765,
          1.03018765,
          1.03018765,
          1.03018765,
          1.03018765,
          1.03018765,
          1.03018765,
          1.03018765,
          1.03018765,
          1.03018765,
          1.03018765,
          1.03018765,
          1.03018765,
          1.03018765,
          1.03018765,
          1.03018765,
          1.03018765,
          1.03018765,
          1.03018765,
          1.03018765,
          1.03018765,
          1.03018765,
          1.03018765,
          1.03018765,
          1.03018765,
          1.03018765,
          1.03018765,
          1.03018765,
          1.03018765,
          1.03018765,
          1.03018765,
          1.03018765,
          1.03018765,
          1.03018765,
          1.03018765,
          1.03018765,
          1.03018765,
          1.03018765,
          1.03018765,
          1.03018765,
          1.03018765,
          1.03018765,
          1.03018765,
          1.03018765,
          1.03018765,
          1.03018765,
          0,
          0,
          0,
          0,
          1.1366859,
          1.1366859,
          1.1366859,
          1.1366859,
          1.1366859,
          1.1366859,
          1.1366859,
          1.1366859,
          1.1366859,
          1.1366859,
          1.1366859,
          1.1366859,
          1.1366859,
          1.1366859,
          1.1366859,
          1.1366859,
          1.1366859,
          1.1366859,
          1.1366859,
          1.1366859,
          1.1366859,
          1.1366859,
          1.1366859,
          1.1366859,
          1.1366859,
          1.1366859,
          1.1366859,
          1.1366859,
          1.1366859,
          1.1366859
         ],
         "yaxis": "y3"
        },
        {
         "mode": "lines",
         "name": "bitstamp:/BTC:/total",
         "type": "scatter",
         "uid": "25740144-d456-4953-88f1-707b2dedb8c3",
         "xaxis": "x3",
         "y": [
          10,
          10,
          10,
          11.02801286,
          11.02801286,
          11.02801286,
          11.02801286,
          11.02801286,
          11.02801286,
          10,
          10,
          10,
          10,
          10,
          10,
          10,
          10,
          10,
          11.03018765,
          11.03018765,
          11.03018765,
          11.03018765,
          11.03018765,
          11.03018765,
          11.03018765,
          11.03018765,
          11.03018765,
          11.03018765,
          11.03018765,
          11.03018765,
          11.03018765,
          11.03018765,
          11.03018765,
          11.03018765,
          11.03018765,
          11.03018765,
          11.03018765,
          11.03018765,
          11.03018765,
          11.03018765,
          11.03018765,
          11.03018765,
          11.03018765,
          11.03018765,
          11.03018765,
          11.03018765,
          11.03018765,
          11.03018765,
          11.03018765,
          11.03018765,
          11.03018765,
          11.03018765,
          11.03018765,
          11.03018765,
          11.03018765,
          11.03018765,
          11.03018765,
          11.03018765,
          11.03018765,
          11.03018765,
          11.03018765,
          11.03018765,
          11.03018765,
          11.03018765,
          11.03018765,
          11.03018765,
          11.03018765,
          10,
          10,
          10,
          10,
          11.1366859,
          11.1366859,
          11.1366859,
          11.1366859,
          11.1366859,
          11.1366859,
          11.1366859,
          11.1366859,
          11.1366859,
          11.1366859,
          11.1366859,
          11.1366859,
          11.1366859,
          11.1366859,
          11.1366859,
          11.1366859,
          11.1366859,
          11.1366859,
          11.1366859,
          11.1366859,
          11.1366859,
          11.1366859,
          11.1366859,
          11.1366859,
          11.1366859,
          11.1366859,
          11.1366859,
          11.1366859,
          11.1366859,
          11.1366859
         ],
         "yaxis": "y3"
        },
        {
         "mode": "lines",
         "name": "bitstamp:/BTC:/worth",
         "type": "scatter",
         "uid": "04b9efcf-d7af-4127-bd92-3213de7f2309",
         "xaxis": "x3",
         "y": [
          87409.9,
          87390,
          87284.9,
          96035.4649489952,
          97001.298315274,
          96605.3926536,
          96605.3926536,
          96596.9010836978,
          93934.0770985222,
          85203,
          85352.29999999999,
          85463.4,
          85266.5,
          85556,
          85121,
          84922.8,
          84600,
          84749.9,
          93270.384353388,
          91840.43082644201,
          89713.2591381395,
          90059.1658228435,
          90771.60564315699,
          90672.55455806,
          90875.51001082,
          90811.4246205735,
          90530.044533622,
          90926.8003833925,
          92335.1347425445,
          92355.76119345,
          92268.402107262,
          90226.8246751235,
          90723.29342125,
          91393.92883036999,
          91257.15450351,
          91521.87900711,
          91328.7404213585,
          91029.050222908,
          91574.603304077,
          91504.78221625251,
          91299.62072596251,
          92064.4539376135,
          92193.61743499499,
          92378.92458751501,
          92307.44897154301,
          92286.491615008,
          91713.47336659051,
          92253.18044830501,
          92037.650581624,
          90970.36962461,
          91301.27525410999,
          91458.6760318755,
          91637.5856755585,
          91538.424288585,
          91213.8058660455,
          91561.36707889699,
          91754.5056646485,
          91621.0403940835,
          91290.5759720895,
          91083.87025552851,
          90072.5123499,
          90186.4541883245,
          90455.259861355,
          89955.7026626865,
          89123.916212,
          88980.8546781795,
          87779.115733712,
          79742.5,
          79985,
          79919.9,
          80227,
          89572.030593123,
          88711.164773053,
          90084.09541080499,
          90454.27885012099,
          90296.137910341,
          90627.342949007,
          90374.20607849999,
          90285.1125913,
          90144.79034896,
          89984.533438859,
          90397.481752031,
          90507.73494244099,
          90329.10250060499,
          91492.21797600099,
          91670.739050978,
          91767.73958516699,
          91710.6083865,
          91542.44442941,
          91865.07421993301,
          91471.16963965,
          91331.84969904099,
          91320.82438,
          91736.22276406999,
          91634.09935436699,
          91775.535265297,
          91486.76099991,
          90987.503371013,
          91653.477187833,
          91386.19672623301,
          91906.168590904
         ],
         "yaxis": "y3"
        },
        {
         "mode": "lines",
         "name": "net_worth",
         "type": "scatter",
         "uid": "c75c71d2-d910-4945-bba1-50dba22356b1",
         "xaxis": "x3",
         "y": [
          97409.9,
          97390,
          97284.9,
          97035.4649489952,
          98001.298315274,
          97605.3926536,
          97605.3926536,
          97596.9010836978,
          94934.0770985222,
          94933.11,
          95082.40999999999,
          95193.51,
          94996.61,
          95286.11,
          94851.11,
          94652.91,
          94330.11,
          94480.01,
          94243.394353388,
          92813.440826442,
          90686.2691381395,
          91032.17582284349,
          91744.61564315698,
          91645.56455806,
          91848.52001082,
          91784.43462057349,
          91503.054533622,
          91899.8103833925,
          93308.1447425445,
          93328.77119345,
          93241.41210726199,
          91199.8346751235,
          91696.30342124999,
          92366.93883036998,
          92230.16450351,
          92494.88900710999,
          92301.75042135849,
          92002.060222908,
          92547.613304077,
          92477.7922162525,
          92272.6307259625,
          93037.4639376135,
          93166.62743499498,
          93351.934587515,
          93280.458971543,
          93259.50161500799,
          92686.4833665905,
          93226.190448305,
          93010.66058162399,
          91943.37962461,
          92274.28525410999,
          92431.68603187549,
          92610.59567555849,
          92511.43428858499,
          92186.8158660455,
          92534.37707889699,
          92727.5156646485,
          92594.05039408349,
          92263.5859720895,
          92056.88025552851,
          91045.5223499,
          91159.46418832449,
          91428.269861355,
          90928.71266268649,
          90096.92621199999,
          89953.8646781795,
          88752.12573371199,
          88889.23,
          89131.73,
          89066.62999999999,
          89373.73,
          89572.030593123,
          88711.164773053,
          90084.09541080499,
          90454.27885012099,
          90296.137910341,
          90627.342949007,
          90374.20607849999,
          90285.1125913,
          90144.79034896,
          89984.533438859,
          90397.481752031,
          90507.73494244099,
          90329.10250060499,
          91492.21797600099,
          91670.739050978,
          91767.73958516699,
          91710.6083865,
          91542.44442941,
          91865.07421993301,
          91471.16963965,
          91331.84969904099,
          91320.82438,
          91736.22276406999,
          91634.09935436699,
          91775.535265297,
          91486.76099991,
          90987.503371013,
          91653.477187833,
          91386.19672623301,
          91906.168590904
         ],
         "yaxis": "y3"
        },
        {
         "marker": {
          "color": "DarkGreen"
         },
         "mode": "lines",
         "name": "Net Worth",
         "type": "scatter",
         "uid": "a85c8827-5a96-4205-b9d6-e2c5b9b5ffa8",
         "xaxis": "x4",
         "y": [
          97409.9,
          97390,
          97284.9,
          97035.4649489952,
          98001.298315274,
          97605.3926536,
          97605.3926536,
          97596.9010836978,
          94934.0770985222,
          94933.11,
          95082.40999999999,
          95193.51,
          94996.61,
          95286.11,
          94851.11,
          94652.91,
          94330.11,
          94480.01,
          94243.394353388,
          92813.440826442,
          90686.2691381395,
          91032.17582284349,
          91744.61564315698,
          91645.56455806,
          91848.52001082,
          91784.43462057349,
          91503.054533622,
          91899.8103833925,
          93308.1447425445,
          93328.77119345,
          93241.41210726199,
          91199.8346751235,
          91696.30342124999,
          92366.93883036998,
          92230.16450351,
          92494.88900710999,
          92301.75042135849,
          92002.060222908,
          92547.613304077,
          92477.7922162525,
          92272.6307259625,
          93037.4639376135,
          93166.62743499498,
          93351.934587515,
          93280.458971543,
          93259.50161500799,
          92686.4833665905,
          93226.190448305,
          93010.66058162399,
          91943.37962461,
          92274.28525410999,
          92431.68603187549,
          92610.59567555849,
          92511.43428858499,
          92186.8158660455,
          92534.37707889699,
          92727.5156646485,
          92594.05039408349,
          92263.5859720895,
          92056.88025552851,
          91045.5223499,
          91159.46418832449,
          91428.269861355,
          90928.71266268649,
          90096.92621199999,
          89953.8646781795,
          88752.12573371199,
          88889.23,
          89131.73,
          89066.62999999999,
          89373.73,
          89572.030593123,
          88711.164773053,
          90084.09541080499,
          90454.27885012099,
          90296.137910341,
          90627.342949007,
          90374.20607849999,
          90285.1125913,
          90144.79034896,
          89984.533438859,
          90397.481752031,
          90507.73494244099,
          90329.10250060499,
          91492.21797600099,
          91670.739050978,
          91767.73958516699,
          91710.6083865,
          91542.44442941,
          91865.07421993301,
          91471.16963965,
          91331.84969904099,
          91320.82438,
          91736.22276406999,
          91634.09935436699,
          91775.535265297,
          91486.76099991,
          90987.503371013,
          91653.477187833,
          91386.19672623301,
          91906.168590904
         ],
         "yaxis": "y4"
        }
       ],
       "layout": {
        "annotations": [
         {
          "arrowcolor": "DarkGreen",
          "arrowhead": 2,
          "arrowsize": 0.8,
          "arrowwidth": 4,
          "ax": 0,
          "ay": 15,
          "hoverlabel": {
           "bgcolor": "DarkGreen"
          },
          "hovertext": "Step 18 [2018-05-15 23:00:00]<br>BUY 1.03018765 BTC @ 8474.99 USD MARKET<br>Total: 8730.83 USD - Comm.: 26.27 USD",
          "opacity": 0.6,
          "showarrow": true,
          "x": 17,
          "xref": "x",
          "y": 8474.99,
          "yref": "y"
         },
         {
          "arrowcolor": "FireBrick",
          "arrowhead": 2,
          "arrowsize": 0.8,
          "arrowwidth": 4,
          "ax": 0,
          "ay": -15,
          "hoverlabel": {
           "bgcolor": "FireBrick"
          },
          "hovertext": "Step 9 [2018-05-15 14:00:00]<br>SELL 1.02492882 BTC @ 8517.77 USD MARKET<br>Total: 8730.11 USD - Comm.: 0.00308404 BTC",
          "opacity": 0.6,
          "showarrow": true,
          "x": 8,
          "xref": "x",
          "y": 8517.77,
          "yref": "y"
         },
         {
          "arrowcolor": "DarkGreen",
          "arrowhead": 2,
          "arrowsize": 0.8,
          "arrowwidth": 4,
          "ax": 0,
          "ay": 15,
          "hoverlabel": {
           "bgcolor": "DarkGreen"
          },
          "hovertext": "Step 3 [2018-05-15 08:00:00]<br>BUY 1.02801286 BTC @ 8728.49 USD MARKET<br>Total: 8973.0 USD - Comm.: 27.00 USD",
          "opacity": 0.6,
          "showarrow": true,
          "x": 2,
          "xref": "x",
          "y": 8728.49,
          "yref": "y"
         },
         {
          "arrowcolor": "DarkGreen",
          "arrowhead": 2,
          "arrowsize": 0.8,
          "arrowwidth": 4,
          "ax": 0,
          "ay": 15,
          "hoverlabel": {
           "bgcolor": "DarkGreen"
          },
          "hovertext": "Step 71 [2018-05-18 04:00:00]<br>BUY 1.1366859 BTC @ 8022.7 USD MARKET<br>Total: 9119.29 USD - Comm.: 27.44 USD",
          "opacity": 0.6,
          "showarrow": true,
          "x": 70,
          "xref": "x",
          "y": 8022.7,
          "yref": "y"
         },
         {
          "arrowcolor": "FireBrick",
          "arrowhead": 2,
          "arrowsize": 0.8,
          "arrowwidth": 4,
          "ax": 0,
          "ay": -15,
          "hoverlabel": {
           "bgcolor": "FireBrick"
          },
          "hovertext": "Step 67 [2018-05-18 00:00:00]<br>SELL 1.02709709 BTC @ 7958.08 USD MARKET<br>Total: 8173.72 USD - Comm.: 0.00309056 BTC",
          "opacity": 0.6,
          "showarrow": true,
          "x": 66,
          "xref": "x",
          "y": 7958.08,
          "yref": "y"
         }
        ],
        "margin": {
         "t": 50
        },
        "template": {
         "data": {
          "bar": [
           {
            "error_x": {
             "color": "#2a3f5f"
            },
            "error_y": {
             "color": "#2a3f5f"
            },
            "marker": {
             "line": {
              "color": "white",
              "width": 0.5
             }
            },
            "type": "bar"
           }
          ],
          "barpolar": [
           {
            "marker": {
             "line": {
              "color": "white",
              "width": 0.5
             }
            },
            "type": "barpolar"
           }
          ],
          "carpet": [
           {
            "aaxis": {
             "endlinecolor": "#2a3f5f",
             "gridcolor": "#C8D4E3",
             "linecolor": "#C8D4E3",
             "minorgridcolor": "#C8D4E3",
             "startlinecolor": "#2a3f5f"
            },
            "baxis": {
             "endlinecolor": "#2a3f5f",
             "gridcolor": "#C8D4E3",
             "linecolor": "#C8D4E3",
             "minorgridcolor": "#C8D4E3",
             "startlinecolor": "#2a3f5f"
            },
            "type": "carpet"
           }
          ],
          "choropleth": [
           {
            "colorbar": {
             "outlinewidth": 0,
             "ticks": ""
            },
            "type": "choropleth"
           }
          ],
          "contour": [
           {
            "colorbar": {
             "outlinewidth": 0,
             "ticks": ""
            },
            "colorscale": [
             [
              0,
              "#0d0887"
             ],
             [
              0.1111111111111111,
              "#46039f"
             ],
             [
              0.2222222222222222,
              "#7201a8"
             ],
             [
              0.3333333333333333,
              "#9c179e"
             ],
             [
              0.4444444444444444,
              "#bd3786"
             ],
             [
              0.5555555555555556,
              "#d8576b"
             ],
             [
              0.6666666666666666,
              "#ed7953"
             ],
             [
              0.7777777777777778,
              "#fb9f3a"
             ],
             [
              0.8888888888888888,
              "#fdca26"
             ],
             [
              1,
              "#f0f921"
             ]
            ],
            "type": "contour"
           }
          ],
          "contourcarpet": [
           {
            "colorbar": {
             "outlinewidth": 0,
             "ticks": ""
            },
            "type": "contourcarpet"
           }
          ],
          "heatmap": [
           {
            "colorbar": {
             "outlinewidth": 0,
             "ticks": ""
            },
            "colorscale": [
             [
              0,
              "#0d0887"
             ],
             [
              0.1111111111111111,
              "#46039f"
             ],
             [
              0.2222222222222222,
              "#7201a8"
             ],
             [
              0.3333333333333333,
              "#9c179e"
             ],
             [
              0.4444444444444444,
              "#bd3786"
             ],
             [
              0.5555555555555556,
              "#d8576b"
             ],
             [
              0.6666666666666666,
              "#ed7953"
             ],
             [
              0.7777777777777778,
              "#fb9f3a"
             ],
             [
              0.8888888888888888,
              "#fdca26"
             ],
             [
              1,
              "#f0f921"
             ]
            ],
            "type": "heatmap"
           }
          ],
          "heatmapgl": [
           {
            "colorbar": {
             "outlinewidth": 0,
             "ticks": ""
            },
            "colorscale": [
             [
              0,
              "#0d0887"
             ],
             [
              0.1111111111111111,
              "#46039f"
             ],
             [
              0.2222222222222222,
              "#7201a8"
             ],
             [
              0.3333333333333333,
              "#9c179e"
             ],
             [
              0.4444444444444444,
              "#bd3786"
             ],
             [
              0.5555555555555556,
              "#d8576b"
             ],
             [
              0.6666666666666666,
              "#ed7953"
             ],
             [
              0.7777777777777778,
              "#fb9f3a"
             ],
             [
              0.8888888888888888,
              "#fdca26"
             ],
             [
              1,
              "#f0f921"
             ]
            ],
            "type": "heatmapgl"
           }
          ],
          "histogram": [
           {
            "marker": {
             "colorbar": {
              "outlinewidth": 0,
              "ticks": ""
             }
            },
            "type": "histogram"
           }
          ],
          "histogram2d": [
           {
            "colorbar": {
             "outlinewidth": 0,
             "ticks": ""
            },
            "colorscale": [
             [
              0,
              "#0d0887"
             ],
             [
              0.1111111111111111,
              "#46039f"
             ],
             [
              0.2222222222222222,
              "#7201a8"
             ],
             [
              0.3333333333333333,
              "#9c179e"
             ],
             [
              0.4444444444444444,
              "#bd3786"
             ],
             [
              0.5555555555555556,
              "#d8576b"
             ],
             [
              0.6666666666666666,
              "#ed7953"
             ],
             [
              0.7777777777777778,
              "#fb9f3a"
             ],
             [
              0.8888888888888888,
              "#fdca26"
             ],
             [
              1,
              "#f0f921"
             ]
            ],
            "type": "histogram2d"
           }
          ],
          "histogram2dcontour": [
           {
            "colorbar": {
             "outlinewidth": 0,
             "ticks": ""
            },
            "colorscale": [
             [
              0,
              "#0d0887"
             ],
             [
              0.1111111111111111,
              "#46039f"
             ],
             [
              0.2222222222222222,
              "#7201a8"
             ],
             [
              0.3333333333333333,
              "#9c179e"
             ],
             [
              0.4444444444444444,
              "#bd3786"
             ],
             [
              0.5555555555555556,
              "#d8576b"
             ],
             [
              0.6666666666666666,
              "#ed7953"
             ],
             [
              0.7777777777777778,
              "#fb9f3a"
             ],
             [
              0.8888888888888888,
              "#fdca26"
             ],
             [
              1,
              "#f0f921"
             ]
            ],
            "type": "histogram2dcontour"
           }
          ],
          "mesh3d": [
           {
            "colorbar": {
             "outlinewidth": 0,
             "ticks": ""
            },
            "type": "mesh3d"
           }
          ],
          "parcoords": [
           {
            "line": {
             "colorbar": {
              "outlinewidth": 0,
              "ticks": ""
             }
            },
            "type": "parcoords"
           }
          ],
          "pie": [
           {
            "automargin": true,
            "type": "pie"
           }
          ],
          "scatter": [
           {
            "marker": {
             "colorbar": {
              "outlinewidth": 0,
              "ticks": ""
             }
            },
            "type": "scatter"
           }
          ],
          "scatter3d": [
           {
            "line": {
             "colorbar": {
              "outlinewidth": 0,
              "ticks": ""
             }
            },
            "marker": {
             "colorbar": {
              "outlinewidth": 0,
              "ticks": ""
             }
            },
            "type": "scatter3d"
           }
          ],
          "scattercarpet": [
           {
            "marker": {
             "colorbar": {
              "outlinewidth": 0,
              "ticks": ""
             }
            },
            "type": "scattercarpet"
           }
          ],
          "scattergeo": [
           {
            "marker": {
             "colorbar": {
              "outlinewidth": 0,
              "ticks": ""
             }
            },
            "type": "scattergeo"
           }
          ],
          "scattergl": [
           {
            "marker": {
             "colorbar": {
              "outlinewidth": 0,
              "ticks": ""
             }
            },
            "type": "scattergl"
           }
          ],
          "scattermapbox": [
           {
            "marker": {
             "colorbar": {
              "outlinewidth": 0,
              "ticks": ""
             }
            },
            "type": "scattermapbox"
           }
          ],
          "scatterpolar": [
           {
            "marker": {
             "colorbar": {
              "outlinewidth": 0,
              "ticks": ""
             }
            },
            "type": "scatterpolar"
           }
          ],
          "scatterpolargl": [
           {
            "marker": {
             "colorbar": {
              "outlinewidth": 0,
              "ticks": ""
             }
            },
            "type": "scatterpolargl"
           }
          ],
          "scatterternary": [
           {
            "marker": {
             "colorbar": {
              "outlinewidth": 0,
              "ticks": ""
             }
            },
            "type": "scatterternary"
           }
          ],
          "surface": [
           {
            "colorbar": {
             "outlinewidth": 0,
             "ticks": ""
            },
            "colorscale": [
             [
              0,
              "#0d0887"
             ],
             [
              0.1111111111111111,
              "#46039f"
             ],
             [
              0.2222222222222222,
              "#7201a8"
             ],
             [
              0.3333333333333333,
              "#9c179e"
             ],
             [
              0.4444444444444444,
              "#bd3786"
             ],
             [
              0.5555555555555556,
              "#d8576b"
             ],
             [
              0.6666666666666666,
              "#ed7953"
             ],
             [
              0.7777777777777778,
              "#fb9f3a"
             ],
             [
              0.8888888888888888,
              "#fdca26"
             ],
             [
              1,
              "#f0f921"
             ]
            ],
            "type": "surface"
           }
          ],
          "table": [
           {
            "cells": {
             "fill": {
              "color": "#EBF0F8"
             },
             "line": {
              "color": "white"
             }
            },
            "header": {
             "fill": {
              "color": "#C8D4E3"
             },
             "line": {
              "color": "white"
             }
            },
            "type": "table"
           }
          ]
         },
         "layout": {
          "annotationdefaults": {
           "arrowcolor": "#2a3f5f",
           "arrowhead": 0,
           "arrowwidth": 1
          },
          "autotypenumbers": "strict",
          "coloraxis": {
           "colorbar": {
            "outlinewidth": 0,
            "ticks": ""
           }
          },
          "colorscale": {
           "diverging": [
            [
             0,
             "#8e0152"
            ],
            [
             0.1,
             "#c51b7d"
            ],
            [
             0.2,
             "#de77ae"
            ],
            [
             0.3,
             "#f1b6da"
            ],
            [
             0.4,
             "#fde0ef"
            ],
            [
             0.5,
             "#f7f7f7"
            ],
            [
             0.6,
             "#e6f5d0"
            ],
            [
             0.7,
             "#b8e186"
            ],
            [
             0.8,
             "#7fbc41"
            ],
            [
             0.9,
             "#4d9221"
            ],
            [
             1,
             "#276419"
            ]
           ],
           "sequential": [
            [
             0,
             "#0d0887"
            ],
            [
             0.1111111111111111,
             "#46039f"
            ],
            [
             0.2222222222222222,
             "#7201a8"
            ],
            [
             0.3333333333333333,
             "#9c179e"
            ],
            [
             0.4444444444444444,
             "#bd3786"
            ],
            [
             0.5555555555555556,
             "#d8576b"
            ],
            [
             0.6666666666666666,
             "#ed7953"
            ],
            [
             0.7777777777777778,
             "#fb9f3a"
            ],
            [
             0.8888888888888888,
             "#fdca26"
            ],
            [
             1,
             "#f0f921"
            ]
           ],
           "sequentialminus": [
            [
             0,
             "#0d0887"
            ],
            [
             0.1111111111111111,
             "#46039f"
            ],
            [
             0.2222222222222222,
             "#7201a8"
            ],
            [
             0.3333333333333333,
             "#9c179e"
            ],
            [
             0.4444444444444444,
             "#bd3786"
            ],
            [
             0.5555555555555556,
             "#d8576b"
            ],
            [
             0.6666666666666666,
             "#ed7953"
            ],
            [
             0.7777777777777778,
             "#fb9f3a"
            ],
            [
             0.8888888888888888,
             "#fdca26"
            ],
            [
             1,
             "#f0f921"
            ]
           ]
          },
          "colorway": [
           "#636efa",
           "#EF553B",
           "#00cc96",
           "#ab63fa",
           "#FFA15A",
           "#19d3f3",
           "#FF6692",
           "#B6E880",
           "#FF97FF",
           "#FECB52"
          ],
          "font": {
           "color": "#2a3f5f"
          },
          "geo": {
           "bgcolor": "white",
           "lakecolor": "white",
           "landcolor": "white",
           "showlakes": true,
           "showland": true,
           "subunitcolor": "#C8D4E3"
          },
          "hoverlabel": {
           "align": "left"
          },
          "hovermode": "closest",
          "mapbox": {
           "style": "light"
          },
          "paper_bgcolor": "white",
          "plot_bgcolor": "white",
          "polar": {
           "angularaxis": {
            "gridcolor": "#EBF0F8",
            "linecolor": "#EBF0F8",
            "ticks": ""
           },
           "bgcolor": "white",
           "radialaxis": {
            "gridcolor": "#EBF0F8",
            "linecolor": "#EBF0F8",
            "ticks": ""
           }
          },
          "scene": {
           "xaxis": {
            "backgroundcolor": "white",
            "gridcolor": "#DFE8F3",
            "gridwidth": 2,
            "linecolor": "#EBF0F8",
            "showbackground": true,
            "ticks": "",
            "zerolinecolor": "#EBF0F8"
           },
           "yaxis": {
            "backgroundcolor": "white",
            "gridcolor": "#DFE8F3",
            "gridwidth": 2,
            "linecolor": "#EBF0F8",
            "showbackground": true,
            "ticks": "",
            "zerolinecolor": "#EBF0F8"
           },
           "zaxis": {
            "backgroundcolor": "white",
            "gridcolor": "#DFE8F3",
            "gridwidth": 2,
            "linecolor": "#EBF0F8",
            "showbackground": true,
            "ticks": "",
            "zerolinecolor": "#EBF0F8"
           }
          },
          "shapedefaults": {
           "line": {
            "color": "#2a3f5f"
           }
          },
          "ternary": {
           "aaxis": {
            "gridcolor": "#DFE8F3",
            "linecolor": "#A2B1C6",
            "ticks": ""
           },
           "baxis": {
            "gridcolor": "#DFE8F3",
            "linecolor": "#A2B1C6",
            "ticks": ""
           },
           "bgcolor": "white",
           "caxis": {
            "gridcolor": "#DFE8F3",
            "linecolor": "#A2B1C6",
            "ticks": ""
           }
          },
          "title": {
           "x": 0.05
          },
          "xaxis": {
           "automargin": true,
           "gridcolor": "#EBF0F8",
           "linecolor": "#EBF0F8",
           "ticks": "",
           "title": {
            "standoff": 15
           },
           "zerolinecolor": "#EBF0F8",
           "zerolinewidth": 2
          },
          "yaxis": {
           "automargin": true,
           "gridcolor": "#EBF0F8",
           "linecolor": "#EBF0F8",
           "ticks": "",
           "title": {
            "standoff": 15
           },
           "zerolinecolor": "#EBF0F8",
           "zerolinewidth": 2
          }
         }
        },
        "title": {
         "text": "[2021-04-02 13:17:50 PM] Episode: 2/2 Step: 101/200"
        },
        "xaxis": {
         "anchor": "y",
         "domain": [
          0,
          1
         ],
         "gridcolor": "Gainsboro",
         "linecolor": "Grey",
         "matches": "x4",
         "rangeslider": {
          "visible": false
         },
         "showticklabels": false,
         "title": {
          "font": {
           "size": 12
          },
          "standoff": 7,
          "text": "Price"
         }
        },
        "xaxis2": {
         "anchor": "y2",
         "domain": [
          0,
          1
         ],
         "gridcolor": "Gainsboro",
         "linecolor": "Grey",
         "matches": "x4",
         "showticklabels": false,
         "title": {
          "font": {
           "size": 12
          },
          "standoff": 7,
          "text": "Volume"
         }
        },
        "xaxis3": {
         "anchor": "y3",
         "domain": [
          0,
          1
         ],
         "gridcolor": "Gainsboro",
         "linecolor": "Grey",
         "matches": "x4",
         "showticklabels": false,
         "title": {
          "font": {
           "size": 12
          },
          "standoff": 7,
          "text": "Performance"
         }
        },
        "xaxis4": {
         "anchor": "y4",
         "domain": [
          0,
          1
         ],
         "gridcolor": "Gainsboro",
         "linecolor": "Grey",
         "title": {
          "font": {
           "size": 12
          },
          "standoff": 7,
          "text": "Net Worth"
         }
        },
        "yaxis": {
         "anchor": "x",
         "domain": [
          0.49950000000000006,
          1
         ],
         "gridcolor": "Gainsboro",
         "linecolor": "Grey"
        },
        "yaxis2": {
         "anchor": "x2",
         "domain": [
          0.333,
          0.46950000000000003
         ],
         "gridcolor": "Gainsboro",
         "linecolor": "Grey"
        },
        "yaxis3": {
         "anchor": "x3",
         "domain": [
          0.1665,
          0.30300000000000005
         ],
         "gridcolor": "Gainsboro",
         "linecolor": "Grey"
        },
        "yaxis4": {
         "anchor": "x4",
         "domain": [
          0,
          0.1365
         ],
         "gridcolor": "Gainsboro",
         "linecolor": "Grey"
        }
       }
      },
      "text/html": "<div>                            <div id=\"b681ea03-5614-4aad-94f8-3d624faeb0d2\" class=\"plotly-graph-div\" style=\"height:525px; width:100%;\"></div>            <script type=\"text/javascript\">                require([\"plotly\"], function(Plotly) {                    window.PLOTLYENV=window.PLOTLYENV || {};                                    if (document.getElementById(\"b681ea03-5614-4aad-94f8-3d624faeb0d2\")) {                    Plotly.newPlot(                        \"b681ea03-5614-4aad-94f8-3d624faeb0d2\",                        [{\"close\": [8740.99, 8739.0, 8728.49, 8708.32, 8795.9, 8760.0, 8760.0, 8759.23, 8517.77, 8520.3, 8535.23, 8546.34, 8526.65, 8555.6, 8512.1, 8492.28, 8460.0, 8474.99, 8455.92, 8326.28, 8133.43, 8164.79, 8229.38, 8220.4, 8238.8, 8232.99, 8207.48, 8243.45, 8371.13, 8373.0, 8365.08, 8179.99, 8225.0, 8285.8, 8273.4, 8297.4, 8279.89, 8252.72, 8302.18, 8295.85, 8277.25, 8346.59, 8358.3, 8375.1, 8368.62, 8366.72, 8314.77, 8363.7, 8344.16, 8247.4, 8277.4, 8291.67, 8307.89, 8298.9, 8269.47, 8300.98, 8318.49, 8306.39, 8276.43, 8257.69, 8166.0, 8176.33, 8200.7, 8155.41, 8080.0, 8067.03, 7958.08, 7974.25, 7998.5, 7991.99, 8022.7, 8042.97, 7965.67, 8088.95, 8122.19, 8107.99, 8137.73, 8115.0, 8107.0, 8094.4, 8080.01, 8117.09, 8126.99, 8110.95, 8215.39, 8231.42, 8240.13, 8235.0, 8219.9, 8248.87, 8213.5, 8200.99, 8200.0, 8237.3, 8228.13, 8240.83, 8214.9, 8170.07, 8229.87, 8205.87, 8252.56], \"high\": [8796.68, 8766.0, 8750.27, 8754.4, 8865.0, 8821.19, 8798.6, 8771.02, 8761.7, 8553.67, 8589.1, 8579.48, 8555.51, 8583.6, 8569.92, 8555.54, 8557.51, 8505.0, 8505.33, 8478.29, 8339.81, 8217.44, 8252.72, 8248.63, 8267.12, 8255.0, 8261.24, 8263.93, 8455.66, 8439.44, 8399.1, 8381.73, 8229.91, 8377.29, 8329.1, 8350.0, 8346.95, 8377.29, 8311.35, 8319.96, 8398.24, 8372.58, 8399.99, 8386.53, 8400.0, 8500.0, 8381.0, 8371.3, 8382.41, 8351.0, 8292.99, 8325.8, 8318.99, 8324.9, 8335.56, 8309.4, 8377.29, 8330.41, 8328.23, 8284.36, 8274.83, 8200.0, 8232.14, 8213.97, 8155.41, 8108.28, 8068.92, 8019.9, 8026.66, 8025.0, 8104.69, 8061.39, 8045.99, 8170.71, 8144.16, 8139.99, 8152.99, 8137.73, 8143.72, 8129.99, 8106.76, 8139.0, 8152.04, 8146.99, 8232.14, 8275.1, 8256.12, 8274.1, 8255.8, 8253.97, 8261.09, 8235.76, 8227.0, 8273.36, 8264.21, 8250.0, 8250.86, 8235.77, 8232.12, 8232.14, 8252.72], \"low\": [8707.28, 8721.11, 8660.53, 8701.35, 8695.11, 8740.54, 8741.52, 8700.0, 8467.42, 8477.89, 8500.78, 8500.0, 8400.0, 8451.05, 8461.38, 8481.24, 8420.37, 8450.0, 8430.94, 8275.02, 8100.01, 8122.56, 8157.01, 8166.25, 8176.91, 8213.79, 8200.0, 8207.48, 8237.1, 8370.0, 8356.4, 8145.1, 8173.6, 8211.8, 8201.0, 8250.9, 8266.46, 8252.72, 8232.14, 8268.37, 8277.25, 8277.25, 8314.78, 8314.77, 8350.07, 8331.39, 8314.77, 8275.45, 8335.49, 8191.14, 8227.7, 8264.13, 8249.93, 8269.52, 8219.44, 8262.68, 8286.65, 8289.87, 8232.14, 8232.14, 8110.02, 8154.95, 8168.6, 8151.0, 7980.0, 8005.95, 7929.53, 7931.03, 7950.0, 7980.58, 7991.99, 7992.75, 7953.4, 7965.67, 8085.94, 8078.48, 8092.9, 8049.22, 8079.46, 8062.12, 8043.96, 8063.1, 8088.46, 8094.43, 8088.46, 8191.14, 8212.0, 8224.5, 8211.0, 8211.01, 8210.03, 8158.27, 8177.65, 8179.41, 8221.92, 8217.32, 8213.52, 8141.08, 8146.1, 8186.03, 8197.09], \"name\": \"Price\", \"open\": [8733.86, 8740.99, 8739.0, 8728.49, 8708.32, 8795.9, 8760.0, 8760.0, 8759.23, 8517.77, 8520.3, 8535.23, 8546.34, 8526.65, 8555.6, 8512.1, 8492.28, 8460.0, 8474.99, 8455.92, 8326.28, 8133.43, 8164.79, 8229.38, 8220.4, 8238.8, 8232.99, 8207.48, 8243.45, 8371.13, 8373.0, 8365.08, 8179.99, 8225.0, 8285.8, 8273.4, 8297.4, 8279.89, 8252.72, 8302.18, 8295.85, 8277.25, 8346.59, 8358.3, 8375.1, 8368.62, 8366.72, 8314.77, 8363.7, 8344.16, 8247.4, 8277.4, 8291.67, 8307.89, 8298.9, 8269.47, 8300.98, 8318.49, 8306.39, 8276.43, 8257.69, 8166.0, 8176.33, 8200.7, 8155.41, 8080.0, 8067.03, 7958.08, 7974.25, 7998.5, 7991.99, 8022.7, 8042.97, 7965.67, 8088.95, 8122.19, 8107.99, 8137.73, 8115.0, 8107.0, 8094.4, 8080.01, 8117.09, 8126.99, 8110.95, 8215.39, 8231.42, 8240.13, 8235.0, 8219.9, 8248.87, 8213.5, 8200.99, 8200.0, 8237.3, 8228.13, 8240.83, 8214.9, 8170.07, 8229.87, 8205.87], \"showlegend\": false, \"type\": \"candlestick\", \"uid\": \"9daa24c5-9ae2-4db4-83a6-1beaa490cf1a\", \"xaxis\": \"x\", \"yaxis\": \"y\"}, {\"marker\": {\"color\": \"DodgerBlue\"}, \"name\": \"Volume\", \"showlegend\": false, \"type\": \"bar\", \"uid\": \"366ede5a-4128-45a4-9618-3b6f31a20734\", \"xaxis\": \"x2\", \"y\": [559.93, 273.58, 917.79, 182.62, 1260.69, 324.11, 324.2, 730.67, 1341.75, 792.07, 385.69, 475.08, 877.26, 670.49, 610.97, 168.99, 305.92, 136.05, 154.26, 1070.93, 1710.2, 492.8, 630.72, 620.93, 586.34, 304.52, 450.97, 182.36, 915.32, 319.29, 362.01, 1046.38, 357.91, 561.2, 322.53, 1073.71, 237.21, 251.2, 359.73, 117.23, 363.17, 214.18, 171.64, 258.58, 299.52, 718.98, 119.7, 405.25, 210.77, 714.82, 215.97, 164.2, 201.55, 203.41, 886.82, 95.49, 499.67, 172.77, 355.39, 255.27, 591.06, 133.1, 149.13, 87.55, 1061.54, 286.94, 524.42, 316.0, 441.43, 189.7, 844.94, 155.34, 257.56, 610.69, 217.97, 173.18, 218.06, 372.97, 484.39, 248.1, 162.35, 303.42, 290.69, 160.93, 369.4, 487.27, 93.35, 96.68, 72.14, 90.22, 168.52, 203.15, 71.42, 464.56, 57.0, 89.42, 49.47, 200.05, 254.37, 65.05, 118.19], \"yaxis\": \"y2\"}, {\"mode\": \"lines\", \"name\": \"bitstamp:/USD-BTC\", \"type\": \"scatter\", \"uid\": \"144dadab-dc92-4059-bcf1-f191aae5cff6\", \"xaxis\": \"x3\", \"y\": [8740.99, 8739.0, 8728.49, 8708.32, 8795.9, 8760.0, 8760.0, 8759.23, 8517.77, 8520.3, 8535.23, 8546.34, 8526.65, 8555.6, 8512.1, 8492.28, 8460.0, 8474.99, 8455.92, 8326.28, 8133.43, 8164.79, 8229.38, 8220.4, 8238.8, 8232.99, 8207.48, 8243.45, 8371.13, 8373.0, 8365.08, 8179.99, 8225.0, 8285.8, 8273.4, 8297.4, 8279.89, 8252.72, 8302.18, 8295.85, 8277.25, 8346.59, 8358.3, 8375.1, 8368.62, 8366.72, 8314.77, 8363.7, 8344.16, 8247.4, 8277.4, 8291.67, 8307.89, 8298.9, 8269.47, 8300.98, 8318.49, 8306.39, 8276.43, 8257.69, 8166.0, 8176.33, 8200.7, 8155.41, 8080.0, 8067.03, 7958.08, 7974.25, 7998.5, 7991.99, 8022.7, 8042.97, 7965.67, 8088.95, 8122.19, 8107.99, 8137.73, 8115.0, 8107.0, 8094.4, 8080.01, 8117.09, 8126.99, 8110.95, 8215.39, 8231.42, 8240.13, 8235.0, 8219.9, 8248.87, 8213.5, 8200.99, 8200.0, 8237.3, 8228.13, 8240.83, 8214.9, 8170.07, 8229.87, 8205.87, 8252.56], \"yaxis\": \"y3\"}, {\"mode\": \"lines\", \"name\": \"bitstamp:/USD:/free\", \"type\": \"scatter\", \"uid\": \"215fa976-3ead-45d7-83c7-ba95c90c4306\", \"xaxis\": \"x3\", \"y\": [10000.0, 10000.0, 10000.0, 1000.0, 1000.0, 1000.0, 1000.0, 1000.0, 1000.0, 9730.11, 9730.11, 9730.11, 9730.11, 9730.11, 9730.11, 9730.11, 9730.11, 9730.11, 973.01, 973.01, 973.01, 973.01, 973.01, 973.01, 973.01, 973.01, 973.01, 973.01, 973.01, 973.01, 973.01, 973.01, 973.01, 973.01, 973.01, 973.01, 973.01, 973.01, 973.01, 973.01, 973.01, 973.01, 973.01, 973.01, 973.01, 973.01, 973.01, 973.01, 973.01, 973.01, 973.01, 973.01, 973.01, 973.01, 973.01, 973.01, 973.01, 973.01, 973.01, 973.01, 973.01, 973.01, 973.01, 973.01, 973.01, 973.01, 973.01, 9146.73, 9146.73, 9146.73, 9146.73, 0.0, 0.0, 0.0, 0.0, 0.0, 0.0, 0.0, 0.0, 0.0, 0.0, 0.0, 0.0, 0.0, 0.0, 0.0, 0.0, 0.0, 0.0, 0.0, 0.0, 0.0, 0.0, 0.0, 0.0, 0.0, 0.0, 0.0, 0.0, 0.0, 0.0], \"yaxis\": \"y3\"}, {\"mode\": \"lines\", \"name\": \"bitstamp:/USD:/locked\", \"type\": \"scatter\", \"uid\": \"f14581dc-310b-4fca-903b-cfdfa33d18fc\", \"xaxis\": \"x3\", \"y\": [0.0, 0.0, 0.0, 0.0, 0.0, 0.0, 0.0, 0.0, 0.0, 0.0, 0.0, 0.0, 0.0, 0.0, 0.0, 0.0, 0.0, 0.0, 0.0, 0.0, 0.0, 0.0, 0.0, 0.0, 0.0, 0.0, 0.0, 0.0, 0.0, 0.0, 0.0, 0.0, 0.0, 0.0, 0.0, 0.0, 0.0, 0.0, 0.0, 0.0, 0.0, 0.0, 0.0, 0.0, 0.0, 0.0, 0.0, 0.0, 0.0, 0.0, 0.0, 0.0, 0.0, 0.0, 0.0, 0.0, 0.0, 0.0, 0.0, 0.0, 0.0, 0.0, 0.0, 0.0, 0.0, 0.0, 0.0, 0.0, 0.0, 0.0, 0.0, 0.0, 0.0, 0.0, 0.0, 0.0, 0.0, 0.0, 0.0, 0.0, 0.0, 0.0, 0.0, 0.0, 0.0, 0.0, 0.0, 0.0, 0.0, 0.0, 0.0, 0.0, 0.0, 0.0, 0.0, 0.0, 0.0, 0.0, 0.0, 0.0, 0.0], \"yaxis\": \"y3\"}, {\"mode\": \"lines\", \"name\": \"bitstamp:/USD:/total\", \"type\": \"scatter\", \"uid\": \"b26474e7-1144-4f03-9f03-7bd22931501e\", \"xaxis\": \"x3\", \"y\": [10000.0, 10000.0, 10000.0, 1000.0, 1000.0, 1000.0, 1000.0, 1000.0, 1000.0, 9730.11, 9730.11, 9730.11, 9730.11, 9730.11, 9730.11, 9730.11, 9730.11, 9730.11, 973.01, 973.01, 973.01, 973.01, 973.01, 973.01, 973.01, 973.01, 973.01, 973.01, 973.01, 973.01, 973.01, 973.01, 973.01, 973.01, 973.01, 973.01, 973.01, 973.01, 973.01, 973.01, 973.01, 973.01, 973.01, 973.01, 973.01, 973.01, 973.01, 973.01, 973.01, 973.01, 973.01, 973.01, 973.01, 973.01, 973.01, 973.01, 973.01, 973.01, 973.01, 973.01, 973.01, 973.01, 973.01, 973.01, 973.01, 973.01, 973.01, 9146.73, 9146.73, 9146.73, 9146.73, 0.0, 0.0, 0.0, 0.0, 0.0, 0.0, 0.0, 0.0, 0.0, 0.0, 0.0, 0.0, 0.0, 0.0, 0.0, 0.0, 0.0, 0.0, 0.0, 0.0, 0.0, 0.0, 0.0, 0.0, 0.0, 0.0, 0.0, 0.0, 0.0, 0.0], \"yaxis\": \"y3\"}, {\"mode\": \"lines\", \"name\": \"bitstamp:/BTC:/free\", \"type\": \"scatter\", \"uid\": \"b17d4003-2e58-4235-8a40-be01d611c74e\", \"xaxis\": \"x3\", \"y\": [10.0, 10.0, 10.0, 10.0, 10.0, 10.0, 10.0, 10.0, 10.0, 10.0, 10.0, 10.0, 10.0, 10.0, 10.0, 10.0, 10.0, 10.0, 10.0, 10.0, 10.0, 10.0, 10.0, 10.0, 10.0, 10.0, 10.0, 10.0, 10.0, 10.0, 10.0, 10.0, 10.0, 10.0, 10.0, 10.0, 10.0, 10.0, 10.0, 10.0, 10.0, 10.0, 10.0, 10.0, 10.0, 10.0, 10.0, 10.0, 10.0, 10.0, 10.0, 10.0, 10.0, 10.0, 10.0, 10.0, 10.0, 10.0, 10.0, 10.0, 10.0, 10.0, 10.0, 10.0, 10.0, 10.0, 10.0, 10.0, 10.0, 10.0, 10.0, 10.0, 10.0, 10.0, 10.0, 10.0, 10.0, 10.0, 10.0, 10.0, 10.0, 10.0, 10.0, 10.0, 10.0, 10.0, 10.0, 10.0, 10.0, 10.0, 10.0, 10.0, 10.0, 10.0, 10.0, 10.0, 10.0, 10.0, 10.0, 10.0, 10.0], \"yaxis\": \"y3\"}, {\"mode\": \"lines\", \"name\": \"bitstamp:/BTC:/locked\", \"type\": \"scatter\", \"uid\": \"042e0b65-eede-4d26-9f7b-b257debd16f8\", \"xaxis\": \"x3\", \"y\": [0.0, 0.0, 0.0, 1.02801286, 1.02801286, 1.02801286, 1.02801286, 1.02801286, 1.02801286, 0.0, 0.0, 0.0, 0.0, 0.0, 0.0, 0.0, 0.0, 0.0, 1.03018765, 1.03018765, 1.03018765, 1.03018765, 1.03018765, 1.03018765, 1.03018765, 1.03018765, 1.03018765, 1.03018765, 1.03018765, 1.03018765, 1.03018765, 1.03018765, 1.03018765, 1.03018765, 1.03018765, 1.03018765, 1.03018765, 1.03018765, 1.03018765, 1.03018765, 1.03018765, 1.03018765, 1.03018765, 1.03018765, 1.03018765, 1.03018765, 1.03018765, 1.03018765, 1.03018765, 1.03018765, 1.03018765, 1.03018765, 1.03018765, 1.03018765, 1.03018765, 1.03018765, 1.03018765, 1.03018765, 1.03018765, 1.03018765, 1.03018765, 1.03018765, 1.03018765, 1.03018765, 1.03018765, 1.03018765, 1.03018765, 0.0, 0.0, 0.0, 0.0, 1.1366859, 1.1366859, 1.1366859, 1.1366859, 1.1366859, 1.1366859, 1.1366859, 1.1366859, 1.1366859, 1.1366859, 1.1366859, 1.1366859, 1.1366859, 1.1366859, 1.1366859, 1.1366859, 1.1366859, 1.1366859, 1.1366859, 1.1366859, 1.1366859, 1.1366859, 1.1366859, 1.1366859, 1.1366859, 1.1366859, 1.1366859, 1.1366859, 1.1366859, 1.1366859], \"yaxis\": \"y3\"}, {\"mode\": \"lines\", \"name\": \"bitstamp:/BTC:/total\", \"type\": \"scatter\", \"uid\": \"25740144-d456-4953-88f1-707b2dedb8c3\", \"xaxis\": \"x3\", \"y\": [10.0, 10.0, 10.0, 11.02801286, 11.02801286, 11.02801286, 11.02801286, 11.02801286, 11.02801286, 10.0, 10.0, 10.0, 10.0, 10.0, 10.0, 10.0, 10.0, 10.0, 11.03018765, 11.03018765, 11.03018765, 11.03018765, 11.03018765, 11.03018765, 11.03018765, 11.03018765, 11.03018765, 11.03018765, 11.03018765, 11.03018765, 11.03018765, 11.03018765, 11.03018765, 11.03018765, 11.03018765, 11.03018765, 11.03018765, 11.03018765, 11.03018765, 11.03018765, 11.03018765, 11.03018765, 11.03018765, 11.03018765, 11.03018765, 11.03018765, 11.03018765, 11.03018765, 11.03018765, 11.03018765, 11.03018765, 11.03018765, 11.03018765, 11.03018765, 11.03018765, 11.03018765, 11.03018765, 11.03018765, 11.03018765, 11.03018765, 11.03018765, 11.03018765, 11.03018765, 11.03018765, 11.03018765, 11.03018765, 11.03018765, 10.0, 10.0, 10.0, 10.0, 11.1366859, 11.1366859, 11.1366859, 11.1366859, 11.1366859, 11.1366859, 11.1366859, 11.1366859, 11.1366859, 11.1366859, 11.1366859, 11.1366859, 11.1366859, 11.1366859, 11.1366859, 11.1366859, 11.1366859, 11.1366859, 11.1366859, 11.1366859, 11.1366859, 11.1366859, 11.1366859, 11.1366859, 11.1366859, 11.1366859, 11.1366859, 11.1366859, 11.1366859, 11.1366859], \"yaxis\": \"y3\"}, {\"mode\": \"lines\", \"name\": \"bitstamp:/BTC:/worth\", \"type\": \"scatter\", \"uid\": \"04b9efcf-d7af-4127-bd92-3213de7f2309\", \"xaxis\": \"x3\", \"y\": [87409.9, 87390.0, 87284.9, 96035.4649489952, 97001.298315274, 96605.3926536, 96605.3926536, 96596.9010836978, 93934.0770985222, 85203.0, 85352.29999999999, 85463.4, 85266.5, 85556.0, 85121.0, 84922.8, 84600.0, 84749.9, 93270.384353388, 91840.43082644201, 89713.2591381395, 90059.1658228435, 90771.60564315699, 90672.55455806, 90875.51001082, 90811.4246205735, 90530.044533622, 90926.8003833925, 92335.1347425445, 92355.76119345, 92268.402107262, 90226.8246751235, 90723.29342125, 91393.92883036999, 91257.15450351, 91521.87900711, 91328.7404213585, 91029.050222908, 91574.603304077, 91504.78221625251, 91299.62072596251, 92064.4539376135, 92193.61743499499, 92378.92458751501, 92307.44897154301, 92286.491615008, 91713.47336659051, 92253.18044830501, 92037.650581624, 90970.36962461, 91301.27525410999, 91458.6760318755, 91637.5856755585, 91538.424288585, 91213.8058660455, 91561.36707889699, 91754.5056646485, 91621.0403940835, 91290.5759720895, 91083.87025552851, 90072.5123499, 90186.4541883245, 90455.259861355, 89955.7026626865, 89123.916212, 88980.8546781795, 87779.115733712, 79742.5, 79985.0, 79919.9, 80227.0, 89572.030593123, 88711.164773053, 90084.09541080499, 90454.27885012099, 90296.137910341, 90627.342949007, 90374.20607849999, 90285.1125913, 90144.79034896, 89984.533438859, 90397.481752031, 90507.73494244099, 90329.10250060499, 91492.21797600099, 91670.739050978, 91767.73958516699, 91710.6083865, 91542.44442941, 91865.07421993301, 91471.16963965, 91331.84969904099, 91320.82438, 91736.22276406999, 91634.09935436699, 91775.535265297, 91486.76099991, 90987.503371013, 91653.477187833, 91386.19672623301, 91906.168590904], \"yaxis\": \"y3\"}, {\"mode\": \"lines\", \"name\": \"net_worth\", \"type\": \"scatter\", \"uid\": \"c75c71d2-d910-4945-bba1-50dba22356b1\", \"xaxis\": \"x3\", \"y\": [97409.9, 97390.0, 97284.9, 97035.4649489952, 98001.298315274, 97605.3926536, 97605.3926536, 97596.9010836978, 94934.0770985222, 94933.11, 95082.40999999999, 95193.51, 94996.61, 95286.11, 94851.11, 94652.91, 94330.11, 94480.01, 94243.394353388, 92813.440826442, 90686.2691381395, 91032.17582284349, 91744.61564315698, 91645.56455806, 91848.52001082, 91784.43462057349, 91503.054533622, 91899.8103833925, 93308.1447425445, 93328.77119345, 93241.41210726199, 91199.8346751235, 91696.30342124999, 92366.93883036998, 92230.16450351, 92494.88900710999, 92301.75042135849, 92002.060222908, 92547.613304077, 92477.7922162525, 92272.6307259625, 93037.4639376135, 93166.62743499498, 93351.934587515, 93280.458971543, 93259.50161500799, 92686.4833665905, 93226.190448305, 93010.66058162399, 91943.37962461, 92274.28525410999, 92431.68603187549, 92610.59567555849, 92511.43428858499, 92186.8158660455, 92534.37707889699, 92727.5156646485, 92594.05039408349, 92263.5859720895, 92056.88025552851, 91045.5223499, 91159.46418832449, 91428.269861355, 90928.71266268649, 90096.92621199999, 89953.8646781795, 88752.12573371199, 88889.23, 89131.73, 89066.62999999999, 89373.73, 89572.030593123, 88711.164773053, 90084.09541080499, 90454.27885012099, 90296.137910341, 90627.342949007, 90374.20607849999, 90285.1125913, 90144.79034896, 89984.533438859, 90397.481752031, 90507.73494244099, 90329.10250060499, 91492.21797600099, 91670.739050978, 91767.73958516699, 91710.6083865, 91542.44442941, 91865.07421993301, 91471.16963965, 91331.84969904099, 91320.82438, 91736.22276406999, 91634.09935436699, 91775.535265297, 91486.76099991, 90987.503371013, 91653.477187833, 91386.19672623301, 91906.168590904], \"yaxis\": \"y3\"}, {\"marker\": {\"color\": \"DarkGreen\"}, \"mode\": \"lines\", \"name\": \"Net Worth\", \"type\": \"scatter\", \"uid\": \"a85c8827-5a96-4205-b9d6-e2c5b9b5ffa8\", \"xaxis\": \"x4\", \"y\": [97409.9, 97390.0, 97284.9, 97035.4649489952, 98001.298315274, 97605.3926536, 97605.3926536, 97596.9010836978, 94934.0770985222, 94933.11, 95082.40999999999, 95193.51, 94996.61, 95286.11, 94851.11, 94652.91, 94330.11, 94480.01, 94243.394353388, 92813.440826442, 90686.2691381395, 91032.17582284349, 91744.61564315698, 91645.56455806, 91848.52001082, 91784.43462057349, 91503.054533622, 91899.8103833925, 93308.1447425445, 93328.77119345, 93241.41210726199, 91199.8346751235, 91696.30342124999, 92366.93883036998, 92230.16450351, 92494.88900710999, 92301.75042135849, 92002.060222908, 92547.613304077, 92477.7922162525, 92272.6307259625, 93037.4639376135, 93166.62743499498, 93351.934587515, 93280.458971543, 93259.50161500799, 92686.4833665905, 93226.190448305, 93010.66058162399, 91943.37962461, 92274.28525410999, 92431.68603187549, 92610.59567555849, 92511.43428858499, 92186.8158660455, 92534.37707889699, 92727.5156646485, 92594.05039408349, 92263.5859720895, 92056.88025552851, 91045.5223499, 91159.46418832449, 91428.269861355, 90928.71266268649, 90096.92621199999, 89953.8646781795, 88752.12573371199, 88889.23, 89131.73, 89066.62999999999, 89373.73, 89572.030593123, 88711.164773053, 90084.09541080499, 90454.27885012099, 90296.137910341, 90627.342949007, 90374.20607849999, 90285.1125913, 90144.79034896, 89984.533438859, 90397.481752031, 90507.73494244099, 90329.10250060499, 91492.21797600099, 91670.739050978, 91767.73958516699, 91710.6083865, 91542.44442941, 91865.07421993301, 91471.16963965, 91331.84969904099, 91320.82438, 91736.22276406999, 91634.09935436699, 91775.535265297, 91486.76099991, 90987.503371013, 91653.477187833, 91386.19672623301, 91906.168590904], \"yaxis\": \"y4\"}],                        {\"annotations\": [{\"arrowcolor\": \"DarkGreen\", \"arrowhead\": 2, \"arrowsize\": 0.8, \"arrowwidth\": 4, \"ax\": 0, \"ay\": 15, \"hoverlabel\": {\"bgcolor\": \"DarkGreen\"}, \"hovertext\": \"Step 18 [2018-05-15 23:00:00]<br>BUY 1.03018765 BTC @ 8474.99 USD MARKET<br>Total: 8730.83 USD - Comm.: 26.27 USD\", \"opacity\": 0.6, \"showarrow\": true, \"x\": 17, \"xref\": \"x\", \"y\": 8474.99, \"yref\": \"y\"}, {\"arrowcolor\": \"FireBrick\", \"arrowhead\": 2, \"arrowsize\": 0.8, \"arrowwidth\": 4, \"ax\": 0, \"ay\": -15, \"hoverlabel\": {\"bgcolor\": \"FireBrick\"}, \"hovertext\": \"Step 9 [2018-05-15 14:00:00]<br>SELL 1.02492882 BTC @ 8517.77 USD MARKET<br>Total: 8730.11 USD - Comm.: 0.00308404 BTC\", \"opacity\": 0.6, \"showarrow\": true, \"x\": 8, \"xref\": \"x\", \"y\": 8517.77, \"yref\": \"y\"}, {\"arrowcolor\": \"DarkGreen\", \"arrowhead\": 2, \"arrowsize\": 0.8, \"arrowwidth\": 4, \"ax\": 0, \"ay\": 15, \"hoverlabel\": {\"bgcolor\": \"DarkGreen\"}, \"hovertext\": \"Step 3 [2018-05-15 08:00:00]<br>BUY 1.02801286 BTC @ 8728.49 USD MARKET<br>Total: 8973.0 USD - Comm.: 27.00 USD\", \"opacity\": 0.6, \"showarrow\": true, \"x\": 2, \"xref\": \"x\", \"y\": 8728.49, \"yref\": \"y\"}, {\"arrowcolor\": \"DarkGreen\", \"arrowhead\": 2, \"arrowsize\": 0.8, \"arrowwidth\": 4, \"ax\": 0, \"ay\": 15, \"hoverlabel\": {\"bgcolor\": \"DarkGreen\"}, \"hovertext\": \"Step 71 [2018-05-18 04:00:00]<br>BUY 1.1366859 BTC @ 8022.7 USD MARKET<br>Total: 9119.29 USD - Comm.: 27.44 USD\", \"opacity\": 0.6, \"showarrow\": true, \"x\": 70, \"xref\": \"x\", \"y\": 8022.7, \"yref\": \"y\"}, {\"arrowcolor\": \"FireBrick\", \"arrowhead\": 2, \"arrowsize\": 0.8, \"arrowwidth\": 4, \"ax\": 0, \"ay\": -15, \"hoverlabel\": {\"bgcolor\": \"FireBrick\"}, \"hovertext\": \"Step 67 [2018-05-18 00:00:00]<br>SELL 1.02709709 BTC @ 7958.08 USD MARKET<br>Total: 8173.72 USD - Comm.: 0.00309056 BTC\", \"opacity\": 0.6, \"showarrow\": true, \"x\": 66, \"xref\": \"x\", \"y\": 7958.08, \"yref\": \"y\"}], \"margin\": {\"t\": 50}, \"template\": {\"data\": {\"bar\": [{\"error_x\": {\"color\": \"#2a3f5f\"}, \"error_y\": {\"color\": \"#2a3f5f\"}, \"marker\": {\"line\": {\"color\": \"white\", \"width\": 0.5}}, \"type\": \"bar\"}], \"barpolar\": [{\"marker\": {\"line\": {\"color\": \"white\", \"width\": 0.5}}, \"type\": \"barpolar\"}], \"carpet\": [{\"aaxis\": {\"endlinecolor\": \"#2a3f5f\", \"gridcolor\": \"#C8D4E3\", \"linecolor\": \"#C8D4E3\", \"minorgridcolor\": \"#C8D4E3\", \"startlinecolor\": \"#2a3f5f\"}, \"baxis\": {\"endlinecolor\": \"#2a3f5f\", \"gridcolor\": \"#C8D4E3\", \"linecolor\": \"#C8D4E3\", \"minorgridcolor\": \"#C8D4E3\", \"startlinecolor\": \"#2a3f5f\"}, \"type\": \"carpet\"}], \"choropleth\": [{\"colorbar\": {\"outlinewidth\": 0, \"ticks\": \"\"}, \"type\": \"choropleth\"}], \"contour\": [{\"colorbar\": {\"outlinewidth\": 0, \"ticks\": \"\"}, \"colorscale\": [[0.0, \"#0d0887\"], [0.1111111111111111, \"#46039f\"], [0.2222222222222222, \"#7201a8\"], [0.3333333333333333, \"#9c179e\"], [0.4444444444444444, \"#bd3786\"], [0.5555555555555556, \"#d8576b\"], [0.6666666666666666, \"#ed7953\"], [0.7777777777777778, \"#fb9f3a\"], [0.8888888888888888, \"#fdca26\"], [1.0, \"#f0f921\"]], \"type\": \"contour\"}], \"contourcarpet\": [{\"colorbar\": {\"outlinewidth\": 0, \"ticks\": \"\"}, \"type\": \"contourcarpet\"}], \"heatmap\": [{\"colorbar\": {\"outlinewidth\": 0, \"ticks\": \"\"}, \"colorscale\": [[0.0, \"#0d0887\"], [0.1111111111111111, \"#46039f\"], [0.2222222222222222, \"#7201a8\"], [0.3333333333333333, \"#9c179e\"], [0.4444444444444444, \"#bd3786\"], [0.5555555555555556, \"#d8576b\"], [0.6666666666666666, \"#ed7953\"], [0.7777777777777778, \"#fb9f3a\"], [0.8888888888888888, \"#fdca26\"], [1.0, \"#f0f921\"]], \"type\": \"heatmap\"}], \"heatmapgl\": [{\"colorbar\": {\"outlinewidth\": 0, \"ticks\": \"\"}, \"colorscale\": [[0.0, \"#0d0887\"], [0.1111111111111111, \"#46039f\"], [0.2222222222222222, \"#7201a8\"], [0.3333333333333333, \"#9c179e\"], [0.4444444444444444, \"#bd3786\"], [0.5555555555555556, \"#d8576b\"], [0.6666666666666666, \"#ed7953\"], [0.7777777777777778, \"#fb9f3a\"], [0.8888888888888888, \"#fdca26\"], [1.0, \"#f0f921\"]], \"type\": \"heatmapgl\"}], \"histogram\": [{\"marker\": {\"colorbar\": {\"outlinewidth\": 0, \"ticks\": \"\"}}, \"type\": \"histogram\"}], \"histogram2d\": [{\"colorbar\": {\"outlinewidth\": 0, \"ticks\": \"\"}, \"colorscale\": [[0.0, \"#0d0887\"], [0.1111111111111111, \"#46039f\"], [0.2222222222222222, \"#7201a8\"], [0.3333333333333333, \"#9c179e\"], [0.4444444444444444, \"#bd3786\"], [0.5555555555555556, \"#d8576b\"], [0.6666666666666666, \"#ed7953\"], [0.7777777777777778, \"#fb9f3a\"], [0.8888888888888888, \"#fdca26\"], [1.0, \"#f0f921\"]], \"type\": \"histogram2d\"}], \"histogram2dcontour\": [{\"colorbar\": {\"outlinewidth\": 0, \"ticks\": \"\"}, \"colorscale\": [[0.0, \"#0d0887\"], [0.1111111111111111, \"#46039f\"], [0.2222222222222222, \"#7201a8\"], [0.3333333333333333, \"#9c179e\"], [0.4444444444444444, \"#bd3786\"], [0.5555555555555556, \"#d8576b\"], [0.6666666666666666, \"#ed7953\"], [0.7777777777777778, \"#fb9f3a\"], [0.8888888888888888, \"#fdca26\"], [1.0, \"#f0f921\"]], \"type\": \"histogram2dcontour\"}], \"mesh3d\": [{\"colorbar\": {\"outlinewidth\": 0, \"ticks\": \"\"}, \"type\": \"mesh3d\"}], \"parcoords\": [{\"line\": {\"colorbar\": {\"outlinewidth\": 0, \"ticks\": \"\"}}, \"type\": \"parcoords\"}], \"pie\": [{\"automargin\": true, \"type\": \"pie\"}], \"scatter\": [{\"marker\": {\"colorbar\": {\"outlinewidth\": 0, \"ticks\": \"\"}}, \"type\": \"scatter\"}], \"scatter3d\": [{\"line\": {\"colorbar\": {\"outlinewidth\": 0, \"ticks\": \"\"}}, \"marker\": {\"colorbar\": {\"outlinewidth\": 0, \"ticks\": \"\"}}, \"type\": \"scatter3d\"}], \"scattercarpet\": [{\"marker\": {\"colorbar\": {\"outlinewidth\": 0, \"ticks\": \"\"}}, \"type\": \"scattercarpet\"}], \"scattergeo\": [{\"marker\": {\"colorbar\": {\"outlinewidth\": 0, \"ticks\": \"\"}}, \"type\": \"scattergeo\"}], \"scattergl\": [{\"marker\": {\"colorbar\": {\"outlinewidth\": 0, \"ticks\": \"\"}}, \"type\": \"scattergl\"}], \"scattermapbox\": [{\"marker\": {\"colorbar\": {\"outlinewidth\": 0, \"ticks\": \"\"}}, \"type\": \"scattermapbox\"}], \"scatterpolar\": [{\"marker\": {\"colorbar\": {\"outlinewidth\": 0, \"ticks\": \"\"}}, \"type\": \"scatterpolar\"}], \"scatterpolargl\": [{\"marker\": {\"colorbar\": {\"outlinewidth\": 0, \"ticks\": \"\"}}, \"type\": \"scatterpolargl\"}], \"scatterternary\": [{\"marker\": {\"colorbar\": {\"outlinewidth\": 0, \"ticks\": \"\"}}, \"type\": \"scatterternary\"}], \"surface\": [{\"colorbar\": {\"outlinewidth\": 0, \"ticks\": \"\"}, \"colorscale\": [[0.0, \"#0d0887\"], [0.1111111111111111, \"#46039f\"], [0.2222222222222222, \"#7201a8\"], [0.3333333333333333, \"#9c179e\"], [0.4444444444444444, \"#bd3786\"], [0.5555555555555556, \"#d8576b\"], [0.6666666666666666, \"#ed7953\"], [0.7777777777777778, \"#fb9f3a\"], [0.8888888888888888, \"#fdca26\"], [1.0, \"#f0f921\"]], \"type\": \"surface\"}], \"table\": [{\"cells\": {\"fill\": {\"color\": \"#EBF0F8\"}, \"line\": {\"color\": \"white\"}}, \"header\": {\"fill\": {\"color\": \"#C8D4E3\"}, \"line\": {\"color\": \"white\"}}, \"type\": \"table\"}]}, \"layout\": {\"annotationdefaults\": {\"arrowcolor\": \"#2a3f5f\", \"arrowhead\": 0, \"arrowwidth\": 1}, \"autotypenumbers\": \"strict\", \"coloraxis\": {\"colorbar\": {\"outlinewidth\": 0, \"ticks\": \"\"}}, \"colorscale\": {\"diverging\": [[0, \"#8e0152\"], [0.1, \"#c51b7d\"], [0.2, \"#de77ae\"], [0.3, \"#f1b6da\"], [0.4, \"#fde0ef\"], [0.5, \"#f7f7f7\"], [0.6, \"#e6f5d0\"], [0.7, \"#b8e186\"], [0.8, \"#7fbc41\"], [0.9, \"#4d9221\"], [1, \"#276419\"]], \"sequential\": [[0.0, \"#0d0887\"], [0.1111111111111111, \"#46039f\"], [0.2222222222222222, \"#7201a8\"], [0.3333333333333333, \"#9c179e\"], [0.4444444444444444, \"#bd3786\"], [0.5555555555555556, \"#d8576b\"], [0.6666666666666666, \"#ed7953\"], [0.7777777777777778, \"#fb9f3a\"], [0.8888888888888888, \"#fdca26\"], [1.0, \"#f0f921\"]], \"sequentialminus\": [[0.0, \"#0d0887\"], [0.1111111111111111, \"#46039f\"], [0.2222222222222222, \"#7201a8\"], [0.3333333333333333, \"#9c179e\"], [0.4444444444444444, \"#bd3786\"], [0.5555555555555556, \"#d8576b\"], [0.6666666666666666, \"#ed7953\"], [0.7777777777777778, \"#fb9f3a\"], [0.8888888888888888, \"#fdca26\"], [1.0, \"#f0f921\"]]}, \"colorway\": [\"#636efa\", \"#EF553B\", \"#00cc96\", \"#ab63fa\", \"#FFA15A\", \"#19d3f3\", \"#FF6692\", \"#B6E880\", \"#FF97FF\", \"#FECB52\"], \"font\": {\"color\": \"#2a3f5f\"}, \"geo\": {\"bgcolor\": \"white\", \"lakecolor\": \"white\", \"landcolor\": \"white\", \"showlakes\": true, \"showland\": true, \"subunitcolor\": \"#C8D4E3\"}, \"hoverlabel\": {\"align\": \"left\"}, \"hovermode\": \"closest\", \"mapbox\": {\"style\": \"light\"}, \"paper_bgcolor\": \"white\", \"plot_bgcolor\": \"white\", \"polar\": {\"angularaxis\": {\"gridcolor\": \"#EBF0F8\", \"linecolor\": \"#EBF0F8\", \"ticks\": \"\"}, \"bgcolor\": \"white\", \"radialaxis\": {\"gridcolor\": \"#EBF0F8\", \"linecolor\": \"#EBF0F8\", \"ticks\": \"\"}}, \"scene\": {\"xaxis\": {\"backgroundcolor\": \"white\", \"gridcolor\": \"#DFE8F3\", \"gridwidth\": 2, \"linecolor\": \"#EBF0F8\", \"showbackground\": true, \"ticks\": \"\", \"zerolinecolor\": \"#EBF0F8\"}, \"yaxis\": {\"backgroundcolor\": \"white\", \"gridcolor\": \"#DFE8F3\", \"gridwidth\": 2, \"linecolor\": \"#EBF0F8\", \"showbackground\": true, \"ticks\": \"\", \"zerolinecolor\": \"#EBF0F8\"}, \"zaxis\": {\"backgroundcolor\": \"white\", \"gridcolor\": \"#DFE8F3\", \"gridwidth\": 2, \"linecolor\": \"#EBF0F8\", \"showbackground\": true, \"ticks\": \"\", \"zerolinecolor\": \"#EBF0F8\"}}, \"shapedefaults\": {\"line\": {\"color\": \"#2a3f5f\"}}, \"ternary\": {\"aaxis\": {\"gridcolor\": \"#DFE8F3\", \"linecolor\": \"#A2B1C6\", \"ticks\": \"\"}, \"baxis\": {\"gridcolor\": \"#DFE8F3\", \"linecolor\": \"#A2B1C6\", \"ticks\": \"\"}, \"bgcolor\": \"white\", \"caxis\": {\"gridcolor\": \"#DFE8F3\", \"linecolor\": \"#A2B1C6\", \"ticks\": \"\"}}, \"title\": {\"x\": 0.05}, \"xaxis\": {\"automargin\": true, \"gridcolor\": \"#EBF0F8\", \"linecolor\": \"#EBF0F8\", \"ticks\": \"\", \"title\": {\"standoff\": 15}, \"zerolinecolor\": \"#EBF0F8\", \"zerolinewidth\": 2}, \"yaxis\": {\"automargin\": true, \"gridcolor\": \"#EBF0F8\", \"linecolor\": \"#EBF0F8\", \"ticks\": \"\", \"title\": {\"standoff\": 15}, \"zerolinecolor\": \"#EBF0F8\", \"zerolinewidth\": 2}}}, \"title\": {\"text\": \"[2021-04-02 13:17:50 PM] Episode: 2/2 Step: 101/200\"}, \"xaxis\": {\"anchor\": \"y\", \"domain\": [0.0, 1.0], \"gridcolor\": \"Gainsboro\", \"linecolor\": \"Grey\", \"matches\": \"x4\", \"rangeslider\": {\"visible\": false}, \"showticklabels\": false, \"title\": {\"font\": {\"size\": 12}, \"standoff\": 7, \"text\": \"Price\"}}, \"xaxis2\": {\"anchor\": \"y2\", \"domain\": [0.0, 1.0], \"gridcolor\": \"Gainsboro\", \"linecolor\": \"Grey\", \"matches\": \"x4\", \"showticklabels\": false, \"title\": {\"font\": {\"size\": 12}, \"standoff\": 7, \"text\": \"Volume\"}}, \"xaxis3\": {\"anchor\": \"y3\", \"domain\": [0.0, 1.0], \"gridcolor\": \"Gainsboro\", \"linecolor\": \"Grey\", \"matches\": \"x4\", \"showticklabels\": false, \"title\": {\"font\": {\"size\": 12}, \"standoff\": 7, \"text\": \"Performance\"}}, \"xaxis4\": {\"anchor\": \"y4\", \"domain\": [0.0, 1.0], \"gridcolor\": \"Gainsboro\", \"linecolor\": \"Grey\", \"title\": {\"font\": {\"size\": 12}, \"standoff\": 7, \"text\": \"Net Worth\"}}, \"yaxis\": {\"anchor\": \"x\", \"domain\": [0.49950000000000006, 1.0], \"gridcolor\": \"Gainsboro\", \"linecolor\": \"Grey\"}, \"yaxis2\": {\"anchor\": \"x2\", \"domain\": [0.333, 0.46950000000000003], \"gridcolor\": \"Gainsboro\", \"linecolor\": \"Grey\"}, \"yaxis3\": {\"anchor\": \"x3\", \"domain\": [0.1665, 0.30300000000000005], \"gridcolor\": \"Gainsboro\", \"linecolor\": \"Grey\"}, \"yaxis4\": {\"anchor\": \"x4\", \"domain\": [0.0, 0.1365], \"gridcolor\": \"Gainsboro\", \"linecolor\": \"Grey\"}},                        {\"responsive\": true}                    ).then(function(){\n                            \nvar gd = document.getElementById('b681ea03-5614-4aad-94f8-3d624faeb0d2');\nvar x = new MutationObserver(function (mutations, observer) {{\n        var display = window.getComputedStyle(gd).display;\n        if (!display || display === 'none') {{\n            console.log([gd, 'removed!']);\n            Plotly.purge(gd);\n            observer.disconnect();\n        }}\n}});\n\n// Listen for the removal of the full notebook cells\nvar notebookContainer = gd.closest('#notebook-container');\nif (notebookContainer) {{\n    x.observe(notebookContainer, {childList: true});\n}}\n\n// Listen for the clearing of the current output cell\nvar outputEl = gd.closest('.output');\nif (outputEl) {{\n    x.observe(outputEl, {childList: true});\n}}\n\n                        })                };                });            </script>        </div>"
     },
     "metadata": {}
    },
    {
     "output_type": "display_data",
     "data": {
      "text/plain": "FigureWidget({\n    'data': [{'close': array([8740.99, 8739.  , 8728.49, 8708.32, 8795.9 , 8760.  , 8760.  , 87…",
      "application/vnd.jupyter.widget-view+json": {
       "version_major": 2,
       "version_minor": 0,
       "model_id": "6fbd4375fc194fc2a503985241af19d8"
      }
     },
     "metadata": {}
    },
    {
     "output_type": "display_data",
     "data": {
      "application/vnd.plotly.v1+json": {
       "config": {
        "plotlyServerURL": "https://plot.ly"
       },
       "data": [
        {
         "close": [
          8740.99,
          8739,
          8728.49,
          8708.32,
          8795.9,
          8760,
          8760,
          8759.23,
          8517.77,
          8520.3,
          8535.23,
          8546.34,
          8526.65,
          8555.6,
          8512.1,
          8492.28,
          8460,
          8474.99,
          8455.92,
          8326.28,
          8133.43,
          8164.79,
          8229.38,
          8220.4,
          8238.8,
          8232.99,
          8207.48,
          8243.45,
          8371.13,
          8373,
          8365.08,
          8179.99,
          8225,
          8285.8,
          8273.4,
          8297.4,
          8279.89,
          8252.72,
          8302.18,
          8295.85,
          8277.25,
          8346.59,
          8358.3,
          8375.1,
          8368.62,
          8366.72,
          8314.77,
          8363.7,
          8344.16,
          8247.4,
          8277.4,
          8291.67,
          8307.89,
          8298.9,
          8269.47,
          8300.98,
          8318.49,
          8306.39,
          8276.43,
          8257.69,
          8166,
          8176.33,
          8200.7,
          8155.41,
          8080,
          8067.03,
          7958.08,
          7974.25,
          7998.5,
          7991.99,
          8022.7,
          8042.97,
          7965.67,
          8088.95,
          8122.19,
          8107.99,
          8137.73,
          8115,
          8107,
          8094.4,
          8080.01,
          8117.09,
          8126.99,
          8110.95,
          8215.39,
          8231.42,
          8240.13,
          8235,
          8219.9,
          8248.87,
          8213.5,
          8200.99,
          8200,
          8237.3,
          8228.13,
          8240.83,
          8214.9,
          8170.07,
          8229.87,
          8205.87,
          8252.56,
          8365,
          8348.65,
          8303.99,
          8310.48,
          8310,
          8289.87,
          8304.99,
          8301.35,
          8313.12,
          8240.07,
          8199.99,
          8226.98,
          8231.2,
          8198.89,
          8215.85,
          8279.99,
          8255.08,
          8270.4,
          8244.24,
          8239.12,
          8267.14,
          8282.27,
          8350.62,
          8336.6,
          8336.91,
          8311.21,
          8312.09,
          8345.19,
          8377.2,
          8481.11,
          8516.36,
          8524,
          8517.04,
          8558.5,
          8521.99,
          8484.93,
          8518.48,
          8488.99,
          8466.72,
          8492.55,
          8494.28,
          8510.95,
          8498.64,
          8551.1,
          8524.22,
          8510.11,
          8475.62,
          8476.58,
          8467.13,
          8499.84
         ],
         "high": [
          8796.68,
          8766,
          8750.27,
          8754.4,
          8865,
          8821.19,
          8798.6,
          8771.02,
          8761.7,
          8553.67,
          8589.1,
          8579.48,
          8555.51,
          8583.6,
          8569.92,
          8555.54,
          8557.51,
          8505,
          8505.33,
          8478.29,
          8339.81,
          8217.44,
          8252.72,
          8248.63,
          8267.12,
          8255,
          8261.24,
          8263.93,
          8455.66,
          8439.44,
          8399.1,
          8381.73,
          8229.91,
          8377.29,
          8329.1,
          8350,
          8346.95,
          8377.29,
          8311.35,
          8319.96,
          8398.24,
          8372.58,
          8399.99,
          8386.53,
          8400,
          8500,
          8381,
          8371.3,
          8382.41,
          8351,
          8292.99,
          8325.8,
          8318.99,
          8324.9,
          8335.56,
          8309.4,
          8377.29,
          8330.41,
          8328.23,
          8284.36,
          8274.83,
          8200,
          8232.14,
          8213.97,
          8155.41,
          8108.28,
          8068.92,
          8019.9,
          8026.66,
          8025,
          8104.69,
          8061.39,
          8045.99,
          8170.71,
          8144.16,
          8139.99,
          8152.99,
          8137.73,
          8143.72,
          8129.99,
          8106.76,
          8139,
          8152.04,
          8146.99,
          8232.14,
          8275.1,
          8256.12,
          8274.1,
          8255.8,
          8253.97,
          8261.09,
          8235.76,
          8227,
          8273.36,
          8264.21,
          8250,
          8250.86,
          8235.77,
          8232.12,
          8232.14,
          8252.72,
          8370,
          8395,
          8374.48,
          8331,
          8319.43,
          8323.4,
          8314.55,
          8330.62,
          8314.8,
          8323.99,
          8263.03,
          8247.78,
          8253.75,
          8237.89,
          8235,
          8279.99,
          8290,
          8278.71,
          8275.34,
          8279.31,
          8279.98,
          8294.04,
          8356.4,
          8374.94,
          8354.83,
          8360.45,
          8337.14,
          8351.97,
          8377.29,
          8549,
          8531.9,
          8551.79,
          8529.9,
          8590,
          8576.1,
          8549.89,
          8531.89,
          8550,
          8493.29,
          8522.98,
          8517,
          8537.29,
          8524.51,
          8589.1,
          8589.07,
          8536.92,
          8524.03,
          8497.8,
          8498,
          8513.5
         ],
         "low": [
          8707.28,
          8721.11,
          8660.53,
          8701.35,
          8695.11,
          8740.54,
          8741.52,
          8700,
          8467.42,
          8477.89,
          8500.78,
          8500,
          8400,
          8451.05,
          8461.38,
          8481.24,
          8420.37,
          8450,
          8430.94,
          8275.02,
          8100.01,
          8122.56,
          8157.01,
          8166.25,
          8176.91,
          8213.79,
          8200,
          8207.48,
          8237.1,
          8370,
          8356.4,
          8145.1,
          8173.6,
          8211.8,
          8201,
          8250.9,
          8266.46,
          8252.72,
          8232.14,
          8268.37,
          8277.25,
          8277.25,
          8314.78,
          8314.77,
          8350.07,
          8331.39,
          8314.77,
          8275.45,
          8335.49,
          8191.14,
          8227.7,
          8264.13,
          8249.93,
          8269.52,
          8219.44,
          8262.68,
          8286.65,
          8289.87,
          8232.14,
          8232.14,
          8110.02,
          8154.95,
          8168.6,
          8151,
          7980,
          8005.95,
          7929.53,
          7931.03,
          7950,
          7980.58,
          7991.99,
          7992.75,
          7953.4,
          7965.67,
          8085.94,
          8078.48,
          8092.9,
          8049.22,
          8079.46,
          8062.12,
          8043.96,
          8063.1,
          8088.46,
          8094.43,
          8088.46,
          8191.14,
          8212,
          8224.5,
          8211,
          8211.01,
          8210.03,
          8158.27,
          8177.65,
          8179.41,
          8221.92,
          8217.32,
          8213.52,
          8141.08,
          8146.1,
          8186.03,
          8197.09,
          8231.21,
          8323.82,
          8296,
          8296.31,
          8282.65,
          8280,
          8273.36,
          8290.08,
          8277.93,
          8240.07,
          8191.14,
          8178,
          8193.7,
          8180,
          8170.71,
          8215.53,
          8240.02,
          8237.17,
          8237.17,
          8239.12,
          8227.79,
          8247.57,
          8274.24,
          8326.1,
          8320.61,
          8281.31,
          8269.85,
          8311.16,
          8336.11,
          8369.86,
          8471.51,
          8511,
          8476.66,
          8507.68,
          8509.24,
          8482.53,
          8484.93,
          8450,
          8434.47,
          8461.1,
          8481,
          8480,
          8488.1,
          8471.09,
          8509.2,
          8482.64,
          8469,
          8440.4,
          8440.52,
          8461.8
         ],
         "name": "Price",
         "open": [
          8733.86,
          8740.99,
          8739,
          8728.49,
          8708.32,
          8795.9,
          8760,
          8760,
          8759.23,
          8517.77,
          8520.3,
          8535.23,
          8546.34,
          8526.65,
          8555.6,
          8512.1,
          8492.28,
          8460,
          8474.99,
          8455.92,
          8326.28,
          8133.43,
          8164.79,
          8229.38,
          8220.4,
          8238.8,
          8232.99,
          8207.48,
          8243.45,
          8371.13,
          8373,
          8365.08,
          8179.99,
          8225,
          8285.8,
          8273.4,
          8297.4,
          8279.89,
          8252.72,
          8302.18,
          8295.85,
          8277.25,
          8346.59,
          8358.3,
          8375.1,
          8368.62,
          8366.72,
          8314.77,
          8363.7,
          8344.16,
          8247.4,
          8277.4,
          8291.67,
          8307.89,
          8298.9,
          8269.47,
          8300.98,
          8318.49,
          8306.39,
          8276.43,
          8257.69,
          8166,
          8176.33,
          8200.7,
          8155.41,
          8080,
          8067.03,
          7958.08,
          7974.25,
          7998.5,
          7991.99,
          8022.7,
          8042.97,
          7965.67,
          8088.95,
          8122.19,
          8107.99,
          8137.73,
          8115,
          8107,
          8094.4,
          8080.01,
          8117.09,
          8126.99,
          8110.95,
          8215.39,
          8231.42,
          8240.13,
          8235,
          8219.9,
          8248.87,
          8213.5,
          8200.99,
          8200,
          8237.3,
          8228.13,
          8240.83,
          8214.9,
          8170.07,
          8229.87,
          8205.87,
          8252.56,
          8365,
          8348.65,
          8303.99,
          8310.48,
          8310,
          8289.87,
          8304.99,
          8301.35,
          8313.12,
          8240.07,
          8199.99,
          8226.98,
          8231.2,
          8198.89,
          8215.85,
          8279.99,
          8255.08,
          8270.4,
          8244.24,
          8239.12,
          8267.14,
          8282.27,
          8350.62,
          8336.6,
          8336.91,
          8311.21,
          8312.09,
          8345.19,
          8377.2,
          8481.11,
          8516.36,
          8524,
          8517.04,
          8558.5,
          8521.99,
          8484.93,
          8518.48,
          8488.99,
          8466.72,
          8492.55,
          8494.28,
          8510.95,
          8498.64,
          8551.1,
          8524.22,
          8510.11,
          8475.62,
          8476.58,
          8467.13
         ],
         "showlegend": false,
         "type": "candlestick",
         "uid": "9daa24c5-9ae2-4db4-83a6-1beaa490cf1a",
         "xaxis": "x",
         "yaxis": "y"
        },
        {
         "marker": {
          "color": "DodgerBlue"
         },
         "name": "Volume",
         "showlegend": false,
         "type": "bar",
         "uid": "366ede5a-4128-45a4-9618-3b6f31a20734",
         "xaxis": "x2",
         "y": [
          559.93,
          273.58,
          917.79,
          182.62,
          1260.69,
          324.11,
          324.2,
          730.67,
          1341.75,
          792.07,
          385.69,
          475.08,
          877.26,
          670.49,
          610.97,
          168.99,
          305.92,
          136.05,
          154.26,
          1070.93,
          1710.2,
          492.8,
          630.72,
          620.93,
          586.34,
          304.52,
          450.97,
          182.36,
          915.32,
          319.29,
          362.01,
          1046.38,
          357.91,
          561.2,
          322.53,
          1073.71,
          237.21,
          251.2,
          359.73,
          117.23,
          363.17,
          214.18,
          171.64,
          258.58,
          299.52,
          718.98,
          119.7,
          405.25,
          210.77,
          714.82,
          215.97,
          164.2,
          201.55,
          203.41,
          886.82,
          95.49,
          499.67,
          172.77,
          355.39,
          255.27,
          591.06,
          133.1,
          149.13,
          87.55,
          1061.54,
          286.94,
          524.42,
          316,
          441.43,
          189.7,
          844.94,
          155.34,
          257.56,
          610.69,
          217.97,
          173.18,
          218.06,
          372.97,
          484.39,
          248.1,
          162.35,
          303.42,
          290.69,
          160.93,
          369.4,
          487.27,
          93.35,
          96.68,
          72.14,
          90.22,
          168.52,
          203.15,
          71.42,
          464.56,
          57,
          89.42,
          49.47,
          200.05,
          254.37,
          65.05,
          118.19,
          452.4,
          181.03,
          288.04,
          145.78,
          110.14,
          55.48,
          80.87,
          67.01,
          59.16,
          121.26,
          244.37,
          156.87,
          80.48,
          139.32,
          93.52,
          200.23,
          97.4,
          68.08,
          47,
          36.65,
          28.75,
          182.85,
          400.18,
          288.1,
          182.94,
          777.81,
          493.59,
          118.63,
          174.37,
          901.75,
          222.45,
          113.8,
          84.2,
          261.44,
          168.78,
          111.07,
          122.12,
          267.32,
          210.39,
          211.36,
          146.22,
          93.39,
          89.04,
          307.59,
          307.2,
          164.24,
          151.21,
          399.77,
          362.01,
          260.85
         ],
         "yaxis": "y2"
        },
        {
         "mode": "lines",
         "name": "bitstamp:/USD-BTC",
         "type": "scatter",
         "uid": "144dadab-dc92-4059-bcf1-f191aae5cff6",
         "xaxis": "x3",
         "y": [
          8740.99,
          8739,
          8728.49,
          8708.32,
          8795.9,
          8760,
          8760,
          8759.23,
          8517.77,
          8520.3,
          8535.23,
          8546.34,
          8526.65,
          8555.6,
          8512.1,
          8492.28,
          8460,
          8474.99,
          8455.92,
          8326.28,
          8133.43,
          8164.79,
          8229.38,
          8220.4,
          8238.8,
          8232.99,
          8207.48,
          8243.45,
          8371.13,
          8373,
          8365.08,
          8179.99,
          8225,
          8285.8,
          8273.4,
          8297.4,
          8279.89,
          8252.72,
          8302.18,
          8295.85,
          8277.25,
          8346.59,
          8358.3,
          8375.1,
          8368.62,
          8366.72,
          8314.77,
          8363.7,
          8344.16,
          8247.4,
          8277.4,
          8291.67,
          8307.89,
          8298.9,
          8269.47,
          8300.98,
          8318.49,
          8306.39,
          8276.43,
          8257.69,
          8166,
          8176.33,
          8200.7,
          8155.41,
          8080,
          8067.03,
          7958.08,
          7974.25,
          7998.5,
          7991.99,
          8022.7,
          8042.97,
          7965.67,
          8088.95,
          8122.19,
          8107.99,
          8137.73,
          8115,
          8107,
          8094.4,
          8080.01,
          8117.09,
          8126.99,
          8110.95,
          8215.39,
          8231.42,
          8240.13,
          8235,
          8219.9,
          8248.87,
          8213.5,
          8200.99,
          8200,
          8237.3,
          8228.13,
          8240.83,
          8214.9,
          8170.07,
          8229.87,
          8205.87,
          8252.56,
          8365,
          8348.65,
          8303.99,
          8310.48,
          8310,
          8289.87,
          8304.99,
          8301.35,
          8313.12,
          8240.07,
          8199.99,
          8226.98,
          8231.2,
          8198.89,
          8215.85,
          8279.99,
          8255.08,
          8270.4,
          8244.24,
          8239.12,
          8267.14,
          8282.27,
          8350.62,
          8336.6,
          8336.91,
          8311.21,
          8312.09,
          8345.19,
          8377.2,
          8481.11,
          8516.36,
          8524,
          8517.04,
          8558.5,
          8521.99,
          8484.93,
          8518.48,
          8488.99,
          8466.72,
          8492.55,
          8494.28,
          8510.95,
          8498.64,
          8551.1,
          8524.22,
          8510.11,
          8475.62,
          8476.58,
          8467.13,
          8499.84
         ],
         "yaxis": "y3"
        },
        {
         "mode": "lines",
         "name": "bitstamp:/USD:/free",
         "type": "scatter",
         "uid": "215fa976-3ead-45d7-83c7-ba95c90c4306",
         "xaxis": "x3",
         "y": [
          10000,
          10000,
          10000,
          1000,
          1000,
          1000,
          1000,
          1000,
          1000,
          9730.11,
          9730.11,
          9730.11,
          9730.11,
          9730.11,
          9730.11,
          9730.11,
          9730.11,
          9730.11,
          973.01,
          973.01,
          973.01,
          973.01,
          973.01,
          973.01,
          973.01,
          973.01,
          973.01,
          973.01,
          973.01,
          973.01,
          973.01,
          973.01,
          973.01,
          973.01,
          973.01,
          973.01,
          973.01,
          973.01,
          973.01,
          973.01,
          973.01,
          973.01,
          973.01,
          973.01,
          973.01,
          973.01,
          973.01,
          973.01,
          973.01,
          973.01,
          973.01,
          973.01,
          973.01,
          973.01,
          973.01,
          973.01,
          973.01,
          973.01,
          973.01,
          973.01,
          973.01,
          973.01,
          973.01,
          973.01,
          973.01,
          973.01,
          973.01,
          9146.73,
          9146.73,
          9146.73,
          9146.73,
          0,
          0,
          0,
          0,
          0,
          0,
          0,
          0,
          0,
          0,
          0,
          0,
          0,
          0,
          0,
          0,
          0,
          0,
          0,
          0,
          0,
          0,
          0,
          0,
          0,
          0,
          0,
          0,
          0,
          0,
          0,
          9479.85,
          9479.85,
          9479.85,
          9479.85,
          9479.85,
          9479.85,
          9479.85,
          1895.97,
          1895.97,
          1895.97,
          1895.97,
          1895.97,
          1895.97,
          1895.97,
          1895.97,
          1895.97,
          1895.97,
          1895.97,
          1895.97,
          1895.97,
          1895.97,
          1895.97,
          1895.97,
          1895.97,
          1895.97,
          1895.97,
          1895.97,
          1895.97,
          1895.97,
          9597.66,
          959.77,
          959.77,
          959.77,
          959.77,
          959.77,
          959.77,
          959.77,
          959.77,
          959.77,
          959.77,
          959.77,
          959.77,
          959.77,
          959.77,
          959.77,
          959.77,
          959.77,
          959.77,
          959.77
         ],
         "yaxis": "y3"
        },
        {
         "mode": "lines",
         "name": "bitstamp:/USD:/locked",
         "type": "scatter",
         "uid": "f14581dc-310b-4fca-903b-cfdfa33d18fc",
         "xaxis": "x3",
         "y": [
          0,
          0,
          0,
          0,
          0,
          0,
          0,
          0,
          0,
          0,
          0,
          0,
          0,
          0,
          0,
          0,
          0,
          0,
          0,
          0,
          0,
          0,
          0,
          0,
          0,
          0,
          0,
          0,
          0,
          0,
          0,
          0,
          0,
          0,
          0,
          0,
          0,
          0,
          0,
          0,
          0,
          0,
          0,
          0,
          0,
          0,
          0,
          0,
          0,
          0,
          0,
          0,
          0,
          0,
          0,
          0,
          0,
          0,
          0,
          0,
          0,
          0,
          0,
          0,
          0,
          0,
          0,
          0,
          0,
          0,
          0,
          0,
          0,
          0,
          0,
          0,
          0,
          0,
          0,
          0,
          0,
          0,
          0,
          0,
          0,
          0,
          0,
          0,
          0,
          0,
          0,
          0,
          0,
          0,
          0,
          0,
          0,
          0,
          0,
          0,
          0,
          0,
          0,
          0,
          0,
          0,
          0,
          0,
          0,
          0,
          0,
          0,
          0,
          0,
          0,
          0,
          0,
          0,
          0,
          0,
          0,
          0,
          0,
          0,
          0,
          0,
          0,
          0,
          0,
          0,
          0,
          0,
          0,
          0,
          0,
          0,
          0,
          0,
          0,
          0,
          0,
          0,
          0,
          0,
          0,
          0,
          0,
          0,
          0,
          0,
          0
         ],
         "yaxis": "y3"
        },
        {
         "mode": "lines",
         "name": "bitstamp:/USD:/total",
         "type": "scatter",
         "uid": "b26474e7-1144-4f03-9f03-7bd22931501e",
         "xaxis": "x3",
         "y": [
          10000,
          10000,
          10000,
          1000,
          1000,
          1000,
          1000,
          1000,
          1000,
          9730.11,
          9730.11,
          9730.11,
          9730.11,
          9730.11,
          9730.11,
          9730.11,
          9730.11,
          9730.11,
          973.01,
          973.01,
          973.01,
          973.01,
          973.01,
          973.01,
          973.01,
          973.01,
          973.01,
          973.01,
          973.01,
          973.01,
          973.01,
          973.01,
          973.01,
          973.01,
          973.01,
          973.01,
          973.01,
          973.01,
          973.01,
          973.01,
          973.01,
          973.01,
          973.01,
          973.01,
          973.01,
          973.01,
          973.01,
          973.01,
          973.01,
          973.01,
          973.01,
          973.01,
          973.01,
          973.01,
          973.01,
          973.01,
          973.01,
          973.01,
          973.01,
          973.01,
          973.01,
          973.01,
          973.01,
          973.01,
          973.01,
          973.01,
          973.01,
          9146.73,
          9146.73,
          9146.73,
          9146.73,
          0,
          0,
          0,
          0,
          0,
          0,
          0,
          0,
          0,
          0,
          0,
          0,
          0,
          0,
          0,
          0,
          0,
          0,
          0,
          0,
          0,
          0,
          0,
          0,
          0,
          0,
          0,
          0,
          0,
          0,
          0,
          9479.85,
          9479.85,
          9479.85,
          9479.85,
          9479.85,
          9479.85,
          9479.85,
          1895.97,
          1895.97,
          1895.97,
          1895.97,
          1895.97,
          1895.97,
          1895.97,
          1895.97,
          1895.97,
          1895.97,
          1895.97,
          1895.97,
          1895.97,
          1895.97,
          1895.97,
          1895.97,
          1895.97,
          1895.97,
          1895.97,
          1895.97,
          1895.97,
          1895.97,
          9597.66,
          959.77,
          959.77,
          959.77,
          959.77,
          959.77,
          959.77,
          959.77,
          959.77,
          959.77,
          959.77,
          959.77,
          959.77,
          959.77,
          959.77,
          959.77,
          959.77,
          959.77,
          959.77,
          959.77
         ],
         "yaxis": "y3"
        },
        {
         "mode": "lines",
         "name": "bitstamp:/BTC:/free",
         "type": "scatter",
         "uid": "b17d4003-2e58-4235-8a40-be01d611c74e",
         "xaxis": "x3",
         "y": [
          10,
          10,
          10,
          10,
          10,
          10,
          10,
          10,
          10,
          10,
          10,
          10,
          10,
          10,
          10,
          10,
          10,
          10,
          10,
          10,
          10,
          10,
          10,
          10,
          10,
          10,
          10,
          10,
          10,
          10,
          10,
          10,
          10,
          10,
          10,
          10,
          10,
          10,
          10,
          10,
          10,
          10,
          10,
          10,
          10,
          10,
          10,
          10,
          10,
          10,
          10,
          10,
          10,
          10,
          10,
          10,
          10,
          10,
          10,
          10,
          10,
          10,
          10,
          10,
          10,
          10,
          10,
          10,
          10,
          10,
          10,
          10,
          10,
          10,
          10,
          10,
          10,
          10,
          10,
          10,
          10,
          10,
          10,
          10,
          10,
          10,
          10,
          10,
          10,
          10,
          10,
          10,
          10,
          10,
          10,
          10,
          10,
          10,
          10,
          10,
          10,
          10,
          10,
          10,
          10,
          10,
          10,
          10,
          10,
          10,
          10,
          10,
          10,
          10,
          10,
          10,
          10,
          10,
          10,
          10,
          10,
          10,
          10,
          10,
          10,
          10,
          10,
          10,
          10,
          10,
          10,
          10,
          10,
          10,
          10,
          10,
          10,
          10,
          10,
          10,
          10,
          10,
          10,
          10,
          10,
          10,
          10,
          10,
          10,
          10,
          10
         ],
         "yaxis": "y3"
        },
        {
         "mode": "lines",
         "name": "bitstamp:/BTC:/locked",
         "type": "scatter",
         "uid": "042e0b65-eede-4d26-9f7b-b257debd16f8",
         "xaxis": "x3",
         "y": [
          0,
          0,
          0,
          1.02801286,
          1.02801286,
          1.02801286,
          1.02801286,
          1.02801286,
          1.02801286,
          0,
          0,
          0,
          0,
          0,
          0,
          0,
          0,
          0,
          1.03018765,
          1.03018765,
          1.03018765,
          1.03018765,
          1.03018765,
          1.03018765,
          1.03018765,
          1.03018765,
          1.03018765,
          1.03018765,
          1.03018765,
          1.03018765,
          1.03018765,
          1.03018765,
          1.03018765,
          1.03018765,
          1.03018765,
          1.03018765,
          1.03018765,
          1.03018765,
          1.03018765,
          1.03018765,
          1.03018765,
          1.03018765,
          1.03018765,
          1.03018765,
          1.03018765,
          1.03018765,
          1.03018765,
          1.03018765,
          1.03018765,
          1.03018765,
          1.03018765,
          1.03018765,
          1.03018765,
          1.03018765,
          1.03018765,
          1.03018765,
          1.03018765,
          1.03018765,
          1.03018765,
          1.03018765,
          1.03018765,
          1.03018765,
          1.03018765,
          1.03018765,
          1.03018765,
          1.03018765,
          1.03018765,
          0,
          0,
          0,
          0,
          1.1366859,
          1.1366859,
          1.1366859,
          1.1366859,
          1.1366859,
          1.1366859,
          1.1366859,
          1.1366859,
          1.1366859,
          1.1366859,
          1.1366859,
          1.1366859,
          1.1366859,
          1.1366859,
          1.1366859,
          1.1366859,
          1.1366859,
          1.1366859,
          1.1366859,
          1.1366859,
          1.1366859,
          1.1366859,
          1.1366859,
          1.1366859,
          1.1366859,
          1.1366859,
          1.1366859,
          1.1366859,
          1.1366859,
          1.1366859,
          1.1366859,
          0,
          0,
          0,
          0,
          0,
          0,
          0,
          0.91083137,
          0.91083137,
          0.91083137,
          0.91083137,
          0.91083137,
          0.91083137,
          0.91083137,
          0.91083137,
          0.91083137,
          0.91083137,
          0.91083137,
          0.91083137,
          0.91083137,
          0.91083137,
          0.91083137,
          0.91083137,
          0.91083137,
          0.91083137,
          0.91083137,
          0.91083137,
          0.91083137,
          0.91083137,
          0,
          1.0112278,
          1.0112278,
          1.0112278,
          1.0112278,
          1.0112278,
          1.0112278,
          1.0112278,
          1.0112278,
          1.0112278,
          1.0112278,
          1.0112278,
          1.0112278,
          1.0112278,
          1.0112278,
          1.0112278,
          1.0112278,
          1.0112278,
          1.0112278,
          1.0112278
         ],
         "yaxis": "y3"
        },
        {
         "mode": "lines",
         "name": "bitstamp:/BTC:/total",
         "type": "scatter",
         "uid": "25740144-d456-4953-88f1-707b2dedb8c3",
         "xaxis": "x3",
         "y": [
          10,
          10,
          10,
          11.02801286,
          11.02801286,
          11.02801286,
          11.02801286,
          11.02801286,
          11.02801286,
          10,
          10,
          10,
          10,
          10,
          10,
          10,
          10,
          10,
          11.03018765,
          11.03018765,
          11.03018765,
          11.03018765,
          11.03018765,
          11.03018765,
          11.03018765,
          11.03018765,
          11.03018765,
          11.03018765,
          11.03018765,
          11.03018765,
          11.03018765,
          11.03018765,
          11.03018765,
          11.03018765,
          11.03018765,
          11.03018765,
          11.03018765,
          11.03018765,
          11.03018765,
          11.03018765,
          11.03018765,
          11.03018765,
          11.03018765,
          11.03018765,
          11.03018765,
          11.03018765,
          11.03018765,
          11.03018765,
          11.03018765,
          11.03018765,
          11.03018765,
          11.03018765,
          11.03018765,
          11.03018765,
          11.03018765,
          11.03018765,
          11.03018765,
          11.03018765,
          11.03018765,
          11.03018765,
          11.03018765,
          11.03018765,
          11.03018765,
          11.03018765,
          11.03018765,
          11.03018765,
          11.03018765,
          10,
          10,
          10,
          10,
          11.1366859,
          11.1366859,
          11.1366859,
          11.1366859,
          11.1366859,
          11.1366859,
          11.1366859,
          11.1366859,
          11.1366859,
          11.1366859,
          11.1366859,
          11.1366859,
          11.1366859,
          11.1366859,
          11.1366859,
          11.1366859,
          11.1366859,
          11.1366859,
          11.1366859,
          11.1366859,
          11.1366859,
          11.1366859,
          11.1366859,
          11.1366859,
          11.1366859,
          11.1366859,
          11.1366859,
          11.1366859,
          11.1366859,
          11.1366859,
          11.1366859,
          10,
          10,
          10,
          10,
          10,
          10,
          10,
          10.91083137,
          10.91083137,
          10.91083137,
          10.91083137,
          10.91083137,
          10.91083137,
          10.91083137,
          10.91083137,
          10.91083137,
          10.91083137,
          10.91083137,
          10.91083137,
          10.91083137,
          10.91083137,
          10.91083137,
          10.91083137,
          10.91083137,
          10.91083137,
          10.91083137,
          10.91083137,
          10.91083137,
          10.91083137,
          10,
          11.0112278,
          11.0112278,
          11.0112278,
          11.0112278,
          11.0112278,
          11.0112278,
          11.0112278,
          11.0112278,
          11.0112278,
          11.0112278,
          11.0112278,
          11.0112278,
          11.0112278,
          11.0112278,
          11.0112278,
          11.0112278,
          11.0112278,
          11.0112278,
          11.0112278
         ],
         "yaxis": "y3"
        },
        {
         "mode": "lines",
         "name": "bitstamp:/BTC:/worth",
         "type": "scatter",
         "uid": "04b9efcf-d7af-4127-bd92-3213de7f2309",
         "xaxis": "x3",
         "y": [
          87409.9,
          87390,
          87284.9,
          96035.4649489952,
          97001.298315274,
          96605.3926536,
          96605.3926536,
          96596.9010836978,
          93934.0770985222,
          85203,
          85352.29999999999,
          85463.4,
          85266.5,
          85556,
          85121,
          84922.8,
          84600,
          84749.9,
          93270.384353388,
          91840.43082644201,
          89713.2591381395,
          90059.1658228435,
          90771.60564315699,
          90672.55455806,
          90875.51001082,
          90811.4246205735,
          90530.044533622,
          90926.8003833925,
          92335.1347425445,
          92355.76119345,
          92268.402107262,
          90226.8246751235,
          90723.29342125,
          91393.92883036999,
          91257.15450351,
          91521.87900711,
          91328.7404213585,
          91029.050222908,
          91574.603304077,
          91504.78221625251,
          91299.62072596251,
          92064.4539376135,
          92193.61743499499,
          92378.92458751501,
          92307.44897154301,
          92286.491615008,
          91713.47336659051,
          92253.18044830501,
          92037.650581624,
          90970.36962461,
          91301.27525410999,
          91458.6760318755,
          91637.5856755585,
          91538.424288585,
          91213.8058660455,
          91561.36707889699,
          91754.5056646485,
          91621.0403940835,
          91290.5759720895,
          91083.87025552851,
          90072.5123499,
          90186.4541883245,
          90455.259861355,
          89955.7026626865,
          89123.916212,
          88980.8546781795,
          87779.115733712,
          79742.5,
          79985,
          79919.9,
          80227,
          89572.030593123,
          88711.164773053,
          90084.09541080499,
          90454.27885012099,
          90296.137910341,
          90627.342949007,
          90374.20607849999,
          90285.1125913,
          90144.79034896,
          89984.533438859,
          90397.481752031,
          90507.73494244099,
          90329.10250060499,
          91492.21797600099,
          91670.739050978,
          91767.73958516699,
          91710.6083865,
          91542.44442941,
          91865.07421993301,
          91471.16963965,
          91331.84969904099,
          91320.82438,
          91736.22276406999,
          91634.09935436699,
          91775.535265297,
          91486.76099991,
          90987.503371013,
          91653.477187833,
          91386.19672623301,
          91906.168590904,
          93158.3775535,
          83486.5,
          83039.9,
          83104.79999999999,
          83100,
          82898.70000000001,
          83049.9,
          83013.5,
          90703.05047857441,
          89906.0142469959,
          89468.7081256863,
          89763.1914643626,
          89809.23517274401,
          89456.70621117929,
          89641.7539112145,
          90341.5746352863,
          90069.7858258596,
          90236.939762448,
          89951.5124138088,
          89895.64895719441,
          90201.3704521818,
          90366.45133080991,
          91112.2066549494,
          90959.236799142,
          90962.6191568667,
          90682.2107906577,
          90691.8123222633,
          91052.9608406103,
          91402.21655276402,
          92535.9610404207,
          85163.6,
          93859.70576720001,
          93783.067621712,
          94239.59312630001,
          93837.573199322,
          93429.497097054,
          93798.923789744,
          93474.202681922,
          93228.982638816,
          93513.40265289,
          93532.45207698402,
          93716.00924441002,
          93580.46103019199,
          94158.11004058001,
          93862.12823731599,
          93706.75981305802,
          93326.98256623601,
          93337.553344924,
          93233.497242214,
          93593.674503552
         ],
         "yaxis": "y3"
        },
        {
         "mode": "lines",
         "name": "net_worth",
         "type": "scatter",
         "uid": "c75c71d2-d910-4945-bba1-50dba22356b1",
         "xaxis": "x3",
         "y": [
          97409.9,
          97390,
          97284.9,
          97035.4649489952,
          98001.298315274,
          97605.3926536,
          97605.3926536,
          97596.9010836978,
          94934.0770985222,
          94933.11,
          95082.40999999999,
          95193.51,
          94996.61,
          95286.11,
          94851.11,
          94652.91,
          94330.11,
          94480.01,
          94243.394353388,
          92813.440826442,
          90686.2691381395,
          91032.17582284349,
          91744.61564315698,
          91645.56455806,
          91848.52001082,
          91784.43462057349,
          91503.054533622,
          91899.8103833925,
          93308.1447425445,
          93328.77119345,
          93241.41210726199,
          91199.8346751235,
          91696.30342124999,
          92366.93883036998,
          92230.16450351,
          92494.88900710999,
          92301.75042135849,
          92002.060222908,
          92547.613304077,
          92477.7922162525,
          92272.6307259625,
          93037.4639376135,
          93166.62743499498,
          93351.934587515,
          93280.458971543,
          93259.50161500799,
          92686.4833665905,
          93226.190448305,
          93010.66058162399,
          91943.37962461,
          92274.28525410999,
          92431.68603187549,
          92610.59567555849,
          92511.43428858499,
          92186.8158660455,
          92534.37707889699,
          92727.5156646485,
          92594.05039408349,
          92263.5859720895,
          92056.88025552851,
          91045.5223499,
          91159.46418832449,
          91428.269861355,
          90928.71266268649,
          90096.92621199999,
          89953.8646781795,
          88752.12573371199,
          88889.23,
          89131.73,
          89066.62999999999,
          89373.73,
          89572.030593123,
          88711.164773053,
          90084.09541080499,
          90454.27885012099,
          90296.137910341,
          90627.342949007,
          90374.20607849999,
          90285.1125913,
          90144.79034896,
          89984.533438859,
          90397.481752031,
          90507.73494244099,
          90329.10250060499,
          91492.21797600099,
          91670.739050978,
          91767.73958516699,
          91710.6083865,
          91542.44442941,
          91865.07421993301,
          91471.16963965,
          91331.84969904099,
          91320.82438,
          91736.22276406999,
          91634.09935436699,
          91775.535265297,
          91486.76099991,
          90987.503371013,
          91653.477187833,
          91386.19672623301,
          91906.168590904,
          93158.3775535,
          92966.35,
          92519.75,
          92584.65,
          92579.85,
          92378.55000000002,
          92529.75,
          92493.35,
          92599.02047857441,
          91801.9842469959,
          91364.6781256863,
          91659.1614643626,
          91705.20517274401,
          91352.67621117929,
          91537.7239112145,
          92237.54463528631,
          91965.7558258596,
          92132.909762448,
          91847.4824138088,
          91791.61895719441,
          92097.3404521818,
          92262.42133080991,
          93008.1766549494,
          92855.206799142,
          92858.5891568667,
          92578.1807906577,
          92587.7823222633,
          92948.93084061031,
          93298.18655276402,
          94431.9310404207,
          94761.26000000001,
          94819.47576720001,
          94742.83762171201,
          95199.36312630001,
          94797.343199322,
          94389.267097054,
          94758.69378974401,
          94433.97268192201,
          94188.752638816,
          94473.17265289,
          94492.22207698402,
          94675.77924441002,
          94540.231030192,
          95117.88004058001,
          94821.898237316,
          94666.52981305802,
          94286.75256623601,
          94297.323344924,
          94193.267242214,
          94553.444503552
         ],
         "yaxis": "y3"
        },
        {
         "marker": {
          "color": "DarkGreen"
         },
         "mode": "lines",
         "name": "Net Worth",
         "type": "scatter",
         "uid": "a85c8827-5a96-4205-b9d6-e2c5b9b5ffa8",
         "xaxis": "x4",
         "y": [
          97409.9,
          97390,
          97284.9,
          97035.4649489952,
          98001.298315274,
          97605.3926536,
          97605.3926536,
          97596.9010836978,
          94934.0770985222,
          94933.11,
          95082.40999999999,
          95193.51,
          94996.61,
          95286.11,
          94851.11,
          94652.91,
          94330.11,
          94480.01,
          94243.394353388,
          92813.440826442,
          90686.2691381395,
          91032.17582284349,
          91744.61564315698,
          91645.56455806,
          91848.52001082,
          91784.43462057349,
          91503.054533622,
          91899.8103833925,
          93308.1447425445,
          93328.77119345,
          93241.41210726199,
          91199.8346751235,
          91696.30342124999,
          92366.93883036998,
          92230.16450351,
          92494.88900710999,
          92301.75042135849,
          92002.060222908,
          92547.613304077,
          92477.7922162525,
          92272.6307259625,
          93037.4639376135,
          93166.62743499498,
          93351.934587515,
          93280.458971543,
          93259.50161500799,
          92686.4833665905,
          93226.190448305,
          93010.66058162399,
          91943.37962461,
          92274.28525410999,
          92431.68603187549,
          92610.59567555849,
          92511.43428858499,
          92186.8158660455,
          92534.37707889699,
          92727.5156646485,
          92594.05039408349,
          92263.5859720895,
          92056.88025552851,
          91045.5223499,
          91159.46418832449,
          91428.269861355,
          90928.71266268649,
          90096.92621199999,
          89953.8646781795,
          88752.12573371199,
          88889.23,
          89131.73,
          89066.62999999999,
          89373.73,
          89572.030593123,
          88711.164773053,
          90084.09541080499,
          90454.27885012099,
          90296.137910341,
          90627.342949007,
          90374.20607849999,
          90285.1125913,
          90144.79034896,
          89984.533438859,
          90397.481752031,
          90507.73494244099,
          90329.10250060499,
          91492.21797600099,
          91670.739050978,
          91767.73958516699,
          91710.6083865,
          91542.44442941,
          91865.07421993301,
          91471.16963965,
          91331.84969904099,
          91320.82438,
          91736.22276406999,
          91634.09935436699,
          91775.535265297,
          91486.76099991,
          90987.503371013,
          91653.477187833,
          91386.19672623301,
          91906.168590904,
          93158.3775535,
          92966.35,
          92519.75,
          92584.65,
          92579.85,
          92378.55000000002,
          92529.75,
          92493.35,
          92599.02047857441,
          91801.9842469959,
          91364.6781256863,
          91659.1614643626,
          91705.20517274401,
          91352.67621117929,
          91537.7239112145,
          92237.54463528631,
          91965.7558258596,
          92132.909762448,
          91847.4824138088,
          91791.61895719441,
          92097.3404521818,
          92262.42133080991,
          93008.1766549494,
          92855.206799142,
          92858.5891568667,
          92578.1807906577,
          92587.7823222633,
          92948.93084061031,
          93298.18655276402,
          94431.9310404207,
          94761.26000000001,
          94819.47576720001,
          94742.83762171201,
          95199.36312630001,
          94797.343199322,
          94389.267097054,
          94758.69378974401,
          94433.97268192201,
          94188.752638816,
          94473.17265289,
          94492.22207698402,
          94675.77924441002,
          94540.231030192,
          95117.88004058001,
          94821.898237316,
          94666.52981305802,
          94286.75256623601,
          94297.323344924,
          94193.267242214,
          94553.444503552
         ],
         "yaxis": "y4"
        }
       ],
       "layout": {
        "annotations": [
         {
          "arrowcolor": "DarkGreen",
          "arrowhead": 2,
          "arrowsize": 0.8,
          "arrowwidth": 4,
          "ax": 0,
          "ay": 15,
          "hoverlabel": {
           "bgcolor": "DarkGreen"
          },
          "hovertext": "Step 18 [2018-05-15 23:00:00]<br>BUY 1.03018765 BTC @ 8474.99 USD MARKET<br>Total: 8730.83 USD - Comm.: 26.27 USD",
          "opacity": 0.6,
          "showarrow": true,
          "x": 17,
          "xref": "x",
          "y": 8474.99,
          "yref": "y"
         },
         {
          "arrowcolor": "FireBrick",
          "arrowhead": 2,
          "arrowsize": 0.8,
          "arrowwidth": 4,
          "ax": 0,
          "ay": -15,
          "hoverlabel": {
           "bgcolor": "FireBrick"
          },
          "hovertext": "Step 9 [2018-05-15 14:00:00]<br>SELL 1.02492882 BTC @ 8517.77 USD MARKET<br>Total: 8730.11 USD - Comm.: 0.00308404 BTC",
          "opacity": 0.6,
          "showarrow": true,
          "x": 8,
          "xref": "x",
          "y": 8517.77,
          "yref": "y"
         },
         {
          "arrowcolor": "DarkGreen",
          "arrowhead": 2,
          "arrowsize": 0.8,
          "arrowwidth": 4,
          "ax": 0,
          "ay": 15,
          "hoverlabel": {
           "bgcolor": "DarkGreen"
          },
          "hovertext": "Step 3 [2018-05-15 08:00:00]<br>BUY 1.02801286 BTC @ 8728.49 USD MARKET<br>Total: 8973.0 USD - Comm.: 27.00 USD",
          "opacity": 0.6,
          "showarrow": true,
          "x": 2,
          "xref": "x",
          "y": 8728.49,
          "yref": "y"
         },
         {
          "arrowcolor": "DarkGreen",
          "arrowhead": 2,
          "arrowsize": 0.8,
          "arrowwidth": 4,
          "ax": 0,
          "ay": 15,
          "hoverlabel": {
           "bgcolor": "DarkGreen"
          },
          "hovertext": "Step 71 [2018-05-18 04:00:00]<br>BUY 1.1366859 BTC @ 8022.7 USD MARKET<br>Total: 9119.29 USD - Comm.: 27.44 USD",
          "opacity": 0.6,
          "showarrow": true,
          "x": 70,
          "xref": "x",
          "y": 8022.7,
          "yref": "y"
         },
         {
          "arrowcolor": "FireBrick",
          "arrowhead": 2,
          "arrowsize": 0.8,
          "arrowwidth": 4,
          "ax": 0,
          "ay": -15,
          "hoverlabel": {
           "bgcolor": "FireBrick"
          },
          "hovertext": "Step 67 [2018-05-18 00:00:00]<br>SELL 1.02709709 BTC @ 7958.08 USD MARKET<br>Total: 8173.72 USD - Comm.: 0.00309056 BTC",
          "opacity": 0.6,
          "showarrow": true,
          "x": 66,
          "xref": "x",
          "y": 7958.08,
          "yref": "y"
         },
         {
          "arrowcolor": "DarkGreen",
          "arrowhead": 2,
          "arrowsize": 0.8,
          "arrowwidth": 4,
          "ax": 0,
          "ay": 15,
          "hoverlabel": {
           "bgcolor": "DarkGreen"
          },
          "hovertext": "Step 132 [2018-05-20 17:00:00]<br>BUY 1.0112278 BTC @ 8516.36 USD MARKET<br>Total: 8611.98 USD - Comm.: 25.91 USD",
          "opacity": 0.6,
          "showarrow": true,
          "x": 131,
          "xref": "x",
          "y": 8516.36,
          "yref": "y"
         },
         {
          "arrowcolor": "FireBrick",
          "arrowhead": 2,
          "arrowsize": 0.8,
          "arrowwidth": 4,
          "ax": 0,
          "ay": -15,
          "hoverlabel": {
           "bgcolor": "FireBrick"
          },
          "hovertext": "Step 131 [2018-05-20 16:00:00]<br>SELL 0.90809888 BTC @ 8481.11 USD MARKET<br>Total: 7701.69 USD - Comm.: 0.00273249 BTC",
          "opacity": 0.6,
          "showarrow": true,
          "x": 130,
          "xref": "x",
          "y": 8481.11,
          "yref": "y"
         },
         {
          "arrowcolor": "DarkGreen",
          "arrowhead": 2,
          "arrowsize": 0.8,
          "arrowwidth": 4,
          "ax": 0,
          "ay": 15,
          "hoverlabel": {
           "bgcolor": "DarkGreen"
          },
          "hovertext": "Step 109 [2018-05-19 18:00:00]<br>BUY 0.91083137 BTC @ 8301.35 USD MARKET<br>Total: 7561.13 USD - Comm.: 22.75 USD",
          "opacity": 0.6,
          "showarrow": true,
          "x": 108,
          "xref": "x",
          "y": 8301.35,
          "yref": "y"
         },
         {
          "arrowcolor": "FireBrick",
          "arrowhead": 2,
          "arrowsize": 0.8,
          "arrowwidth": 4,
          "ax": 0,
          "ay": -15,
          "hoverlabel": {
           "bgcolor": "FireBrick"
          },
          "hovertext": "Step 102 [2018-05-19 11:00:00]<br>SELL 1.13327584 BTC @ 8365.0 USD MARKET<br>Total: 9479.85 USD - Comm.: 0.00341006 BTC",
          "opacity": 0.6,
          "showarrow": true,
          "x": 101,
          "xref": "x",
          "y": 8365,
          "yref": "y"
         }
        ],
        "margin": {
         "t": 50
        },
        "template": {
         "data": {
          "bar": [
           {
            "error_x": {
             "color": "#2a3f5f"
            },
            "error_y": {
             "color": "#2a3f5f"
            },
            "marker": {
             "line": {
              "color": "white",
              "width": 0.5
             }
            },
            "type": "bar"
           }
          ],
          "barpolar": [
           {
            "marker": {
             "line": {
              "color": "white",
              "width": 0.5
             }
            },
            "type": "barpolar"
           }
          ],
          "carpet": [
           {
            "aaxis": {
             "endlinecolor": "#2a3f5f",
             "gridcolor": "#C8D4E3",
             "linecolor": "#C8D4E3",
             "minorgridcolor": "#C8D4E3",
             "startlinecolor": "#2a3f5f"
            },
            "baxis": {
             "endlinecolor": "#2a3f5f",
             "gridcolor": "#C8D4E3",
             "linecolor": "#C8D4E3",
             "minorgridcolor": "#C8D4E3",
             "startlinecolor": "#2a3f5f"
            },
            "type": "carpet"
           }
          ],
          "choropleth": [
           {
            "colorbar": {
             "outlinewidth": 0,
             "ticks": ""
            },
            "type": "choropleth"
           }
          ],
          "contour": [
           {
            "colorbar": {
             "outlinewidth": 0,
             "ticks": ""
            },
            "colorscale": [
             [
              0,
              "#0d0887"
             ],
             [
              0.1111111111111111,
              "#46039f"
             ],
             [
              0.2222222222222222,
              "#7201a8"
             ],
             [
              0.3333333333333333,
              "#9c179e"
             ],
             [
              0.4444444444444444,
              "#bd3786"
             ],
             [
              0.5555555555555556,
              "#d8576b"
             ],
             [
              0.6666666666666666,
              "#ed7953"
             ],
             [
              0.7777777777777778,
              "#fb9f3a"
             ],
             [
              0.8888888888888888,
              "#fdca26"
             ],
             [
              1,
              "#f0f921"
             ]
            ],
            "type": "contour"
           }
          ],
          "contourcarpet": [
           {
            "colorbar": {
             "outlinewidth": 0,
             "ticks": ""
            },
            "type": "contourcarpet"
           }
          ],
          "heatmap": [
           {
            "colorbar": {
             "outlinewidth": 0,
             "ticks": ""
            },
            "colorscale": [
             [
              0,
              "#0d0887"
             ],
             [
              0.1111111111111111,
              "#46039f"
             ],
             [
              0.2222222222222222,
              "#7201a8"
             ],
             [
              0.3333333333333333,
              "#9c179e"
             ],
             [
              0.4444444444444444,
              "#bd3786"
             ],
             [
              0.5555555555555556,
              "#d8576b"
             ],
             [
              0.6666666666666666,
              "#ed7953"
             ],
             [
              0.7777777777777778,
              "#fb9f3a"
             ],
             [
              0.8888888888888888,
              "#fdca26"
             ],
             [
              1,
              "#f0f921"
             ]
            ],
            "type": "heatmap"
           }
          ],
          "heatmapgl": [
           {
            "colorbar": {
             "outlinewidth": 0,
             "ticks": ""
            },
            "colorscale": [
             [
              0,
              "#0d0887"
             ],
             [
              0.1111111111111111,
              "#46039f"
             ],
             [
              0.2222222222222222,
              "#7201a8"
             ],
             [
              0.3333333333333333,
              "#9c179e"
             ],
             [
              0.4444444444444444,
              "#bd3786"
             ],
             [
              0.5555555555555556,
              "#d8576b"
             ],
             [
              0.6666666666666666,
              "#ed7953"
             ],
             [
              0.7777777777777778,
              "#fb9f3a"
             ],
             [
              0.8888888888888888,
              "#fdca26"
             ],
             [
              1,
              "#f0f921"
             ]
            ],
            "type": "heatmapgl"
           }
          ],
          "histogram": [
           {
            "marker": {
             "colorbar": {
              "outlinewidth": 0,
              "ticks": ""
             }
            },
            "type": "histogram"
           }
          ],
          "histogram2d": [
           {
            "colorbar": {
             "outlinewidth": 0,
             "ticks": ""
            },
            "colorscale": [
             [
              0,
              "#0d0887"
             ],
             [
              0.1111111111111111,
              "#46039f"
             ],
             [
              0.2222222222222222,
              "#7201a8"
             ],
             [
              0.3333333333333333,
              "#9c179e"
             ],
             [
              0.4444444444444444,
              "#bd3786"
             ],
             [
              0.5555555555555556,
              "#d8576b"
             ],
             [
              0.6666666666666666,
              "#ed7953"
             ],
             [
              0.7777777777777778,
              "#fb9f3a"
             ],
             [
              0.8888888888888888,
              "#fdca26"
             ],
             [
              1,
              "#f0f921"
             ]
            ],
            "type": "histogram2d"
           }
          ],
          "histogram2dcontour": [
           {
            "colorbar": {
             "outlinewidth": 0,
             "ticks": ""
            },
            "colorscale": [
             [
              0,
              "#0d0887"
             ],
             [
              0.1111111111111111,
              "#46039f"
             ],
             [
              0.2222222222222222,
              "#7201a8"
             ],
             [
              0.3333333333333333,
              "#9c179e"
             ],
             [
              0.4444444444444444,
              "#bd3786"
             ],
             [
              0.5555555555555556,
              "#d8576b"
             ],
             [
              0.6666666666666666,
              "#ed7953"
             ],
             [
              0.7777777777777778,
              "#fb9f3a"
             ],
             [
              0.8888888888888888,
              "#fdca26"
             ],
             [
              1,
              "#f0f921"
             ]
            ],
            "type": "histogram2dcontour"
           }
          ],
          "mesh3d": [
           {
            "colorbar": {
             "outlinewidth": 0,
             "ticks": ""
            },
            "type": "mesh3d"
           }
          ],
          "parcoords": [
           {
            "line": {
             "colorbar": {
              "outlinewidth": 0,
              "ticks": ""
             }
            },
            "type": "parcoords"
           }
          ],
          "pie": [
           {
            "automargin": true,
            "type": "pie"
           }
          ],
          "scatter": [
           {
            "marker": {
             "colorbar": {
              "outlinewidth": 0,
              "ticks": ""
             }
            },
            "type": "scatter"
           }
          ],
          "scatter3d": [
           {
            "line": {
             "colorbar": {
              "outlinewidth": 0,
              "ticks": ""
             }
            },
            "marker": {
             "colorbar": {
              "outlinewidth": 0,
              "ticks": ""
             }
            },
            "type": "scatter3d"
           }
          ],
          "scattercarpet": [
           {
            "marker": {
             "colorbar": {
              "outlinewidth": 0,
              "ticks": ""
             }
            },
            "type": "scattercarpet"
           }
          ],
          "scattergeo": [
           {
            "marker": {
             "colorbar": {
              "outlinewidth": 0,
              "ticks": ""
             }
            },
            "type": "scattergeo"
           }
          ],
          "scattergl": [
           {
            "marker": {
             "colorbar": {
              "outlinewidth": 0,
              "ticks": ""
             }
            },
            "type": "scattergl"
           }
          ],
          "scattermapbox": [
           {
            "marker": {
             "colorbar": {
              "outlinewidth": 0,
              "ticks": ""
             }
            },
            "type": "scattermapbox"
           }
          ],
          "scatterpolar": [
           {
            "marker": {
             "colorbar": {
              "outlinewidth": 0,
              "ticks": ""
             }
            },
            "type": "scatterpolar"
           }
          ],
          "scatterpolargl": [
           {
            "marker": {
             "colorbar": {
              "outlinewidth": 0,
              "ticks": ""
             }
            },
            "type": "scatterpolargl"
           }
          ],
          "scatterternary": [
           {
            "marker": {
             "colorbar": {
              "outlinewidth": 0,
              "ticks": ""
             }
            },
            "type": "scatterternary"
           }
          ],
          "surface": [
           {
            "colorbar": {
             "outlinewidth": 0,
             "ticks": ""
            },
            "colorscale": [
             [
              0,
              "#0d0887"
             ],
             [
              0.1111111111111111,
              "#46039f"
             ],
             [
              0.2222222222222222,
              "#7201a8"
             ],
             [
              0.3333333333333333,
              "#9c179e"
             ],
             [
              0.4444444444444444,
              "#bd3786"
             ],
             [
              0.5555555555555556,
              "#d8576b"
             ],
             [
              0.6666666666666666,
              "#ed7953"
             ],
             [
              0.7777777777777778,
              "#fb9f3a"
             ],
             [
              0.8888888888888888,
              "#fdca26"
             ],
             [
              1,
              "#f0f921"
             ]
            ],
            "type": "surface"
           }
          ],
          "table": [
           {
            "cells": {
             "fill": {
              "color": "#EBF0F8"
             },
             "line": {
              "color": "white"
             }
            },
            "header": {
             "fill": {
              "color": "#C8D4E3"
             },
             "line": {
              "color": "white"
             }
            },
            "type": "table"
           }
          ]
         },
         "layout": {
          "annotationdefaults": {
           "arrowcolor": "#2a3f5f",
           "arrowhead": 0,
           "arrowwidth": 1
          },
          "autotypenumbers": "strict",
          "coloraxis": {
           "colorbar": {
            "outlinewidth": 0,
            "ticks": ""
           }
          },
          "colorscale": {
           "diverging": [
            [
             0,
             "#8e0152"
            ],
            [
             0.1,
             "#c51b7d"
            ],
            [
             0.2,
             "#de77ae"
            ],
            [
             0.3,
             "#f1b6da"
            ],
            [
             0.4,
             "#fde0ef"
            ],
            [
             0.5,
             "#f7f7f7"
            ],
            [
             0.6,
             "#e6f5d0"
            ],
            [
             0.7,
             "#b8e186"
            ],
            [
             0.8,
             "#7fbc41"
            ],
            [
             0.9,
             "#4d9221"
            ],
            [
             1,
             "#276419"
            ]
           ],
           "sequential": [
            [
             0,
             "#0d0887"
            ],
            [
             0.1111111111111111,
             "#46039f"
            ],
            [
             0.2222222222222222,
             "#7201a8"
            ],
            [
             0.3333333333333333,
             "#9c179e"
            ],
            [
             0.4444444444444444,
             "#bd3786"
            ],
            [
             0.5555555555555556,
             "#d8576b"
            ],
            [
             0.6666666666666666,
             "#ed7953"
            ],
            [
             0.7777777777777778,
             "#fb9f3a"
            ],
            [
             0.8888888888888888,
             "#fdca26"
            ],
            [
             1,
             "#f0f921"
            ]
           ],
           "sequentialminus": [
            [
             0,
             "#0d0887"
            ],
            [
             0.1111111111111111,
             "#46039f"
            ],
            [
             0.2222222222222222,
             "#7201a8"
            ],
            [
             0.3333333333333333,
             "#9c179e"
            ],
            [
             0.4444444444444444,
             "#bd3786"
            ],
            [
             0.5555555555555556,
             "#d8576b"
            ],
            [
             0.6666666666666666,
             "#ed7953"
            ],
            [
             0.7777777777777778,
             "#fb9f3a"
            ],
            [
             0.8888888888888888,
             "#fdca26"
            ],
            [
             1,
             "#f0f921"
            ]
           ]
          },
          "colorway": [
           "#636efa",
           "#EF553B",
           "#00cc96",
           "#ab63fa",
           "#FFA15A",
           "#19d3f3",
           "#FF6692",
           "#B6E880",
           "#FF97FF",
           "#FECB52"
          ],
          "font": {
           "color": "#2a3f5f"
          },
          "geo": {
           "bgcolor": "white",
           "lakecolor": "white",
           "landcolor": "white",
           "showlakes": true,
           "showland": true,
           "subunitcolor": "#C8D4E3"
          },
          "hoverlabel": {
           "align": "left"
          },
          "hovermode": "closest",
          "mapbox": {
           "style": "light"
          },
          "paper_bgcolor": "white",
          "plot_bgcolor": "white",
          "polar": {
           "angularaxis": {
            "gridcolor": "#EBF0F8",
            "linecolor": "#EBF0F8",
            "ticks": ""
           },
           "bgcolor": "white",
           "radialaxis": {
            "gridcolor": "#EBF0F8",
            "linecolor": "#EBF0F8",
            "ticks": ""
           }
          },
          "scene": {
           "xaxis": {
            "backgroundcolor": "white",
            "gridcolor": "#DFE8F3",
            "gridwidth": 2,
            "linecolor": "#EBF0F8",
            "showbackground": true,
            "ticks": "",
            "zerolinecolor": "#EBF0F8"
           },
           "yaxis": {
            "backgroundcolor": "white",
            "gridcolor": "#DFE8F3",
            "gridwidth": 2,
            "linecolor": "#EBF0F8",
            "showbackground": true,
            "ticks": "",
            "zerolinecolor": "#EBF0F8"
           },
           "zaxis": {
            "backgroundcolor": "white",
            "gridcolor": "#DFE8F3",
            "gridwidth": 2,
            "linecolor": "#EBF0F8",
            "showbackground": true,
            "ticks": "",
            "zerolinecolor": "#EBF0F8"
           }
          },
          "shapedefaults": {
           "line": {
            "color": "#2a3f5f"
           }
          },
          "ternary": {
           "aaxis": {
            "gridcolor": "#DFE8F3",
            "linecolor": "#A2B1C6",
            "ticks": ""
           },
           "baxis": {
            "gridcolor": "#DFE8F3",
            "linecolor": "#A2B1C6",
            "ticks": ""
           },
           "bgcolor": "white",
           "caxis": {
            "gridcolor": "#DFE8F3",
            "linecolor": "#A2B1C6",
            "ticks": ""
           }
          },
          "title": {
           "x": 0.05
          },
          "xaxis": {
           "automargin": true,
           "gridcolor": "#EBF0F8",
           "linecolor": "#EBF0F8",
           "ticks": "",
           "title": {
            "standoff": 15
           },
           "zerolinecolor": "#EBF0F8",
           "zerolinewidth": 2
          },
          "yaxis": {
           "automargin": true,
           "gridcolor": "#EBF0F8",
           "linecolor": "#EBF0F8",
           "ticks": "",
           "title": {
            "standoff": 15
           },
           "zerolinecolor": "#EBF0F8",
           "zerolinewidth": 2
          }
         }
        },
        "title": {
         "text": "[2021-04-02 13:17:52 PM] Episode: 2/2 Step: 151/200"
        },
        "xaxis": {
         "anchor": "y",
         "domain": [
          0,
          1
         ],
         "gridcolor": "Gainsboro",
         "linecolor": "Grey",
         "matches": "x4",
         "rangeslider": {
          "visible": false
         },
         "showticklabels": false,
         "title": {
          "font": {
           "size": 12
          },
          "standoff": 7,
          "text": "Price"
         }
        },
        "xaxis2": {
         "anchor": "y2",
         "domain": [
          0,
          1
         ],
         "gridcolor": "Gainsboro",
         "linecolor": "Grey",
         "matches": "x4",
         "showticklabels": false,
         "title": {
          "font": {
           "size": 12
          },
          "standoff": 7,
          "text": "Volume"
         }
        },
        "xaxis3": {
         "anchor": "y3",
         "domain": [
          0,
          1
         ],
         "gridcolor": "Gainsboro",
         "linecolor": "Grey",
         "matches": "x4",
         "showticklabels": false,
         "title": {
          "font": {
           "size": 12
          },
          "standoff": 7,
          "text": "Performance"
         }
        },
        "xaxis4": {
         "anchor": "y4",
         "domain": [
          0,
          1
         ],
         "gridcolor": "Gainsboro",
         "linecolor": "Grey",
         "title": {
          "font": {
           "size": 12
          },
          "standoff": 7,
          "text": "Net Worth"
         }
        },
        "yaxis": {
         "anchor": "x",
         "domain": [
          0.49950000000000006,
          1
         ],
         "gridcolor": "Gainsboro",
         "linecolor": "Grey"
        },
        "yaxis2": {
         "anchor": "x2",
         "domain": [
          0.333,
          0.46950000000000003
         ],
         "gridcolor": "Gainsboro",
         "linecolor": "Grey"
        },
        "yaxis3": {
         "anchor": "x3",
         "domain": [
          0.1665,
          0.30300000000000005
         ],
         "gridcolor": "Gainsboro",
         "linecolor": "Grey"
        },
        "yaxis4": {
         "anchor": "x4",
         "domain": [
          0,
          0.1365
         ],
         "gridcolor": "Gainsboro",
         "linecolor": "Grey"
        }
       }
      },
      "text/html": "<div>                            <div id=\"e04d635d-5d08-4865-9aec-09d50d2c1276\" class=\"plotly-graph-div\" style=\"height:525px; width:100%;\"></div>            <script type=\"text/javascript\">                require([\"plotly\"], function(Plotly) {                    window.PLOTLYENV=window.PLOTLYENV || {};                                    if (document.getElementById(\"e04d635d-5d08-4865-9aec-09d50d2c1276\")) {                    Plotly.newPlot(                        \"e04d635d-5d08-4865-9aec-09d50d2c1276\",                        [{\"close\": [8740.99, 8739.0, 8728.49, 8708.32, 8795.9, 8760.0, 8760.0, 8759.23, 8517.77, 8520.3, 8535.23, 8546.34, 8526.65, 8555.6, 8512.1, 8492.28, 8460.0, 8474.99, 8455.92, 8326.28, 8133.43, 8164.79, 8229.38, 8220.4, 8238.8, 8232.99, 8207.48, 8243.45, 8371.13, 8373.0, 8365.08, 8179.99, 8225.0, 8285.8, 8273.4, 8297.4, 8279.89, 8252.72, 8302.18, 8295.85, 8277.25, 8346.59, 8358.3, 8375.1, 8368.62, 8366.72, 8314.77, 8363.7, 8344.16, 8247.4, 8277.4, 8291.67, 8307.89, 8298.9, 8269.47, 8300.98, 8318.49, 8306.39, 8276.43, 8257.69, 8166.0, 8176.33, 8200.7, 8155.41, 8080.0, 8067.03, 7958.08, 7974.25, 7998.5, 7991.99, 8022.7, 8042.97, 7965.67, 8088.95, 8122.19, 8107.99, 8137.73, 8115.0, 8107.0, 8094.4, 8080.01, 8117.09, 8126.99, 8110.95, 8215.39, 8231.42, 8240.13, 8235.0, 8219.9, 8248.87, 8213.5, 8200.99, 8200.0, 8237.3, 8228.13, 8240.83, 8214.9, 8170.07, 8229.87, 8205.87, 8252.56, 8365.0, 8348.65, 8303.99, 8310.48, 8310.0, 8289.87, 8304.99, 8301.35, 8313.12, 8240.07, 8199.99, 8226.98, 8231.2, 8198.89, 8215.85, 8279.99, 8255.08, 8270.4, 8244.24, 8239.12, 8267.14, 8282.27, 8350.62, 8336.6, 8336.91, 8311.21, 8312.09, 8345.19, 8377.2, 8481.11, 8516.36, 8524.0, 8517.04, 8558.5, 8521.99, 8484.93, 8518.48, 8488.99, 8466.72, 8492.55, 8494.28, 8510.95, 8498.64, 8551.1, 8524.22, 8510.11, 8475.62, 8476.58, 8467.13, 8499.84], \"high\": [8796.68, 8766.0, 8750.27, 8754.4, 8865.0, 8821.19, 8798.6, 8771.02, 8761.7, 8553.67, 8589.1, 8579.48, 8555.51, 8583.6, 8569.92, 8555.54, 8557.51, 8505.0, 8505.33, 8478.29, 8339.81, 8217.44, 8252.72, 8248.63, 8267.12, 8255.0, 8261.24, 8263.93, 8455.66, 8439.44, 8399.1, 8381.73, 8229.91, 8377.29, 8329.1, 8350.0, 8346.95, 8377.29, 8311.35, 8319.96, 8398.24, 8372.58, 8399.99, 8386.53, 8400.0, 8500.0, 8381.0, 8371.3, 8382.41, 8351.0, 8292.99, 8325.8, 8318.99, 8324.9, 8335.56, 8309.4, 8377.29, 8330.41, 8328.23, 8284.36, 8274.83, 8200.0, 8232.14, 8213.97, 8155.41, 8108.28, 8068.92, 8019.9, 8026.66, 8025.0, 8104.69, 8061.39, 8045.99, 8170.71, 8144.16, 8139.99, 8152.99, 8137.73, 8143.72, 8129.99, 8106.76, 8139.0, 8152.04, 8146.99, 8232.14, 8275.1, 8256.12, 8274.1, 8255.8, 8253.97, 8261.09, 8235.76, 8227.0, 8273.36, 8264.21, 8250.0, 8250.86, 8235.77, 8232.12, 8232.14, 8252.72, 8370.0, 8395.0, 8374.48, 8331.0, 8319.43, 8323.4, 8314.55, 8330.62, 8314.8, 8323.99, 8263.03, 8247.78, 8253.75, 8237.89, 8235.0, 8279.99, 8290.0, 8278.71, 8275.34, 8279.31, 8279.98, 8294.04, 8356.4, 8374.94, 8354.83, 8360.45, 8337.14, 8351.97, 8377.29, 8549.0, 8531.9, 8551.79, 8529.9, 8590.0, 8576.1, 8549.89, 8531.89, 8550.0, 8493.29, 8522.98, 8517.0, 8537.29, 8524.51, 8589.1, 8589.07, 8536.92, 8524.03, 8497.8, 8498.0, 8513.5], \"low\": [8707.28, 8721.11, 8660.53, 8701.35, 8695.11, 8740.54, 8741.52, 8700.0, 8467.42, 8477.89, 8500.78, 8500.0, 8400.0, 8451.05, 8461.38, 8481.24, 8420.37, 8450.0, 8430.94, 8275.02, 8100.01, 8122.56, 8157.01, 8166.25, 8176.91, 8213.79, 8200.0, 8207.48, 8237.1, 8370.0, 8356.4, 8145.1, 8173.6, 8211.8, 8201.0, 8250.9, 8266.46, 8252.72, 8232.14, 8268.37, 8277.25, 8277.25, 8314.78, 8314.77, 8350.07, 8331.39, 8314.77, 8275.45, 8335.49, 8191.14, 8227.7, 8264.13, 8249.93, 8269.52, 8219.44, 8262.68, 8286.65, 8289.87, 8232.14, 8232.14, 8110.02, 8154.95, 8168.6, 8151.0, 7980.0, 8005.95, 7929.53, 7931.03, 7950.0, 7980.58, 7991.99, 7992.75, 7953.4, 7965.67, 8085.94, 8078.48, 8092.9, 8049.22, 8079.46, 8062.12, 8043.96, 8063.1, 8088.46, 8094.43, 8088.46, 8191.14, 8212.0, 8224.5, 8211.0, 8211.01, 8210.03, 8158.27, 8177.65, 8179.41, 8221.92, 8217.32, 8213.52, 8141.08, 8146.1, 8186.03, 8197.09, 8231.21, 8323.82, 8296.0, 8296.31, 8282.65, 8280.0, 8273.36, 8290.08, 8277.93, 8240.07, 8191.14, 8178.0, 8193.7, 8180.0, 8170.71, 8215.53, 8240.02, 8237.17, 8237.17, 8239.12, 8227.79, 8247.57, 8274.24, 8326.1, 8320.61, 8281.31, 8269.85, 8311.16, 8336.11, 8369.86, 8471.51, 8511.0, 8476.66, 8507.68, 8509.24, 8482.53, 8484.93, 8450.0, 8434.47, 8461.1, 8481.0, 8480.0, 8488.1, 8471.09, 8509.2, 8482.64, 8469.0, 8440.4, 8440.52, 8461.8], \"name\": \"Price\", \"open\": [8733.86, 8740.99, 8739.0, 8728.49, 8708.32, 8795.9, 8760.0, 8760.0, 8759.23, 8517.77, 8520.3, 8535.23, 8546.34, 8526.65, 8555.6, 8512.1, 8492.28, 8460.0, 8474.99, 8455.92, 8326.28, 8133.43, 8164.79, 8229.38, 8220.4, 8238.8, 8232.99, 8207.48, 8243.45, 8371.13, 8373.0, 8365.08, 8179.99, 8225.0, 8285.8, 8273.4, 8297.4, 8279.89, 8252.72, 8302.18, 8295.85, 8277.25, 8346.59, 8358.3, 8375.1, 8368.62, 8366.72, 8314.77, 8363.7, 8344.16, 8247.4, 8277.4, 8291.67, 8307.89, 8298.9, 8269.47, 8300.98, 8318.49, 8306.39, 8276.43, 8257.69, 8166.0, 8176.33, 8200.7, 8155.41, 8080.0, 8067.03, 7958.08, 7974.25, 7998.5, 7991.99, 8022.7, 8042.97, 7965.67, 8088.95, 8122.19, 8107.99, 8137.73, 8115.0, 8107.0, 8094.4, 8080.01, 8117.09, 8126.99, 8110.95, 8215.39, 8231.42, 8240.13, 8235.0, 8219.9, 8248.87, 8213.5, 8200.99, 8200.0, 8237.3, 8228.13, 8240.83, 8214.9, 8170.07, 8229.87, 8205.87, 8252.56, 8365.0, 8348.65, 8303.99, 8310.48, 8310.0, 8289.87, 8304.99, 8301.35, 8313.12, 8240.07, 8199.99, 8226.98, 8231.2, 8198.89, 8215.85, 8279.99, 8255.08, 8270.4, 8244.24, 8239.12, 8267.14, 8282.27, 8350.62, 8336.6, 8336.91, 8311.21, 8312.09, 8345.19, 8377.2, 8481.11, 8516.36, 8524.0, 8517.04, 8558.5, 8521.99, 8484.93, 8518.48, 8488.99, 8466.72, 8492.55, 8494.28, 8510.95, 8498.64, 8551.1, 8524.22, 8510.11, 8475.62, 8476.58, 8467.13], \"showlegend\": false, \"type\": \"candlestick\", \"uid\": \"9daa24c5-9ae2-4db4-83a6-1beaa490cf1a\", \"xaxis\": \"x\", \"yaxis\": \"y\"}, {\"marker\": {\"color\": \"DodgerBlue\"}, \"name\": \"Volume\", \"showlegend\": false, \"type\": \"bar\", \"uid\": \"366ede5a-4128-45a4-9618-3b6f31a20734\", \"xaxis\": \"x2\", \"y\": [559.93, 273.58, 917.79, 182.62, 1260.69, 324.11, 324.2, 730.67, 1341.75, 792.07, 385.69, 475.08, 877.26, 670.49, 610.97, 168.99, 305.92, 136.05, 154.26, 1070.93, 1710.2, 492.8, 630.72, 620.93, 586.34, 304.52, 450.97, 182.36, 915.32, 319.29, 362.01, 1046.38, 357.91, 561.2, 322.53, 1073.71, 237.21, 251.2, 359.73, 117.23, 363.17, 214.18, 171.64, 258.58, 299.52, 718.98, 119.7, 405.25, 210.77, 714.82, 215.97, 164.2, 201.55, 203.41, 886.82, 95.49, 499.67, 172.77, 355.39, 255.27, 591.06, 133.1, 149.13, 87.55, 1061.54, 286.94, 524.42, 316.0, 441.43, 189.7, 844.94, 155.34, 257.56, 610.69, 217.97, 173.18, 218.06, 372.97, 484.39, 248.1, 162.35, 303.42, 290.69, 160.93, 369.4, 487.27, 93.35, 96.68, 72.14, 90.22, 168.52, 203.15, 71.42, 464.56, 57.0, 89.42, 49.47, 200.05, 254.37, 65.05, 118.19, 452.4, 181.03, 288.04, 145.78, 110.14, 55.48, 80.87, 67.01, 59.16, 121.26, 244.37, 156.87, 80.48, 139.32, 93.52, 200.23, 97.4, 68.08, 47.0, 36.65, 28.75, 182.85, 400.18, 288.1, 182.94, 777.81, 493.59, 118.63, 174.37, 901.75, 222.45, 113.8, 84.2, 261.44, 168.78, 111.07, 122.12, 267.32, 210.39, 211.36, 146.22, 93.39, 89.04, 307.59, 307.2, 164.24, 151.21, 399.77, 362.01, 260.85], \"yaxis\": \"y2\"}, {\"mode\": \"lines\", \"name\": \"bitstamp:/USD-BTC\", \"type\": \"scatter\", \"uid\": \"144dadab-dc92-4059-bcf1-f191aae5cff6\", \"xaxis\": \"x3\", \"y\": [8740.99, 8739.0, 8728.49, 8708.32, 8795.9, 8760.0, 8760.0, 8759.23, 8517.77, 8520.3, 8535.23, 8546.34, 8526.65, 8555.6, 8512.1, 8492.28, 8460.0, 8474.99, 8455.92, 8326.28, 8133.43, 8164.79, 8229.38, 8220.4, 8238.8, 8232.99, 8207.48, 8243.45, 8371.13, 8373.0, 8365.08, 8179.99, 8225.0, 8285.8, 8273.4, 8297.4, 8279.89, 8252.72, 8302.18, 8295.85, 8277.25, 8346.59, 8358.3, 8375.1, 8368.62, 8366.72, 8314.77, 8363.7, 8344.16, 8247.4, 8277.4, 8291.67, 8307.89, 8298.9, 8269.47, 8300.98, 8318.49, 8306.39, 8276.43, 8257.69, 8166.0, 8176.33, 8200.7, 8155.41, 8080.0, 8067.03, 7958.08, 7974.25, 7998.5, 7991.99, 8022.7, 8042.97, 7965.67, 8088.95, 8122.19, 8107.99, 8137.73, 8115.0, 8107.0, 8094.4, 8080.01, 8117.09, 8126.99, 8110.95, 8215.39, 8231.42, 8240.13, 8235.0, 8219.9, 8248.87, 8213.5, 8200.99, 8200.0, 8237.3, 8228.13, 8240.83, 8214.9, 8170.07, 8229.87, 8205.87, 8252.56, 8365.0, 8348.65, 8303.99, 8310.48, 8310.0, 8289.87, 8304.99, 8301.35, 8313.12, 8240.07, 8199.99, 8226.98, 8231.2, 8198.89, 8215.85, 8279.99, 8255.08, 8270.4, 8244.24, 8239.12, 8267.14, 8282.27, 8350.62, 8336.6, 8336.91, 8311.21, 8312.09, 8345.19, 8377.2, 8481.11, 8516.36, 8524.0, 8517.04, 8558.5, 8521.99, 8484.93, 8518.48, 8488.99, 8466.72, 8492.55, 8494.28, 8510.95, 8498.64, 8551.1, 8524.22, 8510.11, 8475.62, 8476.58, 8467.13, 8499.84], \"yaxis\": \"y3\"}, {\"mode\": \"lines\", \"name\": \"bitstamp:/USD:/free\", \"type\": \"scatter\", \"uid\": \"215fa976-3ead-45d7-83c7-ba95c90c4306\", \"xaxis\": \"x3\", \"y\": [10000.0, 10000.0, 10000.0, 1000.0, 1000.0, 1000.0, 1000.0, 1000.0, 1000.0, 9730.11, 9730.11, 9730.11, 9730.11, 9730.11, 9730.11, 9730.11, 9730.11, 9730.11, 973.01, 973.01, 973.01, 973.01, 973.01, 973.01, 973.01, 973.01, 973.01, 973.01, 973.01, 973.01, 973.01, 973.01, 973.01, 973.01, 973.01, 973.01, 973.01, 973.01, 973.01, 973.01, 973.01, 973.01, 973.01, 973.01, 973.01, 973.01, 973.01, 973.01, 973.01, 973.01, 973.01, 973.01, 973.01, 973.01, 973.01, 973.01, 973.01, 973.01, 973.01, 973.01, 973.01, 973.01, 973.01, 973.01, 973.01, 973.01, 973.01, 9146.73, 9146.73, 9146.73, 9146.73, 0.0, 0.0, 0.0, 0.0, 0.0, 0.0, 0.0, 0.0, 0.0, 0.0, 0.0, 0.0, 0.0, 0.0, 0.0, 0.0, 0.0, 0.0, 0.0, 0.0, 0.0, 0.0, 0.0, 0.0, 0.0, 0.0, 0.0, 0.0, 0.0, 0.0, 0.0, 9479.85, 9479.85, 9479.85, 9479.85, 9479.85, 9479.85, 9479.85, 1895.97, 1895.97, 1895.97, 1895.97, 1895.97, 1895.97, 1895.97, 1895.97, 1895.97, 1895.97, 1895.97, 1895.97, 1895.97, 1895.97, 1895.97, 1895.97, 1895.97, 1895.97, 1895.97, 1895.97, 1895.97, 1895.97, 9597.66, 959.77, 959.77, 959.77, 959.77, 959.77, 959.77, 959.77, 959.77, 959.77, 959.77, 959.77, 959.77, 959.77, 959.77, 959.77, 959.77, 959.77, 959.77, 959.77], \"yaxis\": \"y3\"}, {\"mode\": \"lines\", \"name\": \"bitstamp:/USD:/locked\", \"type\": \"scatter\", \"uid\": \"f14581dc-310b-4fca-903b-cfdfa33d18fc\", \"xaxis\": \"x3\", \"y\": [0.0, 0.0, 0.0, 0.0, 0.0, 0.0, 0.0, 0.0, 0.0, 0.0, 0.0, 0.0, 0.0, 0.0, 0.0, 0.0, 0.0, 0.0, 0.0, 0.0, 0.0, 0.0, 0.0, 0.0, 0.0, 0.0, 0.0, 0.0, 0.0, 0.0, 0.0, 0.0, 0.0, 0.0, 0.0, 0.0, 0.0, 0.0, 0.0, 0.0, 0.0, 0.0, 0.0, 0.0, 0.0, 0.0, 0.0, 0.0, 0.0, 0.0, 0.0, 0.0, 0.0, 0.0, 0.0, 0.0, 0.0, 0.0, 0.0, 0.0, 0.0, 0.0, 0.0, 0.0, 0.0, 0.0, 0.0, 0.0, 0.0, 0.0, 0.0, 0.0, 0.0, 0.0, 0.0, 0.0, 0.0, 0.0, 0.0, 0.0, 0.0, 0.0, 0.0, 0.0, 0.0, 0.0, 0.0, 0.0, 0.0, 0.0, 0.0, 0.0, 0.0, 0.0, 0.0, 0.0, 0.0, 0.0, 0.0, 0.0, 0.0, 0.0, 0.0, 0.0, 0.0, 0.0, 0.0, 0.0, 0.0, 0.0, 0.0, 0.0, 0.0, 0.0, 0.0, 0.0, 0.0, 0.0, 0.0, 0.0, 0.0, 0.0, 0.0, 0.0, 0.0, 0.0, 0.0, 0.0, 0.0, 0.0, 0.0, 0.0, 0.0, 0.0, 0.0, 0.0, 0.0, 0.0, 0.0, 0.0, 0.0, 0.0, 0.0, 0.0, 0.0, 0.0, 0.0, 0.0, 0.0, 0.0, 0.0], \"yaxis\": \"y3\"}, {\"mode\": \"lines\", \"name\": \"bitstamp:/USD:/total\", \"type\": \"scatter\", \"uid\": \"b26474e7-1144-4f03-9f03-7bd22931501e\", \"xaxis\": \"x3\", \"y\": [10000.0, 10000.0, 10000.0, 1000.0, 1000.0, 1000.0, 1000.0, 1000.0, 1000.0, 9730.11, 9730.11, 9730.11, 9730.11, 9730.11, 9730.11, 9730.11, 9730.11, 9730.11, 973.01, 973.01, 973.01, 973.01, 973.01, 973.01, 973.01, 973.01, 973.01, 973.01, 973.01, 973.01, 973.01, 973.01, 973.01, 973.01, 973.01, 973.01, 973.01, 973.01, 973.01, 973.01, 973.01, 973.01, 973.01, 973.01, 973.01, 973.01, 973.01, 973.01, 973.01, 973.01, 973.01, 973.01, 973.01, 973.01, 973.01, 973.01, 973.01, 973.01, 973.01, 973.01, 973.01, 973.01, 973.01, 973.01, 973.01, 973.01, 973.01, 9146.73, 9146.73, 9146.73, 9146.73, 0.0, 0.0, 0.0, 0.0, 0.0, 0.0, 0.0, 0.0, 0.0, 0.0, 0.0, 0.0, 0.0, 0.0, 0.0, 0.0, 0.0, 0.0, 0.0, 0.0, 0.0, 0.0, 0.0, 0.0, 0.0, 0.0, 0.0, 0.0, 0.0, 0.0, 0.0, 9479.85, 9479.85, 9479.85, 9479.85, 9479.85, 9479.85, 9479.85, 1895.97, 1895.97, 1895.97, 1895.97, 1895.97, 1895.97, 1895.97, 1895.97, 1895.97, 1895.97, 1895.97, 1895.97, 1895.97, 1895.97, 1895.97, 1895.97, 1895.97, 1895.97, 1895.97, 1895.97, 1895.97, 1895.97, 9597.66, 959.77, 959.77, 959.77, 959.77, 959.77, 959.77, 959.77, 959.77, 959.77, 959.77, 959.77, 959.77, 959.77, 959.77, 959.77, 959.77, 959.77, 959.77, 959.77], \"yaxis\": \"y3\"}, {\"mode\": \"lines\", \"name\": \"bitstamp:/BTC:/free\", \"type\": \"scatter\", \"uid\": \"b17d4003-2e58-4235-8a40-be01d611c74e\", \"xaxis\": \"x3\", \"y\": [10.0, 10.0, 10.0, 10.0, 10.0, 10.0, 10.0, 10.0, 10.0, 10.0, 10.0, 10.0, 10.0, 10.0, 10.0, 10.0, 10.0, 10.0, 10.0, 10.0, 10.0, 10.0, 10.0, 10.0, 10.0, 10.0, 10.0, 10.0, 10.0, 10.0, 10.0, 10.0, 10.0, 10.0, 10.0, 10.0, 10.0, 10.0, 10.0, 10.0, 10.0, 10.0, 10.0, 10.0, 10.0, 10.0, 10.0, 10.0, 10.0, 10.0, 10.0, 10.0, 10.0, 10.0, 10.0, 10.0, 10.0, 10.0, 10.0, 10.0, 10.0, 10.0, 10.0, 10.0, 10.0, 10.0, 10.0, 10.0, 10.0, 10.0, 10.0, 10.0, 10.0, 10.0, 10.0, 10.0, 10.0, 10.0, 10.0, 10.0, 10.0, 10.0, 10.0, 10.0, 10.0, 10.0, 10.0, 10.0, 10.0, 10.0, 10.0, 10.0, 10.0, 10.0, 10.0, 10.0, 10.0, 10.0, 10.0, 10.0, 10.0, 10.0, 10.0, 10.0, 10.0, 10.0, 10.0, 10.0, 10.0, 10.0, 10.0, 10.0, 10.0, 10.0, 10.0, 10.0, 10.0, 10.0, 10.0, 10.0, 10.0, 10.0, 10.0, 10.0, 10.0, 10.0, 10.0, 10.0, 10.0, 10.0, 10.0, 10.0, 10.0, 10.0, 10.0, 10.0, 10.0, 10.0, 10.0, 10.0, 10.0, 10.0, 10.0, 10.0, 10.0, 10.0, 10.0, 10.0, 10.0, 10.0, 10.0], \"yaxis\": \"y3\"}, {\"mode\": \"lines\", \"name\": \"bitstamp:/BTC:/locked\", \"type\": \"scatter\", \"uid\": \"042e0b65-eede-4d26-9f7b-b257debd16f8\", \"xaxis\": \"x3\", \"y\": [0.0, 0.0, 0.0, 1.02801286, 1.02801286, 1.02801286, 1.02801286, 1.02801286, 1.02801286, 0.0, 0.0, 0.0, 0.0, 0.0, 0.0, 0.0, 0.0, 0.0, 1.03018765, 1.03018765, 1.03018765, 1.03018765, 1.03018765, 1.03018765, 1.03018765, 1.03018765, 1.03018765, 1.03018765, 1.03018765, 1.03018765, 1.03018765, 1.03018765, 1.03018765, 1.03018765, 1.03018765, 1.03018765, 1.03018765, 1.03018765, 1.03018765, 1.03018765, 1.03018765, 1.03018765, 1.03018765, 1.03018765, 1.03018765, 1.03018765, 1.03018765, 1.03018765, 1.03018765, 1.03018765, 1.03018765, 1.03018765, 1.03018765, 1.03018765, 1.03018765, 1.03018765, 1.03018765, 1.03018765, 1.03018765, 1.03018765, 1.03018765, 1.03018765, 1.03018765, 1.03018765, 1.03018765, 1.03018765, 1.03018765, 0.0, 0.0, 0.0, 0.0, 1.1366859, 1.1366859, 1.1366859, 1.1366859, 1.1366859, 1.1366859, 1.1366859, 1.1366859, 1.1366859, 1.1366859, 1.1366859, 1.1366859, 1.1366859, 1.1366859, 1.1366859, 1.1366859, 1.1366859, 1.1366859, 1.1366859, 1.1366859, 1.1366859, 1.1366859, 1.1366859, 1.1366859, 1.1366859, 1.1366859, 1.1366859, 1.1366859, 1.1366859, 1.1366859, 1.1366859, 0.0, 0.0, 0.0, 0.0, 0.0, 0.0, 0.0, 0.91083137, 0.91083137, 0.91083137, 0.91083137, 0.91083137, 0.91083137, 0.91083137, 0.91083137, 0.91083137, 0.91083137, 0.91083137, 0.91083137, 0.91083137, 0.91083137, 0.91083137, 0.91083137, 0.91083137, 0.91083137, 0.91083137, 0.91083137, 0.91083137, 0.91083137, 0.0, 1.0112278, 1.0112278, 1.0112278, 1.0112278, 1.0112278, 1.0112278, 1.0112278, 1.0112278, 1.0112278, 1.0112278, 1.0112278, 1.0112278, 1.0112278, 1.0112278, 1.0112278, 1.0112278, 1.0112278, 1.0112278, 1.0112278], \"yaxis\": \"y3\"}, {\"mode\": \"lines\", \"name\": \"bitstamp:/BTC:/total\", \"type\": \"scatter\", \"uid\": \"25740144-d456-4953-88f1-707b2dedb8c3\", \"xaxis\": \"x3\", \"y\": [10.0, 10.0, 10.0, 11.02801286, 11.02801286, 11.02801286, 11.02801286, 11.02801286, 11.02801286, 10.0, 10.0, 10.0, 10.0, 10.0, 10.0, 10.0, 10.0, 10.0, 11.03018765, 11.03018765, 11.03018765, 11.03018765, 11.03018765, 11.03018765, 11.03018765, 11.03018765, 11.03018765, 11.03018765, 11.03018765, 11.03018765, 11.03018765, 11.03018765, 11.03018765, 11.03018765, 11.03018765, 11.03018765, 11.03018765, 11.03018765, 11.03018765, 11.03018765, 11.03018765, 11.03018765, 11.03018765, 11.03018765, 11.03018765, 11.03018765, 11.03018765, 11.03018765, 11.03018765, 11.03018765, 11.03018765, 11.03018765, 11.03018765, 11.03018765, 11.03018765, 11.03018765, 11.03018765, 11.03018765, 11.03018765, 11.03018765, 11.03018765, 11.03018765, 11.03018765, 11.03018765, 11.03018765, 11.03018765, 11.03018765, 10.0, 10.0, 10.0, 10.0, 11.1366859, 11.1366859, 11.1366859, 11.1366859, 11.1366859, 11.1366859, 11.1366859, 11.1366859, 11.1366859, 11.1366859, 11.1366859, 11.1366859, 11.1366859, 11.1366859, 11.1366859, 11.1366859, 11.1366859, 11.1366859, 11.1366859, 11.1366859, 11.1366859, 11.1366859, 11.1366859, 11.1366859, 11.1366859, 11.1366859, 11.1366859, 11.1366859, 11.1366859, 11.1366859, 11.1366859, 10.0, 10.0, 10.0, 10.0, 10.0, 10.0, 10.0, 10.91083137, 10.91083137, 10.91083137, 10.91083137, 10.91083137, 10.91083137, 10.91083137, 10.91083137, 10.91083137, 10.91083137, 10.91083137, 10.91083137, 10.91083137, 10.91083137, 10.91083137, 10.91083137, 10.91083137, 10.91083137, 10.91083137, 10.91083137, 10.91083137, 10.91083137, 10.0, 11.0112278, 11.0112278, 11.0112278, 11.0112278, 11.0112278, 11.0112278, 11.0112278, 11.0112278, 11.0112278, 11.0112278, 11.0112278, 11.0112278, 11.0112278, 11.0112278, 11.0112278, 11.0112278, 11.0112278, 11.0112278, 11.0112278], \"yaxis\": \"y3\"}, {\"mode\": \"lines\", \"name\": \"bitstamp:/BTC:/worth\", \"type\": \"scatter\", \"uid\": \"04b9efcf-d7af-4127-bd92-3213de7f2309\", \"xaxis\": \"x3\", \"y\": [87409.9, 87390.0, 87284.9, 96035.4649489952, 97001.298315274, 96605.3926536, 96605.3926536, 96596.9010836978, 93934.0770985222, 85203.0, 85352.29999999999, 85463.4, 85266.5, 85556.0, 85121.0, 84922.8, 84600.0, 84749.9, 93270.384353388, 91840.43082644201, 89713.2591381395, 90059.1658228435, 90771.60564315699, 90672.55455806, 90875.51001082, 90811.4246205735, 90530.044533622, 90926.8003833925, 92335.1347425445, 92355.76119345, 92268.402107262, 90226.8246751235, 90723.29342125, 91393.92883036999, 91257.15450351, 91521.87900711, 91328.7404213585, 91029.050222908, 91574.603304077, 91504.78221625251, 91299.62072596251, 92064.4539376135, 92193.61743499499, 92378.92458751501, 92307.44897154301, 92286.491615008, 91713.47336659051, 92253.18044830501, 92037.650581624, 90970.36962461, 91301.27525410999, 91458.6760318755, 91637.5856755585, 91538.424288585, 91213.8058660455, 91561.36707889699, 91754.5056646485, 91621.0403940835, 91290.5759720895, 91083.87025552851, 90072.5123499, 90186.4541883245, 90455.259861355, 89955.7026626865, 89123.916212, 88980.8546781795, 87779.115733712, 79742.5, 79985.0, 79919.9, 80227.0, 89572.030593123, 88711.164773053, 90084.09541080499, 90454.27885012099, 90296.137910341, 90627.342949007, 90374.20607849999, 90285.1125913, 90144.79034896, 89984.533438859, 90397.481752031, 90507.73494244099, 90329.10250060499, 91492.21797600099, 91670.739050978, 91767.73958516699, 91710.6083865, 91542.44442941, 91865.07421993301, 91471.16963965, 91331.84969904099, 91320.82438, 91736.22276406999, 91634.09935436699, 91775.535265297, 91486.76099991, 90987.503371013, 91653.477187833, 91386.19672623301, 91906.168590904, 93158.3775535, 83486.5, 83039.9, 83104.79999999999, 83100.0, 82898.70000000001, 83049.9, 83013.5, 90703.05047857441, 89906.0142469959, 89468.7081256863, 89763.1914643626, 89809.23517274401, 89456.70621117929, 89641.7539112145, 90341.5746352863, 90069.7858258596, 90236.939762448, 89951.5124138088, 89895.64895719441, 90201.3704521818, 90366.45133080991, 91112.2066549494, 90959.236799142, 90962.6191568667, 90682.2107906577, 90691.8123222633, 91052.9608406103, 91402.21655276402, 92535.9610404207, 85163.6, 93859.70576720001, 93783.067621712, 94239.59312630001, 93837.573199322, 93429.497097054, 93798.923789744, 93474.202681922, 93228.982638816, 93513.40265289, 93532.45207698402, 93716.00924441002, 93580.46103019199, 94158.11004058001, 93862.12823731599, 93706.75981305802, 93326.98256623601, 93337.553344924, 93233.497242214, 93593.674503552], \"yaxis\": \"y3\"}, {\"mode\": \"lines\", \"name\": \"net_worth\", \"type\": \"scatter\", \"uid\": \"c75c71d2-d910-4945-bba1-50dba22356b1\", \"xaxis\": \"x3\", \"y\": [97409.9, 97390.0, 97284.9, 97035.4649489952, 98001.298315274, 97605.3926536, 97605.3926536, 97596.9010836978, 94934.0770985222, 94933.11, 95082.40999999999, 95193.51, 94996.61, 95286.11, 94851.11, 94652.91, 94330.11, 94480.01, 94243.394353388, 92813.440826442, 90686.2691381395, 91032.17582284349, 91744.61564315698, 91645.56455806, 91848.52001082, 91784.43462057349, 91503.054533622, 91899.8103833925, 93308.1447425445, 93328.77119345, 93241.41210726199, 91199.8346751235, 91696.30342124999, 92366.93883036998, 92230.16450351, 92494.88900710999, 92301.75042135849, 92002.060222908, 92547.613304077, 92477.7922162525, 92272.6307259625, 93037.4639376135, 93166.62743499498, 93351.934587515, 93280.458971543, 93259.50161500799, 92686.4833665905, 93226.190448305, 93010.66058162399, 91943.37962461, 92274.28525410999, 92431.68603187549, 92610.59567555849, 92511.43428858499, 92186.8158660455, 92534.37707889699, 92727.5156646485, 92594.05039408349, 92263.5859720895, 92056.88025552851, 91045.5223499, 91159.46418832449, 91428.269861355, 90928.71266268649, 90096.92621199999, 89953.8646781795, 88752.12573371199, 88889.23, 89131.73, 89066.62999999999, 89373.73, 89572.030593123, 88711.164773053, 90084.09541080499, 90454.27885012099, 90296.137910341, 90627.342949007, 90374.20607849999, 90285.1125913, 90144.79034896, 89984.533438859, 90397.481752031, 90507.73494244099, 90329.10250060499, 91492.21797600099, 91670.739050978, 91767.73958516699, 91710.6083865, 91542.44442941, 91865.07421993301, 91471.16963965, 91331.84969904099, 91320.82438, 91736.22276406999, 91634.09935436699, 91775.535265297, 91486.76099991, 90987.503371013, 91653.477187833, 91386.19672623301, 91906.168590904, 93158.3775535, 92966.35, 92519.75, 92584.65, 92579.85, 92378.55000000002, 92529.75, 92493.35, 92599.02047857441, 91801.9842469959, 91364.6781256863, 91659.1614643626, 91705.20517274401, 91352.67621117929, 91537.7239112145, 92237.54463528631, 91965.7558258596, 92132.909762448, 91847.4824138088, 91791.61895719441, 92097.3404521818, 92262.42133080991, 93008.1766549494, 92855.206799142, 92858.5891568667, 92578.1807906577, 92587.7823222633, 92948.93084061031, 93298.18655276402, 94431.9310404207, 94761.26000000001, 94819.47576720001, 94742.83762171201, 95199.36312630001, 94797.343199322, 94389.267097054, 94758.69378974401, 94433.97268192201, 94188.752638816, 94473.17265289, 94492.22207698402, 94675.77924441002, 94540.231030192, 95117.88004058001, 94821.898237316, 94666.52981305802, 94286.75256623601, 94297.323344924, 94193.267242214, 94553.444503552], \"yaxis\": \"y3\"}, {\"marker\": {\"color\": \"DarkGreen\"}, \"mode\": \"lines\", \"name\": \"Net Worth\", \"type\": \"scatter\", \"uid\": \"a85c8827-5a96-4205-b9d6-e2c5b9b5ffa8\", \"xaxis\": \"x4\", \"y\": [97409.9, 97390.0, 97284.9, 97035.4649489952, 98001.298315274, 97605.3926536, 97605.3926536, 97596.9010836978, 94934.0770985222, 94933.11, 95082.40999999999, 95193.51, 94996.61, 95286.11, 94851.11, 94652.91, 94330.11, 94480.01, 94243.394353388, 92813.440826442, 90686.2691381395, 91032.17582284349, 91744.61564315698, 91645.56455806, 91848.52001082, 91784.43462057349, 91503.054533622, 91899.8103833925, 93308.1447425445, 93328.77119345, 93241.41210726199, 91199.8346751235, 91696.30342124999, 92366.93883036998, 92230.16450351, 92494.88900710999, 92301.75042135849, 92002.060222908, 92547.613304077, 92477.7922162525, 92272.6307259625, 93037.4639376135, 93166.62743499498, 93351.934587515, 93280.458971543, 93259.50161500799, 92686.4833665905, 93226.190448305, 93010.66058162399, 91943.37962461, 92274.28525410999, 92431.68603187549, 92610.59567555849, 92511.43428858499, 92186.8158660455, 92534.37707889699, 92727.5156646485, 92594.05039408349, 92263.5859720895, 92056.88025552851, 91045.5223499, 91159.46418832449, 91428.269861355, 90928.71266268649, 90096.92621199999, 89953.8646781795, 88752.12573371199, 88889.23, 89131.73, 89066.62999999999, 89373.73, 89572.030593123, 88711.164773053, 90084.09541080499, 90454.27885012099, 90296.137910341, 90627.342949007, 90374.20607849999, 90285.1125913, 90144.79034896, 89984.533438859, 90397.481752031, 90507.73494244099, 90329.10250060499, 91492.21797600099, 91670.739050978, 91767.73958516699, 91710.6083865, 91542.44442941, 91865.07421993301, 91471.16963965, 91331.84969904099, 91320.82438, 91736.22276406999, 91634.09935436699, 91775.535265297, 91486.76099991, 90987.503371013, 91653.477187833, 91386.19672623301, 91906.168590904, 93158.3775535, 92966.35, 92519.75, 92584.65, 92579.85, 92378.55000000002, 92529.75, 92493.35, 92599.02047857441, 91801.9842469959, 91364.6781256863, 91659.1614643626, 91705.20517274401, 91352.67621117929, 91537.7239112145, 92237.54463528631, 91965.7558258596, 92132.909762448, 91847.4824138088, 91791.61895719441, 92097.3404521818, 92262.42133080991, 93008.1766549494, 92855.206799142, 92858.5891568667, 92578.1807906577, 92587.7823222633, 92948.93084061031, 93298.18655276402, 94431.9310404207, 94761.26000000001, 94819.47576720001, 94742.83762171201, 95199.36312630001, 94797.343199322, 94389.267097054, 94758.69378974401, 94433.97268192201, 94188.752638816, 94473.17265289, 94492.22207698402, 94675.77924441002, 94540.231030192, 95117.88004058001, 94821.898237316, 94666.52981305802, 94286.75256623601, 94297.323344924, 94193.267242214, 94553.444503552], \"yaxis\": \"y4\"}],                        {\"annotations\": [{\"arrowcolor\": \"DarkGreen\", \"arrowhead\": 2, \"arrowsize\": 0.8, \"arrowwidth\": 4, \"ax\": 0, \"ay\": 15, \"hoverlabel\": {\"bgcolor\": \"DarkGreen\"}, \"hovertext\": \"Step 18 [2018-05-15 23:00:00]<br>BUY 1.03018765 BTC @ 8474.99 USD MARKET<br>Total: 8730.83 USD - Comm.: 26.27 USD\", \"opacity\": 0.6, \"showarrow\": true, \"x\": 17, \"xref\": \"x\", \"y\": 8474.99, \"yref\": \"y\"}, {\"arrowcolor\": \"FireBrick\", \"arrowhead\": 2, \"arrowsize\": 0.8, \"arrowwidth\": 4, \"ax\": 0, \"ay\": -15, \"hoverlabel\": {\"bgcolor\": \"FireBrick\"}, \"hovertext\": \"Step 9 [2018-05-15 14:00:00]<br>SELL 1.02492882 BTC @ 8517.77 USD MARKET<br>Total: 8730.11 USD - Comm.: 0.00308404 BTC\", \"opacity\": 0.6, \"showarrow\": true, \"x\": 8, \"xref\": \"x\", \"y\": 8517.77, \"yref\": \"y\"}, {\"arrowcolor\": \"DarkGreen\", \"arrowhead\": 2, \"arrowsize\": 0.8, \"arrowwidth\": 4, \"ax\": 0, \"ay\": 15, \"hoverlabel\": {\"bgcolor\": \"DarkGreen\"}, \"hovertext\": \"Step 3 [2018-05-15 08:00:00]<br>BUY 1.02801286 BTC @ 8728.49 USD MARKET<br>Total: 8973.0 USD - Comm.: 27.00 USD\", \"opacity\": 0.6, \"showarrow\": true, \"x\": 2, \"xref\": \"x\", \"y\": 8728.49, \"yref\": \"y\"}, {\"arrowcolor\": \"DarkGreen\", \"arrowhead\": 2, \"arrowsize\": 0.8, \"arrowwidth\": 4, \"ax\": 0, \"ay\": 15, \"hoverlabel\": {\"bgcolor\": \"DarkGreen\"}, \"hovertext\": \"Step 71 [2018-05-18 04:00:00]<br>BUY 1.1366859 BTC @ 8022.7 USD MARKET<br>Total: 9119.29 USD - Comm.: 27.44 USD\", \"opacity\": 0.6, \"showarrow\": true, \"x\": 70, \"xref\": \"x\", \"y\": 8022.7, \"yref\": \"y\"}, {\"arrowcolor\": \"FireBrick\", \"arrowhead\": 2, \"arrowsize\": 0.8, \"arrowwidth\": 4, \"ax\": 0, \"ay\": -15, \"hoverlabel\": {\"bgcolor\": \"FireBrick\"}, \"hovertext\": \"Step 67 [2018-05-18 00:00:00]<br>SELL 1.02709709 BTC @ 7958.08 USD MARKET<br>Total: 8173.72 USD - Comm.: 0.00309056 BTC\", \"opacity\": 0.6, \"showarrow\": true, \"x\": 66, \"xref\": \"x\", \"y\": 7958.08, \"yref\": \"y\"}, {\"arrowcolor\": \"DarkGreen\", \"arrowhead\": 2, \"arrowsize\": 0.8, \"arrowwidth\": 4, \"ax\": 0, \"ay\": 15, \"hoverlabel\": {\"bgcolor\": \"DarkGreen\"}, \"hovertext\": \"Step 132 [2018-05-20 17:00:00]<br>BUY 1.0112278 BTC @ 8516.36 USD MARKET<br>Total: 8611.98 USD - Comm.: 25.91 USD\", \"opacity\": 0.6, \"showarrow\": true, \"x\": 131, \"xref\": \"x\", \"y\": 8516.36, \"yref\": \"y\"}, {\"arrowcolor\": \"FireBrick\", \"arrowhead\": 2, \"arrowsize\": 0.8, \"arrowwidth\": 4, \"ax\": 0, \"ay\": -15, \"hoverlabel\": {\"bgcolor\": \"FireBrick\"}, \"hovertext\": \"Step 131 [2018-05-20 16:00:00]<br>SELL 0.90809888 BTC @ 8481.11 USD MARKET<br>Total: 7701.69 USD - Comm.: 0.00273249 BTC\", \"opacity\": 0.6, \"showarrow\": true, \"x\": 130, \"xref\": \"x\", \"y\": 8481.11, \"yref\": \"y\"}, {\"arrowcolor\": \"DarkGreen\", \"arrowhead\": 2, \"arrowsize\": 0.8, \"arrowwidth\": 4, \"ax\": 0, \"ay\": 15, \"hoverlabel\": {\"bgcolor\": \"DarkGreen\"}, \"hovertext\": \"Step 109 [2018-05-19 18:00:00]<br>BUY 0.91083137 BTC @ 8301.35 USD MARKET<br>Total: 7561.13 USD - Comm.: 22.75 USD\", \"opacity\": 0.6, \"showarrow\": true, \"x\": 108, \"xref\": \"x\", \"y\": 8301.35, \"yref\": \"y\"}, {\"arrowcolor\": \"FireBrick\", \"arrowhead\": 2, \"arrowsize\": 0.8, \"arrowwidth\": 4, \"ax\": 0, \"ay\": -15, \"hoverlabel\": {\"bgcolor\": \"FireBrick\"}, \"hovertext\": \"Step 102 [2018-05-19 11:00:00]<br>SELL 1.13327584 BTC @ 8365.0 USD MARKET<br>Total: 9479.85 USD - Comm.: 0.00341006 BTC\", \"opacity\": 0.6, \"showarrow\": true, \"x\": 101, \"xref\": \"x\", \"y\": 8365.0, \"yref\": \"y\"}], \"margin\": {\"t\": 50}, \"template\": {\"data\": {\"bar\": [{\"error_x\": {\"color\": \"#2a3f5f\"}, \"error_y\": {\"color\": \"#2a3f5f\"}, \"marker\": {\"line\": {\"color\": \"white\", \"width\": 0.5}}, \"type\": \"bar\"}], \"barpolar\": [{\"marker\": {\"line\": {\"color\": \"white\", \"width\": 0.5}}, \"type\": \"barpolar\"}], \"carpet\": [{\"aaxis\": {\"endlinecolor\": \"#2a3f5f\", \"gridcolor\": \"#C8D4E3\", \"linecolor\": \"#C8D4E3\", \"minorgridcolor\": \"#C8D4E3\", \"startlinecolor\": \"#2a3f5f\"}, \"baxis\": {\"endlinecolor\": \"#2a3f5f\", \"gridcolor\": \"#C8D4E3\", \"linecolor\": \"#C8D4E3\", \"minorgridcolor\": \"#C8D4E3\", \"startlinecolor\": \"#2a3f5f\"}, \"type\": \"carpet\"}], \"choropleth\": [{\"colorbar\": {\"outlinewidth\": 0, \"ticks\": \"\"}, \"type\": \"choropleth\"}], \"contour\": [{\"colorbar\": {\"outlinewidth\": 0, \"ticks\": \"\"}, \"colorscale\": [[0.0, \"#0d0887\"], [0.1111111111111111, \"#46039f\"], [0.2222222222222222, \"#7201a8\"], [0.3333333333333333, \"#9c179e\"], [0.4444444444444444, \"#bd3786\"], [0.5555555555555556, \"#d8576b\"], [0.6666666666666666, \"#ed7953\"], [0.7777777777777778, \"#fb9f3a\"], [0.8888888888888888, \"#fdca26\"], [1.0, \"#f0f921\"]], \"type\": \"contour\"}], \"contourcarpet\": [{\"colorbar\": {\"outlinewidth\": 0, \"ticks\": \"\"}, \"type\": \"contourcarpet\"}], \"heatmap\": [{\"colorbar\": {\"outlinewidth\": 0, \"ticks\": \"\"}, \"colorscale\": [[0.0, \"#0d0887\"], [0.1111111111111111, \"#46039f\"], [0.2222222222222222, \"#7201a8\"], [0.3333333333333333, \"#9c179e\"], [0.4444444444444444, \"#bd3786\"], [0.5555555555555556, \"#d8576b\"], [0.6666666666666666, \"#ed7953\"], [0.7777777777777778, \"#fb9f3a\"], [0.8888888888888888, \"#fdca26\"], [1.0, \"#f0f921\"]], \"type\": \"heatmap\"}], \"heatmapgl\": [{\"colorbar\": {\"outlinewidth\": 0, \"ticks\": \"\"}, \"colorscale\": [[0.0, \"#0d0887\"], [0.1111111111111111, \"#46039f\"], [0.2222222222222222, \"#7201a8\"], [0.3333333333333333, \"#9c179e\"], [0.4444444444444444, \"#bd3786\"], [0.5555555555555556, \"#d8576b\"], [0.6666666666666666, \"#ed7953\"], [0.7777777777777778, \"#fb9f3a\"], [0.8888888888888888, \"#fdca26\"], [1.0, \"#f0f921\"]], \"type\": \"heatmapgl\"}], \"histogram\": [{\"marker\": {\"colorbar\": {\"outlinewidth\": 0, \"ticks\": \"\"}}, \"type\": \"histogram\"}], \"histogram2d\": [{\"colorbar\": {\"outlinewidth\": 0, \"ticks\": \"\"}, \"colorscale\": [[0.0, \"#0d0887\"], [0.1111111111111111, \"#46039f\"], [0.2222222222222222, \"#7201a8\"], [0.3333333333333333, \"#9c179e\"], [0.4444444444444444, \"#bd3786\"], [0.5555555555555556, \"#d8576b\"], [0.6666666666666666, \"#ed7953\"], [0.7777777777777778, \"#fb9f3a\"], [0.8888888888888888, \"#fdca26\"], [1.0, \"#f0f921\"]], \"type\": \"histogram2d\"}], \"histogram2dcontour\": [{\"colorbar\": {\"outlinewidth\": 0, \"ticks\": \"\"}, \"colorscale\": [[0.0, \"#0d0887\"], [0.1111111111111111, \"#46039f\"], [0.2222222222222222, \"#7201a8\"], [0.3333333333333333, \"#9c179e\"], [0.4444444444444444, \"#bd3786\"], [0.5555555555555556, \"#d8576b\"], [0.6666666666666666, \"#ed7953\"], [0.7777777777777778, \"#fb9f3a\"], [0.8888888888888888, \"#fdca26\"], [1.0, \"#f0f921\"]], \"type\": \"histogram2dcontour\"}], \"mesh3d\": [{\"colorbar\": {\"outlinewidth\": 0, \"ticks\": \"\"}, \"type\": \"mesh3d\"}], \"parcoords\": [{\"line\": {\"colorbar\": {\"outlinewidth\": 0, \"ticks\": \"\"}}, \"type\": \"parcoords\"}], \"pie\": [{\"automargin\": true, \"type\": \"pie\"}], \"scatter\": [{\"marker\": {\"colorbar\": {\"outlinewidth\": 0, \"ticks\": \"\"}}, \"type\": \"scatter\"}], \"scatter3d\": [{\"line\": {\"colorbar\": {\"outlinewidth\": 0, \"ticks\": \"\"}}, \"marker\": {\"colorbar\": {\"outlinewidth\": 0, \"ticks\": \"\"}}, \"type\": \"scatter3d\"}], \"scattercarpet\": [{\"marker\": {\"colorbar\": {\"outlinewidth\": 0, \"ticks\": \"\"}}, \"type\": \"scattercarpet\"}], \"scattergeo\": [{\"marker\": {\"colorbar\": {\"outlinewidth\": 0, \"ticks\": \"\"}}, \"type\": \"scattergeo\"}], \"scattergl\": [{\"marker\": {\"colorbar\": {\"outlinewidth\": 0, \"ticks\": \"\"}}, \"type\": \"scattergl\"}], \"scattermapbox\": [{\"marker\": {\"colorbar\": {\"outlinewidth\": 0, \"ticks\": \"\"}}, \"type\": \"scattermapbox\"}], \"scatterpolar\": [{\"marker\": {\"colorbar\": {\"outlinewidth\": 0, \"ticks\": \"\"}}, \"type\": \"scatterpolar\"}], \"scatterpolargl\": [{\"marker\": {\"colorbar\": {\"outlinewidth\": 0, \"ticks\": \"\"}}, \"type\": \"scatterpolargl\"}], \"scatterternary\": [{\"marker\": {\"colorbar\": {\"outlinewidth\": 0, \"ticks\": \"\"}}, \"type\": \"scatterternary\"}], \"surface\": [{\"colorbar\": {\"outlinewidth\": 0, \"ticks\": \"\"}, \"colorscale\": [[0.0, \"#0d0887\"], [0.1111111111111111, \"#46039f\"], [0.2222222222222222, \"#7201a8\"], [0.3333333333333333, \"#9c179e\"], [0.4444444444444444, \"#bd3786\"], [0.5555555555555556, \"#d8576b\"], [0.6666666666666666, \"#ed7953\"], [0.7777777777777778, \"#fb9f3a\"], [0.8888888888888888, \"#fdca26\"], [1.0, \"#f0f921\"]], \"type\": \"surface\"}], \"table\": [{\"cells\": {\"fill\": {\"color\": \"#EBF0F8\"}, \"line\": {\"color\": \"white\"}}, \"header\": {\"fill\": {\"color\": \"#C8D4E3\"}, \"line\": {\"color\": \"white\"}}, \"type\": \"table\"}]}, \"layout\": {\"annotationdefaults\": {\"arrowcolor\": \"#2a3f5f\", \"arrowhead\": 0, \"arrowwidth\": 1}, \"autotypenumbers\": \"strict\", \"coloraxis\": {\"colorbar\": {\"outlinewidth\": 0, \"ticks\": \"\"}}, \"colorscale\": {\"diverging\": [[0, \"#8e0152\"], [0.1, \"#c51b7d\"], [0.2, \"#de77ae\"], [0.3, \"#f1b6da\"], [0.4, \"#fde0ef\"], [0.5, \"#f7f7f7\"], [0.6, \"#e6f5d0\"], [0.7, \"#b8e186\"], [0.8, \"#7fbc41\"], [0.9, \"#4d9221\"], [1, \"#276419\"]], \"sequential\": [[0.0, \"#0d0887\"], [0.1111111111111111, \"#46039f\"], [0.2222222222222222, \"#7201a8\"], [0.3333333333333333, \"#9c179e\"], [0.4444444444444444, \"#bd3786\"], [0.5555555555555556, \"#d8576b\"], [0.6666666666666666, \"#ed7953\"], [0.7777777777777778, \"#fb9f3a\"], [0.8888888888888888, \"#fdca26\"], [1.0, \"#f0f921\"]], \"sequentialminus\": [[0.0, \"#0d0887\"], [0.1111111111111111, \"#46039f\"], [0.2222222222222222, \"#7201a8\"], [0.3333333333333333, \"#9c179e\"], [0.4444444444444444, \"#bd3786\"], [0.5555555555555556, \"#d8576b\"], [0.6666666666666666, \"#ed7953\"], [0.7777777777777778, \"#fb9f3a\"], [0.8888888888888888, \"#fdca26\"], [1.0, \"#f0f921\"]]}, \"colorway\": [\"#636efa\", \"#EF553B\", \"#00cc96\", \"#ab63fa\", \"#FFA15A\", \"#19d3f3\", \"#FF6692\", \"#B6E880\", \"#FF97FF\", \"#FECB52\"], \"font\": {\"color\": \"#2a3f5f\"}, \"geo\": {\"bgcolor\": \"white\", \"lakecolor\": \"white\", \"landcolor\": \"white\", \"showlakes\": true, \"showland\": true, \"subunitcolor\": \"#C8D4E3\"}, \"hoverlabel\": {\"align\": \"left\"}, \"hovermode\": \"closest\", \"mapbox\": {\"style\": \"light\"}, \"paper_bgcolor\": \"white\", \"plot_bgcolor\": \"white\", \"polar\": {\"angularaxis\": {\"gridcolor\": \"#EBF0F8\", \"linecolor\": \"#EBF0F8\", \"ticks\": \"\"}, \"bgcolor\": \"white\", \"radialaxis\": {\"gridcolor\": \"#EBF0F8\", \"linecolor\": \"#EBF0F8\", \"ticks\": \"\"}}, \"scene\": {\"xaxis\": {\"backgroundcolor\": \"white\", \"gridcolor\": \"#DFE8F3\", \"gridwidth\": 2, \"linecolor\": \"#EBF0F8\", \"showbackground\": true, \"ticks\": \"\", \"zerolinecolor\": \"#EBF0F8\"}, \"yaxis\": {\"backgroundcolor\": \"white\", \"gridcolor\": \"#DFE8F3\", \"gridwidth\": 2, \"linecolor\": \"#EBF0F8\", \"showbackground\": true, \"ticks\": \"\", \"zerolinecolor\": \"#EBF0F8\"}, \"zaxis\": {\"backgroundcolor\": \"white\", \"gridcolor\": \"#DFE8F3\", \"gridwidth\": 2, \"linecolor\": \"#EBF0F8\", \"showbackground\": true, \"ticks\": \"\", \"zerolinecolor\": \"#EBF0F8\"}}, \"shapedefaults\": {\"line\": {\"color\": \"#2a3f5f\"}}, \"ternary\": {\"aaxis\": {\"gridcolor\": \"#DFE8F3\", \"linecolor\": \"#A2B1C6\", \"ticks\": \"\"}, \"baxis\": {\"gridcolor\": \"#DFE8F3\", \"linecolor\": \"#A2B1C6\", \"ticks\": \"\"}, \"bgcolor\": \"white\", \"caxis\": {\"gridcolor\": \"#DFE8F3\", \"linecolor\": \"#A2B1C6\", \"ticks\": \"\"}}, \"title\": {\"x\": 0.05}, \"xaxis\": {\"automargin\": true, \"gridcolor\": \"#EBF0F8\", \"linecolor\": \"#EBF0F8\", \"ticks\": \"\", \"title\": {\"standoff\": 15}, \"zerolinecolor\": \"#EBF0F8\", \"zerolinewidth\": 2}, \"yaxis\": {\"automargin\": true, \"gridcolor\": \"#EBF0F8\", \"linecolor\": \"#EBF0F8\", \"ticks\": \"\", \"title\": {\"standoff\": 15}, \"zerolinecolor\": \"#EBF0F8\", \"zerolinewidth\": 2}}}, \"title\": {\"text\": \"[2021-04-02 13:17:52 PM] Episode: 2/2 Step: 151/200\"}, \"xaxis\": {\"anchor\": \"y\", \"domain\": [0.0, 1.0], \"gridcolor\": \"Gainsboro\", \"linecolor\": \"Grey\", \"matches\": \"x4\", \"rangeslider\": {\"visible\": false}, \"showticklabels\": false, \"title\": {\"font\": {\"size\": 12}, \"standoff\": 7, \"text\": \"Price\"}}, \"xaxis2\": {\"anchor\": \"y2\", \"domain\": [0.0, 1.0], \"gridcolor\": \"Gainsboro\", \"linecolor\": \"Grey\", \"matches\": \"x4\", \"showticklabels\": false, \"title\": {\"font\": {\"size\": 12}, \"standoff\": 7, \"text\": \"Volume\"}}, \"xaxis3\": {\"anchor\": \"y3\", \"domain\": [0.0, 1.0], \"gridcolor\": \"Gainsboro\", \"linecolor\": \"Grey\", \"matches\": \"x4\", \"showticklabels\": false, \"title\": {\"font\": {\"size\": 12}, \"standoff\": 7, \"text\": \"Performance\"}}, \"xaxis4\": {\"anchor\": \"y4\", \"domain\": [0.0, 1.0], \"gridcolor\": \"Gainsboro\", \"linecolor\": \"Grey\", \"title\": {\"font\": {\"size\": 12}, \"standoff\": 7, \"text\": \"Net Worth\"}}, \"yaxis\": {\"anchor\": \"x\", \"domain\": [0.49950000000000006, 1.0], \"gridcolor\": \"Gainsboro\", \"linecolor\": \"Grey\"}, \"yaxis2\": {\"anchor\": \"x2\", \"domain\": [0.333, 0.46950000000000003], \"gridcolor\": \"Gainsboro\", \"linecolor\": \"Grey\"}, \"yaxis3\": {\"anchor\": \"x3\", \"domain\": [0.1665, 0.30300000000000005], \"gridcolor\": \"Gainsboro\", \"linecolor\": \"Grey\"}, \"yaxis4\": {\"anchor\": \"x4\", \"domain\": [0.0, 0.1365], \"gridcolor\": \"Gainsboro\", \"linecolor\": \"Grey\"}},                        {\"responsive\": true}                    ).then(function(){\n                            \nvar gd = document.getElementById('e04d635d-5d08-4865-9aec-09d50d2c1276');\nvar x = new MutationObserver(function (mutations, observer) {{\n        var display = window.getComputedStyle(gd).display;\n        if (!display || display === 'none') {{\n            console.log([gd, 'removed!']);\n            Plotly.purge(gd);\n            observer.disconnect();\n        }}\n}});\n\n// Listen for the removal of the full notebook cells\nvar notebookContainer = gd.closest('#notebook-container');\nif (notebookContainer) {{\n    x.observe(notebookContainer, {childList: true});\n}}\n\n// Listen for the clearing of the current output cell\nvar outputEl = gd.closest('.output');\nif (outputEl) {{\n    x.observe(outputEl, {childList: true});\n}}\n\n                        })                };                });            </script>        </div>"
     },
     "metadata": {}
    },
    {
     "output_type": "display_data",
     "data": {
      "text/plain": "FigureWidget({\n    'data': [{'close': array([8740.99, 8739.  , 8728.49, 8708.32, 8795.9 , 8760.  , 8760.  , 87…",
      "application/vnd.jupyter.widget-view+json": {
       "version_major": 2,
       "version_minor": 0,
       "model_id": "6fbd4375fc194fc2a503985241af19d8"
      }
     },
     "metadata": {}
    },
    {
     "output_type": "display_data",
     "data": {
      "application/vnd.plotly.v1+json": {
       "config": {
        "plotlyServerURL": "https://plot.ly"
       },
       "data": [
        {
         "close": [
          8740.99,
          8739,
          8728.49,
          8708.32,
          8795.9,
          8760,
          8760,
          8759.23,
          8517.77,
          8520.3,
          8535.23,
          8546.34,
          8526.65,
          8555.6,
          8512.1,
          8492.28,
          8460,
          8474.99,
          8455.92,
          8326.28,
          8133.43,
          8164.79,
          8229.38,
          8220.4,
          8238.8,
          8232.99,
          8207.48,
          8243.45,
          8371.13,
          8373,
          8365.08,
          8179.99,
          8225,
          8285.8,
          8273.4,
          8297.4,
          8279.89,
          8252.72,
          8302.18,
          8295.85,
          8277.25,
          8346.59,
          8358.3,
          8375.1,
          8368.62,
          8366.72,
          8314.77,
          8363.7,
          8344.16,
          8247.4,
          8277.4,
          8291.67,
          8307.89,
          8298.9,
          8269.47,
          8300.98,
          8318.49,
          8306.39,
          8276.43,
          8257.69,
          8166,
          8176.33,
          8200.7,
          8155.41,
          8080,
          8067.03,
          7958.08,
          7974.25,
          7998.5,
          7991.99,
          8022.7,
          8042.97,
          7965.67,
          8088.95,
          8122.19,
          8107.99,
          8137.73,
          8115,
          8107,
          8094.4,
          8080.01,
          8117.09,
          8126.99,
          8110.95,
          8215.39,
          8231.42,
          8240.13,
          8235,
          8219.9,
          8248.87,
          8213.5,
          8200.99,
          8200,
          8237.3,
          8228.13,
          8240.83,
          8214.9,
          8170.07,
          8229.87,
          8205.87,
          8252.56,
          8365,
          8348.65,
          8303.99,
          8310.48,
          8310,
          8289.87,
          8304.99,
          8301.35,
          8313.12,
          8240.07,
          8199.99,
          8226.98,
          8231.2,
          8198.89,
          8215.85,
          8279.99,
          8255.08,
          8270.4,
          8244.24,
          8239.12,
          8267.14,
          8282.27,
          8350.62,
          8336.6,
          8336.91,
          8311.21,
          8312.09,
          8345.19,
          8377.2,
          8481.11,
          8516.36,
          8524,
          8517.04,
          8558.5,
          8521.99,
          8484.93,
          8518.48,
          8488.99,
          8466.72,
          8492.55,
          8494.28,
          8510.95,
          8498.64,
          8551.1,
          8524.22,
          8510.11,
          8475.62,
          8476.58,
          8467.13,
          8499.84,
          8490.42,
          8407.09,
          8409.42,
          8400.96,
          8383.14,
          8350,
          8373.01,
          8412.8,
          8385.57,
          8408.53,
          8391.76,
          8367.36,
          8280.24,
          8297.91,
          8333.99,
          8285.29,
          8280,
          8317.02,
          8320.16,
          8295.9,
          8245.47,
          8264.98,
          8200,
          8170,
          8217,
          8231.63,
          8232.8,
          8225.38,
          8200.01,
          8219.98,
          8187.98,
          8100.32,
          8076.99,
          7964.73,
          7984.08,
          7949.35,
          7900.61,
          7895.5,
          7960,
          7900,
          7921.99,
          7943.07,
          7856.37,
          7848.3,
          7852.68,
          7847.1,
          7849.31,
          7911.83,
          7901.01,
          7887
         ],
         "high": [
          8796.68,
          8766,
          8750.27,
          8754.4,
          8865,
          8821.19,
          8798.6,
          8771.02,
          8761.7,
          8553.67,
          8589.1,
          8579.48,
          8555.51,
          8583.6,
          8569.92,
          8555.54,
          8557.51,
          8505,
          8505.33,
          8478.29,
          8339.81,
          8217.44,
          8252.72,
          8248.63,
          8267.12,
          8255,
          8261.24,
          8263.93,
          8455.66,
          8439.44,
          8399.1,
          8381.73,
          8229.91,
          8377.29,
          8329.1,
          8350,
          8346.95,
          8377.29,
          8311.35,
          8319.96,
          8398.24,
          8372.58,
          8399.99,
          8386.53,
          8400,
          8500,
          8381,
          8371.3,
          8382.41,
          8351,
          8292.99,
          8325.8,
          8318.99,
          8324.9,
          8335.56,
          8309.4,
          8377.29,
          8330.41,
          8328.23,
          8284.36,
          8274.83,
          8200,
          8232.14,
          8213.97,
          8155.41,
          8108.28,
          8068.92,
          8019.9,
          8026.66,
          8025,
          8104.69,
          8061.39,
          8045.99,
          8170.71,
          8144.16,
          8139.99,
          8152.99,
          8137.73,
          8143.72,
          8129.99,
          8106.76,
          8139,
          8152.04,
          8146.99,
          8232.14,
          8275.1,
          8256.12,
          8274.1,
          8255.8,
          8253.97,
          8261.09,
          8235.76,
          8227,
          8273.36,
          8264.21,
          8250,
          8250.86,
          8235.77,
          8232.12,
          8232.14,
          8252.72,
          8370,
          8395,
          8374.48,
          8331,
          8319.43,
          8323.4,
          8314.55,
          8330.62,
          8314.8,
          8323.99,
          8263.03,
          8247.78,
          8253.75,
          8237.89,
          8235,
          8279.99,
          8290,
          8278.71,
          8275.34,
          8279.31,
          8279.98,
          8294.04,
          8356.4,
          8374.94,
          8354.83,
          8360.45,
          8337.14,
          8351.97,
          8377.29,
          8549,
          8531.9,
          8551.79,
          8529.9,
          8590,
          8576.1,
          8549.89,
          8531.89,
          8550,
          8493.29,
          8522.98,
          8517,
          8537.29,
          8524.51,
          8589.1,
          8589.07,
          8536.92,
          8524.03,
          8497.8,
          8498,
          8513.5,
          8510,
          8494.7,
          8427.29,
          8419.03,
          8415.47,
          8389.99,
          8397.57,
          8455,
          8429.66,
          8412.61,
          8424,
          8417.65,
          8369.7,
          8326.5,
          8336.65,
          8333.99,
          8314.32,
          8355.97,
          8333.49,
          8325.6,
          8296.01,
          8264.98,
          8271.31,
          8200,
          8232.14,
          8246,
          8248.94,
          8259.95,
          8242.49,
          8232.04,
          8230.9,
          8205,
          8118.98,
          8103.07,
          8040.95,
          8032.01,
          7960.25,
          7920,
          7960,
          7960,
          7935,
          7960.99,
          7951.38,
          7888.92,
          7870,
          7909.75,
          7882.27,
          7949.27,
          7944.73,
          7916.48
         ],
         "low": [
          8707.28,
          8721.11,
          8660.53,
          8701.35,
          8695.11,
          8740.54,
          8741.52,
          8700,
          8467.42,
          8477.89,
          8500.78,
          8500,
          8400,
          8451.05,
          8461.38,
          8481.24,
          8420.37,
          8450,
          8430.94,
          8275.02,
          8100.01,
          8122.56,
          8157.01,
          8166.25,
          8176.91,
          8213.79,
          8200,
          8207.48,
          8237.1,
          8370,
          8356.4,
          8145.1,
          8173.6,
          8211.8,
          8201,
          8250.9,
          8266.46,
          8252.72,
          8232.14,
          8268.37,
          8277.25,
          8277.25,
          8314.78,
          8314.77,
          8350.07,
          8331.39,
          8314.77,
          8275.45,
          8335.49,
          8191.14,
          8227.7,
          8264.13,
          8249.93,
          8269.52,
          8219.44,
          8262.68,
          8286.65,
          8289.87,
          8232.14,
          8232.14,
          8110.02,
          8154.95,
          8168.6,
          8151,
          7980,
          8005.95,
          7929.53,
          7931.03,
          7950,
          7980.58,
          7991.99,
          7992.75,
          7953.4,
          7965.67,
          8085.94,
          8078.48,
          8092.9,
          8049.22,
          8079.46,
          8062.12,
          8043.96,
          8063.1,
          8088.46,
          8094.43,
          8088.46,
          8191.14,
          8212,
          8224.5,
          8211,
          8211.01,
          8210.03,
          8158.27,
          8177.65,
          8179.41,
          8221.92,
          8217.32,
          8213.52,
          8141.08,
          8146.1,
          8186.03,
          8197.09,
          8231.21,
          8323.82,
          8296,
          8296.31,
          8282.65,
          8280,
          8273.36,
          8290.08,
          8277.93,
          8240.07,
          8191.14,
          8178,
          8193.7,
          8180,
          8170.71,
          8215.53,
          8240.02,
          8237.17,
          8237.17,
          8239.12,
          8227.79,
          8247.57,
          8274.24,
          8326.1,
          8320.61,
          8281.31,
          8269.85,
          8311.16,
          8336.11,
          8369.86,
          8471.51,
          8511,
          8476.66,
          8507.68,
          8509.24,
          8482.53,
          8484.93,
          8450,
          8434.47,
          8461.1,
          8481,
          8480,
          8488.1,
          8471.09,
          8509.2,
          8482.64,
          8469,
          8440.4,
          8440.52,
          8461.8,
          8480,
          8358.17,
          8380.73,
          8370,
          8383.12,
          8320,
          8349.17,
          8357.11,
          8370.58,
          8367.21,
          8376.99,
          8335.6,
          8252.72,
          8264.49,
          8282.59,
          8271.09,
          8261.52,
          8280,
          8297,
          8290,
          8220,
          8230.45,
          8180,
          8119.38,
          8170,
          8189.84,
          8210.76,
          8212.68,
          8200,
          8186,
          8161.77,
          8063.15,
          8050.01,
          7951.41,
          7964.73,
          7949.35,
          7861.32,
          7865,
          7886.48,
          7870.35,
          7885.2,
          7896.41,
          7811.62,
          7808.05,
          7808,
          7836.79,
          7801.02,
          7847.36,
          7883,
          7850.72
         ],
         "name": "Price",
         "open": [
          8733.86,
          8740.99,
          8739,
          8728.49,
          8708.32,
          8795.9,
          8760,
          8760,
          8759.23,
          8517.77,
          8520.3,
          8535.23,
          8546.34,
          8526.65,
          8555.6,
          8512.1,
          8492.28,
          8460,
          8474.99,
          8455.92,
          8326.28,
          8133.43,
          8164.79,
          8229.38,
          8220.4,
          8238.8,
          8232.99,
          8207.48,
          8243.45,
          8371.13,
          8373,
          8365.08,
          8179.99,
          8225,
          8285.8,
          8273.4,
          8297.4,
          8279.89,
          8252.72,
          8302.18,
          8295.85,
          8277.25,
          8346.59,
          8358.3,
          8375.1,
          8368.62,
          8366.72,
          8314.77,
          8363.7,
          8344.16,
          8247.4,
          8277.4,
          8291.67,
          8307.89,
          8298.9,
          8269.47,
          8300.98,
          8318.49,
          8306.39,
          8276.43,
          8257.69,
          8166,
          8176.33,
          8200.7,
          8155.41,
          8080,
          8067.03,
          7958.08,
          7974.25,
          7998.5,
          7991.99,
          8022.7,
          8042.97,
          7965.67,
          8088.95,
          8122.19,
          8107.99,
          8137.73,
          8115,
          8107,
          8094.4,
          8080.01,
          8117.09,
          8126.99,
          8110.95,
          8215.39,
          8231.42,
          8240.13,
          8235,
          8219.9,
          8248.87,
          8213.5,
          8200.99,
          8200,
          8237.3,
          8228.13,
          8240.83,
          8214.9,
          8170.07,
          8229.87,
          8205.87,
          8252.56,
          8365,
          8348.65,
          8303.99,
          8310.48,
          8310,
          8289.87,
          8304.99,
          8301.35,
          8313.12,
          8240.07,
          8199.99,
          8226.98,
          8231.2,
          8198.89,
          8215.85,
          8279.99,
          8255.08,
          8270.4,
          8244.24,
          8239.12,
          8267.14,
          8282.27,
          8350.62,
          8336.6,
          8336.91,
          8311.21,
          8312.09,
          8345.19,
          8377.2,
          8481.11,
          8516.36,
          8524,
          8517.04,
          8558.5,
          8521.99,
          8484.93,
          8518.48,
          8488.99,
          8466.72,
          8492.55,
          8494.28,
          8510.95,
          8498.64,
          8551.1,
          8524.22,
          8510.11,
          8475.62,
          8476.58,
          8467.13,
          8499.84,
          8490.42,
          8407.09,
          8409.42,
          8400.96,
          8383.14,
          8350,
          8373.01,
          8412.8,
          8385.57,
          8408.53,
          8391.76,
          8367.36,
          8280.24,
          8297.91,
          8333.99,
          8285.29,
          8280,
          8317.02,
          8320.16,
          8295.9,
          8245.47,
          8264.98,
          8200,
          8170,
          8217,
          8231.63,
          8232.8,
          8225.38,
          8200.01,
          8219.98,
          8187.98,
          8100.32,
          8076.99,
          7964.73,
          7984.08,
          7949.35,
          7900.61,
          7895.5,
          7960,
          7900,
          7921.99,
          7943.07,
          7856.37,
          7848.3,
          7852.68,
          7847.1,
          7849.31,
          7911.83,
          7901.01
         ],
         "showlegend": false,
         "type": "candlestick",
         "uid": "9daa24c5-9ae2-4db4-83a6-1beaa490cf1a",
         "xaxis": "x",
         "yaxis": "y"
        },
        {
         "marker": {
          "color": "DodgerBlue"
         },
         "name": "Volume",
         "showlegend": false,
         "type": "bar",
         "uid": "366ede5a-4128-45a4-9618-3b6f31a20734",
         "xaxis": "x2",
         "y": [
          559.93,
          273.58,
          917.79,
          182.62,
          1260.69,
          324.11,
          324.2,
          730.67,
          1341.75,
          792.07,
          385.69,
          475.08,
          877.26,
          670.49,
          610.97,
          168.99,
          305.92,
          136.05,
          154.26,
          1070.93,
          1710.2,
          492.8,
          630.72,
          620.93,
          586.34,
          304.52,
          450.97,
          182.36,
          915.32,
          319.29,
          362.01,
          1046.38,
          357.91,
          561.2,
          322.53,
          1073.71,
          237.21,
          251.2,
          359.73,
          117.23,
          363.17,
          214.18,
          171.64,
          258.58,
          299.52,
          718.98,
          119.7,
          405.25,
          210.77,
          714.82,
          215.97,
          164.2,
          201.55,
          203.41,
          886.82,
          95.49,
          499.67,
          172.77,
          355.39,
          255.27,
          591.06,
          133.1,
          149.13,
          87.55,
          1061.54,
          286.94,
          524.42,
          316,
          441.43,
          189.7,
          844.94,
          155.34,
          257.56,
          610.69,
          217.97,
          173.18,
          218.06,
          372.97,
          484.39,
          248.1,
          162.35,
          303.42,
          290.69,
          160.93,
          369.4,
          487.27,
          93.35,
          96.68,
          72.14,
          90.22,
          168.52,
          203.15,
          71.42,
          464.56,
          57,
          89.42,
          49.47,
          200.05,
          254.37,
          65.05,
          118.19,
          452.4,
          181.03,
          288.04,
          145.78,
          110.14,
          55.48,
          80.87,
          67.01,
          59.16,
          121.26,
          244.37,
          156.87,
          80.48,
          139.32,
          93.52,
          200.23,
          97.4,
          68.08,
          47,
          36.65,
          28.75,
          182.85,
          400.18,
          288.1,
          182.94,
          777.81,
          493.59,
          118.63,
          174.37,
          901.75,
          222.45,
          113.8,
          84.2,
          261.44,
          168.78,
          111.07,
          122.12,
          267.32,
          210.39,
          211.36,
          146.22,
          93.39,
          89.04,
          307.59,
          307.2,
          164.24,
          151.21,
          399.77,
          362.01,
          260.85,
          232.32,
          1109.45,
          348.5,
          210.57,
          274.92,
          277.83,
          99.57,
          273.12,
          129.47,
          113.05,
          87.6,
          159.37,
          433.28,
          133.29,
          200.57,
          210.33,
          206.4,
          357.53,
          107.43,
          116.54,
          479.07,
          290.38,
          812.96,
          1542.87,
          430.36,
          312.54,
          132.75,
          333.64,
          205.86,
          120.33,
          263.1,
          457.64,
          451.55,
          962.22,
          381.04,
          386.95,
          905.87,
          453.48,
          542.31,
          476.48,
          341.79,
          654.23,
          769.1,
          719.94,
          523.05,
          409.37,
          255.12,
          551.86,
          340.62,
          488.69
         ],
         "yaxis": "y2"
        },
        {
         "mode": "lines",
         "name": "bitstamp:/USD-BTC",
         "type": "scatter",
         "uid": "144dadab-dc92-4059-bcf1-f191aae5cff6",
         "xaxis": "x3",
         "y": [
          8740.99,
          8739,
          8728.49,
          8708.32,
          8795.9,
          8760,
          8760,
          8759.23,
          8517.77,
          8520.3,
          8535.23,
          8546.34,
          8526.65,
          8555.6,
          8512.1,
          8492.28,
          8460,
          8474.99,
          8455.92,
          8326.28,
          8133.43,
          8164.79,
          8229.38,
          8220.4,
          8238.8,
          8232.99,
          8207.48,
          8243.45,
          8371.13,
          8373,
          8365.08,
          8179.99,
          8225,
          8285.8,
          8273.4,
          8297.4,
          8279.89,
          8252.72,
          8302.18,
          8295.85,
          8277.25,
          8346.59,
          8358.3,
          8375.1,
          8368.62,
          8366.72,
          8314.77,
          8363.7,
          8344.16,
          8247.4,
          8277.4,
          8291.67,
          8307.89,
          8298.9,
          8269.47,
          8300.98,
          8318.49,
          8306.39,
          8276.43,
          8257.69,
          8166,
          8176.33,
          8200.7,
          8155.41,
          8080,
          8067.03,
          7958.08,
          7974.25,
          7998.5,
          7991.99,
          8022.7,
          8042.97,
          7965.67,
          8088.95,
          8122.19,
          8107.99,
          8137.73,
          8115,
          8107,
          8094.4,
          8080.01,
          8117.09,
          8126.99,
          8110.95,
          8215.39,
          8231.42,
          8240.13,
          8235,
          8219.9,
          8248.87,
          8213.5,
          8200.99,
          8200,
          8237.3,
          8228.13,
          8240.83,
          8214.9,
          8170.07,
          8229.87,
          8205.87,
          8252.56,
          8365,
          8348.65,
          8303.99,
          8310.48,
          8310,
          8289.87,
          8304.99,
          8301.35,
          8313.12,
          8240.07,
          8199.99,
          8226.98,
          8231.2,
          8198.89,
          8215.85,
          8279.99,
          8255.08,
          8270.4,
          8244.24,
          8239.12,
          8267.14,
          8282.27,
          8350.62,
          8336.6,
          8336.91,
          8311.21,
          8312.09,
          8345.19,
          8377.2,
          8481.11,
          8516.36,
          8524,
          8517.04,
          8558.5,
          8521.99,
          8484.93,
          8518.48,
          8488.99,
          8466.72,
          8492.55,
          8494.28,
          8510.95,
          8498.64,
          8551.1,
          8524.22,
          8510.11,
          8475.62,
          8476.58,
          8467.13,
          8499.84,
          8490.42,
          8407.09,
          8409.42,
          8400.96,
          8383.14,
          8350,
          8373.01,
          8412.8,
          8385.57,
          8408.53,
          8391.76,
          8367.36,
          8280.24,
          8297.91,
          8333.99,
          8285.29,
          8280,
          8317.02,
          8320.16,
          8295.9,
          8245.47,
          8264.98,
          8200,
          8170,
          8217,
          8231.63,
          8232.8,
          8225.38,
          8200.01,
          8219.98,
          8187.98,
          8100.32,
          8076.99,
          7964.73,
          7984.08,
          7949.35,
          7900.61,
          7895.5,
          7960,
          7900,
          7921.99,
          7943.07,
          7856.37,
          7848.3,
          7852.68,
          7847.1,
          7849.31,
          7911.83,
          7901.01,
          7887
         ],
         "yaxis": "y3"
        },
        {
         "mode": "lines",
         "name": "bitstamp:/USD:/free",
         "type": "scatter",
         "uid": "215fa976-3ead-45d7-83c7-ba95c90c4306",
         "xaxis": "x3",
         "y": [
          10000,
          10000,
          10000,
          1000,
          1000,
          1000,
          1000,
          1000,
          1000,
          9730.11,
          9730.11,
          9730.11,
          9730.11,
          9730.11,
          9730.11,
          9730.11,
          9730.11,
          9730.11,
          973.01,
          973.01,
          973.01,
          973.01,
          973.01,
          973.01,
          973.01,
          973.01,
          973.01,
          973.01,
          973.01,
          973.01,
          973.01,
          973.01,
          973.01,
          973.01,
          973.01,
          973.01,
          973.01,
          973.01,
          973.01,
          973.01,
          973.01,
          973.01,
          973.01,
          973.01,
          973.01,
          973.01,
          973.01,
          973.01,
          973.01,
          973.01,
          973.01,
          973.01,
          973.01,
          973.01,
          973.01,
          973.01,
          973.01,
          973.01,
          973.01,
          973.01,
          973.01,
          973.01,
          973.01,
          973.01,
          973.01,
          973.01,
          973.01,
          9146.73,
          9146.73,
          9146.73,
          9146.73,
          0,
          0,
          0,
          0,
          0,
          0,
          0,
          0,
          0,
          0,
          0,
          0,
          0,
          0,
          0,
          0,
          0,
          0,
          0,
          0,
          0,
          0,
          0,
          0,
          0,
          0,
          0,
          0,
          0,
          0,
          0,
          9479.85,
          9479.85,
          9479.85,
          9479.85,
          9479.85,
          9479.85,
          9479.85,
          1895.97,
          1895.97,
          1895.97,
          1895.97,
          1895.97,
          1895.97,
          1895.97,
          1895.97,
          1895.97,
          1895.97,
          1895.97,
          1895.97,
          1895.97,
          1895.97,
          1895.97,
          1895.97,
          1895.97,
          1895.97,
          1895.97,
          1895.97,
          1895.97,
          1895.97,
          9597.66,
          959.77,
          959.77,
          959.77,
          959.77,
          959.77,
          959.77,
          959.77,
          959.77,
          959.77,
          959.77,
          959.77,
          959.77,
          959.77,
          959.77,
          959.77,
          959.77,
          959.77,
          959.77,
          959.77,
          959.77,
          959.77,
          959.77,
          959.77,
          959.77,
          959.77,
          959.77,
          959.77,
          959.77,
          959.77,
          959.77,
          959.77,
          959.77,
          959.77,
          959.77,
          959.77,
          959.77,
          959.77,
          959.77,
          959.77,
          959.77,
          959.77,
          959.77,
          959.77,
          9196.72,
          9196.72,
          9196.72,
          9196.72,
          9196.72,
          9196.72,
          9196.72,
          9196.72,
          9196.72,
          9196.72,
          9196.72,
          9196.72,
          9196.72,
          9196.72,
          9196.72,
          9196.72,
          9196.72,
          4598.36,
          4598.36,
          4598.36,
          4598.36,
          4598.36,
          4598.36,
          4598.36,
          4598.36,
          4598.36
         ],
         "yaxis": "y3"
        },
        {
         "mode": "lines",
         "name": "bitstamp:/USD:/locked",
         "type": "scatter",
         "uid": "f14581dc-310b-4fca-903b-cfdfa33d18fc",
         "xaxis": "x3",
         "y": [
          0,
          0,
          0,
          0,
          0,
          0,
          0,
          0,
          0,
          0,
          0,
          0,
          0,
          0,
          0,
          0,
          0,
          0,
          0,
          0,
          0,
          0,
          0,
          0,
          0,
          0,
          0,
          0,
          0,
          0,
          0,
          0,
          0,
          0,
          0,
          0,
          0,
          0,
          0,
          0,
          0,
          0,
          0,
          0,
          0,
          0,
          0,
          0,
          0,
          0,
          0,
          0,
          0,
          0,
          0,
          0,
          0,
          0,
          0,
          0,
          0,
          0,
          0,
          0,
          0,
          0,
          0,
          0,
          0,
          0,
          0,
          0,
          0,
          0,
          0,
          0,
          0,
          0,
          0,
          0,
          0,
          0,
          0,
          0,
          0,
          0,
          0,
          0,
          0,
          0,
          0,
          0,
          0,
          0,
          0,
          0,
          0,
          0,
          0,
          0,
          0,
          0,
          0,
          0,
          0,
          0,
          0,
          0,
          0,
          0,
          0,
          0,
          0,
          0,
          0,
          0,
          0,
          0,
          0,
          0,
          0,
          0,
          0,
          0,
          0,
          0,
          0,
          0,
          0,
          0,
          0,
          0,
          0,
          0,
          0,
          0,
          0,
          0,
          0,
          0,
          0,
          0,
          0,
          0,
          0,
          0,
          0,
          0,
          0,
          0,
          0,
          0,
          0,
          0,
          0,
          0,
          0,
          0,
          0,
          0,
          0,
          0,
          0,
          0,
          0,
          0,
          0,
          0,
          0,
          0,
          0,
          0,
          0,
          0,
          0,
          0,
          0,
          0,
          0,
          0,
          0,
          0,
          0,
          0,
          0,
          0,
          0,
          0,
          0,
          0,
          0,
          0,
          0,
          0,
          0,
          0,
          0,
          0,
          0,
          0,
          0
         ],
         "yaxis": "y3"
        },
        {
         "mode": "lines",
         "name": "bitstamp:/USD:/total",
         "type": "scatter",
         "uid": "b26474e7-1144-4f03-9f03-7bd22931501e",
         "xaxis": "x3",
         "y": [
          10000,
          10000,
          10000,
          1000,
          1000,
          1000,
          1000,
          1000,
          1000,
          9730.11,
          9730.11,
          9730.11,
          9730.11,
          9730.11,
          9730.11,
          9730.11,
          9730.11,
          9730.11,
          973.01,
          973.01,
          973.01,
          973.01,
          973.01,
          973.01,
          973.01,
          973.01,
          973.01,
          973.01,
          973.01,
          973.01,
          973.01,
          973.01,
          973.01,
          973.01,
          973.01,
          973.01,
          973.01,
          973.01,
          973.01,
          973.01,
          973.01,
          973.01,
          973.01,
          973.01,
          973.01,
          973.01,
          973.01,
          973.01,
          973.01,
          973.01,
          973.01,
          973.01,
          973.01,
          973.01,
          973.01,
          973.01,
          973.01,
          973.01,
          973.01,
          973.01,
          973.01,
          973.01,
          973.01,
          973.01,
          973.01,
          973.01,
          973.01,
          9146.73,
          9146.73,
          9146.73,
          9146.73,
          0,
          0,
          0,
          0,
          0,
          0,
          0,
          0,
          0,
          0,
          0,
          0,
          0,
          0,
          0,
          0,
          0,
          0,
          0,
          0,
          0,
          0,
          0,
          0,
          0,
          0,
          0,
          0,
          0,
          0,
          0,
          9479.85,
          9479.85,
          9479.85,
          9479.85,
          9479.85,
          9479.85,
          9479.85,
          1895.97,
          1895.97,
          1895.97,
          1895.97,
          1895.97,
          1895.97,
          1895.97,
          1895.97,
          1895.97,
          1895.97,
          1895.97,
          1895.97,
          1895.97,
          1895.97,
          1895.97,
          1895.97,
          1895.97,
          1895.97,
          1895.97,
          1895.97,
          1895.97,
          1895.97,
          9597.66,
          959.77,
          959.77,
          959.77,
          959.77,
          959.77,
          959.77,
          959.77,
          959.77,
          959.77,
          959.77,
          959.77,
          959.77,
          959.77,
          959.77,
          959.77,
          959.77,
          959.77,
          959.77,
          959.77,
          959.77,
          959.77,
          959.77,
          959.77,
          959.77,
          959.77,
          959.77,
          959.77,
          959.77,
          959.77,
          959.77,
          959.77,
          959.77,
          959.77,
          959.77,
          959.77,
          959.77,
          959.77,
          959.77,
          959.77,
          959.77,
          959.77,
          959.77,
          959.77,
          9196.72,
          9196.72,
          9196.72,
          9196.72,
          9196.72,
          9196.72,
          9196.72,
          9196.72,
          9196.72,
          9196.72,
          9196.72,
          9196.72,
          9196.72,
          9196.72,
          9196.72,
          9196.72,
          9196.72,
          4598.36,
          4598.36,
          4598.36,
          4598.36,
          4598.36,
          4598.36,
          4598.36,
          4598.36,
          4598.36
         ],
         "yaxis": "y3"
        },
        {
         "mode": "lines",
         "name": "bitstamp:/BTC:/free",
         "type": "scatter",
         "uid": "b17d4003-2e58-4235-8a40-be01d611c74e",
         "xaxis": "x3",
         "y": [
          10,
          10,
          10,
          10,
          10,
          10,
          10,
          10,
          10,
          10,
          10,
          10,
          10,
          10,
          10,
          10,
          10,
          10,
          10,
          10,
          10,
          10,
          10,
          10,
          10,
          10,
          10,
          10,
          10,
          10,
          10,
          10,
          10,
          10,
          10,
          10,
          10,
          10,
          10,
          10,
          10,
          10,
          10,
          10,
          10,
          10,
          10,
          10,
          10,
          10,
          10,
          10,
          10,
          10,
          10,
          10,
          10,
          10,
          10,
          10,
          10,
          10,
          10,
          10,
          10,
          10,
          10,
          10,
          10,
          10,
          10,
          10,
          10,
          10,
          10,
          10,
          10,
          10,
          10,
          10,
          10,
          10,
          10,
          10,
          10,
          10,
          10,
          10,
          10,
          10,
          10,
          10,
          10,
          10,
          10,
          10,
          10,
          10,
          10,
          10,
          10,
          10,
          10,
          10,
          10,
          10,
          10,
          10,
          10,
          10,
          10,
          10,
          10,
          10,
          10,
          10,
          10,
          10,
          10,
          10,
          10,
          10,
          10,
          10,
          10,
          10,
          10,
          10,
          10,
          10,
          10,
          10,
          10,
          10,
          10,
          10,
          10,
          10,
          10,
          10,
          10,
          10,
          10,
          10,
          10,
          10,
          10,
          10,
          10,
          10,
          10,
          10,
          10,
          10,
          10,
          10,
          10,
          10,
          10,
          10,
          10,
          10,
          10,
          10,
          10,
          10,
          10,
          10,
          10,
          10,
          10,
          10,
          10,
          10,
          10,
          10,
          10,
          10,
          10,
          10,
          10,
          10,
          10,
          10,
          10,
          10,
          10,
          10,
          10,
          10,
          10,
          10,
          10,
          10,
          10,
          10,
          10,
          10,
          10,
          10,
          10
         ],
         "yaxis": "y3"
        },
        {
         "mode": "lines",
         "name": "bitstamp:/BTC:/locked",
         "type": "scatter",
         "uid": "042e0b65-eede-4d26-9f7b-b257debd16f8",
         "xaxis": "x3",
         "y": [
          0,
          0,
          0,
          1.02801286,
          1.02801286,
          1.02801286,
          1.02801286,
          1.02801286,
          1.02801286,
          0,
          0,
          0,
          0,
          0,
          0,
          0,
          0,
          0,
          1.03018765,
          1.03018765,
          1.03018765,
          1.03018765,
          1.03018765,
          1.03018765,
          1.03018765,
          1.03018765,
          1.03018765,
          1.03018765,
          1.03018765,
          1.03018765,
          1.03018765,
          1.03018765,
          1.03018765,
          1.03018765,
          1.03018765,
          1.03018765,
          1.03018765,
          1.03018765,
          1.03018765,
          1.03018765,
          1.03018765,
          1.03018765,
          1.03018765,
          1.03018765,
          1.03018765,
          1.03018765,
          1.03018765,
          1.03018765,
          1.03018765,
          1.03018765,
          1.03018765,
          1.03018765,
          1.03018765,
          1.03018765,
          1.03018765,
          1.03018765,
          1.03018765,
          1.03018765,
          1.03018765,
          1.03018765,
          1.03018765,
          1.03018765,
          1.03018765,
          1.03018765,
          1.03018765,
          1.03018765,
          1.03018765,
          0,
          0,
          0,
          0,
          1.1366859,
          1.1366859,
          1.1366859,
          1.1366859,
          1.1366859,
          1.1366859,
          1.1366859,
          1.1366859,
          1.1366859,
          1.1366859,
          1.1366859,
          1.1366859,
          1.1366859,
          1.1366859,
          1.1366859,
          1.1366859,
          1.1366859,
          1.1366859,
          1.1366859,
          1.1366859,
          1.1366859,
          1.1366859,
          1.1366859,
          1.1366859,
          1.1366859,
          1.1366859,
          1.1366859,
          1.1366859,
          1.1366859,
          1.1366859,
          1.1366859,
          0,
          0,
          0,
          0,
          0,
          0,
          0,
          0.91083137,
          0.91083137,
          0.91083137,
          0.91083137,
          0.91083137,
          0.91083137,
          0.91083137,
          0.91083137,
          0.91083137,
          0.91083137,
          0.91083137,
          0.91083137,
          0.91083137,
          0.91083137,
          0.91083137,
          0.91083137,
          0.91083137,
          0.91083137,
          0.91083137,
          0.91083137,
          0.91083137,
          0.91083137,
          0,
          1.0112278,
          1.0112278,
          1.0112278,
          1.0112278,
          1.0112278,
          1.0112278,
          1.0112278,
          1.0112278,
          1.0112278,
          1.0112278,
          1.0112278,
          1.0112278,
          1.0112278,
          1.0112278,
          1.0112278,
          1.0112278,
          1.0112278,
          1.0112278,
          1.0112278,
          1.0112278,
          1.0112278,
          1.0112278,
          1.0112278,
          1.0112278,
          1.0112278,
          1.0112278,
          1.0112278,
          1.0112278,
          1.0112278,
          1.0112278,
          1.0112278,
          1.0112278,
          1.0112278,
          1.0112278,
          1.0112278,
          1.0112278,
          1.0112278,
          1.0112278,
          1.0112278,
          1.0112278,
          1.0112278,
          1.0112278,
          1.0112278,
          0,
          0,
          0,
          0,
          0,
          0,
          0,
          0,
          0,
          0,
          0,
          0,
          0,
          0,
          0,
          0,
          0,
          0.57871318,
          0.57871318,
          0.57871318,
          0.57871318,
          0.57871318,
          0.57871318,
          0.57871318,
          0.57871318,
          0.57871318
         ],
         "yaxis": "y3"
        },
        {
         "mode": "lines",
         "name": "bitstamp:/BTC:/total",
         "type": "scatter",
         "uid": "25740144-d456-4953-88f1-707b2dedb8c3",
         "xaxis": "x3",
         "y": [
          10,
          10,
          10,
          11.02801286,
          11.02801286,
          11.02801286,
          11.02801286,
          11.02801286,
          11.02801286,
          10,
          10,
          10,
          10,
          10,
          10,
          10,
          10,
          10,
          11.03018765,
          11.03018765,
          11.03018765,
          11.03018765,
          11.03018765,
          11.03018765,
          11.03018765,
          11.03018765,
          11.03018765,
          11.03018765,
          11.03018765,
          11.03018765,
          11.03018765,
          11.03018765,
          11.03018765,
          11.03018765,
          11.03018765,
          11.03018765,
          11.03018765,
          11.03018765,
          11.03018765,
          11.03018765,
          11.03018765,
          11.03018765,
          11.03018765,
          11.03018765,
          11.03018765,
          11.03018765,
          11.03018765,
          11.03018765,
          11.03018765,
          11.03018765,
          11.03018765,
          11.03018765,
          11.03018765,
          11.03018765,
          11.03018765,
          11.03018765,
          11.03018765,
          11.03018765,
          11.03018765,
          11.03018765,
          11.03018765,
          11.03018765,
          11.03018765,
          11.03018765,
          11.03018765,
          11.03018765,
          11.03018765,
          10,
          10,
          10,
          10,
          11.1366859,
          11.1366859,
          11.1366859,
          11.1366859,
          11.1366859,
          11.1366859,
          11.1366859,
          11.1366859,
          11.1366859,
          11.1366859,
          11.1366859,
          11.1366859,
          11.1366859,
          11.1366859,
          11.1366859,
          11.1366859,
          11.1366859,
          11.1366859,
          11.1366859,
          11.1366859,
          11.1366859,
          11.1366859,
          11.1366859,
          11.1366859,
          11.1366859,
          11.1366859,
          11.1366859,
          11.1366859,
          11.1366859,
          11.1366859,
          11.1366859,
          10,
          10,
          10,
          10,
          10,
          10,
          10,
          10.91083137,
          10.91083137,
          10.91083137,
          10.91083137,
          10.91083137,
          10.91083137,
          10.91083137,
          10.91083137,
          10.91083137,
          10.91083137,
          10.91083137,
          10.91083137,
          10.91083137,
          10.91083137,
          10.91083137,
          10.91083137,
          10.91083137,
          10.91083137,
          10.91083137,
          10.91083137,
          10.91083137,
          10.91083137,
          10,
          11.0112278,
          11.0112278,
          11.0112278,
          11.0112278,
          11.0112278,
          11.0112278,
          11.0112278,
          11.0112278,
          11.0112278,
          11.0112278,
          11.0112278,
          11.0112278,
          11.0112278,
          11.0112278,
          11.0112278,
          11.0112278,
          11.0112278,
          11.0112278,
          11.0112278,
          11.0112278,
          11.0112278,
          11.0112278,
          11.0112278,
          11.0112278,
          11.0112278,
          11.0112278,
          11.0112278,
          11.0112278,
          11.0112278,
          11.0112278,
          11.0112278,
          11.0112278,
          11.0112278,
          11.0112278,
          11.0112278,
          11.0112278,
          11.0112278,
          11.0112278,
          11.0112278,
          11.0112278,
          11.0112278,
          11.0112278,
          11.0112278,
          10,
          10,
          10,
          10,
          10,
          10,
          10,
          10,
          10,
          10,
          10,
          10,
          10,
          10,
          10,
          10,
          10,
          10.57871318,
          10.57871318,
          10.57871318,
          10.57871318,
          10.57871318,
          10.57871318,
          10.57871318,
          10.57871318,
          10.57871318
         ],
         "yaxis": "y3"
        },
        {
         "mode": "lines",
         "name": "bitstamp:/BTC:/worth",
         "type": "scatter",
         "uid": "04b9efcf-d7af-4127-bd92-3213de7f2309",
         "xaxis": "x3",
         "y": [
          87409.9,
          87390,
          87284.9,
          96035.4649489952,
          97001.298315274,
          96605.3926536,
          96605.3926536,
          96596.9010836978,
          93934.0770985222,
          85203,
          85352.29999999999,
          85463.4,
          85266.5,
          85556,
          85121,
          84922.8,
          84600,
          84749.9,
          93270.384353388,
          91840.43082644201,
          89713.2591381395,
          90059.1658228435,
          90771.60564315699,
          90672.55455806,
          90875.51001082,
          90811.4246205735,
          90530.044533622,
          90926.8003833925,
          92335.1347425445,
          92355.76119345,
          92268.402107262,
          90226.8246751235,
          90723.29342125,
          91393.92883036999,
          91257.15450351,
          91521.87900711,
          91328.7404213585,
          91029.050222908,
          91574.603304077,
          91504.78221625251,
          91299.62072596251,
          92064.4539376135,
          92193.61743499499,
          92378.92458751501,
          92307.44897154301,
          92286.491615008,
          91713.47336659051,
          92253.18044830501,
          92037.650581624,
          90970.36962461,
          91301.27525410999,
          91458.6760318755,
          91637.5856755585,
          91538.424288585,
          91213.8058660455,
          91561.36707889699,
          91754.5056646485,
          91621.0403940835,
          91290.5759720895,
          91083.87025552851,
          90072.5123499,
          90186.4541883245,
          90455.259861355,
          89955.7026626865,
          89123.916212,
          88980.8546781795,
          87779.115733712,
          79742.5,
          79985,
          79919.9,
          80227,
          89572.030593123,
          88711.164773053,
          90084.09541080499,
          90454.27885012099,
          90296.137910341,
          90627.342949007,
          90374.20607849999,
          90285.1125913,
          90144.79034896,
          89984.533438859,
          90397.481752031,
          90507.73494244099,
          90329.10250060499,
          91492.21797600099,
          91670.739050978,
          91767.73958516699,
          91710.6083865,
          91542.44442941,
          91865.07421993301,
          91471.16963965,
          91331.84969904099,
          91320.82438,
          91736.22276406999,
          91634.09935436699,
          91775.535265297,
          91486.76099991,
          90987.503371013,
          91653.477187833,
          91386.19672623301,
          91906.168590904,
          93158.3775535,
          83486.5,
          83039.9,
          83104.79999999999,
          83100,
          82898.70000000001,
          83049.9,
          83013.5,
          90703.05047857441,
          89906.0142469959,
          89468.7081256863,
          89763.1914643626,
          89809.23517274401,
          89456.70621117929,
          89641.7539112145,
          90341.5746352863,
          90069.7858258596,
          90236.939762448,
          89951.5124138088,
          89895.64895719441,
          90201.3704521818,
          90366.45133080991,
          91112.2066549494,
          90959.236799142,
          90962.6191568667,
          90682.2107906577,
          90691.8123222633,
          91052.9608406103,
          91402.21655276402,
          92535.9610404207,
          85163.6,
          93859.70576720001,
          93783.067621712,
          94239.59312630001,
          93837.573199322,
          93429.497097054,
          93798.923789744,
          93474.202681922,
          93228.982638816,
          93513.40265289,
          93532.45207698402,
          93716.00924441002,
          93580.46103019199,
          94158.11004058001,
          93862.12823731599,
          93706.75981305802,
          93326.98256623601,
          93337.553344924,
          93233.497242214,
          93593.674503552,
          93489.94873767601,
          92572.383125102,
          92598.039285876,
          92504.88429868799,
          92308.664219292,
          91943.75213000001,
          92197.12048167801,
          92635.25723583999,
          92335.421502846,
          92588.23929313401,
          92403.58100292801,
          92134.90704460801,
          91175.608878672,
          91370.177273898,
          91767.462372922,
          91231.21557906202,
          91172.966184,
          91580.601837156,
          91615.17709244801,
          91348.04470602,
          90792.74848806599,
          91007.57754244399,
          90292.06796,
          89961.731126,
          82170,
          82316.29999999999,
          82328,
          82253.79999999999,
          82000.1,
          82199.79999999999,
          81879.79999999999,
          81003.2,
          80769.9,
          79647.29999999999,
          79840.8,
          79493.5,
          79006.09999999999,
          78955,
          79600,
          79000,
          79219.9,
          84027.4592986626,
          83110.2848659566,
          83024.914650594,
          83071.2494143224,
          83012.220194778,
          83035.5991509058,
          83696.9802989194,
          83582.51862231179,
          83434.31085066
         ],
         "yaxis": "y3"
        },
        {
         "mode": "lines",
         "name": "net_worth",
         "type": "scatter",
         "uid": "c75c71d2-d910-4945-bba1-50dba22356b1",
         "xaxis": "x3",
         "y": [
          97409.9,
          97390,
          97284.9,
          97035.4649489952,
          98001.298315274,
          97605.3926536,
          97605.3926536,
          97596.9010836978,
          94934.0770985222,
          94933.11,
          95082.40999999999,
          95193.51,
          94996.61,
          95286.11,
          94851.11,
          94652.91,
          94330.11,
          94480.01,
          94243.394353388,
          92813.440826442,
          90686.2691381395,
          91032.17582284349,
          91744.61564315698,
          91645.56455806,
          91848.52001082,
          91784.43462057349,
          91503.054533622,
          91899.8103833925,
          93308.1447425445,
          93328.77119345,
          93241.41210726199,
          91199.8346751235,
          91696.30342124999,
          92366.93883036998,
          92230.16450351,
          92494.88900710999,
          92301.75042135849,
          92002.060222908,
          92547.613304077,
          92477.7922162525,
          92272.6307259625,
          93037.4639376135,
          93166.62743499498,
          93351.934587515,
          93280.458971543,
          93259.50161500799,
          92686.4833665905,
          93226.190448305,
          93010.66058162399,
          91943.37962461,
          92274.28525410999,
          92431.68603187549,
          92610.59567555849,
          92511.43428858499,
          92186.8158660455,
          92534.37707889699,
          92727.5156646485,
          92594.05039408349,
          92263.5859720895,
          92056.88025552851,
          91045.5223499,
          91159.46418832449,
          91428.269861355,
          90928.71266268649,
          90096.92621199999,
          89953.8646781795,
          88752.12573371199,
          88889.23,
          89131.73,
          89066.62999999999,
          89373.73,
          89572.030593123,
          88711.164773053,
          90084.09541080499,
          90454.27885012099,
          90296.137910341,
          90627.342949007,
          90374.20607849999,
          90285.1125913,
          90144.79034896,
          89984.533438859,
          90397.481752031,
          90507.73494244099,
          90329.10250060499,
          91492.21797600099,
          91670.739050978,
          91767.73958516699,
          91710.6083865,
          91542.44442941,
          91865.07421993301,
          91471.16963965,
          91331.84969904099,
          91320.82438,
          91736.22276406999,
          91634.09935436699,
          91775.535265297,
          91486.76099991,
          90987.503371013,
          91653.477187833,
          91386.19672623301,
          91906.168590904,
          93158.3775535,
          92966.35,
          92519.75,
          92584.65,
          92579.85,
          92378.55000000002,
          92529.75,
          92493.35,
          92599.02047857441,
          91801.9842469959,
          91364.6781256863,
          91659.1614643626,
          91705.20517274401,
          91352.67621117929,
          91537.7239112145,
          92237.54463528631,
          91965.7558258596,
          92132.909762448,
          91847.4824138088,
          91791.61895719441,
          92097.3404521818,
          92262.42133080991,
          93008.1766549494,
          92855.206799142,
          92858.5891568667,
          92578.1807906577,
          92587.7823222633,
          92948.93084061031,
          93298.18655276402,
          94431.9310404207,
          94761.26000000001,
          94819.47576720001,
          94742.83762171201,
          95199.36312630001,
          94797.343199322,
          94389.267097054,
          94758.69378974401,
          94433.97268192201,
          94188.752638816,
          94473.17265289,
          94492.22207698402,
          94675.77924441002,
          94540.231030192,
          95117.88004058001,
          94821.898237316,
          94666.52981305802,
          94286.75256623601,
          94297.323344924,
          94193.267242214,
          94553.444503552,
          94449.71873767601,
          93532.153125102,
          93557.809285876,
          93464.654298688,
          93268.434219292,
          92903.52213000001,
          93156.89048167801,
          93595.02723584,
          93295.191502846,
          93548.00929313402,
          93363.35100292802,
          93094.67704460802,
          92135.37887867201,
          92329.94727389801,
          92727.23237292201,
          92190.98557906202,
          92132.73618400001,
          92540.37183715601,
          92574.94709244801,
          92307.81470602,
          91752.518488066,
          91967.347542444,
          91251.83796,
          90921.501126,
          91366.72,
          91513.01999999999,
          91524.72,
          91450.51999999999,
          91196.82,
          91396.51999999999,
          91076.51999999999,
          90199.92,
          89966.62,
          88844.01999999999,
          89037.52,
          88690.22,
          88202.81999999999,
          88151.72,
          88796.72,
          88196.72,
          88416.62,
          88625.8192986626,
          87708.6448659566,
          87623.274650594,
          87669.6094143224,
          87610.580194778,
          87633.9591509058,
          88295.3402989194,
          88180.8786223118,
          88032.67085066
         ],
         "yaxis": "y3"
        },
        {
         "marker": {
          "color": "DarkGreen"
         },
         "mode": "lines",
         "name": "Net Worth",
         "type": "scatter",
         "uid": "a85c8827-5a96-4205-b9d6-e2c5b9b5ffa8",
         "xaxis": "x4",
         "y": [
          97409.9,
          97390,
          97284.9,
          97035.4649489952,
          98001.298315274,
          97605.3926536,
          97605.3926536,
          97596.9010836978,
          94934.0770985222,
          94933.11,
          95082.40999999999,
          95193.51,
          94996.61,
          95286.11,
          94851.11,
          94652.91,
          94330.11,
          94480.01,
          94243.394353388,
          92813.440826442,
          90686.2691381395,
          91032.17582284349,
          91744.61564315698,
          91645.56455806,
          91848.52001082,
          91784.43462057349,
          91503.054533622,
          91899.8103833925,
          93308.1447425445,
          93328.77119345,
          93241.41210726199,
          91199.8346751235,
          91696.30342124999,
          92366.93883036998,
          92230.16450351,
          92494.88900710999,
          92301.75042135849,
          92002.060222908,
          92547.613304077,
          92477.7922162525,
          92272.6307259625,
          93037.4639376135,
          93166.62743499498,
          93351.934587515,
          93280.458971543,
          93259.50161500799,
          92686.4833665905,
          93226.190448305,
          93010.66058162399,
          91943.37962461,
          92274.28525410999,
          92431.68603187549,
          92610.59567555849,
          92511.43428858499,
          92186.8158660455,
          92534.37707889699,
          92727.5156646485,
          92594.05039408349,
          92263.5859720895,
          92056.88025552851,
          91045.5223499,
          91159.46418832449,
          91428.269861355,
          90928.71266268649,
          90096.92621199999,
          89953.8646781795,
          88752.12573371199,
          88889.23,
          89131.73,
          89066.62999999999,
          89373.73,
          89572.030593123,
          88711.164773053,
          90084.09541080499,
          90454.27885012099,
          90296.137910341,
          90627.342949007,
          90374.20607849999,
          90285.1125913,
          90144.79034896,
          89984.533438859,
          90397.481752031,
          90507.73494244099,
          90329.10250060499,
          91492.21797600099,
          91670.739050978,
          91767.73958516699,
          91710.6083865,
          91542.44442941,
          91865.07421993301,
          91471.16963965,
          91331.84969904099,
          91320.82438,
          91736.22276406999,
          91634.09935436699,
          91775.535265297,
          91486.76099991,
          90987.503371013,
          91653.477187833,
          91386.19672623301,
          91906.168590904,
          93158.3775535,
          92966.35,
          92519.75,
          92584.65,
          92579.85,
          92378.55000000002,
          92529.75,
          92493.35,
          92599.02047857441,
          91801.9842469959,
          91364.6781256863,
          91659.1614643626,
          91705.20517274401,
          91352.67621117929,
          91537.7239112145,
          92237.54463528631,
          91965.7558258596,
          92132.909762448,
          91847.4824138088,
          91791.61895719441,
          92097.3404521818,
          92262.42133080991,
          93008.1766549494,
          92855.206799142,
          92858.5891568667,
          92578.1807906577,
          92587.7823222633,
          92948.93084061031,
          93298.18655276402,
          94431.9310404207,
          94761.26000000001,
          94819.47576720001,
          94742.83762171201,
          95199.36312630001,
          94797.343199322,
          94389.267097054,
          94758.69378974401,
          94433.97268192201,
          94188.752638816,
          94473.17265289,
          94492.22207698402,
          94675.77924441002,
          94540.231030192,
          95117.88004058001,
          94821.898237316,
          94666.52981305802,
          94286.75256623601,
          94297.323344924,
          94193.267242214,
          94553.444503552,
          94449.71873767601,
          93532.153125102,
          93557.809285876,
          93464.654298688,
          93268.434219292,
          92903.52213000001,
          93156.89048167801,
          93595.02723584,
          93295.191502846,
          93548.00929313402,
          93363.35100292802,
          93094.67704460802,
          92135.37887867201,
          92329.94727389801,
          92727.23237292201,
          92190.98557906202,
          92132.73618400001,
          92540.37183715601,
          92574.94709244801,
          92307.81470602,
          91752.518488066,
          91967.347542444,
          91251.83796,
          90921.501126,
          91366.72,
          91513.01999999999,
          91524.72,
          91450.51999999999,
          91196.82,
          91396.51999999999,
          91076.51999999999,
          90199.92,
          89966.62,
          88844.01999999999,
          89037.52,
          88690.22,
          88202.81999999999,
          88151.72,
          88796.72,
          88196.72,
          88416.62,
          88625.8192986626,
          87708.6448659566,
          87623.274650594,
          87669.6094143224,
          87610.580194778,
          87633.9591509058,
          88295.3402989194,
          88180.8786223118,
          88032.67085066
         ],
         "yaxis": "y4"
        }
       ],
       "layout": {
        "annotations": [
         {
          "arrowcolor": "DarkGreen",
          "arrowhead": 2,
          "arrowsize": 0.8,
          "arrowwidth": 4,
          "ax": 0,
          "ay": 15,
          "hoverlabel": {
           "bgcolor": "DarkGreen"
          },
          "hovertext": "Step 18 [2018-05-15 23:00:00]<br>BUY 1.03018765 BTC @ 8474.99 USD MARKET<br>Total: 8730.83 USD - Comm.: 26.27 USD",
          "opacity": 0.6,
          "showarrow": true,
          "x": 17,
          "xref": "x",
          "y": 8474.99,
          "yref": "y"
         },
         {
          "arrowcolor": "FireBrick",
          "arrowhead": 2,
          "arrowsize": 0.8,
          "arrowwidth": 4,
          "ax": 0,
          "ay": -15,
          "hoverlabel": {
           "bgcolor": "FireBrick"
          },
          "hovertext": "Step 9 [2018-05-15 14:00:00]<br>SELL 1.02492882 BTC @ 8517.77 USD MARKET<br>Total: 8730.11 USD - Comm.: 0.00308404 BTC",
          "opacity": 0.6,
          "showarrow": true,
          "x": 8,
          "xref": "x",
          "y": 8517.77,
          "yref": "y"
         },
         {
          "arrowcolor": "DarkGreen",
          "arrowhead": 2,
          "arrowsize": 0.8,
          "arrowwidth": 4,
          "ax": 0,
          "ay": 15,
          "hoverlabel": {
           "bgcolor": "DarkGreen"
          },
          "hovertext": "Step 3 [2018-05-15 08:00:00]<br>BUY 1.02801286 BTC @ 8728.49 USD MARKET<br>Total: 8973.0 USD - Comm.: 27.00 USD",
          "opacity": 0.6,
          "showarrow": true,
          "x": 2,
          "xref": "x",
          "y": 8728.49,
          "yref": "y"
         },
         {
          "arrowcolor": "DarkGreen",
          "arrowhead": 2,
          "arrowsize": 0.8,
          "arrowwidth": 4,
          "ax": 0,
          "ay": 15,
          "hoverlabel": {
           "bgcolor": "DarkGreen"
          },
          "hovertext": "Step 71 [2018-05-18 04:00:00]<br>BUY 1.1366859 BTC @ 8022.7 USD MARKET<br>Total: 9119.29 USD - Comm.: 27.44 USD",
          "opacity": 0.6,
          "showarrow": true,
          "x": 70,
          "xref": "x",
          "y": 8022.7,
          "yref": "y"
         },
         {
          "arrowcolor": "FireBrick",
          "arrowhead": 2,
          "arrowsize": 0.8,
          "arrowwidth": 4,
          "ax": 0,
          "ay": -15,
          "hoverlabel": {
           "bgcolor": "FireBrick"
          },
          "hovertext": "Step 67 [2018-05-18 00:00:00]<br>SELL 1.02709709 BTC @ 7958.08 USD MARKET<br>Total: 8173.72 USD - Comm.: 0.00309056 BTC",
          "opacity": 0.6,
          "showarrow": true,
          "x": 66,
          "xref": "x",
          "y": 7958.08,
          "yref": "y"
         },
         {
          "arrowcolor": "DarkGreen",
          "arrowhead": 2,
          "arrowsize": 0.8,
          "arrowwidth": 4,
          "ax": 0,
          "ay": 15,
          "hoverlabel": {
           "bgcolor": "DarkGreen"
          },
          "hovertext": "Step 132 [2018-05-20 17:00:00]<br>BUY 1.0112278 BTC @ 8516.36 USD MARKET<br>Total: 8611.98 USD - Comm.: 25.91 USD",
          "opacity": 0.6,
          "showarrow": true,
          "x": 131,
          "xref": "x",
          "y": 8516.36,
          "yref": "y"
         },
         {
          "arrowcolor": "FireBrick",
          "arrowhead": 2,
          "arrowsize": 0.8,
          "arrowwidth": 4,
          "ax": 0,
          "ay": -15,
          "hoverlabel": {
           "bgcolor": "FireBrick"
          },
          "hovertext": "Step 131 [2018-05-20 16:00:00]<br>SELL 0.90809888 BTC @ 8481.11 USD MARKET<br>Total: 7701.69 USD - Comm.: 0.00273249 BTC",
          "opacity": 0.6,
          "showarrow": true,
          "x": 130,
          "xref": "x",
          "y": 8481.11,
          "yref": "y"
         },
         {
          "arrowcolor": "DarkGreen",
          "arrowhead": 2,
          "arrowsize": 0.8,
          "arrowwidth": 4,
          "ax": 0,
          "ay": 15,
          "hoverlabel": {
           "bgcolor": "DarkGreen"
          },
          "hovertext": "Step 109 [2018-05-19 18:00:00]<br>BUY 0.91083137 BTC @ 8301.35 USD MARKET<br>Total: 7561.13 USD - Comm.: 22.75 USD",
          "opacity": 0.6,
          "showarrow": true,
          "x": 108,
          "xref": "x",
          "y": 8301.35,
          "yref": "y"
         },
         {
          "arrowcolor": "FireBrick",
          "arrowhead": 2,
          "arrowsize": 0.8,
          "arrowwidth": 4,
          "ax": 0,
          "ay": -15,
          "hoverlabel": {
           "bgcolor": "FireBrick"
          },
          "hovertext": "Step 102 [2018-05-19 11:00:00]<br>SELL 1.13327584 BTC @ 8365.0 USD MARKET<br>Total: 9479.85 USD - Comm.: 0.00341006 BTC",
          "opacity": 0.6,
          "showarrow": true,
          "x": 101,
          "xref": "x",
          "y": 8365,
          "yref": "y"
         },
         {
          "arrowcolor": "DarkGreen",
          "arrowhead": 2,
          "arrowsize": 0.8,
          "arrowwidth": 4,
          "ax": 0,
          "ay": 15,
          "hoverlabel": {
           "bgcolor": "DarkGreen"
          },
          "hovertext": "Step 192 [2018-05-23 05:00:00]<br>BUY 0.57871318 BTC @ 7921.99 USD MARKET<br>Total: 4584.56 USD - Comm.: 13.80 USD",
          "opacity": 0.6,
          "showarrow": true,
          "x": 191,
          "xref": "x",
          "y": 7921.99,
          "yref": "y"
         },
         {
          "arrowcolor": "FireBrick",
          "arrowhead": 2,
          "arrowsize": 0.8,
          "arrowwidth": 4,
          "ax": 0,
          "ay": -15,
          "hoverlabel": {
           "bgcolor": "FireBrick"
          },
          "hovertext": "Step 175 [2018-05-22 12:00:00]<br>SELL 1.00819412 BTC @ 8170.0 USD MARKET<br>Total: 8236.95 USD - Comm.: 0.00303368 BTC",
          "opacity": 0.6,
          "showarrow": true,
          "x": 174,
          "xref": "x",
          "y": 8170,
          "yref": "y"
         }
        ],
        "margin": {
         "t": 50
        },
        "template": {
         "data": {
          "bar": [
           {
            "error_x": {
             "color": "#2a3f5f"
            },
            "error_y": {
             "color": "#2a3f5f"
            },
            "marker": {
             "line": {
              "color": "white",
              "width": 0.5
             }
            },
            "type": "bar"
           }
          ],
          "barpolar": [
           {
            "marker": {
             "line": {
              "color": "white",
              "width": 0.5
             }
            },
            "type": "barpolar"
           }
          ],
          "carpet": [
           {
            "aaxis": {
             "endlinecolor": "#2a3f5f",
             "gridcolor": "#C8D4E3",
             "linecolor": "#C8D4E3",
             "minorgridcolor": "#C8D4E3",
             "startlinecolor": "#2a3f5f"
            },
            "baxis": {
             "endlinecolor": "#2a3f5f",
             "gridcolor": "#C8D4E3",
             "linecolor": "#C8D4E3",
             "minorgridcolor": "#C8D4E3",
             "startlinecolor": "#2a3f5f"
            },
            "type": "carpet"
           }
          ],
          "choropleth": [
           {
            "colorbar": {
             "outlinewidth": 0,
             "ticks": ""
            },
            "type": "choropleth"
           }
          ],
          "contour": [
           {
            "colorbar": {
             "outlinewidth": 0,
             "ticks": ""
            },
            "colorscale": [
             [
              0,
              "#0d0887"
             ],
             [
              0.1111111111111111,
              "#46039f"
             ],
             [
              0.2222222222222222,
              "#7201a8"
             ],
             [
              0.3333333333333333,
              "#9c179e"
             ],
             [
              0.4444444444444444,
              "#bd3786"
             ],
             [
              0.5555555555555556,
              "#d8576b"
             ],
             [
              0.6666666666666666,
              "#ed7953"
             ],
             [
              0.7777777777777778,
              "#fb9f3a"
             ],
             [
              0.8888888888888888,
              "#fdca26"
             ],
             [
              1,
              "#f0f921"
             ]
            ],
            "type": "contour"
           }
          ],
          "contourcarpet": [
           {
            "colorbar": {
             "outlinewidth": 0,
             "ticks": ""
            },
            "type": "contourcarpet"
           }
          ],
          "heatmap": [
           {
            "colorbar": {
             "outlinewidth": 0,
             "ticks": ""
            },
            "colorscale": [
             [
              0,
              "#0d0887"
             ],
             [
              0.1111111111111111,
              "#46039f"
             ],
             [
              0.2222222222222222,
              "#7201a8"
             ],
             [
              0.3333333333333333,
              "#9c179e"
             ],
             [
              0.4444444444444444,
              "#bd3786"
             ],
             [
              0.5555555555555556,
              "#d8576b"
             ],
             [
              0.6666666666666666,
              "#ed7953"
             ],
             [
              0.7777777777777778,
              "#fb9f3a"
             ],
             [
              0.8888888888888888,
              "#fdca26"
             ],
             [
              1,
              "#f0f921"
             ]
            ],
            "type": "heatmap"
           }
          ],
          "heatmapgl": [
           {
            "colorbar": {
             "outlinewidth": 0,
             "ticks": ""
            },
            "colorscale": [
             [
              0,
              "#0d0887"
             ],
             [
              0.1111111111111111,
              "#46039f"
             ],
             [
              0.2222222222222222,
              "#7201a8"
             ],
             [
              0.3333333333333333,
              "#9c179e"
             ],
             [
              0.4444444444444444,
              "#bd3786"
             ],
             [
              0.5555555555555556,
              "#d8576b"
             ],
             [
              0.6666666666666666,
              "#ed7953"
             ],
             [
              0.7777777777777778,
              "#fb9f3a"
             ],
             [
              0.8888888888888888,
              "#fdca26"
             ],
             [
              1,
              "#f0f921"
             ]
            ],
            "type": "heatmapgl"
           }
          ],
          "histogram": [
           {
            "marker": {
             "colorbar": {
              "outlinewidth": 0,
              "ticks": ""
             }
            },
            "type": "histogram"
           }
          ],
          "histogram2d": [
           {
            "colorbar": {
             "outlinewidth": 0,
             "ticks": ""
            },
            "colorscale": [
             [
              0,
              "#0d0887"
             ],
             [
              0.1111111111111111,
              "#46039f"
             ],
             [
              0.2222222222222222,
              "#7201a8"
             ],
             [
              0.3333333333333333,
              "#9c179e"
             ],
             [
              0.4444444444444444,
              "#bd3786"
             ],
             [
              0.5555555555555556,
              "#d8576b"
             ],
             [
              0.6666666666666666,
              "#ed7953"
             ],
             [
              0.7777777777777778,
              "#fb9f3a"
             ],
             [
              0.8888888888888888,
              "#fdca26"
             ],
             [
              1,
              "#f0f921"
             ]
            ],
            "type": "histogram2d"
           }
          ],
          "histogram2dcontour": [
           {
            "colorbar": {
             "outlinewidth": 0,
             "ticks": ""
            },
            "colorscale": [
             [
              0,
              "#0d0887"
             ],
             [
              0.1111111111111111,
              "#46039f"
             ],
             [
              0.2222222222222222,
              "#7201a8"
             ],
             [
              0.3333333333333333,
              "#9c179e"
             ],
             [
              0.4444444444444444,
              "#bd3786"
             ],
             [
              0.5555555555555556,
              "#d8576b"
             ],
             [
              0.6666666666666666,
              "#ed7953"
             ],
             [
              0.7777777777777778,
              "#fb9f3a"
             ],
             [
              0.8888888888888888,
              "#fdca26"
             ],
             [
              1,
              "#f0f921"
             ]
            ],
            "type": "histogram2dcontour"
           }
          ],
          "mesh3d": [
           {
            "colorbar": {
             "outlinewidth": 0,
             "ticks": ""
            },
            "type": "mesh3d"
           }
          ],
          "parcoords": [
           {
            "line": {
             "colorbar": {
              "outlinewidth": 0,
              "ticks": ""
             }
            },
            "type": "parcoords"
           }
          ],
          "pie": [
           {
            "automargin": true,
            "type": "pie"
           }
          ],
          "scatter": [
           {
            "marker": {
             "colorbar": {
              "outlinewidth": 0,
              "ticks": ""
             }
            },
            "type": "scatter"
           }
          ],
          "scatter3d": [
           {
            "line": {
             "colorbar": {
              "outlinewidth": 0,
              "ticks": ""
             }
            },
            "marker": {
             "colorbar": {
              "outlinewidth": 0,
              "ticks": ""
             }
            },
            "type": "scatter3d"
           }
          ],
          "scattercarpet": [
           {
            "marker": {
             "colorbar": {
              "outlinewidth": 0,
              "ticks": ""
             }
            },
            "type": "scattercarpet"
           }
          ],
          "scattergeo": [
           {
            "marker": {
             "colorbar": {
              "outlinewidth": 0,
              "ticks": ""
             }
            },
            "type": "scattergeo"
           }
          ],
          "scattergl": [
           {
            "marker": {
             "colorbar": {
              "outlinewidth": 0,
              "ticks": ""
             }
            },
            "type": "scattergl"
           }
          ],
          "scattermapbox": [
           {
            "marker": {
             "colorbar": {
              "outlinewidth": 0,
              "ticks": ""
             }
            },
            "type": "scattermapbox"
           }
          ],
          "scatterpolar": [
           {
            "marker": {
             "colorbar": {
              "outlinewidth": 0,
              "ticks": ""
             }
            },
            "type": "scatterpolar"
           }
          ],
          "scatterpolargl": [
           {
            "marker": {
             "colorbar": {
              "outlinewidth": 0,
              "ticks": ""
             }
            },
            "type": "scatterpolargl"
           }
          ],
          "scatterternary": [
           {
            "marker": {
             "colorbar": {
              "outlinewidth": 0,
              "ticks": ""
             }
            },
            "type": "scatterternary"
           }
          ],
          "surface": [
           {
            "colorbar": {
             "outlinewidth": 0,
             "ticks": ""
            },
            "colorscale": [
             [
              0,
              "#0d0887"
             ],
             [
              0.1111111111111111,
              "#46039f"
             ],
             [
              0.2222222222222222,
              "#7201a8"
             ],
             [
              0.3333333333333333,
              "#9c179e"
             ],
             [
              0.4444444444444444,
              "#bd3786"
             ],
             [
              0.5555555555555556,
              "#d8576b"
             ],
             [
              0.6666666666666666,
              "#ed7953"
             ],
             [
              0.7777777777777778,
              "#fb9f3a"
             ],
             [
              0.8888888888888888,
              "#fdca26"
             ],
             [
              1,
              "#f0f921"
             ]
            ],
            "type": "surface"
           }
          ],
          "table": [
           {
            "cells": {
             "fill": {
              "color": "#EBF0F8"
             },
             "line": {
              "color": "white"
             }
            },
            "header": {
             "fill": {
              "color": "#C8D4E3"
             },
             "line": {
              "color": "white"
             }
            },
            "type": "table"
           }
          ]
         },
         "layout": {
          "annotationdefaults": {
           "arrowcolor": "#2a3f5f",
           "arrowhead": 0,
           "arrowwidth": 1
          },
          "autotypenumbers": "strict",
          "coloraxis": {
           "colorbar": {
            "outlinewidth": 0,
            "ticks": ""
           }
          },
          "colorscale": {
           "diverging": [
            [
             0,
             "#8e0152"
            ],
            [
             0.1,
             "#c51b7d"
            ],
            [
             0.2,
             "#de77ae"
            ],
            [
             0.3,
             "#f1b6da"
            ],
            [
             0.4,
             "#fde0ef"
            ],
            [
             0.5,
             "#f7f7f7"
            ],
            [
             0.6,
             "#e6f5d0"
            ],
            [
             0.7,
             "#b8e186"
            ],
            [
             0.8,
             "#7fbc41"
            ],
            [
             0.9,
             "#4d9221"
            ],
            [
             1,
             "#276419"
            ]
           ],
           "sequential": [
            [
             0,
             "#0d0887"
            ],
            [
             0.1111111111111111,
             "#46039f"
            ],
            [
             0.2222222222222222,
             "#7201a8"
            ],
            [
             0.3333333333333333,
             "#9c179e"
            ],
            [
             0.4444444444444444,
             "#bd3786"
            ],
            [
             0.5555555555555556,
             "#d8576b"
            ],
            [
             0.6666666666666666,
             "#ed7953"
            ],
            [
             0.7777777777777778,
             "#fb9f3a"
            ],
            [
             0.8888888888888888,
             "#fdca26"
            ],
            [
             1,
             "#f0f921"
            ]
           ],
           "sequentialminus": [
            [
             0,
             "#0d0887"
            ],
            [
             0.1111111111111111,
             "#46039f"
            ],
            [
             0.2222222222222222,
             "#7201a8"
            ],
            [
             0.3333333333333333,
             "#9c179e"
            ],
            [
             0.4444444444444444,
             "#bd3786"
            ],
            [
             0.5555555555555556,
             "#d8576b"
            ],
            [
             0.6666666666666666,
             "#ed7953"
            ],
            [
             0.7777777777777778,
             "#fb9f3a"
            ],
            [
             0.8888888888888888,
             "#fdca26"
            ],
            [
             1,
             "#f0f921"
            ]
           ]
          },
          "colorway": [
           "#636efa",
           "#EF553B",
           "#00cc96",
           "#ab63fa",
           "#FFA15A",
           "#19d3f3",
           "#FF6692",
           "#B6E880",
           "#FF97FF",
           "#FECB52"
          ],
          "font": {
           "color": "#2a3f5f"
          },
          "geo": {
           "bgcolor": "white",
           "lakecolor": "white",
           "landcolor": "white",
           "showlakes": true,
           "showland": true,
           "subunitcolor": "#C8D4E3"
          },
          "hoverlabel": {
           "align": "left"
          },
          "hovermode": "closest",
          "mapbox": {
           "style": "light"
          },
          "paper_bgcolor": "white",
          "plot_bgcolor": "white",
          "polar": {
           "angularaxis": {
            "gridcolor": "#EBF0F8",
            "linecolor": "#EBF0F8",
            "ticks": ""
           },
           "bgcolor": "white",
           "radialaxis": {
            "gridcolor": "#EBF0F8",
            "linecolor": "#EBF0F8",
            "ticks": ""
           }
          },
          "scene": {
           "xaxis": {
            "backgroundcolor": "white",
            "gridcolor": "#DFE8F3",
            "gridwidth": 2,
            "linecolor": "#EBF0F8",
            "showbackground": true,
            "ticks": "",
            "zerolinecolor": "#EBF0F8"
           },
           "yaxis": {
            "backgroundcolor": "white",
            "gridcolor": "#DFE8F3",
            "gridwidth": 2,
            "linecolor": "#EBF0F8",
            "showbackground": true,
            "ticks": "",
            "zerolinecolor": "#EBF0F8"
           },
           "zaxis": {
            "backgroundcolor": "white",
            "gridcolor": "#DFE8F3",
            "gridwidth": 2,
            "linecolor": "#EBF0F8",
            "showbackground": true,
            "ticks": "",
            "zerolinecolor": "#EBF0F8"
           }
          },
          "shapedefaults": {
           "line": {
            "color": "#2a3f5f"
           }
          },
          "ternary": {
           "aaxis": {
            "gridcolor": "#DFE8F3",
            "linecolor": "#A2B1C6",
            "ticks": ""
           },
           "baxis": {
            "gridcolor": "#DFE8F3",
            "linecolor": "#A2B1C6",
            "ticks": ""
           },
           "bgcolor": "white",
           "caxis": {
            "gridcolor": "#DFE8F3",
            "linecolor": "#A2B1C6",
            "ticks": ""
           }
          },
          "title": {
           "x": 0.05
          },
          "xaxis": {
           "automargin": true,
           "gridcolor": "#EBF0F8",
           "linecolor": "#EBF0F8",
           "ticks": "",
           "title": {
            "standoff": 15
           },
           "zerolinecolor": "#EBF0F8",
           "zerolinewidth": 2
          },
          "yaxis": {
           "automargin": true,
           "gridcolor": "#EBF0F8",
           "linecolor": "#EBF0F8",
           "ticks": "",
           "title": {
            "standoff": 15
           },
           "zerolinecolor": "#EBF0F8",
           "zerolinewidth": 2
          }
         }
        },
        "title": {
         "text": "[2021-04-02 13:17:55 PM] Episode: 2/2 Step: 201/200"
        },
        "xaxis": {
         "anchor": "y",
         "domain": [
          0,
          1
         ],
         "gridcolor": "Gainsboro",
         "linecolor": "Grey",
         "matches": "x4",
         "rangeslider": {
          "visible": false
         },
         "showticklabels": false,
         "title": {
          "font": {
           "size": 12
          },
          "standoff": 7,
          "text": "Price"
         }
        },
        "xaxis2": {
         "anchor": "y2",
         "domain": [
          0,
          1
         ],
         "gridcolor": "Gainsboro",
         "linecolor": "Grey",
         "matches": "x4",
         "showticklabels": false,
         "title": {
          "font": {
           "size": 12
          },
          "standoff": 7,
          "text": "Volume"
         }
        },
        "xaxis3": {
         "anchor": "y3",
         "domain": [
          0,
          1
         ],
         "gridcolor": "Gainsboro",
         "linecolor": "Grey",
         "matches": "x4",
         "showticklabels": false,
         "title": {
          "font": {
           "size": 12
          },
          "standoff": 7,
          "text": "Performance"
         }
        },
        "xaxis4": {
         "anchor": "y4",
         "domain": [
          0,
          1
         ],
         "gridcolor": "Gainsboro",
         "linecolor": "Grey",
         "title": {
          "font": {
           "size": 12
          },
          "standoff": 7,
          "text": "Net Worth"
         }
        },
        "yaxis": {
         "anchor": "x",
         "domain": [
          0.49950000000000006,
          1
         ],
         "gridcolor": "Gainsboro",
         "linecolor": "Grey"
        },
        "yaxis2": {
         "anchor": "x2",
         "domain": [
          0.333,
          0.46950000000000003
         ],
         "gridcolor": "Gainsboro",
         "linecolor": "Grey"
        },
        "yaxis3": {
         "anchor": "x3",
         "domain": [
          0.1665,
          0.30300000000000005
         ],
         "gridcolor": "Gainsboro",
         "linecolor": "Grey"
        },
        "yaxis4": {
         "anchor": "x4",
         "domain": [
          0,
          0.1365
         ],
         "gridcolor": "Gainsboro",
         "linecolor": "Grey"
        }
       }
      },
      "text/html": "<div>                            <div id=\"4f9ea224-cf03-45be-9883-35d50a268780\" class=\"plotly-graph-div\" style=\"height:525px; width:100%;\"></div>            <script type=\"text/javascript\">                require([\"plotly\"], function(Plotly) {                    window.PLOTLYENV=window.PLOTLYENV || {};                                    if (document.getElementById(\"4f9ea224-cf03-45be-9883-35d50a268780\")) {                    Plotly.newPlot(                        \"4f9ea224-cf03-45be-9883-35d50a268780\",                        [{\"close\": [8740.99, 8739.0, 8728.49, 8708.32, 8795.9, 8760.0, 8760.0, 8759.23, 8517.77, 8520.3, 8535.23, 8546.34, 8526.65, 8555.6, 8512.1, 8492.28, 8460.0, 8474.99, 8455.92, 8326.28, 8133.43, 8164.79, 8229.38, 8220.4, 8238.8, 8232.99, 8207.48, 8243.45, 8371.13, 8373.0, 8365.08, 8179.99, 8225.0, 8285.8, 8273.4, 8297.4, 8279.89, 8252.72, 8302.18, 8295.85, 8277.25, 8346.59, 8358.3, 8375.1, 8368.62, 8366.72, 8314.77, 8363.7, 8344.16, 8247.4, 8277.4, 8291.67, 8307.89, 8298.9, 8269.47, 8300.98, 8318.49, 8306.39, 8276.43, 8257.69, 8166.0, 8176.33, 8200.7, 8155.41, 8080.0, 8067.03, 7958.08, 7974.25, 7998.5, 7991.99, 8022.7, 8042.97, 7965.67, 8088.95, 8122.19, 8107.99, 8137.73, 8115.0, 8107.0, 8094.4, 8080.01, 8117.09, 8126.99, 8110.95, 8215.39, 8231.42, 8240.13, 8235.0, 8219.9, 8248.87, 8213.5, 8200.99, 8200.0, 8237.3, 8228.13, 8240.83, 8214.9, 8170.07, 8229.87, 8205.87, 8252.56, 8365.0, 8348.65, 8303.99, 8310.48, 8310.0, 8289.87, 8304.99, 8301.35, 8313.12, 8240.07, 8199.99, 8226.98, 8231.2, 8198.89, 8215.85, 8279.99, 8255.08, 8270.4, 8244.24, 8239.12, 8267.14, 8282.27, 8350.62, 8336.6, 8336.91, 8311.21, 8312.09, 8345.19, 8377.2, 8481.11, 8516.36, 8524.0, 8517.04, 8558.5, 8521.99, 8484.93, 8518.48, 8488.99, 8466.72, 8492.55, 8494.28, 8510.95, 8498.64, 8551.1, 8524.22, 8510.11, 8475.62, 8476.58, 8467.13, 8499.84, 8490.42, 8407.09, 8409.42, 8400.96, 8383.14, 8350.0, 8373.01, 8412.8, 8385.57, 8408.53, 8391.76, 8367.36, 8280.24, 8297.91, 8333.99, 8285.29, 8280.0, 8317.02, 8320.16, 8295.9, 8245.47, 8264.98, 8200.0, 8170.0, 8217.0, 8231.63, 8232.8, 8225.38, 8200.01, 8219.98, 8187.98, 8100.32, 8076.99, 7964.73, 7984.08, 7949.35, 7900.61, 7895.5, 7960.0, 7900.0, 7921.99, 7943.07, 7856.37, 7848.3, 7852.68, 7847.1, 7849.31, 7911.83, 7901.01, 7887.0], \"high\": [8796.68, 8766.0, 8750.27, 8754.4, 8865.0, 8821.19, 8798.6, 8771.02, 8761.7, 8553.67, 8589.1, 8579.48, 8555.51, 8583.6, 8569.92, 8555.54, 8557.51, 8505.0, 8505.33, 8478.29, 8339.81, 8217.44, 8252.72, 8248.63, 8267.12, 8255.0, 8261.24, 8263.93, 8455.66, 8439.44, 8399.1, 8381.73, 8229.91, 8377.29, 8329.1, 8350.0, 8346.95, 8377.29, 8311.35, 8319.96, 8398.24, 8372.58, 8399.99, 8386.53, 8400.0, 8500.0, 8381.0, 8371.3, 8382.41, 8351.0, 8292.99, 8325.8, 8318.99, 8324.9, 8335.56, 8309.4, 8377.29, 8330.41, 8328.23, 8284.36, 8274.83, 8200.0, 8232.14, 8213.97, 8155.41, 8108.28, 8068.92, 8019.9, 8026.66, 8025.0, 8104.69, 8061.39, 8045.99, 8170.71, 8144.16, 8139.99, 8152.99, 8137.73, 8143.72, 8129.99, 8106.76, 8139.0, 8152.04, 8146.99, 8232.14, 8275.1, 8256.12, 8274.1, 8255.8, 8253.97, 8261.09, 8235.76, 8227.0, 8273.36, 8264.21, 8250.0, 8250.86, 8235.77, 8232.12, 8232.14, 8252.72, 8370.0, 8395.0, 8374.48, 8331.0, 8319.43, 8323.4, 8314.55, 8330.62, 8314.8, 8323.99, 8263.03, 8247.78, 8253.75, 8237.89, 8235.0, 8279.99, 8290.0, 8278.71, 8275.34, 8279.31, 8279.98, 8294.04, 8356.4, 8374.94, 8354.83, 8360.45, 8337.14, 8351.97, 8377.29, 8549.0, 8531.9, 8551.79, 8529.9, 8590.0, 8576.1, 8549.89, 8531.89, 8550.0, 8493.29, 8522.98, 8517.0, 8537.29, 8524.51, 8589.1, 8589.07, 8536.92, 8524.03, 8497.8, 8498.0, 8513.5, 8510.0, 8494.7, 8427.29, 8419.03, 8415.47, 8389.99, 8397.57, 8455.0, 8429.66, 8412.61, 8424.0, 8417.65, 8369.7, 8326.5, 8336.65, 8333.99, 8314.32, 8355.97, 8333.49, 8325.6, 8296.01, 8264.98, 8271.31, 8200.0, 8232.14, 8246.0, 8248.94, 8259.95, 8242.49, 8232.04, 8230.9, 8205.0, 8118.98, 8103.07, 8040.95, 8032.01, 7960.25, 7920.0, 7960.0, 7960.0, 7935.0, 7960.99, 7951.38, 7888.92, 7870.0, 7909.75, 7882.27, 7949.27, 7944.73, 7916.48], \"low\": [8707.28, 8721.11, 8660.53, 8701.35, 8695.11, 8740.54, 8741.52, 8700.0, 8467.42, 8477.89, 8500.78, 8500.0, 8400.0, 8451.05, 8461.38, 8481.24, 8420.37, 8450.0, 8430.94, 8275.02, 8100.01, 8122.56, 8157.01, 8166.25, 8176.91, 8213.79, 8200.0, 8207.48, 8237.1, 8370.0, 8356.4, 8145.1, 8173.6, 8211.8, 8201.0, 8250.9, 8266.46, 8252.72, 8232.14, 8268.37, 8277.25, 8277.25, 8314.78, 8314.77, 8350.07, 8331.39, 8314.77, 8275.45, 8335.49, 8191.14, 8227.7, 8264.13, 8249.93, 8269.52, 8219.44, 8262.68, 8286.65, 8289.87, 8232.14, 8232.14, 8110.02, 8154.95, 8168.6, 8151.0, 7980.0, 8005.95, 7929.53, 7931.03, 7950.0, 7980.58, 7991.99, 7992.75, 7953.4, 7965.67, 8085.94, 8078.48, 8092.9, 8049.22, 8079.46, 8062.12, 8043.96, 8063.1, 8088.46, 8094.43, 8088.46, 8191.14, 8212.0, 8224.5, 8211.0, 8211.01, 8210.03, 8158.27, 8177.65, 8179.41, 8221.92, 8217.32, 8213.52, 8141.08, 8146.1, 8186.03, 8197.09, 8231.21, 8323.82, 8296.0, 8296.31, 8282.65, 8280.0, 8273.36, 8290.08, 8277.93, 8240.07, 8191.14, 8178.0, 8193.7, 8180.0, 8170.71, 8215.53, 8240.02, 8237.17, 8237.17, 8239.12, 8227.79, 8247.57, 8274.24, 8326.1, 8320.61, 8281.31, 8269.85, 8311.16, 8336.11, 8369.86, 8471.51, 8511.0, 8476.66, 8507.68, 8509.24, 8482.53, 8484.93, 8450.0, 8434.47, 8461.1, 8481.0, 8480.0, 8488.1, 8471.09, 8509.2, 8482.64, 8469.0, 8440.4, 8440.52, 8461.8, 8480.0, 8358.17, 8380.73, 8370.0, 8383.12, 8320.0, 8349.17, 8357.11, 8370.58, 8367.21, 8376.99, 8335.6, 8252.72, 8264.49, 8282.59, 8271.09, 8261.52, 8280.0, 8297.0, 8290.0, 8220.0, 8230.45, 8180.0, 8119.38, 8170.0, 8189.84, 8210.76, 8212.68, 8200.0, 8186.0, 8161.77, 8063.15, 8050.01, 7951.41, 7964.73, 7949.35, 7861.32, 7865.0, 7886.48, 7870.35, 7885.2, 7896.41, 7811.62, 7808.05, 7808.0, 7836.79, 7801.02, 7847.36, 7883.0, 7850.72], \"name\": \"Price\", \"open\": [8733.86, 8740.99, 8739.0, 8728.49, 8708.32, 8795.9, 8760.0, 8760.0, 8759.23, 8517.77, 8520.3, 8535.23, 8546.34, 8526.65, 8555.6, 8512.1, 8492.28, 8460.0, 8474.99, 8455.92, 8326.28, 8133.43, 8164.79, 8229.38, 8220.4, 8238.8, 8232.99, 8207.48, 8243.45, 8371.13, 8373.0, 8365.08, 8179.99, 8225.0, 8285.8, 8273.4, 8297.4, 8279.89, 8252.72, 8302.18, 8295.85, 8277.25, 8346.59, 8358.3, 8375.1, 8368.62, 8366.72, 8314.77, 8363.7, 8344.16, 8247.4, 8277.4, 8291.67, 8307.89, 8298.9, 8269.47, 8300.98, 8318.49, 8306.39, 8276.43, 8257.69, 8166.0, 8176.33, 8200.7, 8155.41, 8080.0, 8067.03, 7958.08, 7974.25, 7998.5, 7991.99, 8022.7, 8042.97, 7965.67, 8088.95, 8122.19, 8107.99, 8137.73, 8115.0, 8107.0, 8094.4, 8080.01, 8117.09, 8126.99, 8110.95, 8215.39, 8231.42, 8240.13, 8235.0, 8219.9, 8248.87, 8213.5, 8200.99, 8200.0, 8237.3, 8228.13, 8240.83, 8214.9, 8170.07, 8229.87, 8205.87, 8252.56, 8365.0, 8348.65, 8303.99, 8310.48, 8310.0, 8289.87, 8304.99, 8301.35, 8313.12, 8240.07, 8199.99, 8226.98, 8231.2, 8198.89, 8215.85, 8279.99, 8255.08, 8270.4, 8244.24, 8239.12, 8267.14, 8282.27, 8350.62, 8336.6, 8336.91, 8311.21, 8312.09, 8345.19, 8377.2, 8481.11, 8516.36, 8524.0, 8517.04, 8558.5, 8521.99, 8484.93, 8518.48, 8488.99, 8466.72, 8492.55, 8494.28, 8510.95, 8498.64, 8551.1, 8524.22, 8510.11, 8475.62, 8476.58, 8467.13, 8499.84, 8490.42, 8407.09, 8409.42, 8400.96, 8383.14, 8350.0, 8373.01, 8412.8, 8385.57, 8408.53, 8391.76, 8367.36, 8280.24, 8297.91, 8333.99, 8285.29, 8280.0, 8317.02, 8320.16, 8295.9, 8245.47, 8264.98, 8200.0, 8170.0, 8217.0, 8231.63, 8232.8, 8225.38, 8200.01, 8219.98, 8187.98, 8100.32, 8076.99, 7964.73, 7984.08, 7949.35, 7900.61, 7895.5, 7960.0, 7900.0, 7921.99, 7943.07, 7856.37, 7848.3, 7852.68, 7847.1, 7849.31, 7911.83, 7901.01], \"showlegend\": false, \"type\": \"candlestick\", \"uid\": \"9daa24c5-9ae2-4db4-83a6-1beaa490cf1a\", \"xaxis\": \"x\", \"yaxis\": \"y\"}, {\"marker\": {\"color\": \"DodgerBlue\"}, \"name\": \"Volume\", \"showlegend\": false, \"type\": \"bar\", \"uid\": \"366ede5a-4128-45a4-9618-3b6f31a20734\", \"xaxis\": \"x2\", \"y\": [559.93, 273.58, 917.79, 182.62, 1260.69, 324.11, 324.2, 730.67, 1341.75, 792.07, 385.69, 475.08, 877.26, 670.49, 610.97, 168.99, 305.92, 136.05, 154.26, 1070.93, 1710.2, 492.8, 630.72, 620.93, 586.34, 304.52, 450.97, 182.36, 915.32, 319.29, 362.01, 1046.38, 357.91, 561.2, 322.53, 1073.71, 237.21, 251.2, 359.73, 117.23, 363.17, 214.18, 171.64, 258.58, 299.52, 718.98, 119.7, 405.25, 210.77, 714.82, 215.97, 164.2, 201.55, 203.41, 886.82, 95.49, 499.67, 172.77, 355.39, 255.27, 591.06, 133.1, 149.13, 87.55, 1061.54, 286.94, 524.42, 316.0, 441.43, 189.7, 844.94, 155.34, 257.56, 610.69, 217.97, 173.18, 218.06, 372.97, 484.39, 248.1, 162.35, 303.42, 290.69, 160.93, 369.4, 487.27, 93.35, 96.68, 72.14, 90.22, 168.52, 203.15, 71.42, 464.56, 57.0, 89.42, 49.47, 200.05, 254.37, 65.05, 118.19, 452.4, 181.03, 288.04, 145.78, 110.14, 55.48, 80.87, 67.01, 59.16, 121.26, 244.37, 156.87, 80.48, 139.32, 93.52, 200.23, 97.4, 68.08, 47.0, 36.65, 28.75, 182.85, 400.18, 288.1, 182.94, 777.81, 493.59, 118.63, 174.37, 901.75, 222.45, 113.8, 84.2, 261.44, 168.78, 111.07, 122.12, 267.32, 210.39, 211.36, 146.22, 93.39, 89.04, 307.59, 307.2, 164.24, 151.21, 399.77, 362.01, 260.85, 232.32, 1109.45, 348.5, 210.57, 274.92, 277.83, 99.57, 273.12, 129.47, 113.05, 87.6, 159.37, 433.28, 133.29, 200.57, 210.33, 206.4, 357.53, 107.43, 116.54, 479.07, 290.38, 812.96, 1542.87, 430.36, 312.54, 132.75, 333.64, 205.86, 120.33, 263.1, 457.64, 451.55, 962.22, 381.04, 386.95, 905.87, 453.48, 542.31, 476.48, 341.79, 654.23, 769.1, 719.94, 523.05, 409.37, 255.12, 551.86, 340.62, 488.69], \"yaxis\": \"y2\"}, {\"mode\": \"lines\", \"name\": \"bitstamp:/USD-BTC\", \"type\": \"scatter\", \"uid\": \"144dadab-dc92-4059-bcf1-f191aae5cff6\", \"xaxis\": \"x3\", \"y\": [8740.99, 8739.0, 8728.49, 8708.32, 8795.9, 8760.0, 8760.0, 8759.23, 8517.77, 8520.3, 8535.23, 8546.34, 8526.65, 8555.6, 8512.1, 8492.28, 8460.0, 8474.99, 8455.92, 8326.28, 8133.43, 8164.79, 8229.38, 8220.4, 8238.8, 8232.99, 8207.48, 8243.45, 8371.13, 8373.0, 8365.08, 8179.99, 8225.0, 8285.8, 8273.4, 8297.4, 8279.89, 8252.72, 8302.18, 8295.85, 8277.25, 8346.59, 8358.3, 8375.1, 8368.62, 8366.72, 8314.77, 8363.7, 8344.16, 8247.4, 8277.4, 8291.67, 8307.89, 8298.9, 8269.47, 8300.98, 8318.49, 8306.39, 8276.43, 8257.69, 8166.0, 8176.33, 8200.7, 8155.41, 8080.0, 8067.03, 7958.08, 7974.25, 7998.5, 7991.99, 8022.7, 8042.97, 7965.67, 8088.95, 8122.19, 8107.99, 8137.73, 8115.0, 8107.0, 8094.4, 8080.01, 8117.09, 8126.99, 8110.95, 8215.39, 8231.42, 8240.13, 8235.0, 8219.9, 8248.87, 8213.5, 8200.99, 8200.0, 8237.3, 8228.13, 8240.83, 8214.9, 8170.07, 8229.87, 8205.87, 8252.56, 8365.0, 8348.65, 8303.99, 8310.48, 8310.0, 8289.87, 8304.99, 8301.35, 8313.12, 8240.07, 8199.99, 8226.98, 8231.2, 8198.89, 8215.85, 8279.99, 8255.08, 8270.4, 8244.24, 8239.12, 8267.14, 8282.27, 8350.62, 8336.6, 8336.91, 8311.21, 8312.09, 8345.19, 8377.2, 8481.11, 8516.36, 8524.0, 8517.04, 8558.5, 8521.99, 8484.93, 8518.48, 8488.99, 8466.72, 8492.55, 8494.28, 8510.95, 8498.64, 8551.1, 8524.22, 8510.11, 8475.62, 8476.58, 8467.13, 8499.84, 8490.42, 8407.09, 8409.42, 8400.96, 8383.14, 8350.0, 8373.01, 8412.8, 8385.57, 8408.53, 8391.76, 8367.36, 8280.24, 8297.91, 8333.99, 8285.29, 8280.0, 8317.02, 8320.16, 8295.9, 8245.47, 8264.98, 8200.0, 8170.0, 8217.0, 8231.63, 8232.8, 8225.38, 8200.01, 8219.98, 8187.98, 8100.32, 8076.99, 7964.73, 7984.08, 7949.35, 7900.61, 7895.5, 7960.0, 7900.0, 7921.99, 7943.07, 7856.37, 7848.3, 7852.68, 7847.1, 7849.31, 7911.83, 7901.01, 7887.0], \"yaxis\": \"y3\"}, {\"mode\": \"lines\", \"name\": \"bitstamp:/USD:/free\", \"type\": \"scatter\", \"uid\": \"215fa976-3ead-45d7-83c7-ba95c90c4306\", \"xaxis\": \"x3\", \"y\": [10000.0, 10000.0, 10000.0, 1000.0, 1000.0, 1000.0, 1000.0, 1000.0, 1000.0, 9730.11, 9730.11, 9730.11, 9730.11, 9730.11, 9730.11, 9730.11, 9730.11, 9730.11, 973.01, 973.01, 973.01, 973.01, 973.01, 973.01, 973.01, 973.01, 973.01, 973.01, 973.01, 973.01, 973.01, 973.01, 973.01, 973.01, 973.01, 973.01, 973.01, 973.01, 973.01, 973.01, 973.01, 973.01, 973.01, 973.01, 973.01, 973.01, 973.01, 973.01, 973.01, 973.01, 973.01, 973.01, 973.01, 973.01, 973.01, 973.01, 973.01, 973.01, 973.01, 973.01, 973.01, 973.01, 973.01, 973.01, 973.01, 973.01, 973.01, 9146.73, 9146.73, 9146.73, 9146.73, 0.0, 0.0, 0.0, 0.0, 0.0, 0.0, 0.0, 0.0, 0.0, 0.0, 0.0, 0.0, 0.0, 0.0, 0.0, 0.0, 0.0, 0.0, 0.0, 0.0, 0.0, 0.0, 0.0, 0.0, 0.0, 0.0, 0.0, 0.0, 0.0, 0.0, 0.0, 9479.85, 9479.85, 9479.85, 9479.85, 9479.85, 9479.85, 9479.85, 1895.97, 1895.97, 1895.97, 1895.97, 1895.97, 1895.97, 1895.97, 1895.97, 1895.97, 1895.97, 1895.97, 1895.97, 1895.97, 1895.97, 1895.97, 1895.97, 1895.97, 1895.97, 1895.97, 1895.97, 1895.97, 1895.97, 9597.66, 959.77, 959.77, 959.77, 959.77, 959.77, 959.77, 959.77, 959.77, 959.77, 959.77, 959.77, 959.77, 959.77, 959.77, 959.77, 959.77, 959.77, 959.77, 959.77, 959.77, 959.77, 959.77, 959.77, 959.77, 959.77, 959.77, 959.77, 959.77, 959.77, 959.77, 959.77, 959.77, 959.77, 959.77, 959.77, 959.77, 959.77, 959.77, 959.77, 959.77, 959.77, 959.77, 959.77, 9196.72, 9196.72, 9196.72, 9196.72, 9196.72, 9196.72, 9196.72, 9196.72, 9196.72, 9196.72, 9196.72, 9196.72, 9196.72, 9196.72, 9196.72, 9196.72, 9196.72, 4598.36, 4598.36, 4598.36, 4598.36, 4598.36, 4598.36, 4598.36, 4598.36, 4598.36], \"yaxis\": \"y3\"}, {\"mode\": \"lines\", \"name\": \"bitstamp:/USD:/locked\", \"type\": \"scatter\", \"uid\": \"f14581dc-310b-4fca-903b-cfdfa33d18fc\", \"xaxis\": \"x3\", \"y\": [0.0, 0.0, 0.0, 0.0, 0.0, 0.0, 0.0, 0.0, 0.0, 0.0, 0.0, 0.0, 0.0, 0.0, 0.0, 0.0, 0.0, 0.0, 0.0, 0.0, 0.0, 0.0, 0.0, 0.0, 0.0, 0.0, 0.0, 0.0, 0.0, 0.0, 0.0, 0.0, 0.0, 0.0, 0.0, 0.0, 0.0, 0.0, 0.0, 0.0, 0.0, 0.0, 0.0, 0.0, 0.0, 0.0, 0.0, 0.0, 0.0, 0.0, 0.0, 0.0, 0.0, 0.0, 0.0, 0.0, 0.0, 0.0, 0.0, 0.0, 0.0, 0.0, 0.0, 0.0, 0.0, 0.0, 0.0, 0.0, 0.0, 0.0, 0.0, 0.0, 0.0, 0.0, 0.0, 0.0, 0.0, 0.0, 0.0, 0.0, 0.0, 0.0, 0.0, 0.0, 0.0, 0.0, 0.0, 0.0, 0.0, 0.0, 0.0, 0.0, 0.0, 0.0, 0.0, 0.0, 0.0, 0.0, 0.0, 0.0, 0.0, 0.0, 0.0, 0.0, 0.0, 0.0, 0.0, 0.0, 0.0, 0.0, 0.0, 0.0, 0.0, 0.0, 0.0, 0.0, 0.0, 0.0, 0.0, 0.0, 0.0, 0.0, 0.0, 0.0, 0.0, 0.0, 0.0, 0.0, 0.0, 0.0, 0.0, 0.0, 0.0, 0.0, 0.0, 0.0, 0.0, 0.0, 0.0, 0.0, 0.0, 0.0, 0.0, 0.0, 0.0, 0.0, 0.0, 0.0, 0.0, 0.0, 0.0, 0.0, 0.0, 0.0, 0.0, 0.0, 0.0, 0.0, 0.0, 0.0, 0.0, 0.0, 0.0, 0.0, 0.0, 0.0, 0.0, 0.0, 0.0, 0.0, 0.0, 0.0, 0.0, 0.0, 0.0, 0.0, 0.0, 0.0, 0.0, 0.0, 0.0, 0.0, 0.0, 0.0, 0.0, 0.0, 0.0, 0.0, 0.0, 0.0, 0.0, 0.0, 0.0, 0.0, 0.0, 0.0, 0.0, 0.0, 0.0, 0.0, 0.0], \"yaxis\": \"y3\"}, {\"mode\": \"lines\", \"name\": \"bitstamp:/USD:/total\", \"type\": \"scatter\", \"uid\": \"b26474e7-1144-4f03-9f03-7bd22931501e\", \"xaxis\": \"x3\", \"y\": [10000.0, 10000.0, 10000.0, 1000.0, 1000.0, 1000.0, 1000.0, 1000.0, 1000.0, 9730.11, 9730.11, 9730.11, 9730.11, 9730.11, 9730.11, 9730.11, 9730.11, 9730.11, 973.01, 973.01, 973.01, 973.01, 973.01, 973.01, 973.01, 973.01, 973.01, 973.01, 973.01, 973.01, 973.01, 973.01, 973.01, 973.01, 973.01, 973.01, 973.01, 973.01, 973.01, 973.01, 973.01, 973.01, 973.01, 973.01, 973.01, 973.01, 973.01, 973.01, 973.01, 973.01, 973.01, 973.01, 973.01, 973.01, 973.01, 973.01, 973.01, 973.01, 973.01, 973.01, 973.01, 973.01, 973.01, 973.01, 973.01, 973.01, 973.01, 9146.73, 9146.73, 9146.73, 9146.73, 0.0, 0.0, 0.0, 0.0, 0.0, 0.0, 0.0, 0.0, 0.0, 0.0, 0.0, 0.0, 0.0, 0.0, 0.0, 0.0, 0.0, 0.0, 0.0, 0.0, 0.0, 0.0, 0.0, 0.0, 0.0, 0.0, 0.0, 0.0, 0.0, 0.0, 0.0, 9479.85, 9479.85, 9479.85, 9479.85, 9479.85, 9479.85, 9479.85, 1895.97, 1895.97, 1895.97, 1895.97, 1895.97, 1895.97, 1895.97, 1895.97, 1895.97, 1895.97, 1895.97, 1895.97, 1895.97, 1895.97, 1895.97, 1895.97, 1895.97, 1895.97, 1895.97, 1895.97, 1895.97, 1895.97, 9597.66, 959.77, 959.77, 959.77, 959.77, 959.77, 959.77, 959.77, 959.77, 959.77, 959.77, 959.77, 959.77, 959.77, 959.77, 959.77, 959.77, 959.77, 959.77, 959.77, 959.77, 959.77, 959.77, 959.77, 959.77, 959.77, 959.77, 959.77, 959.77, 959.77, 959.77, 959.77, 959.77, 959.77, 959.77, 959.77, 959.77, 959.77, 959.77, 959.77, 959.77, 959.77, 959.77, 959.77, 9196.72, 9196.72, 9196.72, 9196.72, 9196.72, 9196.72, 9196.72, 9196.72, 9196.72, 9196.72, 9196.72, 9196.72, 9196.72, 9196.72, 9196.72, 9196.72, 9196.72, 4598.36, 4598.36, 4598.36, 4598.36, 4598.36, 4598.36, 4598.36, 4598.36, 4598.36], \"yaxis\": \"y3\"}, {\"mode\": \"lines\", \"name\": \"bitstamp:/BTC:/free\", \"type\": \"scatter\", \"uid\": \"b17d4003-2e58-4235-8a40-be01d611c74e\", \"xaxis\": \"x3\", \"y\": [10.0, 10.0, 10.0, 10.0, 10.0, 10.0, 10.0, 10.0, 10.0, 10.0, 10.0, 10.0, 10.0, 10.0, 10.0, 10.0, 10.0, 10.0, 10.0, 10.0, 10.0, 10.0, 10.0, 10.0, 10.0, 10.0, 10.0, 10.0, 10.0, 10.0, 10.0, 10.0, 10.0, 10.0, 10.0, 10.0, 10.0, 10.0, 10.0, 10.0, 10.0, 10.0, 10.0, 10.0, 10.0, 10.0, 10.0, 10.0, 10.0, 10.0, 10.0, 10.0, 10.0, 10.0, 10.0, 10.0, 10.0, 10.0, 10.0, 10.0, 10.0, 10.0, 10.0, 10.0, 10.0, 10.0, 10.0, 10.0, 10.0, 10.0, 10.0, 10.0, 10.0, 10.0, 10.0, 10.0, 10.0, 10.0, 10.0, 10.0, 10.0, 10.0, 10.0, 10.0, 10.0, 10.0, 10.0, 10.0, 10.0, 10.0, 10.0, 10.0, 10.0, 10.0, 10.0, 10.0, 10.0, 10.0, 10.0, 10.0, 10.0, 10.0, 10.0, 10.0, 10.0, 10.0, 10.0, 10.0, 10.0, 10.0, 10.0, 10.0, 10.0, 10.0, 10.0, 10.0, 10.0, 10.0, 10.0, 10.0, 10.0, 10.0, 10.0, 10.0, 10.0, 10.0, 10.0, 10.0, 10.0, 10.0, 10.0, 10.0, 10.0, 10.0, 10.0, 10.0, 10.0, 10.0, 10.0, 10.0, 10.0, 10.0, 10.0, 10.0, 10.0, 10.0, 10.0, 10.0, 10.0, 10.0, 10.0, 10.0, 10.0, 10.0, 10.0, 10.0, 10.0, 10.0, 10.0, 10.0, 10.0, 10.0, 10.0, 10.0, 10.0, 10.0, 10.0, 10.0, 10.0, 10.0, 10.0, 10.0, 10.0, 10.0, 10.0, 10.0, 10.0, 10.0, 10.0, 10.0, 10.0, 10.0, 10.0, 10.0, 10.0, 10.0, 10.0, 10.0, 10.0, 10.0, 10.0, 10.0, 10.0, 10.0, 10.0, 10.0, 10.0, 10.0, 10.0, 10.0, 10.0], \"yaxis\": \"y3\"}, {\"mode\": \"lines\", \"name\": \"bitstamp:/BTC:/locked\", \"type\": \"scatter\", \"uid\": \"042e0b65-eede-4d26-9f7b-b257debd16f8\", \"xaxis\": \"x3\", \"y\": [0.0, 0.0, 0.0, 1.02801286, 1.02801286, 1.02801286, 1.02801286, 1.02801286, 1.02801286, 0.0, 0.0, 0.0, 0.0, 0.0, 0.0, 0.0, 0.0, 0.0, 1.03018765, 1.03018765, 1.03018765, 1.03018765, 1.03018765, 1.03018765, 1.03018765, 1.03018765, 1.03018765, 1.03018765, 1.03018765, 1.03018765, 1.03018765, 1.03018765, 1.03018765, 1.03018765, 1.03018765, 1.03018765, 1.03018765, 1.03018765, 1.03018765, 1.03018765, 1.03018765, 1.03018765, 1.03018765, 1.03018765, 1.03018765, 1.03018765, 1.03018765, 1.03018765, 1.03018765, 1.03018765, 1.03018765, 1.03018765, 1.03018765, 1.03018765, 1.03018765, 1.03018765, 1.03018765, 1.03018765, 1.03018765, 1.03018765, 1.03018765, 1.03018765, 1.03018765, 1.03018765, 1.03018765, 1.03018765, 1.03018765, 0.0, 0.0, 0.0, 0.0, 1.1366859, 1.1366859, 1.1366859, 1.1366859, 1.1366859, 1.1366859, 1.1366859, 1.1366859, 1.1366859, 1.1366859, 1.1366859, 1.1366859, 1.1366859, 1.1366859, 1.1366859, 1.1366859, 1.1366859, 1.1366859, 1.1366859, 1.1366859, 1.1366859, 1.1366859, 1.1366859, 1.1366859, 1.1366859, 1.1366859, 1.1366859, 1.1366859, 1.1366859, 1.1366859, 1.1366859, 0.0, 0.0, 0.0, 0.0, 0.0, 0.0, 0.0, 0.91083137, 0.91083137, 0.91083137, 0.91083137, 0.91083137, 0.91083137, 0.91083137, 0.91083137, 0.91083137, 0.91083137, 0.91083137, 0.91083137, 0.91083137, 0.91083137, 0.91083137, 0.91083137, 0.91083137, 0.91083137, 0.91083137, 0.91083137, 0.91083137, 0.91083137, 0.0, 1.0112278, 1.0112278, 1.0112278, 1.0112278, 1.0112278, 1.0112278, 1.0112278, 1.0112278, 1.0112278, 1.0112278, 1.0112278, 1.0112278, 1.0112278, 1.0112278, 1.0112278, 1.0112278, 1.0112278, 1.0112278, 1.0112278, 1.0112278, 1.0112278, 1.0112278, 1.0112278, 1.0112278, 1.0112278, 1.0112278, 1.0112278, 1.0112278, 1.0112278, 1.0112278, 1.0112278, 1.0112278, 1.0112278, 1.0112278, 1.0112278, 1.0112278, 1.0112278, 1.0112278, 1.0112278, 1.0112278, 1.0112278, 1.0112278, 1.0112278, 0.0, 0.0, 0.0, 0.0, 0.0, 0.0, 0.0, 0.0, 0.0, 0.0, 0.0, 0.0, 0.0, 0.0, 0.0, 0.0, 0.0, 0.57871318, 0.57871318, 0.57871318, 0.57871318, 0.57871318, 0.57871318, 0.57871318, 0.57871318, 0.57871318], \"yaxis\": \"y3\"}, {\"mode\": \"lines\", \"name\": \"bitstamp:/BTC:/total\", \"type\": \"scatter\", \"uid\": \"25740144-d456-4953-88f1-707b2dedb8c3\", \"xaxis\": \"x3\", \"y\": [10.0, 10.0, 10.0, 11.02801286, 11.02801286, 11.02801286, 11.02801286, 11.02801286, 11.02801286, 10.0, 10.0, 10.0, 10.0, 10.0, 10.0, 10.0, 10.0, 10.0, 11.03018765, 11.03018765, 11.03018765, 11.03018765, 11.03018765, 11.03018765, 11.03018765, 11.03018765, 11.03018765, 11.03018765, 11.03018765, 11.03018765, 11.03018765, 11.03018765, 11.03018765, 11.03018765, 11.03018765, 11.03018765, 11.03018765, 11.03018765, 11.03018765, 11.03018765, 11.03018765, 11.03018765, 11.03018765, 11.03018765, 11.03018765, 11.03018765, 11.03018765, 11.03018765, 11.03018765, 11.03018765, 11.03018765, 11.03018765, 11.03018765, 11.03018765, 11.03018765, 11.03018765, 11.03018765, 11.03018765, 11.03018765, 11.03018765, 11.03018765, 11.03018765, 11.03018765, 11.03018765, 11.03018765, 11.03018765, 11.03018765, 10.0, 10.0, 10.0, 10.0, 11.1366859, 11.1366859, 11.1366859, 11.1366859, 11.1366859, 11.1366859, 11.1366859, 11.1366859, 11.1366859, 11.1366859, 11.1366859, 11.1366859, 11.1366859, 11.1366859, 11.1366859, 11.1366859, 11.1366859, 11.1366859, 11.1366859, 11.1366859, 11.1366859, 11.1366859, 11.1366859, 11.1366859, 11.1366859, 11.1366859, 11.1366859, 11.1366859, 11.1366859, 11.1366859, 11.1366859, 10.0, 10.0, 10.0, 10.0, 10.0, 10.0, 10.0, 10.91083137, 10.91083137, 10.91083137, 10.91083137, 10.91083137, 10.91083137, 10.91083137, 10.91083137, 10.91083137, 10.91083137, 10.91083137, 10.91083137, 10.91083137, 10.91083137, 10.91083137, 10.91083137, 10.91083137, 10.91083137, 10.91083137, 10.91083137, 10.91083137, 10.91083137, 10.0, 11.0112278, 11.0112278, 11.0112278, 11.0112278, 11.0112278, 11.0112278, 11.0112278, 11.0112278, 11.0112278, 11.0112278, 11.0112278, 11.0112278, 11.0112278, 11.0112278, 11.0112278, 11.0112278, 11.0112278, 11.0112278, 11.0112278, 11.0112278, 11.0112278, 11.0112278, 11.0112278, 11.0112278, 11.0112278, 11.0112278, 11.0112278, 11.0112278, 11.0112278, 11.0112278, 11.0112278, 11.0112278, 11.0112278, 11.0112278, 11.0112278, 11.0112278, 11.0112278, 11.0112278, 11.0112278, 11.0112278, 11.0112278, 11.0112278, 11.0112278, 10.0, 10.0, 10.0, 10.0, 10.0, 10.0, 10.0, 10.0, 10.0, 10.0, 10.0, 10.0, 10.0, 10.0, 10.0, 10.0, 10.0, 10.57871318, 10.57871318, 10.57871318, 10.57871318, 10.57871318, 10.57871318, 10.57871318, 10.57871318, 10.57871318], \"yaxis\": \"y3\"}, {\"mode\": \"lines\", \"name\": \"bitstamp:/BTC:/worth\", \"type\": \"scatter\", \"uid\": \"04b9efcf-d7af-4127-bd92-3213de7f2309\", \"xaxis\": \"x3\", \"y\": [87409.9, 87390.0, 87284.9, 96035.4649489952, 97001.298315274, 96605.3926536, 96605.3926536, 96596.9010836978, 93934.0770985222, 85203.0, 85352.29999999999, 85463.4, 85266.5, 85556.0, 85121.0, 84922.8, 84600.0, 84749.9, 93270.384353388, 91840.43082644201, 89713.2591381395, 90059.1658228435, 90771.60564315699, 90672.55455806, 90875.51001082, 90811.4246205735, 90530.044533622, 90926.8003833925, 92335.1347425445, 92355.76119345, 92268.402107262, 90226.8246751235, 90723.29342125, 91393.92883036999, 91257.15450351, 91521.87900711, 91328.7404213585, 91029.050222908, 91574.603304077, 91504.78221625251, 91299.62072596251, 92064.4539376135, 92193.61743499499, 92378.92458751501, 92307.44897154301, 92286.491615008, 91713.47336659051, 92253.18044830501, 92037.650581624, 90970.36962461, 91301.27525410999, 91458.6760318755, 91637.5856755585, 91538.424288585, 91213.8058660455, 91561.36707889699, 91754.5056646485, 91621.0403940835, 91290.5759720895, 91083.87025552851, 90072.5123499, 90186.4541883245, 90455.259861355, 89955.7026626865, 89123.916212, 88980.8546781795, 87779.115733712, 79742.5, 79985.0, 79919.9, 80227.0, 89572.030593123, 88711.164773053, 90084.09541080499, 90454.27885012099, 90296.137910341, 90627.342949007, 90374.20607849999, 90285.1125913, 90144.79034896, 89984.533438859, 90397.481752031, 90507.73494244099, 90329.10250060499, 91492.21797600099, 91670.739050978, 91767.73958516699, 91710.6083865, 91542.44442941, 91865.07421993301, 91471.16963965, 91331.84969904099, 91320.82438, 91736.22276406999, 91634.09935436699, 91775.535265297, 91486.76099991, 90987.503371013, 91653.477187833, 91386.19672623301, 91906.168590904, 93158.3775535, 83486.5, 83039.9, 83104.79999999999, 83100.0, 82898.70000000001, 83049.9, 83013.5, 90703.05047857441, 89906.0142469959, 89468.7081256863, 89763.1914643626, 89809.23517274401, 89456.70621117929, 89641.7539112145, 90341.5746352863, 90069.7858258596, 90236.939762448, 89951.5124138088, 89895.64895719441, 90201.3704521818, 90366.45133080991, 91112.2066549494, 90959.236799142, 90962.6191568667, 90682.2107906577, 90691.8123222633, 91052.9608406103, 91402.21655276402, 92535.9610404207, 85163.6, 93859.70576720001, 93783.067621712, 94239.59312630001, 93837.573199322, 93429.497097054, 93798.923789744, 93474.202681922, 93228.982638816, 93513.40265289, 93532.45207698402, 93716.00924441002, 93580.46103019199, 94158.11004058001, 93862.12823731599, 93706.75981305802, 93326.98256623601, 93337.553344924, 93233.497242214, 93593.674503552, 93489.94873767601, 92572.383125102, 92598.039285876, 92504.88429868799, 92308.664219292, 91943.75213000001, 92197.12048167801, 92635.25723583999, 92335.421502846, 92588.23929313401, 92403.58100292801, 92134.90704460801, 91175.608878672, 91370.177273898, 91767.462372922, 91231.21557906202, 91172.966184, 91580.601837156, 91615.17709244801, 91348.04470602, 90792.74848806599, 91007.57754244399, 90292.06796, 89961.731126, 82170.0, 82316.29999999999, 82328.0, 82253.79999999999, 82000.1, 82199.79999999999, 81879.79999999999, 81003.2, 80769.9, 79647.29999999999, 79840.8, 79493.5, 79006.09999999999, 78955.0, 79600.0, 79000.0, 79219.9, 84027.4592986626, 83110.2848659566, 83024.914650594, 83071.2494143224, 83012.220194778, 83035.5991509058, 83696.9802989194, 83582.51862231179, 83434.31085066], \"yaxis\": \"y3\"}, {\"mode\": \"lines\", \"name\": \"net_worth\", \"type\": \"scatter\", \"uid\": \"c75c71d2-d910-4945-bba1-50dba22356b1\", \"xaxis\": \"x3\", \"y\": [97409.9, 97390.0, 97284.9, 97035.4649489952, 98001.298315274, 97605.3926536, 97605.3926536, 97596.9010836978, 94934.0770985222, 94933.11, 95082.40999999999, 95193.51, 94996.61, 95286.11, 94851.11, 94652.91, 94330.11, 94480.01, 94243.394353388, 92813.440826442, 90686.2691381395, 91032.17582284349, 91744.61564315698, 91645.56455806, 91848.52001082, 91784.43462057349, 91503.054533622, 91899.8103833925, 93308.1447425445, 93328.77119345, 93241.41210726199, 91199.8346751235, 91696.30342124999, 92366.93883036998, 92230.16450351, 92494.88900710999, 92301.75042135849, 92002.060222908, 92547.613304077, 92477.7922162525, 92272.6307259625, 93037.4639376135, 93166.62743499498, 93351.934587515, 93280.458971543, 93259.50161500799, 92686.4833665905, 93226.190448305, 93010.66058162399, 91943.37962461, 92274.28525410999, 92431.68603187549, 92610.59567555849, 92511.43428858499, 92186.8158660455, 92534.37707889699, 92727.5156646485, 92594.05039408349, 92263.5859720895, 92056.88025552851, 91045.5223499, 91159.46418832449, 91428.269861355, 90928.71266268649, 90096.92621199999, 89953.8646781795, 88752.12573371199, 88889.23, 89131.73, 89066.62999999999, 89373.73, 89572.030593123, 88711.164773053, 90084.09541080499, 90454.27885012099, 90296.137910341, 90627.342949007, 90374.20607849999, 90285.1125913, 90144.79034896, 89984.533438859, 90397.481752031, 90507.73494244099, 90329.10250060499, 91492.21797600099, 91670.739050978, 91767.73958516699, 91710.6083865, 91542.44442941, 91865.07421993301, 91471.16963965, 91331.84969904099, 91320.82438, 91736.22276406999, 91634.09935436699, 91775.535265297, 91486.76099991, 90987.503371013, 91653.477187833, 91386.19672623301, 91906.168590904, 93158.3775535, 92966.35, 92519.75, 92584.65, 92579.85, 92378.55000000002, 92529.75, 92493.35, 92599.02047857441, 91801.9842469959, 91364.6781256863, 91659.1614643626, 91705.20517274401, 91352.67621117929, 91537.7239112145, 92237.54463528631, 91965.7558258596, 92132.909762448, 91847.4824138088, 91791.61895719441, 92097.3404521818, 92262.42133080991, 93008.1766549494, 92855.206799142, 92858.5891568667, 92578.1807906577, 92587.7823222633, 92948.93084061031, 93298.18655276402, 94431.9310404207, 94761.26000000001, 94819.47576720001, 94742.83762171201, 95199.36312630001, 94797.343199322, 94389.267097054, 94758.69378974401, 94433.97268192201, 94188.752638816, 94473.17265289, 94492.22207698402, 94675.77924441002, 94540.231030192, 95117.88004058001, 94821.898237316, 94666.52981305802, 94286.75256623601, 94297.323344924, 94193.267242214, 94553.444503552, 94449.71873767601, 93532.153125102, 93557.809285876, 93464.654298688, 93268.434219292, 92903.52213000001, 93156.89048167801, 93595.02723584, 93295.191502846, 93548.00929313402, 93363.35100292802, 93094.67704460802, 92135.37887867201, 92329.94727389801, 92727.23237292201, 92190.98557906202, 92132.73618400001, 92540.37183715601, 92574.94709244801, 92307.81470602, 91752.518488066, 91967.347542444, 91251.83796, 90921.501126, 91366.72, 91513.01999999999, 91524.72, 91450.51999999999, 91196.82, 91396.51999999999, 91076.51999999999, 90199.92, 89966.62, 88844.01999999999, 89037.52, 88690.22, 88202.81999999999, 88151.72, 88796.72, 88196.72, 88416.62, 88625.8192986626, 87708.6448659566, 87623.274650594, 87669.6094143224, 87610.580194778, 87633.9591509058, 88295.3402989194, 88180.8786223118, 88032.67085066], \"yaxis\": \"y3\"}, {\"marker\": {\"color\": \"DarkGreen\"}, \"mode\": \"lines\", \"name\": \"Net Worth\", \"type\": \"scatter\", \"uid\": \"a85c8827-5a96-4205-b9d6-e2c5b9b5ffa8\", \"xaxis\": \"x4\", \"y\": [97409.9, 97390.0, 97284.9, 97035.4649489952, 98001.298315274, 97605.3926536, 97605.3926536, 97596.9010836978, 94934.0770985222, 94933.11, 95082.40999999999, 95193.51, 94996.61, 95286.11, 94851.11, 94652.91, 94330.11, 94480.01, 94243.394353388, 92813.440826442, 90686.2691381395, 91032.17582284349, 91744.61564315698, 91645.56455806, 91848.52001082, 91784.43462057349, 91503.054533622, 91899.8103833925, 93308.1447425445, 93328.77119345, 93241.41210726199, 91199.8346751235, 91696.30342124999, 92366.93883036998, 92230.16450351, 92494.88900710999, 92301.75042135849, 92002.060222908, 92547.613304077, 92477.7922162525, 92272.6307259625, 93037.4639376135, 93166.62743499498, 93351.934587515, 93280.458971543, 93259.50161500799, 92686.4833665905, 93226.190448305, 93010.66058162399, 91943.37962461, 92274.28525410999, 92431.68603187549, 92610.59567555849, 92511.43428858499, 92186.8158660455, 92534.37707889699, 92727.5156646485, 92594.05039408349, 92263.5859720895, 92056.88025552851, 91045.5223499, 91159.46418832449, 91428.269861355, 90928.71266268649, 90096.92621199999, 89953.8646781795, 88752.12573371199, 88889.23, 89131.73, 89066.62999999999, 89373.73, 89572.030593123, 88711.164773053, 90084.09541080499, 90454.27885012099, 90296.137910341, 90627.342949007, 90374.20607849999, 90285.1125913, 90144.79034896, 89984.533438859, 90397.481752031, 90507.73494244099, 90329.10250060499, 91492.21797600099, 91670.739050978, 91767.73958516699, 91710.6083865, 91542.44442941, 91865.07421993301, 91471.16963965, 91331.84969904099, 91320.82438, 91736.22276406999, 91634.09935436699, 91775.535265297, 91486.76099991, 90987.503371013, 91653.477187833, 91386.19672623301, 91906.168590904, 93158.3775535, 92966.35, 92519.75, 92584.65, 92579.85, 92378.55000000002, 92529.75, 92493.35, 92599.02047857441, 91801.9842469959, 91364.6781256863, 91659.1614643626, 91705.20517274401, 91352.67621117929, 91537.7239112145, 92237.54463528631, 91965.7558258596, 92132.909762448, 91847.4824138088, 91791.61895719441, 92097.3404521818, 92262.42133080991, 93008.1766549494, 92855.206799142, 92858.5891568667, 92578.1807906577, 92587.7823222633, 92948.93084061031, 93298.18655276402, 94431.9310404207, 94761.26000000001, 94819.47576720001, 94742.83762171201, 95199.36312630001, 94797.343199322, 94389.267097054, 94758.69378974401, 94433.97268192201, 94188.752638816, 94473.17265289, 94492.22207698402, 94675.77924441002, 94540.231030192, 95117.88004058001, 94821.898237316, 94666.52981305802, 94286.75256623601, 94297.323344924, 94193.267242214, 94553.444503552, 94449.71873767601, 93532.153125102, 93557.809285876, 93464.654298688, 93268.434219292, 92903.52213000001, 93156.89048167801, 93595.02723584, 93295.191502846, 93548.00929313402, 93363.35100292802, 93094.67704460802, 92135.37887867201, 92329.94727389801, 92727.23237292201, 92190.98557906202, 92132.73618400001, 92540.37183715601, 92574.94709244801, 92307.81470602, 91752.518488066, 91967.347542444, 91251.83796, 90921.501126, 91366.72, 91513.01999999999, 91524.72, 91450.51999999999, 91196.82, 91396.51999999999, 91076.51999999999, 90199.92, 89966.62, 88844.01999999999, 89037.52, 88690.22, 88202.81999999999, 88151.72, 88796.72, 88196.72, 88416.62, 88625.8192986626, 87708.6448659566, 87623.274650594, 87669.6094143224, 87610.580194778, 87633.9591509058, 88295.3402989194, 88180.8786223118, 88032.67085066], \"yaxis\": \"y4\"}],                        {\"annotations\": [{\"arrowcolor\": \"DarkGreen\", \"arrowhead\": 2, \"arrowsize\": 0.8, \"arrowwidth\": 4, \"ax\": 0, \"ay\": 15, \"hoverlabel\": {\"bgcolor\": \"DarkGreen\"}, \"hovertext\": \"Step 18 [2018-05-15 23:00:00]<br>BUY 1.03018765 BTC @ 8474.99 USD MARKET<br>Total: 8730.83 USD - Comm.: 26.27 USD\", \"opacity\": 0.6, \"showarrow\": true, \"x\": 17, \"xref\": \"x\", \"y\": 8474.99, \"yref\": \"y\"}, {\"arrowcolor\": \"FireBrick\", \"arrowhead\": 2, \"arrowsize\": 0.8, \"arrowwidth\": 4, \"ax\": 0, \"ay\": -15, \"hoverlabel\": {\"bgcolor\": \"FireBrick\"}, \"hovertext\": \"Step 9 [2018-05-15 14:00:00]<br>SELL 1.02492882 BTC @ 8517.77 USD MARKET<br>Total: 8730.11 USD - Comm.: 0.00308404 BTC\", \"opacity\": 0.6, \"showarrow\": true, \"x\": 8, \"xref\": \"x\", \"y\": 8517.77, \"yref\": \"y\"}, {\"arrowcolor\": \"DarkGreen\", \"arrowhead\": 2, \"arrowsize\": 0.8, \"arrowwidth\": 4, \"ax\": 0, \"ay\": 15, \"hoverlabel\": {\"bgcolor\": \"DarkGreen\"}, \"hovertext\": \"Step 3 [2018-05-15 08:00:00]<br>BUY 1.02801286 BTC @ 8728.49 USD MARKET<br>Total: 8973.0 USD - Comm.: 27.00 USD\", \"opacity\": 0.6, \"showarrow\": true, \"x\": 2, \"xref\": \"x\", \"y\": 8728.49, \"yref\": \"y\"}, {\"arrowcolor\": \"DarkGreen\", \"arrowhead\": 2, \"arrowsize\": 0.8, \"arrowwidth\": 4, \"ax\": 0, \"ay\": 15, \"hoverlabel\": {\"bgcolor\": \"DarkGreen\"}, \"hovertext\": \"Step 71 [2018-05-18 04:00:00]<br>BUY 1.1366859 BTC @ 8022.7 USD MARKET<br>Total: 9119.29 USD - Comm.: 27.44 USD\", \"opacity\": 0.6, \"showarrow\": true, \"x\": 70, \"xref\": \"x\", \"y\": 8022.7, \"yref\": \"y\"}, {\"arrowcolor\": \"FireBrick\", \"arrowhead\": 2, \"arrowsize\": 0.8, \"arrowwidth\": 4, \"ax\": 0, \"ay\": -15, \"hoverlabel\": {\"bgcolor\": \"FireBrick\"}, \"hovertext\": \"Step 67 [2018-05-18 00:00:00]<br>SELL 1.02709709 BTC @ 7958.08 USD MARKET<br>Total: 8173.72 USD - Comm.: 0.00309056 BTC\", \"opacity\": 0.6, \"showarrow\": true, \"x\": 66, \"xref\": \"x\", \"y\": 7958.08, \"yref\": \"y\"}, {\"arrowcolor\": \"DarkGreen\", \"arrowhead\": 2, \"arrowsize\": 0.8, \"arrowwidth\": 4, \"ax\": 0, \"ay\": 15, \"hoverlabel\": {\"bgcolor\": \"DarkGreen\"}, \"hovertext\": \"Step 132 [2018-05-20 17:00:00]<br>BUY 1.0112278 BTC @ 8516.36 USD MARKET<br>Total: 8611.98 USD - Comm.: 25.91 USD\", \"opacity\": 0.6, \"showarrow\": true, \"x\": 131, \"xref\": \"x\", \"y\": 8516.36, \"yref\": \"y\"}, {\"arrowcolor\": \"FireBrick\", \"arrowhead\": 2, \"arrowsize\": 0.8, \"arrowwidth\": 4, \"ax\": 0, \"ay\": -15, \"hoverlabel\": {\"bgcolor\": \"FireBrick\"}, \"hovertext\": \"Step 131 [2018-05-20 16:00:00]<br>SELL 0.90809888 BTC @ 8481.11 USD MARKET<br>Total: 7701.69 USD - Comm.: 0.00273249 BTC\", \"opacity\": 0.6, \"showarrow\": true, \"x\": 130, \"xref\": \"x\", \"y\": 8481.11, \"yref\": \"y\"}, {\"arrowcolor\": \"DarkGreen\", \"arrowhead\": 2, \"arrowsize\": 0.8, \"arrowwidth\": 4, \"ax\": 0, \"ay\": 15, \"hoverlabel\": {\"bgcolor\": \"DarkGreen\"}, \"hovertext\": \"Step 109 [2018-05-19 18:00:00]<br>BUY 0.91083137 BTC @ 8301.35 USD MARKET<br>Total: 7561.13 USD - Comm.: 22.75 USD\", \"opacity\": 0.6, \"showarrow\": true, \"x\": 108, \"xref\": \"x\", \"y\": 8301.35, \"yref\": \"y\"}, {\"arrowcolor\": \"FireBrick\", \"arrowhead\": 2, \"arrowsize\": 0.8, \"arrowwidth\": 4, \"ax\": 0, \"ay\": -15, \"hoverlabel\": {\"bgcolor\": \"FireBrick\"}, \"hovertext\": \"Step 102 [2018-05-19 11:00:00]<br>SELL 1.13327584 BTC @ 8365.0 USD MARKET<br>Total: 9479.85 USD - Comm.: 0.00341006 BTC\", \"opacity\": 0.6, \"showarrow\": true, \"x\": 101, \"xref\": \"x\", \"y\": 8365.0, \"yref\": \"y\"}, {\"arrowcolor\": \"DarkGreen\", \"arrowhead\": 2, \"arrowsize\": 0.8, \"arrowwidth\": 4, \"ax\": 0, \"ay\": 15, \"hoverlabel\": {\"bgcolor\": \"DarkGreen\"}, \"hovertext\": \"Step 192 [2018-05-23 05:00:00]<br>BUY 0.57871318 BTC @ 7921.99 USD MARKET<br>Total: 4584.56 USD - Comm.: 13.80 USD\", \"opacity\": 0.6, \"showarrow\": true, \"x\": 191, \"xref\": \"x\", \"y\": 7921.99, \"yref\": \"y\"}, {\"arrowcolor\": \"FireBrick\", \"arrowhead\": 2, \"arrowsize\": 0.8, \"arrowwidth\": 4, \"ax\": 0, \"ay\": -15, \"hoverlabel\": {\"bgcolor\": \"FireBrick\"}, \"hovertext\": \"Step 175 [2018-05-22 12:00:00]<br>SELL 1.00819412 BTC @ 8170.0 USD MARKET<br>Total: 8236.95 USD - Comm.: 0.00303368 BTC\", \"opacity\": 0.6, \"showarrow\": true, \"x\": 174, \"xref\": \"x\", \"y\": 8170.0, \"yref\": \"y\"}], \"margin\": {\"t\": 50}, \"template\": {\"data\": {\"bar\": [{\"error_x\": {\"color\": \"#2a3f5f\"}, \"error_y\": {\"color\": \"#2a3f5f\"}, \"marker\": {\"line\": {\"color\": \"white\", \"width\": 0.5}}, \"type\": \"bar\"}], \"barpolar\": [{\"marker\": {\"line\": {\"color\": \"white\", \"width\": 0.5}}, \"type\": \"barpolar\"}], \"carpet\": [{\"aaxis\": {\"endlinecolor\": \"#2a3f5f\", \"gridcolor\": \"#C8D4E3\", \"linecolor\": \"#C8D4E3\", \"minorgridcolor\": \"#C8D4E3\", \"startlinecolor\": \"#2a3f5f\"}, \"baxis\": {\"endlinecolor\": \"#2a3f5f\", \"gridcolor\": \"#C8D4E3\", \"linecolor\": \"#C8D4E3\", \"minorgridcolor\": \"#C8D4E3\", \"startlinecolor\": \"#2a3f5f\"}, \"type\": \"carpet\"}], \"choropleth\": [{\"colorbar\": {\"outlinewidth\": 0, \"ticks\": \"\"}, \"type\": \"choropleth\"}], \"contour\": [{\"colorbar\": {\"outlinewidth\": 0, \"ticks\": \"\"}, \"colorscale\": [[0.0, \"#0d0887\"], [0.1111111111111111, \"#46039f\"], [0.2222222222222222, \"#7201a8\"], [0.3333333333333333, \"#9c179e\"], [0.4444444444444444, \"#bd3786\"], [0.5555555555555556, \"#d8576b\"], [0.6666666666666666, \"#ed7953\"], [0.7777777777777778, \"#fb9f3a\"], [0.8888888888888888, \"#fdca26\"], [1.0, \"#f0f921\"]], \"type\": \"contour\"}], \"contourcarpet\": [{\"colorbar\": {\"outlinewidth\": 0, \"ticks\": \"\"}, \"type\": \"contourcarpet\"}], \"heatmap\": [{\"colorbar\": {\"outlinewidth\": 0, \"ticks\": \"\"}, \"colorscale\": [[0.0, \"#0d0887\"], [0.1111111111111111, \"#46039f\"], [0.2222222222222222, \"#7201a8\"], [0.3333333333333333, \"#9c179e\"], [0.4444444444444444, \"#bd3786\"], [0.5555555555555556, \"#d8576b\"], [0.6666666666666666, \"#ed7953\"], [0.7777777777777778, \"#fb9f3a\"], [0.8888888888888888, \"#fdca26\"], [1.0, \"#f0f921\"]], \"type\": \"heatmap\"}], \"heatmapgl\": [{\"colorbar\": {\"outlinewidth\": 0, \"ticks\": \"\"}, \"colorscale\": [[0.0, \"#0d0887\"], [0.1111111111111111, \"#46039f\"], [0.2222222222222222, \"#7201a8\"], [0.3333333333333333, \"#9c179e\"], [0.4444444444444444, \"#bd3786\"], [0.5555555555555556, \"#d8576b\"], [0.6666666666666666, \"#ed7953\"], [0.7777777777777778, \"#fb9f3a\"], [0.8888888888888888, \"#fdca26\"], [1.0, \"#f0f921\"]], \"type\": \"heatmapgl\"}], \"histogram\": [{\"marker\": {\"colorbar\": {\"outlinewidth\": 0, \"ticks\": \"\"}}, \"type\": \"histogram\"}], \"histogram2d\": [{\"colorbar\": {\"outlinewidth\": 0, \"ticks\": \"\"}, \"colorscale\": [[0.0, \"#0d0887\"], [0.1111111111111111, \"#46039f\"], [0.2222222222222222, \"#7201a8\"], [0.3333333333333333, \"#9c179e\"], [0.4444444444444444, \"#bd3786\"], [0.5555555555555556, \"#d8576b\"], [0.6666666666666666, \"#ed7953\"], [0.7777777777777778, \"#fb9f3a\"], [0.8888888888888888, \"#fdca26\"], [1.0, \"#f0f921\"]], \"type\": \"histogram2d\"}], \"histogram2dcontour\": [{\"colorbar\": {\"outlinewidth\": 0, \"ticks\": \"\"}, \"colorscale\": [[0.0, \"#0d0887\"], [0.1111111111111111, \"#46039f\"], [0.2222222222222222, \"#7201a8\"], [0.3333333333333333, \"#9c179e\"], [0.4444444444444444, \"#bd3786\"], [0.5555555555555556, \"#d8576b\"], [0.6666666666666666, \"#ed7953\"], [0.7777777777777778, \"#fb9f3a\"], [0.8888888888888888, \"#fdca26\"], [1.0, \"#f0f921\"]], \"type\": \"histogram2dcontour\"}], \"mesh3d\": [{\"colorbar\": {\"outlinewidth\": 0, \"ticks\": \"\"}, \"type\": \"mesh3d\"}], \"parcoords\": [{\"line\": {\"colorbar\": {\"outlinewidth\": 0, \"ticks\": \"\"}}, \"type\": \"parcoords\"}], \"pie\": [{\"automargin\": true, \"type\": \"pie\"}], \"scatter\": [{\"marker\": {\"colorbar\": {\"outlinewidth\": 0, \"ticks\": \"\"}}, \"type\": \"scatter\"}], \"scatter3d\": [{\"line\": {\"colorbar\": {\"outlinewidth\": 0, \"ticks\": \"\"}}, \"marker\": {\"colorbar\": {\"outlinewidth\": 0, \"ticks\": \"\"}}, \"type\": \"scatter3d\"}], \"scattercarpet\": [{\"marker\": {\"colorbar\": {\"outlinewidth\": 0, \"ticks\": \"\"}}, \"type\": \"scattercarpet\"}], \"scattergeo\": [{\"marker\": {\"colorbar\": {\"outlinewidth\": 0, \"ticks\": \"\"}}, \"type\": \"scattergeo\"}], \"scattergl\": [{\"marker\": {\"colorbar\": {\"outlinewidth\": 0, \"ticks\": \"\"}}, \"type\": \"scattergl\"}], \"scattermapbox\": [{\"marker\": {\"colorbar\": {\"outlinewidth\": 0, \"ticks\": \"\"}}, \"type\": \"scattermapbox\"}], \"scatterpolar\": [{\"marker\": {\"colorbar\": {\"outlinewidth\": 0, \"ticks\": \"\"}}, \"type\": \"scatterpolar\"}], \"scatterpolargl\": [{\"marker\": {\"colorbar\": {\"outlinewidth\": 0, \"ticks\": \"\"}}, \"type\": \"scatterpolargl\"}], \"scatterternary\": [{\"marker\": {\"colorbar\": {\"outlinewidth\": 0, \"ticks\": \"\"}}, \"type\": \"scatterternary\"}], \"surface\": [{\"colorbar\": {\"outlinewidth\": 0, \"ticks\": \"\"}, \"colorscale\": [[0.0, \"#0d0887\"], [0.1111111111111111, \"#46039f\"], [0.2222222222222222, \"#7201a8\"], [0.3333333333333333, \"#9c179e\"], [0.4444444444444444, \"#bd3786\"], [0.5555555555555556, \"#d8576b\"], [0.6666666666666666, \"#ed7953\"], [0.7777777777777778, \"#fb9f3a\"], [0.8888888888888888, \"#fdca26\"], [1.0, \"#f0f921\"]], \"type\": \"surface\"}], \"table\": [{\"cells\": {\"fill\": {\"color\": \"#EBF0F8\"}, \"line\": {\"color\": \"white\"}}, \"header\": {\"fill\": {\"color\": \"#C8D4E3\"}, \"line\": {\"color\": \"white\"}}, \"type\": \"table\"}]}, \"layout\": {\"annotationdefaults\": {\"arrowcolor\": \"#2a3f5f\", \"arrowhead\": 0, \"arrowwidth\": 1}, \"autotypenumbers\": \"strict\", \"coloraxis\": {\"colorbar\": {\"outlinewidth\": 0, \"ticks\": \"\"}}, \"colorscale\": {\"diverging\": [[0, \"#8e0152\"], [0.1, \"#c51b7d\"], [0.2, \"#de77ae\"], [0.3, \"#f1b6da\"], [0.4, \"#fde0ef\"], [0.5, \"#f7f7f7\"], [0.6, \"#e6f5d0\"], [0.7, \"#b8e186\"], [0.8, \"#7fbc41\"], [0.9, \"#4d9221\"], [1, \"#276419\"]], \"sequential\": [[0.0, \"#0d0887\"], [0.1111111111111111, \"#46039f\"], [0.2222222222222222, \"#7201a8\"], [0.3333333333333333, \"#9c179e\"], [0.4444444444444444, \"#bd3786\"], [0.5555555555555556, \"#d8576b\"], [0.6666666666666666, \"#ed7953\"], [0.7777777777777778, \"#fb9f3a\"], [0.8888888888888888, \"#fdca26\"], [1.0, \"#f0f921\"]], \"sequentialminus\": [[0.0, \"#0d0887\"], [0.1111111111111111, \"#46039f\"], [0.2222222222222222, \"#7201a8\"], [0.3333333333333333, \"#9c179e\"], [0.4444444444444444, \"#bd3786\"], [0.5555555555555556, \"#d8576b\"], [0.6666666666666666, \"#ed7953\"], [0.7777777777777778, \"#fb9f3a\"], [0.8888888888888888, \"#fdca26\"], [1.0, \"#f0f921\"]]}, \"colorway\": [\"#636efa\", \"#EF553B\", \"#00cc96\", \"#ab63fa\", \"#FFA15A\", \"#19d3f3\", \"#FF6692\", \"#B6E880\", \"#FF97FF\", \"#FECB52\"], \"font\": {\"color\": \"#2a3f5f\"}, \"geo\": {\"bgcolor\": \"white\", \"lakecolor\": \"white\", \"landcolor\": \"white\", \"showlakes\": true, \"showland\": true, \"subunitcolor\": \"#C8D4E3\"}, \"hoverlabel\": {\"align\": \"left\"}, \"hovermode\": \"closest\", \"mapbox\": {\"style\": \"light\"}, \"paper_bgcolor\": \"white\", \"plot_bgcolor\": \"white\", \"polar\": {\"angularaxis\": {\"gridcolor\": \"#EBF0F8\", \"linecolor\": \"#EBF0F8\", \"ticks\": \"\"}, \"bgcolor\": \"white\", \"radialaxis\": {\"gridcolor\": \"#EBF0F8\", \"linecolor\": \"#EBF0F8\", \"ticks\": \"\"}}, \"scene\": {\"xaxis\": {\"backgroundcolor\": \"white\", \"gridcolor\": \"#DFE8F3\", \"gridwidth\": 2, \"linecolor\": \"#EBF0F8\", \"showbackground\": true, \"ticks\": \"\", \"zerolinecolor\": \"#EBF0F8\"}, \"yaxis\": {\"backgroundcolor\": \"white\", \"gridcolor\": \"#DFE8F3\", \"gridwidth\": 2, \"linecolor\": \"#EBF0F8\", \"showbackground\": true, \"ticks\": \"\", \"zerolinecolor\": \"#EBF0F8\"}, \"zaxis\": {\"backgroundcolor\": \"white\", \"gridcolor\": \"#DFE8F3\", \"gridwidth\": 2, \"linecolor\": \"#EBF0F8\", \"showbackground\": true, \"ticks\": \"\", \"zerolinecolor\": \"#EBF0F8\"}}, \"shapedefaults\": {\"line\": {\"color\": \"#2a3f5f\"}}, \"ternary\": {\"aaxis\": {\"gridcolor\": \"#DFE8F3\", \"linecolor\": \"#A2B1C6\", \"ticks\": \"\"}, \"baxis\": {\"gridcolor\": \"#DFE8F3\", \"linecolor\": \"#A2B1C6\", \"ticks\": \"\"}, \"bgcolor\": \"white\", \"caxis\": {\"gridcolor\": \"#DFE8F3\", \"linecolor\": \"#A2B1C6\", \"ticks\": \"\"}}, \"title\": {\"x\": 0.05}, \"xaxis\": {\"automargin\": true, \"gridcolor\": \"#EBF0F8\", \"linecolor\": \"#EBF0F8\", \"ticks\": \"\", \"title\": {\"standoff\": 15}, \"zerolinecolor\": \"#EBF0F8\", \"zerolinewidth\": 2}, \"yaxis\": {\"automargin\": true, \"gridcolor\": \"#EBF0F8\", \"linecolor\": \"#EBF0F8\", \"ticks\": \"\", \"title\": {\"standoff\": 15}, \"zerolinecolor\": \"#EBF0F8\", \"zerolinewidth\": 2}}}, \"title\": {\"text\": \"[2021-04-02 13:17:55 PM] Episode: 2/2 Step: 201/200\"}, \"xaxis\": {\"anchor\": \"y\", \"domain\": [0.0, 1.0], \"gridcolor\": \"Gainsboro\", \"linecolor\": \"Grey\", \"matches\": \"x4\", \"rangeslider\": {\"visible\": false}, \"showticklabels\": false, \"title\": {\"font\": {\"size\": 12}, \"standoff\": 7, \"text\": \"Price\"}}, \"xaxis2\": {\"anchor\": \"y2\", \"domain\": [0.0, 1.0], \"gridcolor\": \"Gainsboro\", \"linecolor\": \"Grey\", \"matches\": \"x4\", \"showticklabels\": false, \"title\": {\"font\": {\"size\": 12}, \"standoff\": 7, \"text\": \"Volume\"}}, \"xaxis3\": {\"anchor\": \"y3\", \"domain\": [0.0, 1.0], \"gridcolor\": \"Gainsboro\", \"linecolor\": \"Grey\", \"matches\": \"x4\", \"showticklabels\": false, \"title\": {\"font\": {\"size\": 12}, \"standoff\": 7, \"text\": \"Performance\"}}, \"xaxis4\": {\"anchor\": \"y4\", \"domain\": [0.0, 1.0], \"gridcolor\": \"Gainsboro\", \"linecolor\": \"Grey\", \"title\": {\"font\": {\"size\": 12}, \"standoff\": 7, \"text\": \"Net Worth\"}}, \"yaxis\": {\"anchor\": \"x\", \"domain\": [0.49950000000000006, 1.0], \"gridcolor\": \"Gainsboro\", \"linecolor\": \"Grey\"}, \"yaxis2\": {\"anchor\": \"x2\", \"domain\": [0.333, 0.46950000000000003], \"gridcolor\": \"Gainsboro\", \"linecolor\": \"Grey\"}, \"yaxis3\": {\"anchor\": \"x3\", \"domain\": [0.1665, 0.30300000000000005], \"gridcolor\": \"Gainsboro\", \"linecolor\": \"Grey\"}, \"yaxis4\": {\"anchor\": \"x4\", \"domain\": [0.0, 0.1365], \"gridcolor\": \"Gainsboro\", \"linecolor\": \"Grey\"}},                        {\"responsive\": true}                    ).then(function(){\n                            \nvar gd = document.getElementById('4f9ea224-cf03-45be-9883-35d50a268780');\nvar x = new MutationObserver(function (mutations, observer) {{\n        var display = window.getComputedStyle(gd).display;\n        if (!display || display === 'none') {{\n            console.log([gd, 'removed!']);\n            Plotly.purge(gd);\n            observer.disconnect();\n        }}\n}});\n\n// Listen for the removal of the full notebook cells\nvar notebookContainer = gd.closest('#notebook-container');\nif (notebookContainer) {{\n    x.observe(notebookContainer, {childList: true});\n}}\n\n// Listen for the clearing of the current output cell\nvar outputEl = gd.closest('.output');\nif (outputEl) {{\n    x.observe(outputEl, {childList: true});\n}}\n\n                        })                };                });            </script>        </div>"
     },
     "metadata": {}
    },
    {
     "output_type": "execute_result",
     "data": {
      "text/plain": [
       "-990964.3849197571"
      ]
     },
     "metadata": {},
     "execution_count": 8
    }
   ],
   "source": [
    "agent = DQNAgent(env)\n",
    "\n",
    "agent.train(n_steps=200, n_episodes=2, save_path=\"agents/\")"
   ]
  }
 ],
 "metadata": {
  "kernelspec": {
   "name": "python369jvsc74a57bd031f2aee4e71d21fbe5cf8b01ff0e069b9275f58929596ceb00d14d90e3e16cd6",
   "display_name": "Python 3.6.9 64-bit"
  },
  "language_info": {
   "codemirror_mode": {
    "name": "ipython",
    "version": 3
   },
   "file_extension": ".py",
   "mimetype": "text/x-python",
   "name": "python",
   "nbconvert_exporter": "python",
   "pygments_lexer": "ipython3",
   "version": "3.6.9"
  },
  "metadata": {
   "interpreter": {
    "hash": "31f2aee4e71d21fbe5cf8b01ff0e069b9275f58929596ceb00d14d90e3e16cd6"
   }
  }
 },
 "nbformat": 4,
 "nbformat_minor": 4
}